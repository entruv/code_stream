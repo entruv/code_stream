{
  "nbformat": 4,
  "nbformat_minor": 0,
  "metadata": {
    "colab": {
      "name": "03-12-2020 Implementer MCTS Training.ipynb",
      "provenance": [],
      "authorship_tag": "ABX9TyNkHonEiua6GBwrgElwPiIz",
      "include_colab_link": true
    },
    "kernelspec": {
      "name": "python3",
      "display_name": "Python 3"
    }
  },
  "cells": [
    {
      "cell_type": "markdown",
      "metadata": {
        "id": "view-in-github",
        "colab_type": "text"
      },
      "source": [
        "<a href=\"https://colab.research.google.com/github/entruv/code_stream/blob/master/chess/03_12_2020_Implementer_MCTS_Training.ipynb\" target=\"_parent\"><img src=\"https://colab.research.google.com/assets/colab-badge.svg\" alt=\"Open In Colab\"/></a>"
      ]
    },
    {
      "cell_type": "code",
      "metadata": {
        "id": "mSSEoMCBFzOy",
        "colab_type": "code",
        "colab": {}
      },
      "source": [
        ""
      ],
      "execution_count": 0,
      "outputs": []
    },
    {
      "cell_type": "markdown",
      "metadata": {
        "id": "6Sx_b4VrF6SW",
        "colab_type": "text"
      },
      "source": [
        "## Entrainer MCTSAI\n",
        "\n",
        "- Importer la classe  MCTSAI qui correspond a l'arbre\n",
        "- Importer la classe BoardAi qui correspond aux noeuds\n",
        "- Importer le modele "
      ]
    },
    {
      "cell_type": "code",
      "metadata": {
        "id": "xyAIQkLSGrPP",
        "colab_type": "code",
        "colab": {}
      },
      "source": [
        ""
      ],
      "execution_count": 0,
      "outputs": []
    }
  ]
}