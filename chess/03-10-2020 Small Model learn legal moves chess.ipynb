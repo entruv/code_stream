{
 "cells": [
  {
   "cell_type": "code",
   "execution_count": 19,
   "metadata": {},
   "outputs": [],
   "source": [
    "import chess\n",
    "board = chess.Board()\n",
    "fen_data = board.fen().split(\" \")"
   ]
  },
  {
   "cell_type": "code",
   "execution_count": 1,
   "metadata": {},
   "outputs": [
    {
     "name": "stdout",
     "output_type": "stream",
     "text": [
      "12\n"
     ]
    },
    {
     "data": {
      "text/plain": [
       "{'1': [0, 0, 0, 0, 0, 0, 0, 0, 0, 0, 0, 0, 0],\n",
       " 'r': [1, 0, 0, 0, 0, 0, 0, 0, 0, 0, 0, 0, 0],\n",
       " 'n': [0, 1, 0, 0, 0, 0, 0, 0, 0, 0, 0, 0, 0],\n",
       " 'b': [0, 0, 1, 0, 0, 0, 0, 0, 0, 0, 0, 0, 0],\n",
       " 'q': [0, 0, 0, 1, 0, 0, 0, 0, 0, 0, 0, 0, 0],\n",
       " 'k': [0, 0, 0, 0, 1, 0, 0, 0, 0, 0, 0, 0, 0],\n",
       " 'p': [0, 0, 0, 0, 0, 1, 0, 0, 0, 0, 0, 0, 0],\n",
       " 'R': [0, 0, 0, 0, 0, 0, 1, 0, 0, 0, 0, 0, 0],\n",
       " 'N': [0, 0, 0, 0, 0, 0, 0, 1, 0, 0, 0, 0, 0],\n",
       " 'B': [0, 0, 0, 0, 0, 0, 0, 0, 1, 0, 0, 0, 0],\n",
       " 'Q': [0, 0, 0, 0, 0, 0, 0, 0, 0, 1, 0, 0, 0],\n",
       " 'K': [0, 0, 0, 0, 0, 0, 0, 0, 0, 0, 1, 0, 0],\n",
       " 'P': [0, 0, 0, 0, 0, 0, 0, 0, 0, 0, 0, 1, 0]}"
      ]
     },
     "execution_count": 1,
     "metadata": {},
     "output_type": "execute_result"
    }
   ],
   "source": [
    "## all the possibilities\n",
    "one_hot_dictionary = {}\n",
    "pieces = ['r', \"n\", \"b\", \"q\", 'k', \"p\"]\n",
    "possibilities = pieces + [piece.upper() for piece in pieces]\n",
    "print(len(possibilities))\n",
    "\n",
    "one_hot_dictionary = {}\n",
    "one_hot_dictionary[\"1\"] = [0 for _ in range(13)]\n",
    "for i, possibility in enumerate(possibilities):\n",
    "    one_hot_dictionary[possibility] = [0 for _ in range(13)]\n",
    "    one_hot_dictionary[possibility][i] = 1\n",
    "one_hot_dictionary"
   ]
  },
  {
   "cell_type": "code",
   "execution_count": 107,
   "metadata": {},
   "outputs": [],
   "source": [
    "import numpy as np\n",
    "\n",
    "def get_numpy_board(board):\n",
    "    def transform_line(line):\n",
    "        result = \"\"\n",
    "        for character in line:\n",
    "            if character.isdigit():\n",
    "                for i in range(int(character)):\n",
    "                    result += \"1\"\n",
    "            else:\n",
    "                result += character\n",
    "        return result\n",
    "    \n",
    "    def compute_en_passant(ep_square):\n",
    "        def alg_to_coord(alg):\n",
    "            rank = 8 - int(alg[1])        # 0-7\n",
    "            file = ord(alg[0]) - ord('a') # 0-7 #WTF ord(\"a\")??\n",
    "            return rank, file\n",
    "        # renvoie une matrice de la taille dun jeu d'echec, contenant True si la case possede un \n",
    "        #pion que l'on peut manger en passant\n",
    "        en_passant = np.zeros((8, 8, 1), dtype=np.bool)\n",
    "        if ep_square != '-':\n",
    "            eps = alg_to_coord(ep_square)\n",
    "            en_passant[eps[0]][eps[1]] = True\n",
    "        return en_passant\n",
    "\n",
    "    fen_data = board.fen().split(\" \")\n",
    "    fen, turn, castling, ep_square, half_move_clock, fullmove_number = fen_data\n",
    "    en_passant = compute_en_passant(ep_square)\n",
    "    auxiliary_planes = [np.full((8, 8, 1), ('K' in castling), dtype=np.bool),\n",
    "                        np.full((8, 8, 1), ('Q' in castling), dtype=np.bool),\n",
    "                        np.full((8, 8, 1), ('k' in castling), dtype=np.bool),\n",
    "                        np.full((8, 8, 1), ('q' in castling), dtype=np.bool),\n",
    "                        en_passant]\n",
    "    \n",
    "    piece_information_plane = np.zeros((8,8, len(one_hot_dictionary)))\n",
    "    for i, line in enumerate(fen.split(\"/\")):\n",
    "        for j, case in enumerate(transform_line(line)):\n",
    "            piece_information_plane[i][j] = one_hot_dictionary[case]    \n",
    "    all_planes = auxiliary_planes + [piece_information_plane]\n",
    "    all_planes_numpy = np.concatenate(all_planes, axis=-1).astype(np.float32)\n",
    "    return all_planes_numpy\n"
   ]
  },
  {
   "cell_type": "code",
   "execution_count": 108,
   "metadata": {
    "scrolled": false
   },
   "outputs": [],
   "source": [
    "def create_uci_labels():\n",
    "    \"\"\"\n",
    "    Creates the labels for the universal chess interface into an array and returns them\n",
    "    :return:\n",
    "    \"\"\"\n",
    "    labels_array = []\n",
    "    letters = ['a', 'b', 'c', 'd', 'e', 'f', 'g', 'h'] #indice colonnes echiquier\n",
    "    numbers = ['1', '2', '3', '4', '5', '6', '7', '8'] #indice lignes echiquier\n",
    "    promoted_to = ['q', 'r', 'b', 'n'] #list of the available promotion for the pawn\n",
    "\n",
    "    for l1 in range(8):\n",
    "        for n1 in range(8):\n",
    "            destinations = [(t, n1) for t in range(8)] + \\\n",
    "                           [(l1, t) for t in range(8)] + \\\n",
    "                           [(l1 + t, n1 + t) for t in range(-7, 8)] + \\\n",
    "                           [(l1 + t, n1 - t) for t in range(-7, 8)] + \\\n",
    "                           [(l1 + a, n1 + b) for (a, b) in\n",
    "                            [(-2, -1), (-1, -2), (-2, 1), (1, -2), (2, -1), (-1, 2), (2, 1), (1, 2)]]\n",
    "            for (l2, n2) in destinations:\n",
    "                if (l1, n1) != (l2, n2) and l2 in range(8) and n2 in range(8):\n",
    "                    move = letters[l1] + numbers[n1] + letters[l2] + numbers[n2]\n",
    "                    labels_array.append(move)\n",
    "    for l1 in range(8):\n",
    "        l = letters[l1]\n",
    "        for p in promoted_to:\n",
    "            labels_array.append(l + '2' + l + '1' + p)\n",
    "            labels_array.append(l + '7' + l + '8' + p)\n",
    "            if l1 > 0:\n",
    "                l_l = letters[l1 - 1]\n",
    "                labels_array.append(l + '2' + l_l + '1' + p)\n",
    "                labels_array.append(l + '7' + l_l + '8' + p)\n",
    "            if l1 < 7:\n",
    "                l_r = letters[l1 + 1]\n",
    "                labels_array.append(l + '2' + l_r + '1' + p)\n",
    "                labels_array.append(l + '7' + l_r + '8' + p)\n",
    "    return labels_array\n",
    "\n",
    "#tout les coups possibles\n",
    "all_moves = create_uci_labels()\n",
    "number_moves = len(all_moves)\n",
    "assert number_moves == 1968\n",
    "all_planes_numpy = get_numpy_board(board)\n",
    "shape_board = list(all_planes_numpy.shape)\n",
    "assert shape_board == [8,8,18]"
   ]
  },
  {
   "cell_type": "code",
   "execution_count": 109,
   "metadata": {
    "scrolled": false
   },
   "outputs": [],
   "source": [
    "import chess\n",
    "\n",
    "def get_label_moves(board):\n",
    "    labels = np.zeros((number_moves), dtype=np.bool)\n",
    "    legal_moves = [str(x) for x in list(board.legal_moves)]\n",
    "    for i, move in enumerate(all_moves):\n",
    "        if str(move) in legal_moves:\n",
    "            labels[i] = (1)\n",
    "    return labels\n",
    "def get_features(board):\n",
    "    return get_numpy_board(board)\n",
    "# get_features(board)\n",
    "\n",
    "def get_naive_reward(board):\n",
    "    return 1\n"
   ]
  },
  {
   "cell_type": "code",
   "execution_count": 110,
   "metadata": {},
   "outputs": [
    {
     "name": "stdout",
     "output_type": "stream",
     "text": [
      "CPU times: user 3.2 ms, sys: 222 µs, total: 3.42 ms\n",
      "Wall time: 3.34 ms\n"
     ]
    }
   ],
   "source": [
    "%%time\n",
    "board = chess.Board()\n",
    "\n",
    "#for a given board\n",
    "X = get_features(board)\n",
    "y = get_label_moves(board)"
   ]
  },
  {
   "cell_type": "code",
   "execution_count": 111,
   "metadata": {},
   "outputs": [],
   "source": [
    "def get_unique_identifier(board):\n",
    "    return str(board.board_fen()) + str(board.turn) + str(board.castling_rights) + str(board.ep_square)"
   ]
  },
  {
   "cell_type": "code",
   "execution_count": 152,
   "metadata": {},
   "outputs": [],
   "source": [
    "def get_moves_until_end(observations, board, dataset_size, max_number_moves):\n",
    "    if len(observations) == dataset_size or max_number_moves==0:\n",
    "        return\n",
    "    legal_moves = list(board.legal_moves)\n",
    "    identifier = get_unique_identifier(board)\n",
    "    if identifier not in observations:\n",
    "            observations[identifier] = [get_features(board), get_label_moves(board)]\n",
    "            if len(observations) % int(dataset_size / 100) ==0:\n",
    "                print(f\" {len(observations)} observations has been simulated\")\n",
    "    legal_moves = list(board.legal_moves)\n",
    "    if not (legal_moves):\n",
    "        return\n",
    "    random_move = np.random.choice(legal_moves)\n",
    "    board.push(random_move)\n",
    "    get_moves_until_end(observations, board , dataset_size, max_number_moves-1)"
   ]
  },
  {
   "cell_type": "code",
   "execution_count": 180,
   "metadata": {},
   "outputs": [],
   "source": [
    "def generate_dataset(max_number_moves=500, dataset_size=100000):\n",
    "    observations = {}\n",
    "    while len(observations) < dataset_size:\n",
    "        board = chess.Board()\n",
    "        get_moves_until_end(observations, board, dataset_size, max_number_moves)\n",
    "    X = np.zeros((dataset_size, 8,8,18), dtype=np.float32)\n",
    "    y = np.zeros((dataset_size, number_moves), dtype=np.int8)\n",
    "    for i, obs in enumerate(observations):\n",
    "        X[i] = observations[obs][0]\n",
    "        y[i] = observations[obs][1] #un peu redondant\n",
    "    return X, y\n"
   ]
  },
  {
   "cell_type": "code",
   "execution_count": null,
   "metadata": {},
   "outputs": [
    {
     "name": "stdout",
     "output_type": "stream",
     "text": [
      " 1000 observations has been simulated\n",
      " 2000 observations has been simulated\n",
      " 3000 observations has been simulated\n",
      " 4000 observations has been simulated\n",
      " 5000 observations has been simulated\n",
      " 6000 observations has been simulated\n",
      " 7000 observations has been simulated\n",
      " 8000 observations has been simulated\n",
      " 9000 observations has been simulated\n",
      " 10000 observations has been simulated\n",
      " 11000 observations has been simulated\n",
      " 12000 observations has been simulated\n",
      " 13000 observations has been simulated\n",
      " 14000 observations has been simulated\n",
      " 15000 observations has been simulated\n",
      " 16000 observations has been simulated\n",
      " 17000 observations has been simulated\n",
      " 18000 observations has been simulated\n",
      " 19000 observations has been simulated\n",
      " 20000 observations has been simulated\n",
      " 21000 observations has been simulated\n",
      " 22000 observations has been simulated\n",
      " 23000 observations has been simulated\n",
      " 24000 observations has been simulated\n",
      " 25000 observations has been simulated\n",
      " 26000 observations has been simulated\n",
      " 27000 observations has been simulated\n",
      " 28000 observations has been simulated\n",
      " 29000 observations has been simulated\n",
      " 30000 observations has been simulated\n",
      " 31000 observations has been simulated\n",
      " 32000 observations has been simulated\n",
      " 33000 observations has been simulated\n",
      " 34000 observations has been simulated\n",
      " 35000 observations has been simulated\n",
      " 36000 observations has been simulated\n",
      " 37000 observations has been simulated\n",
      " 38000 observations has been simulated\n",
      " 39000 observations has been simulated\n",
      " 40000 observations has been simulated\n",
      " 41000 observations has been simulated\n",
      " 42000 observations has been simulated\n",
      " 43000 observations has been simulated\n",
      " 44000 observations has been simulated\n",
      " 45000 observations has been simulated\n",
      " 46000 observations has been simulated\n",
      " 47000 observations has been simulated\n",
      " 48000 observations has been simulated\n",
      " 49000 observations has been simulated\n",
      " 50000 observations has been simulated\n",
      " 51000 observations has been simulated\n",
      " 52000 observations has been simulated\n",
      " 53000 observations has been simulated\n",
      " 54000 observations has been simulated\n",
      " 55000 observations has been simulated\n",
      " 56000 observations has been simulated\n",
      " 57000 observations has been simulated\n",
      " 58000 observations has been simulated\n",
      " 59000 observations has been simulated\n",
      " 60000 observations has been simulated\n",
      " 61000 observations has been simulated\n",
      " 62000 observations has been simulated\n",
      " 63000 observations has been simulated\n",
      " 64000 observations has been simulated\n",
      " 65000 observations has been simulated\n",
      " 66000 observations has been simulated\n",
      " 67000 observations has been simulated\n",
      " 68000 observations has been simulated\n",
      " 69000 observations has been simulated\n",
      " 70000 observations has been simulated\n",
      " 71000 observations has been simulated\n",
      " 72000 observations has been simulated\n",
      " 73000 observations has been simulated\n",
      " 74000 observations has been simulated\n",
      " 75000 observations has been simulated\n"
     ]
    }
   ],
   "source": [
    "%%time\n",
    "dataset_size=100000\n",
    "X, y = generate_dataset(max_number_moves=200, dataset_size=dataset_size)"
   ]
  },
  {
   "cell_type": "code",
   "execution_count": null,
   "metadata": {},
   "outputs": [],
   "source": [
    "np.save(\"X.npy\", X)\n",
    "np.save(\"y.npy\", y)"
   ]
  },
  {
   "cell_type": "markdown",
   "metadata": {},
   "source": [
    "## Est ce que j'ai tout les elements pour entrainer mon IA?\n",
    "\n",
    "- [x] representer la position d'une partie d'echecs sous forme de matrice numpy \n",
    "- [x] la liste de tout les coups possibles pour une partie d'echecs (case a to case b etc..)\n",
    "- [x] connaitre la liste des coups valides pour une position existante (`list(board.legal_moves)`)\n",
    "- [x] Definition d'un mini modele qui prevoit valeur et une probabilite pour chaque coup (je fais ca maintenant)"
   ]
  },
  {
   "cell_type": "code",
   "execution_count": 160,
   "metadata": {},
   "outputs": [
    {
     "name": "stdout",
     "output_type": "stream",
     "text": [
      "(None, 8, 8, 2)\n",
      "Model: \"model_2\"\n",
      "_________________________________________________________________\n",
      "Layer (type)                 Output Shape              Param #   \n",
      "=================================================================\n",
      "input_2 (InputLayer)         (None, 8, 8, 18)          0         \n",
      "_________________________________________________________________\n",
      "conv2d_3 (Conv2D)            (None, 8, 8, 8)           1304      \n",
      "_________________________________________________________________\n",
      "conv2d_4 (Conv2D)            (None, 8, 8, 2)           146       \n",
      "_________________________________________________________________\n",
      "flatten_2 (Flatten)          (None, 128)               0         \n",
      "_________________________________________________________________\n",
      "dense_2 (Dense)              (None, 1968)              253872    \n",
      "=================================================================\n",
      "Total params: 255,322\n",
      "Trainable params: 255,322\n",
      "Non-trainable params: 0\n",
      "_________________________________________________________________\n"
     ]
    }
   ],
   "source": [
    "import keras\n",
    "from keras.layers import Input, Conv2D, BatchNormalization, Flatten, Dense\n",
    "from keras.models import Model\n",
    "\n",
    "def naive_model_value_and_move_prediction():\n",
    "    NUMBER_FILTERS = 8\n",
    "    #take a numpy array representing a board as input, and who plays first, and then return\n",
    "    # the value of a game, number between -1 and 1\n",
    "    board = Input(shape=(shape_board))\n",
    "    \n",
    "    features = Conv2D(filters=NUMBER_FILTERS,kernel_size=3,activation=\"relu\", padding=\"same\")(board)\n",
    "    features = Conv2D(filters=2, kernel_size=3,activation=\"relu\", padding=\"same\")(features)\n",
    "    print(features.shape)\n",
    "    features = Flatten()(features)\n",
    "#     value_prediction = Dense(1, activation=\"sigmoid\")(features) #TRY WITH TANGENT FOR output between -1 and 1\n",
    "    policy_prediction = Dense(number_moves, activation=\"sigmoid\")(features)\n",
    "\n",
    "    model = Model(board, policy_prediction)\n",
    "    model.compile(loss=[\"binary_crossentropy\"], optimizer=\"Adam\")\n",
    "    model.summary()\n",
    "    return model\n",
    "model = naive_model_value_and_move_prediction()\n"
   ]
  },
  {
   "cell_type": "code",
   "execution_count": null,
   "metadata": {},
   "outputs": [],
   "source": [
    "model.fit(X, y, epochs=100) # loss: 0.0344 in ~2 epochs"
   ]
  },
  {
   "cell_type": "code",
   "execution_count": 174,
   "metadata": {},
   "outputs": [
    {
     "name": "stdout",
     "output_type": "stream",
     "text": [
      "(None, 8, 8, 2)\n",
      "Model: \"model_5\"\n",
      "_________________________________________________________________\n",
      "Layer (type)                 Output Shape              Param #   \n",
      "=================================================================\n",
      "input_5 (InputLayer)         (None, 8, 8, 18)          0         \n",
      "_________________________________________________________________\n",
      "conv2d_12 (Conv2D)           (None, 8, 8, 16)          2608      \n",
      "_________________________________________________________________\n",
      "batch_normalization_1 (Batch (None, 8, 8, 16)          64        \n",
      "_________________________________________________________________\n",
      "conv2d_13 (Conv2D)           (None, 8, 8, 16)          2320      \n",
      "_________________________________________________________________\n",
      "batch_normalization_2 (Batch (None, 8, 8, 16)          64        \n",
      "_________________________________________________________________\n",
      "conv2d_14 (Conv2D)           (None, 8, 8, 2)           290       \n",
      "_________________________________________________________________\n",
      "flatten_5 (Flatten)          (None, 128)               0         \n",
      "_________________________________________________________________\n",
      "dense_5 (Dense)              (None, 1968)              253872    \n",
      "=================================================================\n",
      "Total params: 259,218\n",
      "Trainable params: 259,154\n",
      "Non-trainable params: 64\n",
      "_________________________________________________________________\n"
     ]
    }
   ],
   "source": [
    "def model_moves():\n",
    "    NUMBER_FILTERS = 16\n",
    "    #take a numpy array representing a board as input, and who plays first, and then return\n",
    "    # the value of a game, number between -1 and 1\n",
    "    board = Input(shape=(shape_board))\n",
    "    \n",
    "    features = Conv2D(filters=NUMBER_FILTERS,kernel_size=3,activation=\"relu\", padding=\"same\")(board)\n",
    "    features = BatchNormalization()(features)\n",
    "    features = Conv2D(filters=NUMBER_FILTERS, kernel_size=3,activation=\"relu\", padding=\"same\")(features)\n",
    "    features = BatchNormalization()(features)\n",
    "    features = Conv2D(filters=2, kernel_size=3,activation=\"relu\", padding=\"same\")(features)\n",
    "    print(features.shape)\n",
    "    features = Flatten()(features)\n",
    "#     value_prediction = Dense(1, activation=\"sigmoid\")(features) #TRY WITH TANGENT FOR output between -1 and 1\n",
    "    policy_prediction = Dense(number_moves, activation=\"sigmoid\")(features)\n",
    "\n",
    "    model = Model(board, policy_prediction)\n",
    "    model.compile(loss=[\"binary_crossentropy\"], optimizer=\"Adam\")\n",
    "    model.summary()\n",
    "    return model\n",
    "model = model_moves()"
   ]
  },
  {
   "cell_type": "code",
   "execution_count": 175,
   "metadata": {},
   "outputs": [
    {
     "ename": "ValueError",
     "evalue": "Error when checking input: expected input_5 to have shape (8, 8, 18) but got array with shape (8, 8, 36)",
     "output_type": "error",
     "traceback": [
      "\u001b[0;31m-------------------------------------------\u001b[0m",
      "\u001b[0;31mValueError\u001b[0mTraceback (most recent call last)",
      "\u001b[0;32m<ipython-input-175-5dd8978c96b5>\u001b[0m in \u001b[0;36m<module>\u001b[0;34m\u001b[0m\n\u001b[0;32m----> 1\u001b[0;31m \u001b[0mmodel\u001b[0m\u001b[0;34m.\u001b[0m\u001b[0mfit\u001b[0m\u001b[0;34m(\u001b[0m\u001b[0mX\u001b[0m\u001b[0;34m,\u001b[0m \u001b[0my\u001b[0m\u001b[0;34m,\u001b[0m \u001b[0mepochs\u001b[0m\u001b[0;34m=\u001b[0m\u001b[0;36m100\u001b[0m\u001b[0;34m)\u001b[0m \u001b[0;31m# loss: 0.0344 in ~2 epochs\u001b[0m\u001b[0;34m\u001b[0m\u001b[0;34m\u001b[0m\u001b[0m\n\u001b[0m",
      "\u001b[0;32m~/miniconda3/lib/python3.6/site-packages/keras/engine/training.py\u001b[0m in \u001b[0;36mfit\u001b[0;34m(self, x, y, batch_size, epochs, verbose, callbacks, validation_split, validation_data, shuffle, class_weight, sample_weight, initial_epoch, steps_per_epoch, validation_steps, validation_freq, max_queue_size, workers, use_multiprocessing, **kwargs)\u001b[0m\n\u001b[1;32m   1152\u001b[0m             \u001b[0msample_weight\u001b[0m\u001b[0;34m=\u001b[0m\u001b[0msample_weight\u001b[0m\u001b[0;34m,\u001b[0m\u001b[0;34m\u001b[0m\u001b[0;34m\u001b[0m\u001b[0m\n\u001b[1;32m   1153\u001b[0m             \u001b[0mclass_weight\u001b[0m\u001b[0;34m=\u001b[0m\u001b[0mclass_weight\u001b[0m\u001b[0;34m,\u001b[0m\u001b[0;34m\u001b[0m\u001b[0;34m\u001b[0m\u001b[0m\n\u001b[0;32m-> 1154\u001b[0;31m             batch_size=batch_size)\n\u001b[0m\u001b[1;32m   1155\u001b[0m \u001b[0;34m\u001b[0m\u001b[0m\n\u001b[1;32m   1156\u001b[0m         \u001b[0;31m# Prepare validation data.\u001b[0m\u001b[0;34m\u001b[0m\u001b[0;34m\u001b[0m\u001b[0;34m\u001b[0m\u001b[0m\n",
      "\u001b[0;32m~/miniconda3/lib/python3.6/site-packages/keras/engine/training.py\u001b[0m in \u001b[0;36m_standardize_user_data\u001b[0;34m(self, x, y, sample_weight, class_weight, check_array_lengths, batch_size)\u001b[0m\n\u001b[1;32m    577\u001b[0m             \u001b[0mfeed_input_shapes\u001b[0m\u001b[0;34m,\u001b[0m\u001b[0;34m\u001b[0m\u001b[0;34m\u001b[0m\u001b[0m\n\u001b[1;32m    578\u001b[0m             \u001b[0mcheck_batch_axis\u001b[0m\u001b[0;34m=\u001b[0m\u001b[0;32mFalse\u001b[0m\u001b[0;34m,\u001b[0m  \u001b[0;31m# Don't enforce the batch size.\u001b[0m\u001b[0;34m\u001b[0m\u001b[0;34m\u001b[0m\u001b[0m\n\u001b[0;32m--> 579\u001b[0;31m             exception_prefix='input')\n\u001b[0m\u001b[1;32m    580\u001b[0m \u001b[0;34m\u001b[0m\u001b[0m\n\u001b[1;32m    581\u001b[0m         \u001b[0;32mif\u001b[0m \u001b[0my\u001b[0m \u001b[0;32mis\u001b[0m \u001b[0;32mnot\u001b[0m \u001b[0;32mNone\u001b[0m\u001b[0;34m:\u001b[0m\u001b[0;34m\u001b[0m\u001b[0;34m\u001b[0m\u001b[0m\n",
      "\u001b[0;32m~/miniconda3/lib/python3.6/site-packages/keras/engine/training_utils.py\u001b[0m in \u001b[0;36mstandardize_input_data\u001b[0;34m(data, names, shapes, check_batch_axis, exception_prefix)\u001b[0m\n\u001b[1;32m    143\u001b[0m                             \u001b[0;34m': expected '\u001b[0m \u001b[0;34m+\u001b[0m \u001b[0mnames\u001b[0m\u001b[0;34m[\u001b[0m\u001b[0mi\u001b[0m\u001b[0;34m]\u001b[0m \u001b[0;34m+\u001b[0m \u001b[0;34m' to have shape '\u001b[0m \u001b[0;34m+\u001b[0m\u001b[0;34m\u001b[0m\u001b[0;34m\u001b[0m\u001b[0m\n\u001b[1;32m    144\u001b[0m                             \u001b[0mstr\u001b[0m\u001b[0;34m(\u001b[0m\u001b[0mshape\u001b[0m\u001b[0;34m)\u001b[0m \u001b[0;34m+\u001b[0m \u001b[0;34m' but got array with shape '\u001b[0m \u001b[0;34m+\u001b[0m\u001b[0;34m\u001b[0m\u001b[0;34m\u001b[0m\u001b[0m\n\u001b[0;32m--> 145\u001b[0;31m                             str(data_shape))\n\u001b[0m\u001b[1;32m    146\u001b[0m     \u001b[0;32mreturn\u001b[0m \u001b[0mdata\u001b[0m\u001b[0;34m\u001b[0m\u001b[0;34m\u001b[0m\u001b[0m\n\u001b[1;32m    147\u001b[0m \u001b[0;34m\u001b[0m\u001b[0m\n",
      "\u001b[0;31mValueError\u001b[0m: Error when checking input: expected input_5 to have shape (8, 8, 18) but got array with shape (8, 8, 36)"
     ]
    }
   ],
   "source": [
    "model.fit(X, y, epochs=100) # loss: 0.0344 in ~2 epochs"
   ]
  }
 ],
 "metadata": {
  "kernelspec": {
   "display_name": "Python 3",
   "language": "python",
   "name": "python3"
  },
  "language_info": {
   "codemirror_mode": {
    "name": "ipython",
    "version": 3
   },
   "file_extension": ".py",
   "mimetype": "text/x-python",
   "name": "python",
   "nbconvert_exporter": "python",
   "pygments_lexer": "ipython3",
   "version": "3.6.10"
  }
 },
 "nbformat": 4,
 "nbformat_minor": 2
}
