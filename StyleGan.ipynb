{
  "nbformat": 4,
  "nbformat_minor": 0,
  "metadata": {
    "colab": {
      "name": "StyleGan.ipynb",
      "provenance": [],
      "collapsed_sections": [],
      "authorship_tag": "ABX9TyOC1AXtxmabUhD1IUKm4k7k",
      "include_colab_link": true
    },
    "kernelspec": {
      "name": "python3",
      "display_name": "Python 3"
    },
    "accelerator": "GPU",
    "widgets": {
      "application/vnd.jupyter.widget-state+json": {
        "3463ecbb66ed4676a56a3470b670eae8": {
          "model_module": "@jupyter-widgets/controls",
          "model_name": "HBoxModel",
          "state": {
            "_view_name": "HBoxView",
            "_dom_classes": [],
            "_model_name": "HBoxModel",
            "_view_module": "@jupyter-widgets/controls",
            "_model_module_version": "1.5.0",
            "_view_count": null,
            "_view_module_version": "1.5.0",
            "box_style": "",
            "layout": "IPY_MODEL_41f30b9e7c6f44c6a40b067a6eb9e112",
            "_model_module": "@jupyter-widgets/controls",
            "children": [
              "IPY_MODEL_eb94d04ce2e147b0abb90f4975d8ae3e",
              "IPY_MODEL_ee6738d850a64b3d8817fd437cdd4dd3"
            ]
          }
        },
        "41f30b9e7c6f44c6a40b067a6eb9e112": {
          "model_module": "@jupyter-widgets/base",
          "model_name": "LayoutModel",
          "state": {
            "_view_name": "LayoutView",
            "grid_template_rows": null,
            "right": null,
            "justify_content": null,
            "_view_module": "@jupyter-widgets/base",
            "overflow": null,
            "_model_module_version": "1.2.0",
            "_view_count": null,
            "flex_flow": null,
            "width": null,
            "min_width": null,
            "border": null,
            "align_items": null,
            "bottom": null,
            "_model_module": "@jupyter-widgets/base",
            "top": null,
            "grid_column": null,
            "overflow_y": null,
            "overflow_x": null,
            "grid_auto_flow": null,
            "grid_area": null,
            "grid_template_columns": null,
            "flex": null,
            "_model_name": "LayoutModel",
            "justify_items": null,
            "grid_row": null,
            "max_height": null,
            "align_content": null,
            "visibility": null,
            "align_self": null,
            "height": null,
            "min_height": null,
            "padding": null,
            "grid_auto_rows": null,
            "grid_gap": null,
            "max_width": null,
            "order": null,
            "_view_module_version": "1.2.0",
            "grid_template_areas": null,
            "object_position": null,
            "object_fit": null,
            "grid_auto_columns": null,
            "margin": null,
            "display": null,
            "left": null
          }
        },
        "eb94d04ce2e147b0abb90f4975d8ae3e": {
          "model_module": "@jupyter-widgets/controls",
          "model_name": "IntProgressModel",
          "state": {
            "_view_name": "ProgressView",
            "style": "IPY_MODEL_6289c67589ea4da1a1a8665effe9707f",
            "_dom_classes": [],
            "description": "",
            "_model_name": "IntProgressModel",
            "bar_style": "success",
            "max": 1,
            "_view_module": "@jupyter-widgets/controls",
            "_model_module_version": "1.5.0",
            "value": 1,
            "_view_count": null,
            "_view_module_version": "1.5.0",
            "orientation": "horizontal",
            "min": 0,
            "description_tooltip": null,
            "_model_module": "@jupyter-widgets/controls",
            "layout": "IPY_MODEL_1cfd6e9523a24f7396175249691d46b8"
          }
        },
        "ee6738d850a64b3d8817fd437cdd4dd3": {
          "model_module": "@jupyter-widgets/controls",
          "model_name": "HTMLModel",
          "state": {
            "_view_name": "HTMLView",
            "style": "IPY_MODEL_72a632618f01487886f2b6a97db6fbb6",
            "_dom_classes": [],
            "description": "",
            "_model_name": "HTMLModel",
            "placeholder": "​",
            "_view_module": "@jupyter-widgets/controls",
            "_model_module_version": "1.5.0",
            "value": " 9920512/? [00:02&lt;00:00, 4068531.35it/s]",
            "_view_count": null,
            "_view_module_version": "1.5.0",
            "description_tooltip": null,
            "_model_module": "@jupyter-widgets/controls",
            "layout": "IPY_MODEL_757a89804cf14bfa978d8f889286cf4f"
          }
        },
        "6289c67589ea4da1a1a8665effe9707f": {
          "model_module": "@jupyter-widgets/controls",
          "model_name": "ProgressStyleModel",
          "state": {
            "_view_name": "StyleView",
            "_model_name": "ProgressStyleModel",
            "description_width": "initial",
            "_view_module": "@jupyter-widgets/base",
            "_model_module_version": "1.5.0",
            "_view_count": null,
            "_view_module_version": "1.2.0",
            "bar_color": null,
            "_model_module": "@jupyter-widgets/controls"
          }
        },
        "1cfd6e9523a24f7396175249691d46b8": {
          "model_module": "@jupyter-widgets/base",
          "model_name": "LayoutModel",
          "state": {
            "_view_name": "LayoutView",
            "grid_template_rows": null,
            "right": null,
            "justify_content": null,
            "_view_module": "@jupyter-widgets/base",
            "overflow": null,
            "_model_module_version": "1.2.0",
            "_view_count": null,
            "flex_flow": null,
            "width": null,
            "min_width": null,
            "border": null,
            "align_items": null,
            "bottom": null,
            "_model_module": "@jupyter-widgets/base",
            "top": null,
            "grid_column": null,
            "overflow_y": null,
            "overflow_x": null,
            "grid_auto_flow": null,
            "grid_area": null,
            "grid_template_columns": null,
            "flex": null,
            "_model_name": "LayoutModel",
            "justify_items": null,
            "grid_row": null,
            "max_height": null,
            "align_content": null,
            "visibility": null,
            "align_self": null,
            "height": null,
            "min_height": null,
            "padding": null,
            "grid_auto_rows": null,
            "grid_gap": null,
            "max_width": null,
            "order": null,
            "_view_module_version": "1.2.0",
            "grid_template_areas": null,
            "object_position": null,
            "object_fit": null,
            "grid_auto_columns": null,
            "margin": null,
            "display": null,
            "left": null
          }
        },
        "72a632618f01487886f2b6a97db6fbb6": {
          "model_module": "@jupyter-widgets/controls",
          "model_name": "DescriptionStyleModel",
          "state": {
            "_view_name": "StyleView",
            "_model_name": "DescriptionStyleModel",
            "description_width": "",
            "_view_module": "@jupyter-widgets/base",
            "_model_module_version": "1.5.0",
            "_view_count": null,
            "_view_module_version": "1.2.0",
            "_model_module": "@jupyter-widgets/controls"
          }
        },
        "757a89804cf14bfa978d8f889286cf4f": {
          "model_module": "@jupyter-widgets/base",
          "model_name": "LayoutModel",
          "state": {
            "_view_name": "LayoutView",
            "grid_template_rows": null,
            "right": null,
            "justify_content": null,
            "_view_module": "@jupyter-widgets/base",
            "overflow": null,
            "_model_module_version": "1.2.0",
            "_view_count": null,
            "flex_flow": null,
            "width": null,
            "min_width": null,
            "border": null,
            "align_items": null,
            "bottom": null,
            "_model_module": "@jupyter-widgets/base",
            "top": null,
            "grid_column": null,
            "overflow_y": null,
            "overflow_x": null,
            "grid_auto_flow": null,
            "grid_area": null,
            "grid_template_columns": null,
            "flex": null,
            "_model_name": "LayoutModel",
            "justify_items": null,
            "grid_row": null,
            "max_height": null,
            "align_content": null,
            "visibility": null,
            "align_self": null,
            "height": null,
            "min_height": null,
            "padding": null,
            "grid_auto_rows": null,
            "grid_gap": null,
            "max_width": null,
            "order": null,
            "_view_module_version": "1.2.0",
            "grid_template_areas": null,
            "object_position": null,
            "object_fit": null,
            "grid_auto_columns": null,
            "margin": null,
            "display": null,
            "left": null
          }
        },
        "663cc16a79df408ba84ec73cfd887ac1": {
          "model_module": "@jupyter-widgets/controls",
          "model_name": "HBoxModel",
          "state": {
            "_view_name": "HBoxView",
            "_dom_classes": [],
            "_model_name": "HBoxModel",
            "_view_module": "@jupyter-widgets/controls",
            "_model_module_version": "1.5.0",
            "_view_count": null,
            "_view_module_version": "1.5.0",
            "box_style": "",
            "layout": "IPY_MODEL_9e8b3053a7b14d659acabc0ec4be7d0a",
            "_model_module": "@jupyter-widgets/controls",
            "children": [
              "IPY_MODEL_a3eef4e72463472fa10bc4e995bf5614",
              "IPY_MODEL_fd1fe54f0062461eaed40a606b977e73"
            ]
          }
        },
        "9e8b3053a7b14d659acabc0ec4be7d0a": {
          "model_module": "@jupyter-widgets/base",
          "model_name": "LayoutModel",
          "state": {
            "_view_name": "LayoutView",
            "grid_template_rows": null,
            "right": null,
            "justify_content": null,
            "_view_module": "@jupyter-widgets/base",
            "overflow": null,
            "_model_module_version": "1.2.0",
            "_view_count": null,
            "flex_flow": null,
            "width": null,
            "min_width": null,
            "border": null,
            "align_items": null,
            "bottom": null,
            "_model_module": "@jupyter-widgets/base",
            "top": null,
            "grid_column": null,
            "overflow_y": null,
            "overflow_x": null,
            "grid_auto_flow": null,
            "grid_area": null,
            "grid_template_columns": null,
            "flex": null,
            "_model_name": "LayoutModel",
            "justify_items": null,
            "grid_row": null,
            "max_height": null,
            "align_content": null,
            "visibility": null,
            "align_self": null,
            "height": null,
            "min_height": null,
            "padding": null,
            "grid_auto_rows": null,
            "grid_gap": null,
            "max_width": null,
            "order": null,
            "_view_module_version": "1.2.0",
            "grid_template_areas": null,
            "object_position": null,
            "object_fit": null,
            "grid_auto_columns": null,
            "margin": null,
            "display": null,
            "left": null
          }
        },
        "a3eef4e72463472fa10bc4e995bf5614": {
          "model_module": "@jupyter-widgets/controls",
          "model_name": "IntProgressModel",
          "state": {
            "_view_name": "ProgressView",
            "style": "IPY_MODEL_760e4349050b432783e65a044d57d4b7",
            "_dom_classes": [],
            "description": "",
            "_model_name": "IntProgressModel",
            "bar_style": "success",
            "max": 1,
            "_view_module": "@jupyter-widgets/controls",
            "_model_module_version": "1.5.0",
            "value": 1,
            "_view_count": null,
            "_view_module_version": "1.5.0",
            "orientation": "horizontal",
            "min": 0,
            "description_tooltip": null,
            "_model_module": "@jupyter-widgets/controls",
            "layout": "IPY_MODEL_3c9899c659ec442b8db38c3ef26af949"
          }
        },
        "fd1fe54f0062461eaed40a606b977e73": {
          "model_module": "@jupyter-widgets/controls",
          "model_name": "HTMLModel",
          "state": {
            "_view_name": "HTMLView",
            "style": "IPY_MODEL_ca2490682df64fe88c8576a68cecb3f1",
            "_dom_classes": [],
            "description": "",
            "_model_name": "HTMLModel",
            "placeholder": "​",
            "_view_module": "@jupyter-widgets/controls",
            "_model_module_version": "1.5.0",
            "value": " 32768/? [00:01&lt;00:00, 28777.34it/s]",
            "_view_count": null,
            "_view_module_version": "1.5.0",
            "description_tooltip": null,
            "_model_module": "@jupyter-widgets/controls",
            "layout": "IPY_MODEL_7a31f1de6ccf4c6180181edf5dc264b7"
          }
        },
        "760e4349050b432783e65a044d57d4b7": {
          "model_module": "@jupyter-widgets/controls",
          "model_name": "ProgressStyleModel",
          "state": {
            "_view_name": "StyleView",
            "_model_name": "ProgressStyleModel",
            "description_width": "initial",
            "_view_module": "@jupyter-widgets/base",
            "_model_module_version": "1.5.0",
            "_view_count": null,
            "_view_module_version": "1.2.0",
            "bar_color": null,
            "_model_module": "@jupyter-widgets/controls"
          }
        },
        "3c9899c659ec442b8db38c3ef26af949": {
          "model_module": "@jupyter-widgets/base",
          "model_name": "LayoutModel",
          "state": {
            "_view_name": "LayoutView",
            "grid_template_rows": null,
            "right": null,
            "justify_content": null,
            "_view_module": "@jupyter-widgets/base",
            "overflow": null,
            "_model_module_version": "1.2.0",
            "_view_count": null,
            "flex_flow": null,
            "width": null,
            "min_width": null,
            "border": null,
            "align_items": null,
            "bottom": null,
            "_model_module": "@jupyter-widgets/base",
            "top": null,
            "grid_column": null,
            "overflow_y": null,
            "overflow_x": null,
            "grid_auto_flow": null,
            "grid_area": null,
            "grid_template_columns": null,
            "flex": null,
            "_model_name": "LayoutModel",
            "justify_items": null,
            "grid_row": null,
            "max_height": null,
            "align_content": null,
            "visibility": null,
            "align_self": null,
            "height": null,
            "min_height": null,
            "padding": null,
            "grid_auto_rows": null,
            "grid_gap": null,
            "max_width": null,
            "order": null,
            "_view_module_version": "1.2.0",
            "grid_template_areas": null,
            "object_position": null,
            "object_fit": null,
            "grid_auto_columns": null,
            "margin": null,
            "display": null,
            "left": null
          }
        },
        "ca2490682df64fe88c8576a68cecb3f1": {
          "model_module": "@jupyter-widgets/controls",
          "model_name": "DescriptionStyleModel",
          "state": {
            "_view_name": "StyleView",
            "_model_name": "DescriptionStyleModel",
            "description_width": "",
            "_view_module": "@jupyter-widgets/base",
            "_model_module_version": "1.5.0",
            "_view_count": null,
            "_view_module_version": "1.2.0",
            "_model_module": "@jupyter-widgets/controls"
          }
        },
        "7a31f1de6ccf4c6180181edf5dc264b7": {
          "model_module": "@jupyter-widgets/base",
          "model_name": "LayoutModel",
          "state": {
            "_view_name": "LayoutView",
            "grid_template_rows": null,
            "right": null,
            "justify_content": null,
            "_view_module": "@jupyter-widgets/base",
            "overflow": null,
            "_model_module_version": "1.2.0",
            "_view_count": null,
            "flex_flow": null,
            "width": null,
            "min_width": null,
            "border": null,
            "align_items": null,
            "bottom": null,
            "_model_module": "@jupyter-widgets/base",
            "top": null,
            "grid_column": null,
            "overflow_y": null,
            "overflow_x": null,
            "grid_auto_flow": null,
            "grid_area": null,
            "grid_template_columns": null,
            "flex": null,
            "_model_name": "LayoutModel",
            "justify_items": null,
            "grid_row": null,
            "max_height": null,
            "align_content": null,
            "visibility": null,
            "align_self": null,
            "height": null,
            "min_height": null,
            "padding": null,
            "grid_auto_rows": null,
            "grid_gap": null,
            "max_width": null,
            "order": null,
            "_view_module_version": "1.2.0",
            "grid_template_areas": null,
            "object_position": null,
            "object_fit": null,
            "grid_auto_columns": null,
            "margin": null,
            "display": null,
            "left": null
          }
        },
        "2e81962e03844a83aeac86aebf462a55": {
          "model_module": "@jupyter-widgets/controls",
          "model_name": "HBoxModel",
          "state": {
            "_view_name": "HBoxView",
            "_dom_classes": [],
            "_model_name": "HBoxModel",
            "_view_module": "@jupyter-widgets/controls",
            "_model_module_version": "1.5.0",
            "_view_count": null,
            "_view_module_version": "1.5.0",
            "box_style": "",
            "layout": "IPY_MODEL_c519508872f84a088db4f095ea4e89e1",
            "_model_module": "@jupyter-widgets/controls",
            "children": [
              "IPY_MODEL_99d5c3b6486b4db092561b1e2ce24598",
              "IPY_MODEL_029feb26566e4b00b82bd486606e136f"
            ]
          }
        },
        "c519508872f84a088db4f095ea4e89e1": {
          "model_module": "@jupyter-widgets/base",
          "model_name": "LayoutModel",
          "state": {
            "_view_name": "LayoutView",
            "grid_template_rows": null,
            "right": null,
            "justify_content": null,
            "_view_module": "@jupyter-widgets/base",
            "overflow": null,
            "_model_module_version": "1.2.0",
            "_view_count": null,
            "flex_flow": null,
            "width": null,
            "min_width": null,
            "border": null,
            "align_items": null,
            "bottom": null,
            "_model_module": "@jupyter-widgets/base",
            "top": null,
            "grid_column": null,
            "overflow_y": null,
            "overflow_x": null,
            "grid_auto_flow": null,
            "grid_area": null,
            "grid_template_columns": null,
            "flex": null,
            "_model_name": "LayoutModel",
            "justify_items": null,
            "grid_row": null,
            "max_height": null,
            "align_content": null,
            "visibility": null,
            "align_self": null,
            "height": null,
            "min_height": null,
            "padding": null,
            "grid_auto_rows": null,
            "grid_gap": null,
            "max_width": null,
            "order": null,
            "_view_module_version": "1.2.0",
            "grid_template_areas": null,
            "object_position": null,
            "object_fit": null,
            "grid_auto_columns": null,
            "margin": null,
            "display": null,
            "left": null
          }
        },
        "99d5c3b6486b4db092561b1e2ce24598": {
          "model_module": "@jupyter-widgets/controls",
          "model_name": "IntProgressModel",
          "state": {
            "_view_name": "ProgressView",
            "style": "IPY_MODEL_f256a7dcb3af4a61a4428f7d366fd189",
            "_dom_classes": [],
            "description": "",
            "_model_name": "IntProgressModel",
            "bar_style": "success",
            "max": 1,
            "_view_module": "@jupyter-widgets/controls",
            "_model_module_version": "1.5.0",
            "value": 1,
            "_view_count": null,
            "_view_module_version": "1.5.0",
            "orientation": "horizontal",
            "min": 0,
            "description_tooltip": null,
            "_model_module": "@jupyter-widgets/controls",
            "layout": "IPY_MODEL_af166224749543bab3847ead454357b0"
          }
        },
        "029feb26566e4b00b82bd486606e136f": {
          "model_module": "@jupyter-widgets/controls",
          "model_name": "HTMLModel",
          "state": {
            "_view_name": "HTMLView",
            "style": "IPY_MODEL_8950248073104d90af59bee9fd036856",
            "_dom_classes": [],
            "description": "",
            "_model_name": "HTMLModel",
            "placeholder": "​",
            "_view_module": "@jupyter-widgets/controls",
            "_model_module_version": "1.5.0",
            "value": " 1654784/? [00:00&lt;00:00, 1964133.15it/s]",
            "_view_count": null,
            "_view_module_version": "1.5.0",
            "description_tooltip": null,
            "_model_module": "@jupyter-widgets/controls",
            "layout": "IPY_MODEL_6f01d1a628ac49b0a459e364f0b28dcb"
          }
        },
        "f256a7dcb3af4a61a4428f7d366fd189": {
          "model_module": "@jupyter-widgets/controls",
          "model_name": "ProgressStyleModel",
          "state": {
            "_view_name": "StyleView",
            "_model_name": "ProgressStyleModel",
            "description_width": "initial",
            "_view_module": "@jupyter-widgets/base",
            "_model_module_version": "1.5.0",
            "_view_count": null,
            "_view_module_version": "1.2.0",
            "bar_color": null,
            "_model_module": "@jupyter-widgets/controls"
          }
        },
        "af166224749543bab3847ead454357b0": {
          "model_module": "@jupyter-widgets/base",
          "model_name": "LayoutModel",
          "state": {
            "_view_name": "LayoutView",
            "grid_template_rows": null,
            "right": null,
            "justify_content": null,
            "_view_module": "@jupyter-widgets/base",
            "overflow": null,
            "_model_module_version": "1.2.0",
            "_view_count": null,
            "flex_flow": null,
            "width": null,
            "min_width": null,
            "border": null,
            "align_items": null,
            "bottom": null,
            "_model_module": "@jupyter-widgets/base",
            "top": null,
            "grid_column": null,
            "overflow_y": null,
            "overflow_x": null,
            "grid_auto_flow": null,
            "grid_area": null,
            "grid_template_columns": null,
            "flex": null,
            "_model_name": "LayoutModel",
            "justify_items": null,
            "grid_row": null,
            "max_height": null,
            "align_content": null,
            "visibility": null,
            "align_self": null,
            "height": null,
            "min_height": null,
            "padding": null,
            "grid_auto_rows": null,
            "grid_gap": null,
            "max_width": null,
            "order": null,
            "_view_module_version": "1.2.0",
            "grid_template_areas": null,
            "object_position": null,
            "object_fit": null,
            "grid_auto_columns": null,
            "margin": null,
            "display": null,
            "left": null
          }
        },
        "8950248073104d90af59bee9fd036856": {
          "model_module": "@jupyter-widgets/controls",
          "model_name": "DescriptionStyleModel",
          "state": {
            "_view_name": "StyleView",
            "_model_name": "DescriptionStyleModel",
            "description_width": "",
            "_view_module": "@jupyter-widgets/base",
            "_model_module_version": "1.5.0",
            "_view_count": null,
            "_view_module_version": "1.2.0",
            "_model_module": "@jupyter-widgets/controls"
          }
        },
        "6f01d1a628ac49b0a459e364f0b28dcb": {
          "model_module": "@jupyter-widgets/base",
          "model_name": "LayoutModel",
          "state": {
            "_view_name": "LayoutView",
            "grid_template_rows": null,
            "right": null,
            "justify_content": null,
            "_view_module": "@jupyter-widgets/base",
            "overflow": null,
            "_model_module_version": "1.2.0",
            "_view_count": null,
            "flex_flow": null,
            "width": null,
            "min_width": null,
            "border": null,
            "align_items": null,
            "bottom": null,
            "_model_module": "@jupyter-widgets/base",
            "top": null,
            "grid_column": null,
            "overflow_y": null,
            "overflow_x": null,
            "grid_auto_flow": null,
            "grid_area": null,
            "grid_template_columns": null,
            "flex": null,
            "_model_name": "LayoutModel",
            "justify_items": null,
            "grid_row": null,
            "max_height": null,
            "align_content": null,
            "visibility": null,
            "align_self": null,
            "height": null,
            "min_height": null,
            "padding": null,
            "grid_auto_rows": null,
            "grid_gap": null,
            "max_width": null,
            "order": null,
            "_view_module_version": "1.2.0",
            "grid_template_areas": null,
            "object_position": null,
            "object_fit": null,
            "grid_auto_columns": null,
            "margin": null,
            "display": null,
            "left": null
          }
        },
        "46b26932a488481eb68b318bfb260dc8": {
          "model_module": "@jupyter-widgets/controls",
          "model_name": "HBoxModel",
          "state": {
            "_view_name": "HBoxView",
            "_dom_classes": [],
            "_model_name": "HBoxModel",
            "_view_module": "@jupyter-widgets/controls",
            "_model_module_version": "1.5.0",
            "_view_count": null,
            "_view_module_version": "1.5.0",
            "box_style": "",
            "layout": "IPY_MODEL_701d9ea0006343d48bff7e11f0128680",
            "_model_module": "@jupyter-widgets/controls",
            "children": [
              "IPY_MODEL_64a5b8eaaef74accb040964004ca2a15",
              "IPY_MODEL_da7fec17d691426aaba253712ba11bbd"
            ]
          }
        },
        "701d9ea0006343d48bff7e11f0128680": {
          "model_module": "@jupyter-widgets/base",
          "model_name": "LayoutModel",
          "state": {
            "_view_name": "LayoutView",
            "grid_template_rows": null,
            "right": null,
            "justify_content": null,
            "_view_module": "@jupyter-widgets/base",
            "overflow": null,
            "_model_module_version": "1.2.0",
            "_view_count": null,
            "flex_flow": null,
            "width": null,
            "min_width": null,
            "border": null,
            "align_items": null,
            "bottom": null,
            "_model_module": "@jupyter-widgets/base",
            "top": null,
            "grid_column": null,
            "overflow_y": null,
            "overflow_x": null,
            "grid_auto_flow": null,
            "grid_area": null,
            "grid_template_columns": null,
            "flex": null,
            "_model_name": "LayoutModel",
            "justify_items": null,
            "grid_row": null,
            "max_height": null,
            "align_content": null,
            "visibility": null,
            "align_self": null,
            "height": null,
            "min_height": null,
            "padding": null,
            "grid_auto_rows": null,
            "grid_gap": null,
            "max_width": null,
            "order": null,
            "_view_module_version": "1.2.0",
            "grid_template_areas": null,
            "object_position": null,
            "object_fit": null,
            "grid_auto_columns": null,
            "margin": null,
            "display": null,
            "left": null
          }
        },
        "64a5b8eaaef74accb040964004ca2a15": {
          "model_module": "@jupyter-widgets/controls",
          "model_name": "IntProgressModel",
          "state": {
            "_view_name": "ProgressView",
            "style": "IPY_MODEL_2b77774e4cce4d1aa66671db80b66496",
            "_dom_classes": [],
            "description": "  0%",
            "_model_name": "IntProgressModel",
            "bar_style": "info",
            "max": 1,
            "_view_module": "@jupyter-widgets/controls",
            "_model_module_version": "1.5.0",
            "value": 0,
            "_view_count": null,
            "_view_module_version": "1.5.0",
            "orientation": "horizontal",
            "min": 0,
            "description_tooltip": null,
            "_model_module": "@jupyter-widgets/controls",
            "layout": "IPY_MODEL_c4c0e92017ce4d4aa056e882f5c2f0d6"
          }
        },
        "da7fec17d691426aaba253712ba11bbd": {
          "model_module": "@jupyter-widgets/controls",
          "model_name": "HTMLModel",
          "state": {
            "_view_name": "HTMLView",
            "style": "IPY_MODEL_f007b88153e44fc9a1ea6624ff2e0935",
            "_dom_classes": [],
            "description": "",
            "_model_name": "HTMLModel",
            "placeholder": "​",
            "_view_module": "@jupyter-widgets/controls",
            "_model_module_version": "1.5.0",
            "value": " 0/4542 [00:00&lt;?, ?it/s]",
            "_view_count": null,
            "_view_module_version": "1.5.0",
            "description_tooltip": null,
            "_model_module": "@jupyter-widgets/controls",
            "layout": "IPY_MODEL_c152ba935ec44afeb39dcf4740f2839a"
          }
        },
        "2b77774e4cce4d1aa66671db80b66496": {
          "model_module": "@jupyter-widgets/controls",
          "model_name": "ProgressStyleModel",
          "state": {
            "_view_name": "StyleView",
            "_model_name": "ProgressStyleModel",
            "description_width": "initial",
            "_view_module": "@jupyter-widgets/base",
            "_model_module_version": "1.5.0",
            "_view_count": null,
            "_view_module_version": "1.2.0",
            "bar_color": null,
            "_model_module": "@jupyter-widgets/controls"
          }
        },
        "c4c0e92017ce4d4aa056e882f5c2f0d6": {
          "model_module": "@jupyter-widgets/base",
          "model_name": "LayoutModel",
          "state": {
            "_view_name": "LayoutView",
            "grid_template_rows": null,
            "right": null,
            "justify_content": null,
            "_view_module": "@jupyter-widgets/base",
            "overflow": null,
            "_model_module_version": "1.2.0",
            "_view_count": null,
            "flex_flow": null,
            "width": null,
            "min_width": null,
            "border": null,
            "align_items": null,
            "bottom": null,
            "_model_module": "@jupyter-widgets/base",
            "top": null,
            "grid_column": null,
            "overflow_y": null,
            "overflow_x": null,
            "grid_auto_flow": null,
            "grid_area": null,
            "grid_template_columns": null,
            "flex": null,
            "_model_name": "LayoutModel",
            "justify_items": null,
            "grid_row": null,
            "max_height": null,
            "align_content": null,
            "visibility": null,
            "align_self": null,
            "height": null,
            "min_height": null,
            "padding": null,
            "grid_auto_rows": null,
            "grid_gap": null,
            "max_width": null,
            "order": null,
            "_view_module_version": "1.2.0",
            "grid_template_areas": null,
            "object_position": null,
            "object_fit": null,
            "grid_auto_columns": null,
            "margin": null,
            "display": null,
            "left": null
          }
        },
        "f007b88153e44fc9a1ea6624ff2e0935": {
          "model_module": "@jupyter-widgets/controls",
          "model_name": "DescriptionStyleModel",
          "state": {
            "_view_name": "StyleView",
            "_model_name": "DescriptionStyleModel",
            "description_width": "",
            "_view_module": "@jupyter-widgets/base",
            "_model_module_version": "1.5.0",
            "_view_count": null,
            "_view_module_version": "1.2.0",
            "_model_module": "@jupyter-widgets/controls"
          }
        },
        "c152ba935ec44afeb39dcf4740f2839a": {
          "model_module": "@jupyter-widgets/base",
          "model_name": "LayoutModel",
          "state": {
            "_view_name": "LayoutView",
            "grid_template_rows": null,
            "right": null,
            "justify_content": null,
            "_view_module": "@jupyter-widgets/base",
            "overflow": null,
            "_model_module_version": "1.2.0",
            "_view_count": null,
            "flex_flow": null,
            "width": null,
            "min_width": null,
            "border": null,
            "align_items": null,
            "bottom": null,
            "_model_module": "@jupyter-widgets/base",
            "top": null,
            "grid_column": null,
            "overflow_y": null,
            "overflow_x": null,
            "grid_auto_flow": null,
            "grid_area": null,
            "grid_template_columns": null,
            "flex": null,
            "_model_name": "LayoutModel",
            "justify_items": null,
            "grid_row": null,
            "max_height": null,
            "align_content": null,
            "visibility": null,
            "align_self": null,
            "height": null,
            "min_height": null,
            "padding": null,
            "grid_auto_rows": null,
            "grid_gap": null,
            "max_width": null,
            "order": null,
            "_view_module_version": "1.2.0",
            "grid_template_areas": null,
            "object_position": null,
            "object_fit": null,
            "grid_auto_columns": null,
            "margin": null,
            "display": null,
            "left": null
          }
        }
      }
    }
  },
  "cells": [
    {
      "cell_type": "markdown",
      "metadata": {
        "id": "view-in-github",
        "colab_type": "text"
      },
      "source": [
        "<a href=\"https://colab.research.google.com/github/entruv/code_stream/blob/master/StyleGan.ipynb\" target=\"_parent\"><img src=\"https://colab.research.google.com/assets/colab-badge.svg\" alt=\"Open In Colab\"/></a>"
      ]
    },
    {
      "cell_type": "markdown",
      "metadata": {
        "id": "HgLjR3qcKDZm",
        "colab_type": "text"
      },
      "source": [
        "## Objectif\n",
        "Generer des images de celebrites en trainant un modele a predire des images de haute qualites, et en apprenaut un autre modele, capable de discriminer les predictions du modele precedant, en classificant si elles sont generees par le modele ou venant d'un dataset existant\n",
        "\n",
        "## Resources\n",
        "- Lien du projet originel: https://github.com/NVlabs/stylegan\n",
        "- Reddit thread: https://www.reddit.com/r/MachineLearning/comments/bagnq6/p_stylegan_trained_on_paintings_512x512/\n",
        "- AdaIN original paper: https://arxiv.org/abs/1703.06868\n"
      ]
    },
    {
      "cell_type": "markdown",
      "metadata": {
        "id": "eXbQ-BJEKEA_",
        "colab_type": "text"
      },
      "source": [
        "## Mini recapitulatif du papier\n",
        "\n",
        "Photo de l'architecture:\n",
        "![image.png](data:image/png;base64,iVBORw0KGgoAAAANSUhEUgAAAroAAAJ6CAYAAADHFeGtAAAgAElEQVR4AeydB7gU1fmHpUr5A0ogCAoBJEAAkSaIDUSUIoRiA4QgSG9SBMUC0qWrFKVIEVEBlSJNNIoY7L1jC2qMNcYWEo3J93/eY846d+7s7uzu7O7cvd95nrmzd8qZM785M/POd77znaNEkyqgCqgCqoAqoAqoAqqAKpCDChyVg+ekp6QKqAKqgCqgCqgCqoAqoAqIgq5WAlVAFVAFVAFVQBVQBVSBnFRAQTcnL6uelCqgCqgCqoAqoAqoAqqAgq7WAVVAFVAFVAFVQBVQBVSBnFRAQTcnL6uelCqgCqgCqoAqoAqoAqqAgq7WAVVAFVAFVAFVQBVQBVSBnFRAQTcnL6uelCqgCqgCqoAqoAqoAqqAgq7WAVVAFVAFVAFVQBVQBVSBnFRAQTcnL6uelCqgCqgCqoAqoAqoAqqAgq7WAVVAFVAFVAFVQBVQBVSBnFRAQTcnL6uelCqgCqgCqoAqoAqoAqqAgq7WAVVAFVAFVAFVQBVQBVSBnFRAQTcnL6uelCqgCqgCqoAqoAqoAqqAgq7WAVVAFVAFVAFVQBVQBVSBnFRAQTcnL6uelCqgCqgCqoAqoAqoAqqAgq7WAVVAFVAFVAFVQBVQBVSBnFRAQTcnL6uelCqgCqgCqoAqoAqoAqqAgq7WAVVAFVAFVAFVQBVQBVSBnFRAQTcnL6uelCqgCqgCqoAqoAqoAqqAgq7WAVVAFVAFVAFVQBVQBVSBnFRAQTcnL6uelCqgCqgCqoAqoAqoAqqAgq7WAVVAFVAFVAFVQBVQBVSBnFRAQTcnL6uelCqgCqgCqoAqoAqoAqqAgq7WAVVAFVAFVAFVQBVQBVSBnFRAQTcnL6uelCqgCqgCqoAqoAqoAqqAgq7WAVVAFVAFVAFVQBVQBVSBnFRAQTcnL6uelCqgCqgCqoAqoAqoAqqAgq7WAVVAFVAFVAFVQBVQBVSBnFRAQTcnL6uelCqgCqgCqoAqoAqoAqqAgq7WAVVAFVAFVAFVQBVQBVSBnFRAQTcnL6uelCqgCqgCqoAqoAqoAqqAgq7WAVVAFVAFVAFVQBVQBVSBnFRAQTcnL6uelCqgCqgCqoAqoAqoAqqAgq7WAVVAFVAFVAFVQBVQBVSBnFRAQTcnL6uelCqgCqgCqoAqoAqoAqqAgq7WAVVAFVAFVAFVQBVQBVSBnFRAQTcnL6uelCqgCqgCqoAqoAqoAqqAgq7WAVVAFVAFVAFVQBVQBVSBnFRAQTcnL6uelCqgCqgCqoAqoAqoAqqAgq7WAVVAFVAFVAFVQBVQBVSBnFRAQTcnL6uelCqgCqgCqoAqoAqoAqqAgq7WAVVAFVAFVAFVQBVQBVSBnFRAQTcnL6uelCqgCqgCqoAqoAqoAqqAgq7WAVVAFVAFVAFVQBVQBVSBnFRAQTcnL6uelCqgCqgCqoAqoAqoAqqAgq7WAVVAFVAFVAFVQBVQBVSBnFRAQTcnL6uelCqgCqgCqoAqoAqoAqqAgq7WAVVAFVAFVAFVQBVQBVSBnFRAQTcnL6uelCqgCqgCqoAqoAqoAqqAgq7WAVVAFVAFVAFVQBVQBVSBnFRAQTcnL6uelCqgCqgCqoAqoAqoAqqAgq7WAVVAFVAFVAFVQBVQBVSBnFRAQTcnL6uelCqgCqgCqoAqoAqoAqqAgq7WAVVAFVAFVAFVQBVQBVSBnFRAQTcnL6uelCqgCqgCqoAqoAqoAqqAgq7WAVVAFVAFVAFVQBVQBVSBnFRAQTcnL6uelCqgCqgCqoAqoAqoAqqAgq7WAVVAFVAFVAFVQBVQBVSBnFRAQTcnL6uelCqgCqgCqoAqoAqoAqqAgq7WAVVAFVAFVAFVQBVQBVSBnFRAQTcnL6uelCqgCqgCqoAqoAqoAqqAgq7WAVVAFVAFVAFVQBVQBVSBnFRAQTcnL6uelCqgCqgCqoAqoAqoAqqAgq7WAVVAFVAFVAFVQBVQBVSBnFRAQTcnL6uelCqgCqgCqoAqoAqoAqqAgq7WAVVAFVAFVAFVQBVQBVSBnFRAQTcnL6uelCqgCqgCqoAqoAqoAqqAgq7WgdAq8Mwzz8iyZcvkpptukjvvvFNeeOEF+de//hUp74EDB+T999+P/K8/VIEwK3D48GFZvXq1LFq0SG6//Xah/n799deRIlOXH3/88cj/+kMVUAVUAVUgdQUUdFPXUHMIUIEff/xRFixYIDVr1pSjjjoq31SsWDGpU6eONG3aVM4++2z56aefAjy6ZqUKBK/Ajh07pGXLlvnqsq3fVatWNeup83/5y1+CL4DmqAqoAqpAIVYgp0AXi9+WLVtk8+bNeab9+/fLv//970J8mQvGqfOSP/XUU+Xyyy+Xzz77TL7//nt56623ZPv27TJjxgzp27evnH/++VKhQgWpUaOGfP7556E7sUceecSUOYiC/fWvf5X7778/T12mbqPHl19+GcQhNI80KvDDDz/I4MGDDcRSj6nPH374oTz88MOyePFiU8+7d+8uJ554opQoUUJ4TmlSBVQBVcCPAv/4xz9kz549kffDrl275LvvvvPc9ZVXXsnDRnDSu+++67ltrIW33HKL1K1bV7Zt2xZrs9CtyynQ/fTTTwXrCRa/IkWKmAuyadMm+fOf/yz/+c9/Qid+LhQIV4Jvv/02MkW70eKd63//+18588wz5YQTThCsutHSmjVr5LjjjgsMJqMdJ9nld911lzz99NPJ7p5nP8Doueeekx49epj6XK5cOZk2bZq8+uqr8s9//jPPtvpPMArwQUwddtbpZFsNrrvuOilatKi8/PLLUQvHumOPPda8rKJupCtUAVVAFXApwLOKd8GUKVOM8ad48eJy5ZVXCh/Y7oRRaO/evdKgQQNjTHrsscfk73//u3uzmP/DUBicKlasKLznClLKKdBFeF5Kl112mXnBXH311YEDLn6j+NqlM1FR9+3bF1qYeeqpp2TAgAHm5ipfvrxUqlQpz4QVMtEEHGL9+vjjj6Pu+uCDD0qVKlVigkPUnTO0gq/koC3NWHFLlSolrVq1CjzvTNRnpM/UcZK5zNzPQGn16tWlbNmyeeoydXv8+PEJZ3vkyBG54IILzHlH2/mjjz4yx+TjTZMqoAqoAskqsGLFCvOO4Pm1cuVKz2wA1ZEjR8rs2bM91/tdmOyHv9/807FdzoEuF3P06NGCL+esWbMC1YwvoEsvvTTmyyuIAz7xxBOmmR6rUpgS1tuePXtKixYthBvrq6++yljx6KSDJRfILmzpgQceEKy5+CQ7Oy+lqkOm6nOmjpOMHvPmzTNuMFjKk2nKS+aY7EPrU7169YSmQE2qgCqgCqSiAO5QlStXNtyDzz8udO4EG1111VVy8803u1fl/P85Dbqpfrk4rz5W1uuvv940rWOdSlfCognQtG/f3jSfJnuc3r17mzzIJ9pENAO/CX8g8hkxYkTGO4ChN5bcRx991G9xc2q7dIBupupzUMcBSKPVY7ucVoZE0rXXXiunnXZa4FbyeGX429/+JieddJLMnDkz3qa6XhVQBVSBuAoAut26dRPe+xj5GjduLIcOHcqzH6BLK7eCbh5ZCuY/TouuX9BlH6yoEydONBZbYG7r1q0RXxesL3SQKlmypGke4MV6ySWXCH4uNuFLOXnyZOnXr5+Zv/TSS3aVmdMJ5cYbbzQdifCvJFzWoEGDhBe4tYxSBnpn41/MVxm+mcOHDzfWnzyZ+fgHC2CZMmVMpxf8AN977z159tlnTbMsvb25Gf74xz/6yOnnTWjaRYNMJKy311xzjUyaNMlM+DCiy6pVq4Qm4cKWkgFd6tvcuXOlf//+xs2EjxrrUuGnPrMNHaaAR+qg835Afz/12c9x/F5LOm1Rb2mtOXjwoLG+UqdPP/30SDQDfNX8Juo+/mrOcHV+9010uw8++ECmTp0aqc8nN25iPty49zXKQqJq6vaqgCrgVgDQvfjii817vl27dsZ1s2vXrsJHtU2xQJeWwnXr1snQoUMNl9Bi69zX5vH6668bn2CewTZhzMC9btiwYeb5zL6ET3T314nHSDa/dMzVoitiYrUS2ufuu+82Lx4cuoFEwJTKwcuQGJf43OGzR4c3/qezEA7hCxcuNEBBr+ndu3dL69atjcP2xo0bzb7Lly83HeSAS+ANGCa6AE2XLMM3lcpCE++f/vQnqVWrlumY9dprrxmgSNQnhu2BAqevDp29iFhgQxol4tYBXOK/GMt/NsjKuWTJEmPtAvTxOeIrlC9Voi3Qe72wpURB98UXX5T69evL2LFjTX2mQyZuHx06dDAfVbHqM9oS3xXrAPcDriJDhgwx9wMPMj7K/NbneMdJ5DqeddZZpg449yEMna3P5513XkL++NwL9957rzO7tP3m+mG9HTdunHkB8YHLteEZwwevJlVAFVAFUlHAgi5MAjfw/KdzGv0L7Md8NNDFKIfBgI5mGDAeeugh4WOcViciWZFgkxtuuMG8RzD48W4gwRq4feH7yzbAMYZCntcWlOMxkskozX8KPegSpgkwbd68uXzyySdGbioKvf95Gdre7VxQABVgcLouENIDCy/hsGwCeLFC0nxgLTa33nqrqXhUqCeffNJsyjriwRJeCOsUiQgRRI0455xzknZd4JwAACxqNgG2Fgo4L8DXb6JS45ucyQRs1a5dO+KTS3ndX4iZLI/fY1Ef6AkbZEoEdHmYYQ3no4CPLhIPOsC1WrVqQpgZUrT6TEgz6jMPO5uoTzTx00pAaDOS3/oc7Tg2b79z7iX7cGUfrP48yKnT3KtffPGF36yEc2SfTCaO2aRJE6ObPe4333xjf+pcFVAFVIGkFXCCLpkQYQFW4WOaZzXJC3R5tuMqiSHJsg7bwjD4/MIrliPYH3CmY7R9FluGwYprExx1xRVXREDXLyPZ/dMxL/SgiyWVkYqwyvKbhFWVF6ETNr1e2HypAL/ElaNZ305UGlwPsBJbEz/hOKggTncK9r/wwgtNhbRfTkGALkCIVdQmmmmxHAMFlMm6Stj18ebz5883HdBGjRol8SaalmmiSCVhMUfTN998M5VssrJvkOHF7AkkArrsw/UeM2ZM5COLh1mnTp1Mc7kNfeZVn9mXBxj+0NRhW5+ZN2zY0MCzrb9+63O049hz8ztfv369EKWAxIMXaKc+E38Wl59EEvWTl0C8umzXpxpKh05uuEkQu1KTKqAKqAJBK+AGXfIHPmkR5VmH4cILdO+55x6zDSOQOhN9cnAXO/rooyOtTuyP9dYNuo0aNTLGOqIt8bwn4R+MgSURRnIeP+jfhR50raB8zfCSx8+FgQn4muFLx0Y+8HphY5rni6dPnz6RC2zzc8+pUKVLl84DuuSJpRSwsAASBOg6j427ARUdKKDJAT/dRBMfAl26dJENGzbEnWiKxXqVbAJosN7RhBIr2esSa5tsrAsD6Nrzpk7hbgC0NmvWzNRpG7XCqz7zIMPPlRaFeEMr+63PXsex5UtmTn74oFGfmfAjTjTh2oF7kJ/6zDb2IzTR47A9zYLoGc8fHvcgzk2TKqAKqAKJKuAFuhjuiLKAMQAYfeONN/J0RuN5j+WV9XfccUeeQ7KOfgUYyOi7ZBMuWE7QZTuMhAA12+KSybvBGg0TYSR7jHTMFXRFDPy1bdvW+NDRYcfCZjzQxV2BUFv4o8SzkvoFA3tspzU52QvP1xSDMFgocH610ZxBqDA/ifi1uDukOwHUuJFY3x6v4wEE+ABxXmFMYQBdLLh0KsAnF+slAMXHGx9U8UCXhxp+6LRqxEp+63PQoItbhq3P+MzbhPWfQOZ+Eh0vaHGxvmt+9klmG9xvgNznn38+5u7cl5Qn3jMkZia6UhVQBQqtAl6gixg86y666CLTN4BWPQwfNuoCz2Za6wBUrzCHtArbQSissG7QZTmwSzgzDBBsT3501uc9lAgj2WOkY15oQRc/XJrIAUucrrkw1kfFwmY80MXxm04wTn9I50UCMsiL5BcM7LGDAF061VkowOrsTLZZ2rks2m/8Y2l6dUeSiLZ9osvJn056HTt2NB38Yu2PBY9zSmZQilj5BrUuW6BLXaSnKx0C6DwGYFnXD7+giwZ8nfOFT91hP2fCUm/9y/3W5yBBd+fOnSYiCdef83P6uNLxEyut38SHQCLh9fzma7e77777zD3z9ttv20Wec+4pzofOHJpUAVVAFUhGgWigS15EfcGABIDSd8iCLusAV5bDA+7nPYYnrLdr166NFMkNurg4kD+J/XGzgxV4hwDKiTBS5CBp+JGToMtLg4vHRfFKmNWnT59uOpXhKM3oXoRQsheanv34sgK6fBHxxcI6RlzD2oXfLcu4yPgs8hWDD6O1lnFMmgnoXW07uPkFA0Zpwj8VCzPQglXWNgN4nUu0ZYCghVwqHhXOJixHWJCII+o3EdoLPYK2gmGhxU+Zjw06T+FviXZOiLFl5BzooMb2iXSms/tnYp4O0OWDjI5g1Anqo1di7HGs9NQ33BTQ03aEpP7wVY87DvrGqs+ALK4ufLxhaaT+kfD75mOETg4kv/U52n1jMkngDx+APKSp07gAuYfV7dy5s3mY+82SjwD8fO1D2u9+frYjbBjWZdxw6DRHWW2HDvf+vXr1Mve7szOrexv9XxVQBVSBWArgg8t7MVqHbVwWMQTARc4PfDrW8xx0GkY4Ds9tDCa4PFhjHcvdoMvzk1Y2WMgm4t3DSSznXeOXkez+6ZjnHOjyYublwRjzAwcOzAeJgADWKpp1AUkuNNBHsy5xR5cuXWri1/KiqlGjhvFxYTheLhgver5UMP+zLXCBlatNmzbG0kQPR5rUAUL2BQZsWr16tdkXH0jyIlFWAIRj2Zi8vPCIGQuUYF1jkIp33nnHZuNrTucXQAUooLy4HuDzynL8kMmfdc4Oa34yxt8nyAD7nCvD2logd88BG240rOb4MuMPzTX98ccf/RQ3K9vQTB00POE/xXXkg8VG57AnRysEftFE78DdAN9l9MIfG63wMeVrnVB2fJ3z8OKLnv286jN1kg8gjsdDkQ84LO18YFDvbauH3/oc7b6x5fcz5+MKFyFbP/hIpT7zAMaSQWsM6whHl0ji/uWD1hlFJZH93duiHaECbTndc54PvFB4XvCMwnWIezFTYfvc5dX/VQFVIDcUIFQihhAbK93rrDB+AaBO0OX5TGdznk08k3A3IAGrvG9oKbOJbRkrgHeDtfLyriNildMoQsQGIknBTSS/jGSPk455ToEu1ib8Ny3kAbtYa4FGJpbz8mY5AMmF4+VEczhWLL5siBrACxSfRiIv4LvCNiRCM/FiAoqJKWdf+lxIemgDzFib2IaXKPnzZYSVj8rAQBC86Ij/iesEZSAvygRM2IqxZs0ac2wqGhbnRBOWPSpavCmZvLFWoQvW7T179hjrKyBuJ2Cac46XsMiSByBG5yAgjWaP2267zdxMfJ3i2A5oYZ2kQ1W6XCfilTVb69EUqCMmInWHCVjlYUV9Zs5Dh+V8gFjfZqyIgC/1HejFSguYsg9RQqx1MVp9BiypQ3xk0OsWGKS3LdaCZOpztOP41ZXOYNw38eoz91OiCUsIEM/9xwcD1ldbl+08mpXEfSxeGFgvqM9ozgcmLwSuIbrzEUxHS+5rrgvPiLC2TLjPLaz/U1fpdMmzg3rC/zx36Uzp5zkU9HlRVwi8z8cMz8pMJd5TtARSpzT5U4AWQowIGKaIIUu9KWgJ0CTeP3FvYQ+eM8RNt8ziPB/OD9bhHetMbAujYHTiWYivLcYD5zDC1GvqGOt538AzQDD3GeEoeaahI+90jHe0Qjr1jMVIzrKk63dOgW66RNJ88ypApWcwCl7WABWV3E6AKS8dTapAQVGABzL+vzyg+UilDtv6zJxRATWFTwFepnyM0RmYVgssWgxsw4ua6Dl+P1CCOjMg24ITxgs+cDKRqL+AGi2DAIum+ApYuKNll2vFPe4Es/g56BYFSQEF3YJ0tbSsqoAqoAqoAsb3GfcwfAad1iss6bQAYWXKBOji/05LnG3d49LQMkBLSKZA11aHbFiw7bHjzekvwLUJW8KVj1YyBd2wXZlgy6OgG6yempsqoAqoAqpAGhXA8oarGC5UdFx1Jzq1EnouE6BL507c3JxxvTdv3mx8HjMNum4dwvI/14s+LfTiD1vCtxX/VAXdsF2ZYMujoBusnppbIVcAX2P8lDWpAqpAehTAcolrApFIvJrq6VBDsPt0gy6dCPFLxHqsoBv9WmPxpv9LJn2Wo5cm7xrCADLYgYJuXl1y7T8F3Vy7ono+WVWAF68d5S6rBdGDqwI5rAAWQsI60sFy+fLlecIeYkEkfBwuDcAu7g34XzMRiQSLr030J6ADDVFd8NNmX5rYbbQbYJb9CRXpHOIUSy7+3HTMoRMyET8IUUlHT6dFlw5PdE7Dh5jOil6DgrAPnYQGDBhg8ti6dWueaEG4R5AnUU/oLM3QrsTMdoL866+/bkY1tEPO2/Ojgx5Rhoi2AmjSt8LG17bbuOdENKGD0/bt241LBq4YnD/7J1J+9Ofa0NGbDuD05+AaEL2Hc+E3nZ7Yho60WHzpdMzy/v37myGzuR50Ducc+LhxwjIfPEQHYB3XkA7i6OBM7M/zmGhHnDdRWuiwjn83yQ26XC/qFseibJQ1nl7O4+nvcCqgoBvO66KlKqAKKOgW0AunxS5QCgCHdCQCNOlMRJQDhlkGbNyJkEu20xHRQ5zbAGNEeMECDFABkliKAWhCTRIpg4n/WQ5wkghNSesNsUlZTxQdABH4sqA7fvx4A7iMKtmkSRMD5sCw06eY0fO6detmwj4Shx0gpSkdECQ2KflRZmLDc0yAEFCjAx6/WQbgAZOEFMTn1CYgkPN+9dVXzTHpKEf0EsI/eSU60wGdbIOmhB+kFz/RbwhPyDLC5znjuscqPyBOb3tCT+EHS9hCwiMSVpJzpeMgkSLQncTxOTc+YObMmZOniESTYBh6G2+a8+bjgWtHVBdglLISiYaoAlxjIhLg4kLkJZajkz0PPlJIbtBlGc9wohjwEeSsK3kK5PEP54tlmGs8a9Ys81FBHhoJw0OsDC9S0M2w4Ok4HF+r3NCasq+Agm7q12DLli3Gx9LGdEw9R80hFxWgfowZM8aAITGLCbWHZdU9mAjnTpxyYKd79+55Bs8BvIBBawkEtrp27WrAjNHzbCg+LIAAEyNMWlAF0IBC9yiWgC6hnoBvWxaAj5BMbG/BjmW4PRDizibOiVCBQDUWVTpxYQnFimsTseCvuOKKSDhBYAyoBiYt6LIM4EIPzokENBOdwcZst/m554QWBDaJW247kNlyEOLPxvL2U37ytoPLuK2xlI8QiE4LO5ZyQm5iTbUd/DgX3nE8W0n8D/wDrU5rK9qhOdfZagqU469N50A+Ivg4wC/XDnzjBl3AlOvPh0siCfAmQovTDxmrO24REyZMSCSrtG1LvUXTaCEN0ZX1tn57FYT1zg8d9zbEuI91DPf2mfpfQTdTSqfxOITV4QGqKfsKKOimfg3oxAO42JHdUs9Rc8hlBYAjQh0CZ9QbBprBqgfY2cTLl4D4rKP52iYAEuupfbmzD24MWHAt5LEtMZWJJ81xaN4mxQJdrLLOzmjkD3RieSXOMgkoBeporsc6aSfC2wGAxGTmHiCEGoDpdJ04dOhQBGAt+LlBl/MCmIFEQIwEnMYaVIBteIaRF8e3ifJjPaX8uEOQ/JSf7bxAl+XAKOfJB4W9Vlif0Rmf3ueee84cBw2w1trnAbFbgVws5VxXZ8IizQcP15Ayky9uEFx3LNzuZEGXUbxwMWEQF/JPJAGOfLBgZXcmRlilPlo3Cee6bPzGykx5og1oxEcZ67HAR0t0AO3UqVO01eZeIg/qZJiSgm6YrkaSZVHQTVK4NOymoJu6qAq6qWtY2HIAaPBtJbQY7gyADQPaOBP/A1ZYZQEkOpBh7XNuRz5AlRt0gR+39TYR0CVfrJSALT6jgAAASp6xwIrtGCETyyCuA7gRAI5uq5p7aFbOG1AHkNEDQKHp3jb9O3Vx/7Zg6gRdyg88Jlp+8rb5OS26LMffl3cX7gt04OVcgTGuCRZx9GEZQE3Z+U1ioCOs6/jyUi5nwpWCeMK4JnCurMf3GSuv23+Z/QBdPkoYNp26gXuF/ehx5hvrN53tgDtaopyJQXrwTbYfGc512fitoJsN1fWYgSmgoBuYlClnxGgyfMlrSl4BBd3ktSsMewI8WGW9XFuwWDJgBICBhdQJQvhQ0iwNxDJ6IL6quDI4O1ixfbpAF4uyExQnTpxoAAxf31iJ8+W5wnlhtQZ4gWbn+XuBLnkePnzYuDAAhgAvoyziHxsrWTCNB7p+y2/zc4MuZaCpH9BctWqVgV06lTECJiMI4rLBRwAuDk7rOq4HgDCWRfyYnQmrJJ0DGTIctxM/oMtHBJ3t+IgAdq2LhDPfWL+xdKMtbhHORD3CNzssSUE3LFdCy5GUAgq6ScmmO4VUAQXdkF6YkBQL8KOOROtUZZujvSx+NP/TnI+Vj45nDGvqTJkCXY6JpZZmdqIGOIGcdQA7cAfI2aZmtsGHFF9Q9luyZEmk6F6gCyRayy8f31hKAWVg37pfRDJw/LBgGgt02dxP+dnO5ucFuvhG46rQuXNn4yphO5IR7QAAxqUA31pnebHMYqFFB0DemXCrwL2CDwHO3S/o0omMfOkgR3meeeYZZ7Yxf7O9F9AyoMnYsWNj7pvJlQq6mVRbjxW4Agq6gUuqGWZRAQXdLIpfAA4N6NqIBm4fTYq/adMmA7MLFizIdzY0I2MZBaKAE3frSyKgC2TR7M7zl3xp8gaubNQF6rFN5Ou06LIckAXKsCLiF2mbzLE8E/GADlNALrDntFziawrosRwtSG7Q5Xh02CIigU1YgOlghuXSaQ226+3cgmk80PVTfvK0nfPoCEfimtlyoxc+tFhV6UhG5AoSeWP9Rpv169ebZfbP119/LR07djR+xGvXriDkOz4AACAASURBVLWLzZwPGSz21o0gEdClTGvWrDF1h0gahJbzk3ALYdAQZ6LDHu4MuNOEJSnohuVKaDmSUkBBNynZdKeQKqCgG9ILE5JiASTjxo0zPemxzDp73uP/SpM3ncZsxAR3sTds2GBAl05QFi7tNoAXncbw83RGJ7Cd0QAg20SNDyi+oIAV1k0be5cwXoT6cg5CwHGwqDrzZRk+oVhncUegExoAV7t2bdOpByAEdInW4ARhLNn43uIbSkKPyZMnm3ws+AF4NMfT0c1CLXM6TGEtZX20hG8pZbI+smxHWbGQJ1p+9rWdzgBsLLbE6HV+oBB+C6AF1m0C7HEroSOetWjbdczpgIgllQ8NG7ec641lGAuw/TDgPPEtxnXDGd3B5mWHa+bDCR25/lhhsXzzYeLHv5b80dmZ0B53Bqu9c122fivoZkt5PW4gCijoBiKjZhISBRR0Q3IhQloMgARY4sWN+wGwCfDQsYvmbADNwqjXKWCpA/hsCCq7DdEIiKcLuAKeQCduEAAv0AP84fZASDMbYgsLIBY9jkvveiCaGKxADsDK4ANYVYFeLJTkC4zZCACE/iKcF0BHCCzgDUssVl0SkEePfvJnFDZ8WAFOjoUObIf7BcfimEDxxo0bI8BGviwDxhgEgfi0zlHc7LkzBwrxT2V78kJPrOKE2gLibfnRxUJ2vPKTL8cj/i4wC7za8Gr22HwwUD63dR0I5UOA8/RKRK/APxZ3AyzV6MoHgYVc3D/Yn3JzPnQ4I+QXZQa0AXp7rsRDxrWCuoHvMdcaP2+szFxTADhaevvtt00dIGIE7iJcP1oL6BgZpqSgG6aroWVJWAEF3YQlS9sOPOxsGJy0HSTHM1bQzfELnOXTwxcT6PNjrctyUfXwBUQBPqwYdQ4oPnLkiOCfG7bY9gq6BaQyaTG9FVDQ9dYlG0s1vFjqqivopq6h5uCtAFZLmu6Jt6pJFUiHAlisvcKNpeNYieSpoJuIWrpt6BRQ0A3PJVHQTf1aKOimrqHm8IsCNI3jHkDHIJr1cQXw8vv8ZQ/9pQrEV4CBInCTcUfuYBmdDL/55pv4mWRwCwXdDIqth0peATpEMMSeO0UDXXyb3H5P7n31/2AVUND1ryfxS50dieye0UCXF4tX0He7n85VAS8F8MW0o6bhfxumnvBe5dVlBUMBPpaw3OI3bRO+09Qx64Ntl4dhrqAbhqugZYirwBdffGGGPcRC4UxeoMvXJI76wLGmzCmgoJuY1oxS5QYPL9ClAwk9mQkWr0kVSESBTz75xEQlIFIDAwpoUgWCUABDEi0FRLygk9+ECROMhdeGSAviGEHmoaAbpJqaV1oV4Kail++zzz4bOY4bdLHiMgIO8Qk1ZVYBBd3E9KYe0yOaXt22d7UbdOnc16pVK9OL2W6T2FF0a1VAFVAFCrcCCrqF+/oXqLPHqkuIG0LRrFu3zpTdCbqMnEPMQMLYqDU385cW6yRhbzT5V6BLly6mCZA5weCdoMvwqPi70USo1lz/muqWqoAqoAo4FVDQdaqhv0OvAFZdXvxMxJEkhiABxInfZ5erNTf0l1EL+D8FsOraeks8VIKv8z+xR4lnyW9iUqo1V6tMsgrg382gBzqpBqnWgYL6HFLQTfbpoftlRQFr1bVw4J6rNTcrl0UPmoIC1qrrrsv2f7XmpiCu7iovvPCCGQwB1yKdVINU6gBDMxfEpKBbEK9aIS+z06prYcDO1ZpbyCtHATx9p1XX1mM7V2tuAbygISvy448/Ltu3bzejchHnVCfVIJk6cODAAdm8eXPIare/4ijo+tNJtwqRAtGsumrNDdFF0qIkpEA0q65acxOSUTf2UABfbyCF4Wh1Ug2SrQOvv/66GRbao4qFfpGCbugvkRbQSwEvq65ac72UytwyQsswHKSmxBXwsuqqNTdxHXWP/Aoo6CrcJgu3zv0UdE+QTp065b/B/rdk2LBhpk9F2PyYj4paYl0RegXcVl215mb/kml4sdSugduqq9bc1PTUvX9WQEFXQdcJrMn+VtBV0NVnahYUcFp11ZqbhQvgOqSCrkuQBP91WnXVmpugeLp5VAUUdBV0k4Vb534Kugq6UR8yuiJ9Clirrlpz06dxIjkr6Cailve21qqr1lxvfXRp4goo6CroOoE12d8Kugq6iT99QrIHMRYJVF9QJ4a2JPZoQS0/5c6VFBbQ/f777wtsfWCc+IYNG8pXX31VYM+BWJ2awqOAgq6CbrJw69xPQVdBNzxPtQRLQrgQG8pI5z8PRJFpHRYuXJjgVQvn5mEA3Y8//ljr8/8GVMl0PbbH69y5czgraCEtlYKugq4TWJP9raCroFtgH6GLFi2SIkWKyKZNm3TKggaVKlWSCRMmFNj64yx4GED35ZdfNqC7dOlSrc9ZqM/nnHOONGjQwFkt9HeWFVDQVdBNFm6d+ynoKuhm+VGW/OEBXYbQPXTokE5Z0OC0007LGdD94YcfzDCjydfG1Pe0oMvLXet05u/p8ePHS+PGjVO/kJpDYAr4Bd1vvvlGPv/8c50KoQa40Dmh1uu3gq6CbmAPpUxnpKCbeRhwAlgugW6m667X8RR0s1ufFXS9amV2l/kF3WuvvVbdfrLs9mPdfzI9b9u2jYLuUUfJsmXLot6sJ5ygoBtVnLCvKOyg++qrrwpfqhY+33zzTXnllVci/9vl6Zor6AZ7hxR20H3jjTfy1V/qOPU6XXXYma+CbrD1OYjc/IJuv3795PgTfi3bHl2qUyHSoGvPNlK9xgkKugq6QTxuwpmHH9B9+OGHZdKkSTJkyBAZPny4bNu2Ld9L84knnpDp06fL0KFDzXZTp041w046X4Jh+c1Ln054F154odSsWdP4clI2lhPFAb/Z9evX5zvHdJRfQTfY+8IP6L744osyd+7cSF1dvHixAIjO68vHz/Lly2XUqFGmPgNwW7ZsybONc/ts/2aI17Fjx0qtWrWEstry3H333VKlShVz32YCdhV0g63PQeSWCOh26dFWvvjPQZ0KkQZzbh4rderUVtBV0A3icRPOPPyALi/NF154wbwsS5YsacIfAb/2ZWrnwMGll14qPXr0EKxIdnnY5rzwd+/eLd27d5eKFStGQJdy3nHHHXLZZZfJI488kpHy5xLo4uN35MiRrFZ0P6DLdaYOALLHHXeclCtXTm6++WbP602nNsJ97du3z3N9WOr2wYMHhY/LsmXL5gFdAHjgwIGyevXqjJRfQTer1d/z4Aq6Cu6xPl4UdEXse0NdFzwfIQV/oV/Q5YX+1FNPSZMmTYwfV/v27eW5557L9/K8/vrr87xowwICXuW46qqrjPWWiBNe6zOxLJdAN0xRF3i5x7t+wC7jkxN1BP+r++67L98+27dvF8JlMWpZvPyyvZ7yV65cOav3n4Ju+N4JCroKugq6swy3fPDBB543qIKupyy5szAR0H366aeF8EEMT1q8eHEZPHhwPsvtDTfcYKIIZPul7+f411xzjYJugFW5IIIurgmtWrUSWiqaN2+ez93mgQcekK5du3p+1PmpY5ncBpci3BScrguZPD7HUtAN8IYKKKugQfedL/fImi2zZMqcYXLDvJGy7ZEl8td/PiovvHevmWJBVVjWbdq9UDp2O0NePHxfIG4aQeV330M3yxVX95XRV11qphvmDpe3v9idp4xoffumGTLyyt7y/t/35lmHvmx/1Q2XS+szm8jpZzc118hrO3st1KKrFt2AHjXhzSZR0GWIUpr3GzVqJGXKlJFZs2blsXRFA11cBWbMmCHTpk2THTt25Oscs2vXLlm5cqUBCsoENPHifOaZZ4Tm4yeffNJYlBcsWCD4VOJKwXqaZmfPni3s8/zzz+cpC+vwxcRyu2TJknzrvUAXKzXHY1/yB+6tlZqXuHPCJ9latbEO4sPJtmjCCFfsH29Si26w94b9Mvdr0QV0uV50xOHjDXcWW7e4dtFAl3pBPbzuuutkzZo1+TqAsd7W2w0bNphtX3rpJdPxcd26dYKlGPeetWvXmvvCugKxza233mruE7vM1iHWrVixQq6++mqZOXOmuNd7gS6+x3feeafxSScf6uktt9ySpx7bOj1x4kTj0mO3S6Y+K+gGW5+DyC0o0D389T6ZOGWA1GtYy0DYlr2LZdeBW2XmojFy7vmtpdHJdQyAWYDK1Pzznx6Xz/59IB/wRTv+C+/fK42b1ZXjq/9ann17k+/90p3fm58+IM1bNZSjivxv4KIiR8lFfTvIx0ceiZRx/4tr5Q+Du0npMkfLKac1kkOf74qso3zvfbVXOnc/Sxo2rmPm1X9TVYoULSLdLjzbE4rZR0FXQTeI50yo80gGdB966CHj11q1alVjQeJFal/GbtDl5YzlF4DgBc96mon79+8vdArav3+/gYzSpUsL0NezZ08pVaqU1K5d2wBsjRo1zDGA5DZt2hhrcokSJaRTp07Gx7JFixZm2dFHHy3dunUTjkdZgOa6desaiLjtttukfv36cvrppxtwtWV1gi5AgBYc99hjjxU68bAdoIObBtAC4DP17dvXWAAHDRpkwIVmbfwggSaAmu2xrLGPPVa0uYJusLdHMqA7b948Uy/atWsn1K0rrrgi0jnNC3S5xlw36gvg2bJlS2MN3rNnjwFePoCo49SBESNGmDl1Ggg888wzDVCPHj1aLrroIrNv+fLlhXoO9OIm0bRpU+M7TkdJPgCpO3x4tW7d2vjAc7/hB49/sf0gZBs36PI/dRGAHzNmjMmHiCLcY3yQ0eGS+sy9ha86bkkcJ5X6rKAbbH0OIrcgQBeLYI/e7aXmicfLg0+uzANXwNLz724xkHbz6qvzrYsGiEEtB7jX3Tvb13GBxhETehko9wJdJ1Q6y8dyL5gOMr8la64xlliszEwvfXC/HP7moXznxQfHWec09wRddJh643BjYaf8b36yQ9p1aGXA+PbNM/PlxTYKugq6QTxnQp1HsqDLixWLFh15GAkJ+GWZG3T5n/V//OMfI9DHi5VOM5MnTzbLeBCzDXBwzz33yNatWw1AYH0aMGCAOcaUKVOMBQwrGNESOC4vVcAWSAU+AQusxfwPMBC4Hksw5WL0MaIpOHvOO0GXbTgesOoEXSzRq1atipSd/QF8QMeZN9Eo2J98sLQBKbh4EI2CZdEmBd1gb49kQZfrQx2mHlK3qNssc4Mu9YsBVux6ttm5c6dUr15dzj77bGPhpx7wIcfHG60Jjz/+uIFifNzpFEb+fPhZqzP3IK0jHTp0iFhpseqyHUDKMebPn2/qJTDM/0QNoT5jheV/Jjfosmzjxo1mPwu63C833nhjxOUIqAXwuXfYln24V5Ktzwq6wdbnIHILAnSnzR8lpUqXFOZOAHT+vnPbjbJoxaSo653bBvUbK2jbc1vKkrXX+jruyrtukFET+xjYPaFGlTwW3YOvbTSwvvqe6XnyevLNu6TV6Y3kplX5IT6o/N76bKexwN61Y558+kNs6zSuCx1+f4Yn6OJG4nZ1uOP+OVK2XGkDwF66K+gq6AbxnAl1HqmALkDJSxErGJYj3AycoEvzLX6PAIAzCgMRDbCcYrni5W87ueH/69zOgqcFWPtC9+pERhMygGpf1lhksbZRRixt+Fk615OXG3RZRrMw1i1r0bXHZA604s8JkAPjLLPnSNmxXDNh3QVasDDHi96goBvs7ZEK6HI9sZBiKa1WrZr5KHKCLvVx5MiRZr21tLIPdeyCCy4QLLNYSNmOTm7kw4cS29jJgqcFWJZ7dSLDtYF6z4cX+Vk3HMCU+4x7ABDGMsx68vECXeop+VjQteVgTrnJn49OykM+qdZnBd1g63MQuaUKuq//ZbuxgFY9vrI89tK6PBDoBCesvu71T7x+l4HfBbdOlAMvrxfcDJz7PP7KHXL3zvnGWrrvqZUyf/mV8ujza/Nsg9X0nl0LZPZNYwVfWNwlOBYAem7n1lKseFHpcck5gj8rx3Pm7/zNul5/6GispfjBukGXss1bNkFo7scHmX1xbWjWsoHJH9/kdOUHqB9dqoRxMzixbnVBr2jWZUC4U7czPUHXWT77e8f+pVK5SkVZus77Y0BBV0E3iOdMqPNIBXR5WWIhogkW2AXwAE7gl3W85HnZA8HOQRnwgaQZFmDE+gnoAr3u7ciDF7QbdBnBB2sW1l+2YcLiC8g63SiACqy/wAluBn5AF/j1Al0AnLBjwAV+v/a4WKqx3jrBxa7zM88l0P3iiy/ku+++y2p9TxV0uWb4gXOdacrHAms7o1EHqKPU6b1790bqAPsQZ5p7AMsrwIhF1At0+YCifjnri4VaYjjbOgNgU++puxZkcfMhlnWvXr1MfSfCggVh9vMCXbvMC3QJr1ahQgXjymBdflKtzwq6Wa3+ngdPFXTpIFW+wv9Jkxb1BAuqBahY8w+/e9j48V7Sr6Pc//DNBmB/U7uaDL3iYvng24fklQ+3yuUje5om9fYdW8m4a/rLyc3ryXHVKhkoY9AK8v/oyCMyfNwlMmPhaMHiSrM8vsDPvbPZdHwDfstVKGv2f+CxZYJl1KtcHHPQqAtk855FBra9QJf9cE+48ZZxUqNWVQPWLVo3lG4XtctnJQ06v52PLZfpC0ZL94vbGa2Llygm/Qb93tN1IVHQXX7HFGnY+ER59h1vf2QFXQVdzwdHLi1MFXR5wWLpxP+Vplr8FS3o0hQMzOJHiyXKvsTxE8Tftl69esZSFTToAgZYZnEdoFmZ4xJjNBXQBWCAH5qknVZnOp1hnaYp2rmcY3KeTsC35++c5xLohuG+CAJ0sXTipwu44v4C3NLpkOW4xACHTt9YrifgimUUl4N0gC6uCrhV4HZA/tRrp8WXMlioBTZtHbPL3KALqNepU8d0KnV2nEy1PivohuEuyFuGVEH31g1TBPCiB3+s3vtOwMQye1KTunmiMODWUK58GdN5jW1f+2ibATAsmMAwy/Y+scKALhEFsLBiBQZs9z29yqyn2X7y9EHGJ5jtgfBjKpYT/Fudx3f/XrzyKrl25hADsuQbDXTZD9glokTJo0sY/1Z3hy+2CTo/Z3mxVKM1x0dH5zp+JwK6fHAAz1i73dZ0m6+CroJu3idGDv4XBOjyUsV6y4uzaNGixneWZXQ2w/8P6ysvavvypXm0WbNmcskllxgQDBp0rWsEg1dYa1gqoIvFDR9MIJ7A/JwH+dLkjJ9u27ZtDQQ7/TY59yuvvNJ0trPn7TVX0A32pgoCdLlOXD/cEYixi7uKja4B0BKKzAmT1AU6ndH5EVDk/yAtuq+99pqxutoPQ8qXCugSnQTXGu5LOojaeknrCvdxKvVZQTfY+hxEbqmCLn6oJUoW9w26+Ii2OqOxnNf19EinKKCKaAe/rV8j0uQOQGIxpRne+qVi6a3fqJZxMQA4n3rrbtMBjigJ+ACzHbAN8JKnH9B95Lk1cunALpEIBfFAl45ggCYAjhUav1kLhcyDzs+Zt/2Nxfp3J9WWs89raSzgdjnzRECXDmhEbiAagzMP528FXQXdIJ4zoc4jEdDlgclL0FpJ7QvSzunFjZXJCQH4LLKsY8eOEasu0QgYbQqAZF9g8eTGTUyPdNuEynKAgaZb9scyZY9DJzass06rGgCCpY0Xt7VKYWkl9BOjXp166qnG4swwqURkIC868ritvDRBk491gQDK6SlPBzRnRzZAiHIAQFjx8M+kQxHnSfMyrhms5xxsub3mCrrB3h6Jgi6dHQl553Vt+KjhOjpBl9YLlhElwfpp09yPLzr+6eTDNacOuOst6wg1Rp2zHTFZRj64ITj9ba07A/kAurgHYTHGtYZ6f/HFF5v6RvQRXC3Ih/oJvDrdGewy6wJB2bg/yQs/X2f95Flw7733plSfFXSDrc9B5JYq6OISgNUUAAVEnZDk9RtfWCIadOnRJgKwbEcEgbPatzDwCMgBuoTIcoKu9QcGzgBdoJSmd/yDixYratwnNm6fG7FOxgNdoBD3CfxsCbtlJ4C7TNlSxmJLLGBr7eT8KCMxdikL7gREmsBHmHMIOj8v/eyyq6ddLk1PqW8iJ9hltgx+fHSNT3L/TsbNw7m/+7eCroJuEM+ZUOfhF3R5uWIhpfmeWLrAIk25vGCdE02rTv9D1gG7wAFNrzQDYymzkMtDGOsX+TLxm17qvIABYqxYNCHjawsQENrJDlhx/vnnm5c72+FPWaxYMTnvvPMMFBMbFR9JJgCC8vKbpmcAhv+JBcw+LMM6S+c18rbLKCPQQHgmykEZ7AT8AP0AL2UFdtmXMGe4a+A64XZlcOpkfyvoBnt7+AVdPoYAPa4VH11EAuGjxl4XO+ejjnpvLbosp2MYoMmHFB0tsY5yH3E/cM1xcyEyA/WI+m5bM8iLusZy6iv1lnqH2wt1jPuDVgE+6rhHqPe0kvChdv/99xs/dj7C+JgiT+og9RJfdIYoJuSYras33XSTiUBCKDG7jOPxMQpoM9FZ0tZnzoEyc4+lUp8VdIOtz0HkliroAqREHcAXls5gblBy/o+1FV9QfFwZsMBpScTflni7xHjFbcEP6Nq8X/94h0y49jKpWKmCKcfa/3UW8wO6uCxYwLVzL9AFbLGgntfltAhcAts0+9eqc7zx7wV0g8zPnp/XfNn660x5CCfmXO/Hosu5DBzeQ4i769zX67eCroJuEM+ZUOfhF3Tti1/necE+VT1yCXT5GCIiQDaTX9BN9brp/t73gYJuNmu/97FTBV3gCPcFQlQBqu7oAxaeiIZAUzlgRvgrevo7Y+4al4bTG0n/Id2MZdQP6NIBDQuuPQY+vERFGDCsh7HC4tuLtTmR+L3RXBc4L/yIgWp7POaA5YqNN+SLBmG3CTo/8iVPBufAomyPY+fxQJcOeUPGXGSiU9h9mHNe7tBjLFfQVdD1fnLk0FIFXe8XdqZAJtdAF6toNpOCbnbrs4JuNmu/97GDAF3g6vrZQ3+G3c6tTacx29xPhyfCY2H55DfwRDxXIigwIpe16jKYAZEVbAgyBjMgkgO+vDaU1s8d1OqYDlRYUwk1BlwzIAX5AsentW1qIiPwP+BbqcoxJkIBvrQ2WgProk3RwDTa9vGWp5of54S2WKetpnc/MN+cE+vcx7eWcePW4IqCAeTS+QyfZEKl2YkhgYke4eV6oqCroOv95MihpQq62QUDBd1gbyYF3ezWZwXdYOtzELkFAbrAFhAGwP7+grbGZxa/2aan/Oz7isUTGHZCGdsyghcdyXAZ6DPg/EhTOgA3aepA44ZAPgwjTEzdsZP7GZgmxi3WVZreAToAmXBbfS/vakKMEd6LY+Eq0fuyzvKrShVk4IiexprsLIPX71TB1J1nqvkB8XQ8I7IF54lmRJ3wCpXGtkDrr4+raMKQjbyyjwm7ZrXAL5ohf4866n/DCP9vzjJGhLMg7TwHBV0F3SCeM6HOQ0E3u2CgoBvs7aGgm936rKAbbH0OIregQNcJR/o7usU4GW1wKSDGL64YXoCbTJ5+91HQVdAN4jkT6jwUdLMLBgq6wd4eCrrZrc8KusHW5yByU9ANFkr9AmRB2U5BV0E3iOdMqPMAdIl2QAxNnTKvAT33GWAjFxKd0cLio8uoeVqfM1+fiUZB9AhN4VFAQVdBNxZ0K+gq6IbnaZWmkhBn1u3Po//n9W9Ktx5z5sxJ09XNbLbvvvuufP7555k9qOtolCHd10vzj31/MEiMpvAooKCroKugO8u8Fz744APPG9O2BC5btsxzPQsJRUnc8mhp2LBh5hj/+c9/om2SleVHZeWoITvof//7X3nvvffk7bffLpATo5XVrFmzQJbdav7DDz+ErFYU7OL89a9/LbD1gaGHAWli9dr6UdDmX3/9dcGuQDlW+kRA96xzWpgOXnTy0qlwaMCQyjVr1ZRvv/025sRw9sT9LoiJuPo8VxV0C+LV0zKbQRsIqq9JFcgFBaZPn24eyH/5y19y4XT0HEKggF/QHTp0qKl72mIRu8UiF/U5uXHjmJALBCvoqkU3BI+zwlkERidT0C2c1z4Xz1pBNxevanbPyS/o4nbEcNaFcWJUy+rVqxfKc+d6v/XWWwq6Rx0l6rqQ3WeVHj2KAgq6UYTRxQVSAQXdAnnZQl1ov6Abr+k6l9cT/QaDSS6fY6rnphZdteiG+kGXy4VT0A3P1d21a5e8+uqr4SlQASyJF+g+9dRTsmXLFtm8ebOZv/POO77O7LnnnsuzHy+qbKdnn31WTm7cxEQaUd/0zFwNBd3YvqcAoIJufI1ige69995r7mkiCKVrws/2X//6V1I3jfroJiWb7hQWBRR0w3IlRMIQXiw8aiRXEi/Q/fTTT2Xt2rVy3HHHSZEiRaRbt27y/fffxzzAxx9/LM2aNTPbA5aEWvvyyy9j7pOJlY8//rjpvXz55Zcn/dLKRDlz6RgKuvEhTkE3vkaxQLdOnVrGv7tN+1aSjul3jWqb/F977bWkbk0F3aRk053CooCCbliuhIJuEFfCC3TJ95///Kecf/755mFfoUIF40sY63i33367HH300VK0aFG58sorJUwhb8JUllga5so6Bd34EKegG1+jWKBb73d1ZcbC0XmGgI4V0izRdS9/uFVBN8kHkoYXS1K4MO2moBueq6EW3dSvRTTQ/emnn6RPnz7StGlTKVasmPTv31+iNf3//e9/ly5duhgXAbadOnVqqEA3dZU0h0QUUNCND3GtW7dWH90Uwosp6IpoHN1Enkq6bUIKKOgmJFdaN1bQTV3eWKDbt29fmTZtmmn6r1q1qjzzzDOeB9y+fbsJbD5kyBADxQq6njIVmoUKut6giw87IdUqVapkrIWEDStbtqx07dpV6G/wzTffaOc0B/yqRVc7oxWah2bYTlRBNzxXREE39WsRD3TvvvtuGTRokAHYcePGCZZeZ/rHP/4hl156qaxYscK4LHhZdHEdeOKJJ2TixIlm2xEjRsjWrVvzWIjpoLN+/Xq57bbbjNvExo0bBb/aa6650zyGGwAAIABJREFURt58803nIeX9998XfOAOHjwoDNbB74EDB5pQPViXnelvf/ub3HrrrSZf68LA/Mknn5Trr79e6GiHf/HMmTPNed5///35zhFLNuXFJWP48OEyf/580bjDTpXz/lbQzQu6f/7zn6V9+/YGbhs1aiRLliyRPXv2yEMPPSR33HGHdOjQwayrX7++Gbgl1WgFubK/gq6Cbt4nSwD/0QGFF4dOsTVo0qSJsXCpTrF1Qh9eeH577CdThZ9//vmoI88kk19h3Cce6BJ94bHHHjNWqBNPPFHeeOONPDLR2eucc86RDz/8MCroEiuS0QSBZgARYCxTpozceOONxsXhgQceEJpy6fh2wQUXyMiRIwW/YHx+WVajRg1Tl3iBA5nVqlWTEiVKmP1btWpltgWw8Q/GhYL4rMAsUSMYyZDlWKeBdMo5evRoKVeunFSuXFmWLl0qZ555ppn4n+XsZ9N3331ngBt/5U8++cTk3b17d3N8yogmjzzyiN1c5yLmWjHSXq4AVyrnAeQSM7devXqyf/9+YWRQr8RohFh2qVPJaMfHIB+FHC+V8oZp32RA9/OfHpdNuxfKVTdcLldc3VdGX3WpmY+d3E8mTR0oi1ZMkidevyuub2+iPrp8DPNBzTUmaWc0r1oegmVPP/206cXOS02n6BpY0FWNomtktcHiumPHjhDUbi1CNAX8gC5W2x49ekjx4sVlxowZEf/bf//73zJq1CiZPXu2gUgA1m3RJfICENu8eXMDipSDnsyM4w480umN9Oijj8qxxx5rwHH16tUmQgJQTMQHQLVjx47mBQ7AXnfddQY0sZJhKWYZQehr1aplli9YsCByuljOgAcLuqwgZBBQUapUKdOUzEc+ibpavnx545vMuZGwMrM/FmabeJlVrFhR+vXrl8cqbdcX9rladH+26H700UcGcrHU2joWq278+OOPcuGFF5r6Rr32A50ALi0fuEA8+OCDvvbxk28YtkkGdG2ns52PLZdKlY+Rer+rJdseXSovvH+v7Dl4mwwc0VPKV/g/uXRgF3nnyz1Rgdcv6AK4y5cvN4N/MJy6TQq6VomQzQFdLBNhqOBhKAMPJq9yYP3BiuO1Lto+XtsWhmUvvvii7Ny5M2Q1XYvjVMAP6LI9TfdYOxs3bmysoix75ZVXpF27dsa1ANj0Al1eBIsWLZKFCxdGoBAQAnSxBHMfkPD/rVKlivTq1SuP68BLL71ktiXUGTFxSfPmzTPW3g0bNpj/7R+ahLH0AsBYYkkcC59IJ+hi2cXdAgsuLgw20fqA5fm8884z4dQ4J9wsOG/nBxtWM4L901EP1wlNeRVQ0P0ZdPkopO55QS5RSvBpdydgF/e4Tp06eb5j7HvDAi71HV9f7i+7LlfmqYDui4fvk9/WryHNWzWUtz7bGQHaz/59QCZOGSAlShY3cyzAFo6d83ig6wRc9Oea2Y9jrqmCrrtmh+R/Bd28flW8ALFUuTsIRANdfAtpgs2Vh0wQ56GgG5KbO0Yx/ILuV199JWeffbaULFnSWDCAQDqdEawdcIwGuvbQWG5xXbj44osNdAKZ5Ec9I1nQJdKD0w+Y+L34MAKb9qPJgq7Tykoe1DeAmFYXC6C40HAsN+hijXWDLr6/AKwFcM6J5mDOGTCx6fDhw1K3bl3j7oAPsKa8Cijofiv4ivPRhB+4V7rllluM9dZrHb67wBMfku7nsBtw2Y667N4uF/5PBXRf+XCr1G9UKx/oArO7H79VflWpgpzWtqm899XehEDXDbjoj2sV7lLOpKDrVCNEvxV084IuDwqaVi+66CLzRW4fHG7Q5UVHBxWC5buh2O5TWOcKuiG6waMUxS/osjsuBfjNEgOUawsQ8twgxQJdLLFYPOjMxgvBWkT9gK61vuJSsHv3bnOsaKBrQZV7EX9aUiqgy/4AOC8yngVff/21yXPv3r0GqPHv1ZRfAQXdb2XTpk3GjSdap8VYoIsfLz69NIXbd4cX4AJZuAR98cUXke3s9rkwTxfo3rNrgZQrX0banttSDn/zkC/Q9QJc9Mf9iWga7qSg61YkJP8r6OYHXTraUJnpTMBQszw8nKDLi5X/2YZOO7nwcAnyHNINurxQ33333ZDcQQWzGImALtEJaK4vXbq08Zkl0oEdIjMa6NrOOJdccknEHzcW6Pbu3TuPRZfmQPwWcXWwwz1HA13rekBnMev7myroclWxJGPpJV86ytGsDPQ7myoL5tVPT6kVdL+VyZMnGwiNpnAs0GWf8ePHy1lnnWXcgvDBtS4KvGucE1EbsADn4kSLDa2q+Cu7p5q1asYcMCKaRfelD+6XNu1PkbLlSsuy9dd5Qi5WX+u6wDvM+uA6dbe/sdi7y8b/dIplmw8++MCzCrz88stmPR11oyWeeTxroiWNoxtNmRjLFXTzgy7QhyWHCkvnE/z0LOjS4YqKyDq15nprl27Q1fBiMW5on6tigS5uBFimnGnOnDmmUxodtPbt2xdZBejixkBntClTpkQ6rBEfFGssrR7WJeGtt94yzbpYdLGSsq91XaDTG9YTmyxcO0EZ0OXFD2w6E65D+EQ6l6cKuligL7vsMtNZznks/R1dAQXdb41vN77iNq1cudJ0WKpevbqZc/9gDbT/M+fD0Sb8e3F9wG3GQpXOf4F87v9YI6NZ0AVoW5/ZRM7rerq0OqOx6YhGJ7Ula66RaP65TtDlGqSiu4KurdEhmSvoesOatepS2Ql1ZCs9Tbj2t1pzvbVT0A3JzR2jGNFAF99YrAn4njsTkIp1s3PnzpEOX6wHYgFCIiQAtcArCYBlsAk6ms2dO9eE8wJm+XDEJeCqq64ywGxBl2XAKQmLKRadBg0aGFcJs/B/ndEAaqwmRHUgffbZZ6a8ALF1MWA50RiACsKWWQssIG3LwAerTdYizMes9b3l/NkfSy6/saARfgzIj9YsbfMrrHMF3W9Nx0xcfGzig416baexY8cadx77P3Nn6D4swuyPmwyWXfuucc8Jt0dYq1ycaP4nqsu6devyTSecUM0X6DZr2SDSGY1OaQAundSIvDBt/ij59IcDnlZda9ElGgwuJHyUuLXnWTdp0iRZu3Zt1Ml2irX1wM7VomuVyPBcQdcb1pxWXXdF53+15kbXTUE3wzdxEodzgy6ASssFg0TQAQxfQbax8ZBZT3Od09JLuC1eBnbEJzqEYd3l5Q1cLl682Pi0Ev+WGLa4LtA5jBYRmnDZxoIucXF79uxpXCOI6IArg3VZsKeHRRdLFx3biJAAdLdp08ZYkp0DRhBaDKsaLyRAG0szMEEnOjqiAcuELbvvvvtMSEUiPmAp4rzHjBkj7733nonaULt27TwfufY5QCxg8nRaoG0ZC/NcQfdbU6/5QDpy5IhnVYjnukC9pn5bV7JowEvdz9W+Ieny0d37xAqpUvVXUrFSBRN6zBltwf62oEsoRBKdW72Al2cenVMTTQq6iSoW0PYKutGBzWnVtS85O1drbnTdFHQDujnTmI0bdNN4qJhZW9B1R13w2imaj67Xtqku40XHiG7UZQAO9wggf9WqVQbmT27cRAiBpukXBRR0vxVi6PIhtGbNml+EcfyKBboMHsH7BbcfC7p27gW8RAax63Npni7QPfz1PjnrnOZStFhRmb/8ypgWXQu69tJ5AS/9FqJ90Nj93HMFXbciGfpfQTc6sPHwsL66FnCZqzU3tmYKuhm6eVM4jIJudPGI3ID7BnDrlbDkYqF2W5y9ti1MyxR0f34u0irCh5B143HWgVigS53CXSeWpdYNvHx85RLkci7pAt03P9khJzevJ2XKlpI7t92YEOjaa+gGXuJyJ5IUdBNRK8BtFXRjQ5uXVVetubE1SzfoMsAJPqOaklcgLKDL88drwAivM2PoYFwX7rzzTq/VgS0jf0acwj2B0eGcCZ9k1rPORp5wri/MvzMJumEepIewU1h16WTmhl3K7RUxhnjNGFGY+wFXC7x0+GRIdD/7FJRtUgHd597ZLL+pXS1fHF3CiY2a2McMGNG1ZxvBumvdFZxzt+tCtPvZCbwMjOM3Kej6VSrg7RR0Y0MbDwenVVetufH1SjfoBnwLFMrswgK6NjoDkRicfrbuiwJg0pGH4YjprOIGCPf2qfyPjy7xf/HlxZ+Y+5/g/IQ7I34pfsjOjm+pHCuX9k036AKJuATQSQs/btwEwgpvgCiwO2DAgJgfRMTOpbMjkEtkk0TPh+Mw0hqd3hLdN6zbJwO6RFLYtHuhXNKvo4HZUqVLyu9Oqm1i5rbv2MoMCdy4WV2ZPH1QIEMA2/sW4OV5QGgxP0lB149KadhGQTc+uDmtumrNja+Xgm4abtSAs8w26NIRjTBxgACREIiOQI9z2/nNeboADhBAZAW2paMagzZE69ns3DfZ31hrcV1gsAs6q/Xv39+UgZewJm8FEgVdRt1LBLaoB3wY0VGSCBlhBl3OCwilZYCOS9dee62JrQrYkvhQIk4rrgrJQq5Tu1waPCIZ0HVaZVP57dei674D/LbuKOi6lcvQ/wq68cGNBwpWHbXm+tNKQTdDN28Kh8k26KZQdN01pAokArp80Nxwww3Giu8Etni/8Z/GmlsQQJdzoWf+zJkzTWxcgJZIIHYQCNwOCF/H8zLeeRem9QURdP3ekgq6fpUKeDs/oHvo0CEzJC5Wl8I6Mewp8Q0L6/lz3gyL/NRTT8V9KCvoBnyTpiE7Bd00iFrIs/QLurioYOEknBy/E4E4rLqEjisooGvPjfMktnP9+vVNfGks00C7Xa/zX4woCro6Mlrgj1I/oGsd5Xv9oaPoVHg1wCLByD3xHsrpBl16u2vQ/tQeBQq6qemne+dXwA26+DozoMFNN91kBtoA9BgxisFC8F9t2LCh6dS3YcMGYUhU4hxj5V2yZEnE5/TBBx808ZwZQIT7Phro4gpAkP8FCxYYtxZgKd5zKhvrMZYw8Eo2jl1Qjqmgq6Cb/+mS4hK/oHvMseU9eymm4g+j+x4sUJr+rlGdUICuDgGc4k0vYuCBD5fC+sHACHCMdkYnOD7egu7cRucgBp8gb0Z4KgzJCbp87OJPbQfloEWIgRBoyr/33nuNZROr7M6dO4UoBXTmqVu3ronAQZ8IC2VYPRkJD1gGZr1A98MPPzRaX3311SYiBtszeAnPCZtPWOYKur9YbqNdk1igW/vEmlKmXCkZOKJnWqaO3c4wPtPuOLpB3b/quhCUkgnmo6BbsGAzmx8HCroJ3lwh3rwwW3RtR7gOHTqYyArXXXddoKBLxxQ6GWGNxD+TkGgAW64nJ+guXLjQ+NLaaACvvPKKMMABTfjvv/++tGjRwgCs03UBSy6jijG0qoUgQmcR7YKQXCzzAt1p06aZwT0AYbYBJrCa0qcCq7LNKwxzBd3UQHfBwgXS+fxOcn6XzmmZyLtX70sSHgjC772toOtXqYC3U9BV0PULzwq6Ad98Wcwuk6CL1fjJJ5/M4tl6H/ruu+82Y9kHDbrE2S1durQZIhgrJkANXOd6coIuLgtEHMCvn3cMEIo1F9iMBrp0UGO0KXxwLSAToxSQtZDqBl3ybN26tRkOmvBzTFjSu3fvbqJ0YJmz+4ZhrqCbGugW9HtIQTdLVzBsoPvZvw/IR0ceydOk77XML5zpdomBPPEIP/zu4Tz6Ww0VdLN0k6bhsJkCXVwC5s6dK4kEVU/D6XpmSRM6vqJBgy6jJQE0hS05QZfQX0OHDjUfEqVKlTJWWTuwQTTQBUQZFASr7j333CO4JBBKDrcGC6lu0MVvF+stvrl2mzDPFXQVdHEZwyc9WiJ2NyMzRkvDhg0z7hVBu1tFO57f5Uf53TAb2yULun969U65duYQueLqvjL6qks9p3nLJkSFJgtPdv7aR9vkmhmDpU69GnL97KEGtLyW2e11nhjAxtMLuF1+xxQ55bRGpsMhHxfufRR0s3GHpueYmQLdffv2SbVq1WTevHnpOZEUcsV/FKtj0KCL28KIESNSKFniuzKCG03/N998c1qnt99+O2rhnKBrYZMOYvjMElKrcePGpkNZLNDFAot+hHMEdgcPHixffvllBGLdoIs/J6BLrGPndhz/888/Fxur97PPPpO69epL2XLlpFKlylmbSpUqLSWPLpW143Pu5ctXkJo1awnX0l6nMM1j+ehGrXwFZIVadLN0oZIFXSDo0Oe75LSzmkj5Cv8nS9ZeK/tfXGumXQduNeB7WtumwvjSbmDy+p/tAONy5cvIdbOGmH28lnntm+iy5Y/eKbk2LfvjHbL04TuSPq+59y+TP0weKuWOLS+ntD89kpdT27CA7tatW03sySzdMjlx2GigixUNq9r27dvln//8p+ncM2jQIAOqQIM7AR6LFy82Az8MHz5cuDY//PCDaaonID6dgogdSpM0zdj0nmdkM5r0+f/KK680ljs6JTF4BMuAFgaIwH/TAhzLyB9Isgm/TfJjP5qsd+/enc9FALeJ+fPnm3KxLx2W+J/BJtygSwc1rM+UjcEpiA7w5ptv2sP5mlNezpem+0wm3DCwFNWp95u0TeTfp0/vqKflBN1NmzbJs88+a0CK68g1x1JLOZ2ga0HUghYuDnx4sO2pp55qtrfrmLtBF9/njh07mu3p9Ge3ZTl1/I033jDLcIug/L2HjJfrF68t1NOIa240Whw8eDCil9UtDHMFXbXoRn3IJLsiFdDF6seQe8dULCfbHl2aB2g/PvKI3DB3uGCVdcJSrN8PP3O7VKn6qwjosq3Xslh5+FmXa5DL+Yyaf5UMnj42adAlj1mbb5FqtU8IPegmW9d1v18UcIMuHagAU6xjDH07adIkM+wtsMFIVCzDugbE2nTgwAHp1q2bgRHiKzMUKa4ANK0BkgyPSRMdTdfETaVjEJY14AYrH8ux2tmEKwFB9ImEwAvXJmCVONZYB0k02a1atUpatmxpgBx/TmCbEagYqpf8gXSObc+HwPz4ylI+IOrhhx/OB7rkTU/9kxs3MaOiJdI0CEgB6QxPC1Cdd955prl+xYoV9jTSOscv+FeVjvH9rPXznHRvw7O+V+9eUc/DCbpY8LFqY1XlWvIRQjgx4Aq3BiIuNGrUSLZt22aupROwiMJw4oknmusLFDvXca3btGlj/HIJVcY66hDXFOs8vrmMZsc2fCzZDmoWdO948EV58qOfCvX0wPN/UdCNWovTu0ItuunVN2ruqYJur/6dPEGXhyS+tl5N4O4HqP3/0efXynHVKuUBXa9ldvtk57kGunO3LpP6LRpJv6uHpAS6c+5dKsfXqaGgG/VuyZ0VbtC1Z4Ylsnjx4nL66adHOpABmlhkgQ9glQTE0mnooYcesruapmN8EMuVK2cAlBVACB2z3K4LAA7bASUWKLH8Abm1a9fOY0kFSkePHh2BbAC7evXqpne+PTh5EIeVCAcMJfzTTz+ZVWvWrDHN5kAx/pzPPPOMsMzLosuQv127dpVUQgsB13wUHDlyxBYtI/OwgS4fHnxkAJz46uK3jJXXQustt9xiBk7gQ8o9CA31AEimjtrtmVPnsAzzQXPsscdGPp6AWepZ8+bNzcdTzZo1jaXfOSyugu4vcK+gm5Fb0vMgCrqesqR/YTpA99m3N8m+p1cZ68KTb94l0xeMNn63dz8w3yx76q27I8vue+jmiBXCC2rdy9geH17cG6bNHyXkD/C+9MH9MvumsTJlzjDZ9siSSJ5eMAzozrl3mVx2zTC5aNQfZNxN10Wa6i0E37JvnYxdfK1cPKa/DLh2uNC0b9cxZ/3IeVfJdWtulMV7bpchM8ZJ30mD823H+uFzrjT5T1o+TXqNu0wmr5yVJy/yW7x7tQybNV4uGtlXhs4cZ/53Hu+mvWtl5NxJZv3lU0bJgh0rTR5T18+TRq2aSNFiRaR5u1bSY2gvmbJ+XiT/mZtuln5XDTbnMXHZNMHFwZnvvG23ysDrR5r15H/8idUVdNN/22X9CNFAF4smllZcAmwiYgAhnnBDeOGFF8ximqCrVKliOgtdfvnlYiesdljX7P7RQBfLLvCJVQ/LHIlmf2Kv4s9pO68BrFiXcaUgURZcFeiwQcgqZwJkWQ5g4dZAAq4AbSzKFqjtPtZ1gbBXNHszUpfTNcJul8gcqzejX2U6hQ10nYCa6G8svljm3QCcaD7O7RV0FXQzfU96HU9B10uVDCwLGnRxWQBEb7tzagQ2H3pmtVQ9vrJg/bUW3p2PLZdKVY6RwaMvFHr6A6RuqPVa9v7f9xp3iWLFi8qMhaMjx2DbWYuvkB6928vhr/flWe6GXcCuyZmnGADFClqh0rFyetezI3A57c6FctLpzaTrwAsNBLfpfq4cW6WSAJhA4vibrpe6TRpI0WJFpXP/niavE+r8RkqWLim/bdJA5m5dbtwA2K/k0SWkQcuTpWPfblKjbk0p/6tjjB/s2MXXRYBz8qpZ0vLc0+XSKy+XvhMHyXG/qSq1T/qtTL9rsdnm+nVzzTEuGdtfrlg0Weo0rmfyAmhn3LXYwHqpsqXNMSgbxwdoObfTupwtg6ddIZ36dpMyFcrKORd3EqCZ8wDkOQ4wD6hjFS5WoriCbgbuu2wfIhroWjC1oEo5gU0scoAtzwuAccqUKQYo44Ghzc9t0SUPyoArwcaNG40c+/fvN7CJRY6m7b/97W/Gggz00AROwveS+KhsY2HWrBAxLgvsB2jTCY60efNmcwyO5U6ALscnP/YBhlMNAwa840+cSkLv//73vwllkUuge//99wuuJu7OZU5wTfR3tkD3kXe+lYMf/jtUrhJq0U3o1gp0YwXdQOX0n1kQoFu8RDFp3KyutD6ziTQ9pcHPndPWXBOBTayt9RrWygO6z7+7RWrXqZ4w6AKtRHyoeeLx0mfA+fLXfz5qjsN8wLAesmXv4shx3YDL/3ufWCFAKdZVYA9rbOMzWsgxlSsKQIlltelZLeW0TmfJkofWR7Zp1ral2WbSrTPMMqyvJUsfbbadec9NZlm3wRdL6XKljaWXvGdvWSLValeXyscfZwCVZROX3mBAt/3FnQ2MYplt1qaljFk42eTBNliQi5csIe0vOV+wuGKxxVLLOiaswqzvPX6A+Z99y5Qrayy3dhuO0/iM5oJbA8s4F2Ca8uHPO33jIgPL5GX3wdIM9Ie9MxodpoAgTckrkCroTpw40TQh45cZK0UDXfbBF5OIDFiLaX7GjQFApdMZvrq4EjD8OJ3HbML6i8W0atWqZmAAu5w5frmdO3c20Lp3716zKh7o4tdJZzua0IFdLNrJJgAV6zGd+VJJ5EMTPeG4/KZEQfe9r/bKjv1LI0YGr2ele1kiPrqJgigfHbg58FGDnzPuKrHyoO7gU85zINZ2dl0qoPvga3+T5Vse9Q2sgO3K7X+SDt37yG8bnCz3PfluXNB99J3vZdrSO6X/6Guk74hJ0m/kVTLy2rlyzYJVMnDcFPP/qOvmyd5XP8+X17q9zwsdzNhnwNjrZfZtm/Nt4/RLVtD1e1cFv52CbvCa+soxCNB1d0bbsPVGWbNlVgQ4gwZdrMIjJvQyVmLrIvHYS+vk4n4dhAe4+wFt/8dyPPLKPlK7wW8NQFrAW7Rrlcy4+2frKW4M/1ehXAQi7TaDpo421lkso1hLr1h0jZQpX1YunTgoAopYRcuUKxOx/AKptRrUMcBpoZkOX1VrnSCtzjvDuDNwvIpVKslZ3c6Rc3t3MROW4JNaN5HO/XsYdwWsyVhfbVnIC1C9+cGfLbNu0KV8nf/QQ477zQnSvtf5kXxbdTjTQDOuFD2G9TbgjmuFzbeg+OgCI9RbTckrkAroclRGvsLFgKgJgJkz4UtpB4iIBbqAKUPD4m6A3yy+nEQ+AHKATjp34abAy8Em/Dfbtm1rgHLLli12sZmzL53A8PE9dOiQWeYHdOnlTycp/H6xFOPHm0yihz8d0SxkJ5OH3YdOV1jQ+/btG3HtsOu85omC7up7pkvTU+rLi4fvi/q8tM9NO08n6HL9+bjh2nF/W0CNNb/++uvN9Vq6dGlc4E0FdGcuv1vqNz5Ftj7955gAaWFy/7v/MGDcpNWZUr1WHV+ga/clIsTRpcpIw6YtBSBl+eYDh6TlmedKsWLF5YL+IwUottvbOWVr2KyVTL3ljnzr7DZ2rqDrdQdlZpmCbmZ0zneUdIAukRYef+WOyAM0aNDlwfvIc2sM6A4adYF8+sMBE+GB8GSsA2hZXq5CWROujJBl1X9TVQh71qVHm3yga0GPOeBarHixPNZRlk9aPt1YYluc09oAKuDpBt3hsycYyyquEewD6ALVWFYt6LphEncIQPba2+dEgNNZHvxrcTlwujo41/PbDbqEGcN6iyXYuik492E9FupK1apE3CNY7y4by+xLjnlYwosp6Oa7jRNekCroArL47AKkdMCyTf508sKn1sIeoImVc8aMGaaMwK3TVxa3BdwH8KslNBkJ6267du3k6KOPNhY+IkI4E4MDANl9+vQxVly7Dks/Pr/4ydry+AVdygRs0UEO9wdAM9FkQ3zhfxxE2rVrlwFndCDUGbpES4mALjGzO3U703y4L1oxKc897rzf3b/TCboALe4pnGMsuHWu++abb0znQT4u+ECJBbzJgi6uB2d16CYlSh4tV829LS5EWpjEqtuz37CEQfe2rQekfIVfSbsuF8qfPvgxcryl9zws5cpXMDF4x02/KZ91mXJ27NlXVmx7PLKPLYt7rqAb7S5K/3IF3fRr7HmEdICu+wGZDtAFbvsP6WYAls5nF156ntAJzh77nl0LIp3W6LiG/y7WC3x4cVNwgyV+rXTcooMaoNtlwAV5wJPtadY/q1t7Y9ENCnQH3TDGuBNcdu3wPMcDMhfvWm3cGPDzvfiK/nnWA864WrCdF+i27nSWcZnA35ht7MR+C3euMu4a5StWEPyD7ToFXc9bJCcXRgPd1atXG4jEB9cCKdCIdbVixYry2GOPGT1Yhk8rwEmUATqhEc8UixzhxQBaElFkOJQ6AAAgAElEQVQZgGFcA2677TbTrG/XsZ6IDgwkQLQFrLU2Ac/sR8gxd6K5mrBmQClwg0WZ8sycOdN0cHvrrbciu/BRBCgSZ9eej10JHLJu/PjxZh2h09iOqBP42TrLY/eJNQdGgf8g04QJEwzsAnNEG2BACGeIN3usRED3gceWycnN6xkXs7POaS70e7DPzVjzdIOuE2L9/uaDhPB36BMLeJMF3Vvv3S/1TmpmILPF6efIvte/iguSgCWge+FloxIGXUC1wrGV5NxuvfKA7rLNj8jJp5whVarVkGMqVpaF6x/IUw6svJ0v6i8rtx/Ms9wNufyvoGvvmszPFXQzr7k5YiZA9/W/bJeTmtSV7he3i3RGw88WK+vAET0jfmJ+OqM5H8RYaCtXqWia4EZe2TuSt3Mb928iNdCJrG3PcyNN/0RQuGDEpXLt7bPNBAjXa9pAFj7wc2QDQBCLKqBLx66f/w/Gogtoki8d1ZxQCsRSJiIlAKSsp+OZhdIRN040UM7/dFDDR5eObHb9xaP/YIAdMMcP2S7Hgsy+dI4D6HsO7xNZZ0HXWq3Zx6mfWnSzdJOm4bBu0AUWgUJCNBUpUsRYWLGcEmqLJmKa0QFaYNZ29MLSSjgyrKgAI1a1adOmmdBdtsgACxZWoJUYp3/+85/tKjMHPoHq9evX51kOmDD8KwMEeCVgF9DGEgwo47IApB4+fNhsDgwSScGeD+Un7BhgBGgD9HZdrVq1TPgz1uF7DLwz6AM+oxs2bPAES68yEacXfYJMnEeLFi0iIAfMcc64bTg7rPkFXdy+ho+7ROYvv1K6XdTOwO7mPYvy3OfOe975O4ygS/0iEghuDxZ2vYA3GdDFotpr8DiZOGeZtOtykYHdxXfujgqSB947IkvueUiwuM5bs1W69x2SD3S3P/OBGaxizJQFMmfFFnn4rb/nyS8W6Ha7dLDMuvUeKVfhWPnNifVl4x9fieyroBvkXZe+vBR006dtzJxTAV2sqr+/oK1xEYj1sKSprMPvz5Djq//aDDN7++aZcunALlKp8jGmAxudInig4m/76+MqyqSpAyPw67XMPnyJ8IAl95hjy8n9D/8Spsyu95rTCa5GnZoGdokygF9svWYNzBxrJ836RFIgigFWVPxd8YU9+4IOJnwX/rwAIKHF8Md1duaigxqdvbAKsw0hyQBU/G2tPy0d1AjhhesAx+KY7S7qaMKDHfPrXwn+uUA4kRXoMMd+wCrhw6rUOM5si1sCZcffl+PQ8Qy/YiIs4D4BlGOdrlG/thQpWsT4CXOeLdqfZs6BDnD45tJJDrcIoi7QoY7zJR/0ocMagOzUUEE35q1UoFa6QbdAFT6khcWaS/zYoBPRJbBeO0GO361btza+xRzPL+g+8fpdxm2BVra1W2ZJmXKlTKdenuXOe93rN6DbvXs387HAR4F7IjYyERPwj870xPDHbn2cwGv9pxMZMOLu/a8Zt4Vtzxw2UFq6TDnpcskAefzP/4oAprWY7njuI+Nu0LPfcAGGLx44xgCp00d30R07pXb9k4wLxPx1201HNXxvnR3M4oEuMD36+vnGheGUM9rLrpc+MWVR0A36rktPfgq66dE1bq7Jgu7B1zbKpCkDjEUVmGIo4CVrrpEPvn3I84GJ9bVh4zrGgtD7ss7y4JMrTYSGfoN+L/ueWmncDgg/RgQHtrt90wwTXcG9zEZZsA/iu3bMk87dz/Ld/MZ+WEvxmy1VppRUqvprIVoC0RaARibgEosoQEq4MKIy0DFs/vbbzHqssIQn47wBUguXhCRjGdZgoNcCMxbbC0f2NXDZoU9XE60BqO0zYaDJDxeFLgMvEJYRTQG/Xjq72fIA13SCIzQZfsGntD8tj/UXy3PrjmcaaAWKLYzfsGGhAVvgm4nOaACwzRdrMedXslRJqXx8Ffn9oIukdqPfmo5y42++3oC41Zm5gm7c26nAbKCgG8ylsu4NQB8Wb8KfpZqw1L744otmOGIsxA0aNPCEOAt2dOjD+u5nZDRGq+S5TT+Gtz7bKc1aNpATalSRAy+v93xuO+9/QNces6DN6fBImRMBXaIeEPEAN4TdL39qOojhOrBh30t5QJfOZ1hb23buKX98+xuzjnnrdp0iFl2sw+1/f4nJg7wA5OGT58ivKleR23c+FckvHuiSD1ALUBcrXkJ69B1q/lfQTfWuy8z+CrqZ0TnfUZIFXecDMJu/Zy4aI4tXXhX3Ie0sowU9nf/iuxtNC6duYQHdH3/8MdLZKF+F1gW+FFDQ9SVTzI0Y1ha4xZqK/3Gqbgu4cRBmC5cKoAyfXHyF8SGOBpb4ExOZgXBk8UD3zU92GGsuHXntfT31xuFSomRxmTx9UKQVza5zzwFd3FRwT/GaGDRk4MCBwgAcmZ4IERdNo1atWhk3lkRAd+cLfzXW3HV7no1AKCG8ipcoKYMnTs/TGQxQrXTc8XLl7KWRbYFjIiQ4LbpA7IJ1O4zv7T373zDhx/DHvfW+xyL7+QFdIHnPq58ZkC55dCnBDYLOaOqjG/N2DcVKBd0sXYaCDLqvf7zDDB6BO4L7oRzr/2hQp8vzg69Tx7CAbpZulZw6rIJu6peTeLknN25i/ILxz2VktmQTA28Q7QEYo6Md8YkBX3ynGZbYDXH4pOJPzChiJD+uCwziQ78I3MhoBWM6rW1TA7rEQacvhfN+d/8Oq48u/toMPe3WCMBlRD2iMyTqo3vDkg1S9YTfyBntfy9tOnY3U9PWbQzo1m3UVHBVsG4LU25aZ0KCsY9dFq0zGp3buvYaaOLdXjp8oulYxjK7n1/QZftNj70pdRqcbKI0EDtXQTfZuy9z+ynoZk7rPEcqaKCLbxmd2pg6djtDbpg3Mq4lwv3A1v8PxnyhRdNHQTfPrVOg/1HQTf3yEenhlltuMdEeEhncwX1kYg3jg3vSSSflGyRi9OjReQCOWL/EMAbenCke6OJS1rPPebJp98I89z6+ufSXKFW6pOk/Ee3eZ3lYQXfIkCF5NHICro3ekAjo4nZwbrfesmjDrgiAApb45gKpJUuVlik3r4+smzx/pXEjGDdtcWSZG3T5H8trgyanRDqRYQEmgkKyoEuZGMgCa3LV6rVMVAaNuuC8K8L3W0E3S9ekoIEuIcQaNj7RxMcdN7lfVJ/gWA9sXaegm6XbLTSHVdANx6UgPBqWyFGjRkVCstmS3XTTTRGAY5hiomLgtuOV4oHu1j/eEnV4dDry0qH33PNby+FvvPtYhBV0GR3NWnK9ADcZ0CVmLeG93BERAEuiKhD14LRzOsvDh742YLt00x/NMnxy7T4WdI+veaLc+6e35f6n3jeREnr+YUTE7SEI0KVMDDJRpmw5A80Kul53R3iWKehm6Vr4BV0eJp27nRWKqePvz5SONL9lsDwdup4uHbqcntFjZvL8/ByLOkDgf/vyiDanI83OnTvTVqMJKn/kyJG05U8c1pdeeimnJ4bZ5XoSKizXz9U276etwiSZ8bx588w1mDNnTr4cGDwD/9/zzz9fHn300TyhxPJtHMd1gag3jBq54NaJeay59oP/nS/3yKlnnGyi52zcPtdzmzCCLrqULFlSYgGufUb5tejagRcmzVkesc4Ck3Z68NUvjOW0bLkKMn/tNrMc4KWjGf67RGUgWgPwW79xCxOSjPBk+PH+ps7vzHTzXXtl1q2bpPnp7aRU6bIyZNIMISIDx7jl7n1mH9wliLBgj8t64JuOb3aZnWNpvnz8VKl8XDWNo+t1c4RomYJuli6GH9B9++23TRB4huMsrBOhg/CLK6znb88bKLIvj2jzdINuOkdGIzYs+ROndM+ePTk79evXz0AWcWJz+Ty5loS9Clui0xkfGrghuBMvwzFjxgghsfymaBbdF96/N+KacFb7FsLw7ERcsJB7+Ot9QofeqsdXlqOKHGV8eGffNDay3m4XNtAl5BrRJqwPbrRnkV3uB3SxulrXBEJ3zV19f8T6ClRirb1i6kLjKnDUUUWMD691VyDMF5EQGNWsXIWKJhoC0Nv01LOMxfWhN76Saxaskl9XrW6mQRNuMIM+8D+QzLGJkYtVuEiRoiaf3kPGy6odT8j0ZRuF8uDmMGDs9RHXBwu6pmyHvha2X/3Ak/lA2Lkdv3XACL93VfDbKegGr6mvHP2Arn1YFOY5HUVOPPHEuJBXmDWy554LoMtwsvZ8cnHOYAuAFtbrXDw/e068WIChMCXKxLDH+JY6B32wZYzmnmDXe82jga4TVFP9HSYfXQYGwU/ZXud4cz+g6wbCXP1fQdfrDsrMMgXdzOic7ygKut/6elgq6PrTiReOgq5/reK9oNO1XkE336MwIwsYlY24uDxPvIbyTbYQhQ10E70vFHR/cb9Q0E32Lkt9PwXd1DVMKgcFXX9QoqDrTycFXf86JfqyDnJ7Bd2kHpcp78QwxGXLlhXCiQWZFHRj33cKugq6Qd5vyealoJuscinup6Ab+wFp4UJB159OCrr+dbJ1KxtzBd0UH5xJ7E4IsqJFiwqRAoJOCrqx7zsFXQXdoO+5ZPJT0E1GtQD2UdCN/YC0EKKg608nBV3/Otm6lc45EQc+//zzfO45sUAXKEhnmTKZNy+WMPjo4ovbpk0bad26tRkIIoBHd54sAF18rhnpLF0TndUu6XVJnuM6/2GQiwMHDoSy7ijoKug662q2fivoZkl5BV1/YKKg608nICbdPrpffPGFfPfdd2m5Y2zUhVzpjEaHnT59+pge/E7AjAa669atk0WLFoUSVpzl9/s7LKD7wAMPGBA9ePBgWuot59mkSWNp1Lhh2qbfNagnK1auiFr+MIMuriJ8CDARti1bExZ9pmwdn+NaHWhh8HsfZXK7119/3QyFHbWiFeAVCrpZungKuv4ATkHXn048ENMNuum8VXINdLkewGulSpVk9+7dkRebG3SJTXzFFVeY7T799NPIdpl8waXjWGEAXYbxpQMa4bByOYUZdKlb+/fvl82bN2d1ql+/vlSrVi2rZUAD57MgHfddKnkq6J4gnTp1ivqoGDZsmPlYYYjwMKWjwlQYd1kyBbo0nxIEvaBODRs2lKpVqxbY8qP7Z599lhGAUdD1/1GQygvB775YdXnBYs2ZO3euqQNO0P3ggw+kXbt25uHJiGl+8y0I24UBdG3M3ETi4rqf0wXh/7CDbhjq62mnnSZ16tTJqXssaF0VdBV0A3/eZQp0b7755kiTiW060fnPTWmZ0mHcuHEZecAq6IYLdHkRYdW19ax3794yYcIE8z8QVrNmTfMbq28uWXM572yDLr65LVu2lO7duwf+7A5bhgq68e97Bd34GinoKugG/mzLFOjOnj1bateubQLUE6Rep8xqQCeY0aNHK+jGuYNy0XUB4LNWXQu7XvNcs+aGAXRpLkdrIDDXk4JufIhT0I2vkYKugm7gz8pMgi4jix06dEinLGjAAzZXQJdhXZ955pnA7wUyzFXQdVt13aCbi9bcMIAufrmtWrVKS10NW6YKuvEhTkE3vkYKugq6gT/bFHQLB3jnGuhSb9ORchl0Y1l1c9Gam23QpV9CiRIlZO3atemoqqHLU0E3PsQp6MbXSEFXQTfwh5uCroIuQBDklG4fXSy6CrrJXTOnr6616uaqNTfboLtw4UIpX768fP/994E/t8OYoYJu/HtSQTe+Rgq6CrqBP98KKuhyMzClwxWC3tGvvPJKWvJOR3n95KkWXX+3Ti5bdAE/L6turlpzswm6dEIjpNjw4cP9Vbwc2EpBNz7EKejG10hBV0E38MdhGED3zTfflFWrVhkf0iFDhsjgwYOF+ahRo2TGjBmyb9++PNCJfyadq5o3by5PPvlknnV+oC/aNozqM3bsWKlVq5aMHz9eHn74YZk0aZIpCy+sbdu25TvWE088IYDC0KFDzXZTp041owNFO0a2livo+rt1ch10gT+nVTeXrbnZBF0bGP6pp57yV/FyYCsF3fgQp6AbXyMFXQXdwB+HYQBd4G/unXtk6HXzpUy58lLpuOOl1/BJ0nvk1VL3pGZSslRpOadbH5m5ZrvZbtbaHdKt33Dp3GdQZBn7pzpdt/Qu6d5/pDlex4svM/lNW3m/tOvWS4oVLyHVataRSYvW5DvO7PU75dT2XaTZGf/P3nmASU11/196e5dFXFzaIgv7LuvusvReBaRIWarUfREEpBfpvQnSexEQkaL0XgUEARV/YG8gKC9YUMFe8K+o5/98j+8dsrPJTGZ2MpOZOXmePJlJbm5ubm5uPjn5nnMbEcqW2XJkdn89mBbQNXfrhAPoaq26oWzNDSTojhs3jkqUKEGw7IbLZBZ0MbLh22+/HZZzxYoVOZxfuJ7/9evX3crkBHQFdH3eZ9oJdMcsfJYht0Tc/TRp5VYGxonLt1DJ+EQGzXaPDrUcIgdOW0wRkXeTAl1A56QVWwhlgqYxuXINmrJqR4ZyALy1+2QWVjOzf6iD7scff0xw9LFiCgfQVVbdULfmBgp0AbeIMIOvQuE0mQVd1IvSh8vSv7HUA13fFStVENC96y5avny5YddQvLiArmHleLvBVqC7aD0VKhLDUKlAd9aGg9SoTTfuGMtWq0OwnmYGAt3tO3jGMoqILJgOWlGWxIrVKaZUPGXNlo3qteiQwXLbuvtAatqxh6Vlc1d2tT3UQdfbtm5mP7Ogi9HEkpISKSamOMWWKhmUc5GihYOy3Kjv4sWLUv8B/dw+NAMxYMQbb7zB/VU4yRZwb5kF3bS0NEqpEE/nL22VOYzqoPeg9hRTorjbe1YsugK6Zp7VHqWxO+gC3iBRyJIlC5WtUpue/B/ojpr/DHUfNpmBE1ZYQCYsqlj2nTiXHp+9ipp1fpT/9xk3Ox2Ajl28gTr0eZzlDwOmLCTAtIJEI9AtV6MeIZ9isXGUM1ducrYuG4EuILnzwLHUKq0f9Rw9M4PUAtvThk4kWK77jJ/Naac9vZsmr9zmWA+LMks5Bo4lSClQ1nGLN1L7XsNY3jF19U5H+bFNQNejWyBdYrOgC202rCPDxz9Cs5c+LrOf6yA2rhglJia4fWgGAnSnTJnCw4XbbSz6dA3dgj+egG6LNvXp5l+vyBxGdfDk4qEUF1fK7T0roCug6/Puye6gC+hLrlKbLamARUAfNLO58uSj2ISyNPmp7QyqXQaOY33vvUVjaMyi9QyEsMICfpVuFkDboc9wqlK/CXUdPJ7zgSa4TrM2DgB1BbqA6/6TF1CBgoXY6vvYhDkOwNQD3W5DJlBcUnmG0UeGT6XYhBSWYQyfs5qP17bHYCoQFc15NUjtzMvsOXKw3vee6CL8v23PwRSfUoWtydmyZSdYtQH4sWWSeR3SV6jVgFBPCtYFdL2/TTwF3Q++2CcP6wA8rCfOfIzKlk1y+9AMBOhigIhHH33U+0YYpHsK6Aq4u3p5EdAlHpIcBhKRLvi5k7Mj6EYXv496jX2SYKmt3qg55ciZiyrWasBQC5iDtRO6XQW6WAeIhTUXaQG3nfqPpvotH3ZALtIAUhMr1aAJyzYzFEIGgXwBzbC2Io070EUaWGixT5GSpQnwi3XOoDtk5goCdCMttmMeNmslFSwUTfdXqMo6X5S5duPWXGZYrccv2cRQDOsu4BvHSP1Pfz4HwHrleo0pV568fH4AW1i3azRqxUCM46njCOh6fxMJ6AbHw9quoAtHK3x92rlzp/eNMEj3FNANjnvHFYxauU1AV0A3YF2bPUG3BEc/ALACACFFUJIFwNy0Nbs4GoMWdLEe1l1AZO68+RhoAY4K/gCViNwQXbwE1WvennW20NoiUgIsprC4Iq0Z0EVZANWwsAKcAd5a0FXHirj7Hho26ylHGbBfpToPcvkgg0C6B1p1JKSD1CJdWVt3zQCwqIt/5Y9kYFdpYeWGVRoRK9S6UAfdgwcP0nvvvWfJPSOgGxwPa7uC7nPPPcejoSGyRbhNwQC6X/1+mvafWk4zFw2lcdN705rNU+nSzUN09cdjdPzcWlt9nXn1g+cprVcrqlQtiVq1q8/l9hZEb/x5hjbtmUVNWtWmKjWTqe/QjvTup7v9er4CugK6AesT7Qi62qgLCt60S1gz41Mqp7Poqu0Dpi7iqAmQLWijIwAyYb0F1KowZWof7dIM6CI9ygAJBGC3zkNtWYML+MU2WF8BwJEFo2jE3DUOAMU26IaxT8d+Ixl0IcNAOi3oIt2DbbtlAN2WaX0ZdPtNnu/IExbff0D3jowi1EHXDiOjKY2uSBcCA8Z2Bd3u3btTvXr1AtafB/LAdgZdgN667TOofOUylNr+AVq7dTodeXUVrX5+CrXt0pjhD1D59e3TfoU/I3B97eJmappam/oM7kBdejSn/JH/oiLFCtHR/1vjVflwng82r0FDxnSj+g9Wpew5svH/K98f8So/o3K7Wi+gK6AbsP4plEAXMAurJyAXn/jxG1ZTgKOypiJGr5IbYD1mSBiUxtUs6GI/SCD+nVyBpQfQ3yrQxbFSqtelvBERbI1Wx8ESYcgQF7j741MEdL1s9QK6+nCJh/nz++bQiIk9aNDorrozHnTbjyzM8HALJksXHqZ2BF2EFUPs3KlTp3rZsoN7N7uCLu6LuStG0D1RkTR9/qAMMPvZrRMMlLCa4j5wBWv+2Ibyrtw4iQC76nhLnxlHefPlpvFP9HGswzaUF+lVOrXE+i9uneD1F78+QAtXj6ZrPx3j/zjf9l0bU1ShAnT4lacy7Kvy8PVSQFdAN2A9XCiBLuQHkALAYQ1OWwgTprV+4jM/rKkY3EGBLeATOtqeo55g6PUEdLEvLLGQQ0CXB6mFgloALQaZ0K4DdMPpDBpkOMz9818sup42fgFdfdBVD6Z9Ly3jh1hKxXg6cGoFvfTWOjr5xjracnAeNW5RkwaO7OJ4OOIhGUyWLnWOdgTdTz75hCNxnDp1ytMmHRLp7Qq6sILCGtqgSTW6+sNRXbB7+9ouGjCiiwMGVTuzy/LU289SsZh7GdhVmT79+Th1+k9T6jWwHeG3Wg+g7dG3DcOsWue8nLVkGMXcV4TOvLvBsZ9zGl//F9AV0A1YR2cn0IWltUChaHbyGr/0OQc0KnhUS4TYiksqR/dpBpYAcEL/irBbSAfnLORV6v5yDuczhBVDLFxAKeQR0OgibBisr9D3Yj8lfWjYuqvDGoyyJJSrws5kqgzaZa+xsxiqtVALay/KiOgJg59YynmPXriOneig58X+AF04zAHIAdgqT6yHnth5fYuufVimAM2ySgugzpsvgp331DqRLnh/O4WCRvfNT3ZQqbgY/hwL/aH2gYXYpTMWDmHQDTZLl/Y87Ai6Tz/9NOXOnZvQhsJxsiPooo0DBPGpHnCnbUPa30gHja4WGHHvPL1lGgHQ8BUEllDtPh/dOEjPbJ/BGl/oXRc/PYae2zvbYUnFC+ekJ/vShBl9aMrsfvyyif3f+Hg7PbFgMG+DfEKbp9HvrYfmU91GlTPoalHmhORYemzIw1x2lP/RAW2pTFIsHTv3tG7eOFdAff/hnfxqwRbQFdANWL9oB9C9cOEC9Rw5nTW0sLhmz5mTra7a8F0K4hAzFpKEvBGR7NTVuH0ax7fF8LyIcTtkxnKGwEfHzGTIBNRCz4sIDshj5Ly1DLaIaIAZzmgAYLUN/zEoRJGYWELIMjiNwQIMKQSguMeIaekc41S5ELYM0Kn+YwnorvpAUx4EA05yCJOGYY0hbYCOFzpdRGbIkjUra3pVTF/E1cXxUReItABQRqgyNWBFuer1GMiRDsCO/ZMr13Kcu4Cu97dTSIDulR1UOl4fdPEgVQ/zYLZ02RF0u3XrRg888ID3jS/I97Qj6F74aj9VqJJIEZH5dCU7RmCJrxz1GlVhZ7XN++dSzfoVqHrtcnT2wvMMsvNWjmSLKCzFcGyDg9e/E0pQzlw5aNSkHvwief23kzR6yqO8bujYNMdXFBwTUgqAJtIYlUGth7W5TceGtOv4Yt20uI/L3B9LPfu3ZUtu/P330dHXVuumRZ7bDi/g/C586d/QiAK6AroB6+LsALoAMy0gyu9/tMPe1kOogy5GnsLIZFZMoQy6sDB98PlefgBmxtKlHsCBXNoRdDHs78SJE61olkGRpx1B9/XL2+i+UkVZyvPCWWP407bl0++sZ3CENVetf/m9DVSydDFq3LIWwYEL9w/AMiJ/Xpo8qx9be7G+ToOK7PCmIBKW3qSUOI52oNXIDhjRmXAclb/eEhZkWH4hWbgry118fEiR9NIePL2S5RkAb6M0b13dSV17tmCtb9ZsWalZah3Ci4BeflasE9AV0A1YRyagmzmo9BZGrdwv1EHXypslVEEX0SHwkIN0AQ8xby1dVjwAvcnTbqB748YN1uceOnTIyuZp67ztCLpKxgNHNDMyAQDsyEk9GBpffm+TAwIRjQHRDwrcHUF7Tixl0B02No0hFGHA0Iaxb/c+qfw15c0rOxzrYOGF4xdeNJEOFljsa9bxDbCOiBCwFsOy7CxHgtOZKkvxEtEE67FyRHO+t3Aeu19cQpVrJFG27FnZ4oxyO6ez4r+AroBuwDowu4CuHpzJuo90h/P1pl5q1qxJgwYNcjuS1E8//ZTpNG+99RYdOHAgYG06MwcOJdBFSKJqtZKpRp3ybKEqEVvEAbreWLqsePh5m6fdQHf//v0Mut9++21mml9Q72tH0AUUVqudQnny5qKNu2e5BTpICR5qXZcBVhv1AO10ypwBDJuIiAA4xPDfsLZqQRd6YOjjAdiqbcORDADas18bliqg7e54YZFju0rnaglrcIs29Si6yD3sXKrSorwAc0iVYMlFFAVIKFA2I9jFvigTnNEaNa3mkDKpPK1aCugK6AasgxPQ9R1MegOg/tpHQNfcLRZKoAvdoLL+wHqEB+z5y/9YdD21dFn18PM2X7uB7rhx46hMmTLmGlmIprIj6AJIEW4P1ktoYl1ZL6Fd/+zXF6n1ww2oYFQkQQ6gbZ+zlz7OUgU4nHkCurj38BdBgGwAACAASURBVDUFEoqdxxaz45g38WuXrhvPwKwkD8gXGmBArrIWo7wod1yZEgzA2vJrf2Pf1A4NOJaus5OdNp0vfwvoCugGrOvzJ+hijOcFCxbIHIA6yJo1q1h0TdxloQq6eGAhzJjSDnpq6fLlA88XedkNdBs2bEgYLCKcJzuCLtoaXu4QmQDWVyP5AqQ9s5cNZ/0tgDZX7hz8YqjaqgLm+8uWImhdPQFd5AHABTzjCwuAVeXryXL5+gmsAVYvr5AhwGlOLxYu9MiICGGUP0AXA2UoxzmjdL5cL6AroBuw/tFfoLtjxw7KlSsX5c+fPyjnnDlz8tCewVr+7Nmz04oVKzItSzAjbbBauoAH6uXLly25Z0IZdLUPLfXgNmvpMuMdrs3f6t92Al0MFFGwYEFasmSJJW0yWDK1K+iiLe45uYwtqrFxxWjFhkmOz/W4Dw6dWcmDq6ivHdCv121YiZD2xOvPMCziCwiiLiBaAvLDfnAog/MXHNXUOjiowXILaZD2HkD8XsTxRdgvpd/Vbtf+Rt4Achwbv7ENgz4g8sLabU+ky1e7n9FvDG+MSAvvf7bHsS9kDnCscy6nUR6+WC+gK6AbsL7MX6BrBpDsnKZOnToEr2o7l9EuZbMadGXACNcDRuBB6iq8mHpoeWrpUvvZYWkn0L169Srrc8+cOROwftwOB7Yz6KLN4r4AnELDGhVdgJJSSnMIsVGTezJIats1oiX8p3cqIVQXgBCjpmEYXVhRYQ0FcGIbHMTggAYohaUW913uPDl5pDVYfrV5ArBxLAWv2m3a37DY1qxbnnLkzE61HqjAjmgt29Zj6627fbX5qN+QNcAZDxZlyDI6dW9GnR95yKEtVumsXgroCugGrJ8S0DXnfCWga66eANsCuq5B1OoHCpxo4GhSvnIZh1TB6JieWLqM8gjEejuB7u7duxl00fbDebI76AainXp7zMvfHGaHNeiBockFYHubF/bDSy3ygmUXcXkzk5e3+wroCugGrH8U0DUHcAK65upJQDdwkAtrD4b57ZjWlK1B8DSHEwzCIbl6OHli6XKVjz+32Ql0J02aRHFxcQHrw+1yYAHdwN37/rz3vD2WgK6AbsD6KgFdcwAnoGuungR05WHn7YPQk/3sBLqpqanUoUOHgPXhdjmwgK7c+67uYQFdAd2A9VUCuuYATkDXXD0J6MrDztXDzlfb7AS6pUqVoqlTpwasD7fLgQV05d53dX8L6AroBqyvEtA1B3ACuubqyR+ge+LECbp48aIl90woRF1w9bAJlW12Ad1ff/2VsmTJQogqE+6TJ6B7f3IpwshjModPHTzyWGuKKVHcrUP3Bx98QDt37gzJ2+mdd95hPf/y5csNz6948eLUrFkzw+19+/blPP766y/DNIHYcFcgDmr2mAK65gBOQNdcPfkDdM22bW/SCegGh1XKLqD7+uuv80PnwoUL3jS3kNrHLOgOHTqU6wxx1WUOrzqoXqOagO5dd5GArp+7PgFdcwAnoGuunsIFdM+ePcsP6bx5c1OR4tFBN0cXvoeiChWgwkXvDbqyo74BSCkpZd0+NGFB2bt3r2W96vr16wkxtm/fvm3ZMYIlY7Og+8MPP9CHH34YlnOlSpWoZMmSYXnuuOZffPGF23tWLLpi0fV5n2cGdE+fPs2DPURGRlK4zrly5aScOXOE7fnjumPAj61bt7rtqKwOL+bzm0CToVmLLh7WGzdupKVLlwbl3Lx5c4bFadOmBWX5Ue+nTp1y2xatBt3Ro0dT2bJlNS0ofH+aBV28DIfrjKHYEaEjXM/fzHkL6Aro+rwXNQO6a9eu5YfiquemkMzhWwewok2fPt1tJx0OoGumw7ZzmgkTJvA9jU/udi5nZstmNei2bt1aIi7876kkoOse4AV03deRK9BdsXIFPdzxYerYqaMlM/Lu178f/fzzzz5nLWQoGl1LqtV9pmZBt8Dd+V3G4gwVJxc5D2ON5v3JcbYA3ffee48+//xz943bixRmLbqZBbBA7y+g60Xj0NklMTGRUJcyEQnouoc4AV33deQKdEuVLknZc2SjTv9paslct1FlNgC8//77ltzSArqWVKv7TAV0jcFOoDd93dgFdO0wBHCgQTWzxxfQdd83ukvx559/Uo4cOWjDhg3ukobFdgFd9xAnoOu+jlyBbpn742n6/EGWGd3e+fSfUQ4FdD3vsoI+6gKkC2LRTQ994QjBArp3OukrV67QPVEF2REpIiKCgm3OnScXZcuejSIi8gVd2VHXCOnVpUtnt7ILK6ULn3zyCVt/XnvtNc+fCiG4h4Dunf7B+UX0xx9/JDiw4gtA0aJFCSESb9686bb9OucTDv8FdEWj6/PuUSy6ArBmoV1A986D7NVXX2XImbloKD29ZZrMfq6D8pXLUGJigltQsBJ0Dx8+zG3gu+++83m/HIwZCuje6R8UkH755Ze0cOFCSkhI4LaiDadWqFAhGjVqFH300Udu27HKLxyWAroCuj7v/4IFdL/6/TTtP7WcABbjpvemNZun0qWbh+jqj8fo+Lm1ln3KMAuB2nSvfvA8pfVqRZWqJVGrdvW53Nrtnvy+8ecZ2rRnFjVpVZuq1EymvkM70ruf7g7I+Qro3nmQKdD94It9AbkWnrShUExrhzi6S5YsoaioKJ/3ycGaoYDunf4BQIqoIAULFuQvJogdjPBav//+O0Hycv36dZo7dy6VKFGCsmXLRsuWLcsU7OJlK1QgOBhB12x4QdHoBqh3szvoAvTWbZ9BsOCktn+A1m6dTkdeXUWrn59Cbbs0ZvgDVH59+7QtgOO1i5upaWpt6jO4A3Xp0ZzyR/6LihQrREf/b41X5cN5Pti8Bg0Z043qP1iVhfj4f+X7I17llxnoEdC98yAT0A3slxA7gC7gpWrVqgHque13WAHdO/0DQnIiJGO7du0YQI2uFqB39uzZbO1dsWKFx7CK4wwYMIA+/fRTj/e1Kxh7A7rghK2H5tPoKY/ys3LQ6K68HDo2jUZN7kkLVo0iGKDcPf881eh+++23NHHiRDpz5ozRJU63XkA3XXX474+dQReNd+6KEXRPVCQL0J1h9rNbJxgoYTWFxdddI7Z6O8q7cuMkAuyqYy19ZhzlzZebxj/Rx7EO2764dSLdf5Ue69V5Xvz6AC1cPZqu/XSM0+J823dtzIH+D7/ylO7+Kh8rlnYB3d27dxNCmFkxmY26IKAroIvQYg8//LAVzTAo8xTQ/Qd0ERUGkNu2bVv6448/0l3LW7du6YLv/PnzGXY3b95sClgBuBgmNl++fASNuF2h1ZtyeQO66nl34NQKfj6WuT+W9pxcRm9e2UF4Vvbs35aNTl17tqDL3xw2fHaaBV0A7rhx49haP2PGjHTX2NUfAV1XtWPhNjuDLqygsIY2aFKNrv5wVLdxvn1tFw0Y0cUBg6rB22V56u1nqVjMvQzsqkyvvP8cyxqg7VTrsDx74XmqViuZFq0Zk269Ns2sJcMo5r4idObdDYZptOl9+dsuoGvh7UACuoEFWLPt1Q4W3XIp5VljaWV7DKa8BXT/Ad2BAwdSmTJlMkAuriXkLu3bt9e9rI888ghVqFDBJbQqwFVaX0T88AYm7bxPZkD3ras76d8JJfj5CkOR6k9gPBo5qQflyJmdlzBKqW3apTvQ1QIurgEs9p5MArqe1JYP09oVdNEQew1sx5/qAXfaxqj9jXTQ6H7683FHGmh3AZFPLh5K248sJFhCtft8dOMgPbN9Bmt8oXdd/PQYem7vbIeVdd9Ly2jSk31pwow+NGV2Pzr5xjre/42Pt9MTCwbzNsgntHka/cbnFMTm0+pqUeY5y4czsKIc2Pf8pa1UsWoitenY0PCNE/sB6vsP7xQQC7aA7p1Pk3a06KJ9PL9vDo2Y2IPw6U5vhgQG94Rzew0mDTzKHmjQ/fvvvyl//vy0cuVKH/bGwZ2VgO5P9NVXX7E1F5pbvckV6CoIQkQGZxB1BlxA1rBhwzKkc94vGP9nBnTxnE1Ijs0AuugzDp1ZyV+Ha9avQJ98py/9MwJdZ8BF/SclJXk8sIS6xsuXL9drHryueHFxRjOsHG832BV0L3y1nypUSaSIyHy6D2bnB7X6Dz1vvUZV2Flt8/65hEZdvXY5tpZCFjBv5UgGTFiK4dgGBy+8AebMlYNGTepBgIXrv51krQ/WQeODdSp/SCkAmkij1hktYW0GuO46vjhDWrxhAuBLxBbhclSukUSpHRowfBvlt+3wAs7vwpeBcYAS0LU36Kp2gxe1qEIFKKViPOFT3ktvreOXtS0H51HjFjVp4MgujjaNth1MGnh1joEGXTz48LBD5AWZ/qkBAd2faNWqVSwnAGDqTa5AF+lr1apFaWlpDoDVA1y0u0aNGhGGIQ9GkHVXZqtAF/1fRP687OsCJ3bVl2iXzqCrB7iof0hTLl++rHeJXa4T0HVZPdZttCvovn55G91Xqig/sF84u1q3UWobKH6ffmc9QZujlQS8/N4GKlm6GDVuWYsduPBgh14HDX7yrH5s7YVjV50GFdnhTUEk3gyTUuI42oFWIztgRGc+jvOxtf9hQYblF5KFu7LcxccHcGjT4DdgF5ZjADXkGbA0O6fBf3yOgbYIWt+s2bJSs9Q6hBcBvbRWrhPQDQ7QffOTHVQqLoZf4vB1Q9sm8OVgxsIhDLq4F4JJA689j0CD7htvvMGgC096mf6pAQHdn1jKUr16dUeT+O233wgREdQ8a9YsSk1NdfzHeu1ws6NHj6Y6deqQEeACsjADmCFbCMV5wYIFNGLECNq+fXuGuXhMcZcDRhhZdGF0ggEsX0QeWr5+Qro+UduvKNB95ZVXHBpcVedqiRje0Ofqlc/dOjiuIR+x6DpuEf/8sCvoqoc1HNHMyATw0IYGB5bal9/b5GjIgElEPyhwdwTtObGUH/DDxqYxhCovTOzbvU8qlY6PYfE6Gj7WwcILyxgsZFgHzTD2Nev4BlhHRAiALCzLztABgK31QAU+LqAen521N532N85j94tLCJbfbNmzssUZZdSmsfq3XUD32rVrhDdtK6ZQ0OjCAQNtGV8rnNsc2oiS+QSzBj7QoLtnzx5+YP3yyy9WNMOgzFNA9yfq378/W1vVBVROZgqS9JYAXzU98cQTjpBjemnDfR1GInQ1MpoCXQBtjTrl2cBVrXYKO6LhWQ7ncFfPTQW6MTExfH9bVd8CuqrF+2lpV9DFAxoNNE/eXLRx9yy3QAcpwUOt6zLAaqMe4ME+Zc4Ahk1EREAjHz7+kQygCz0wrGAAbAWMcCQrXiKaevZrw1IFPFx3vLDIsV2lc7WENbhFm3oUXeQe/oSs0uKGhHYXocg++HwvTZs3iC2/+Lyi0ugtUSY4ozVqWs0BLHrprFhnF9C1wxDAdtToqmtuBLp4YUNbQzrcB95q4NVxArkMNOguXbqUY6T6qZsOisMI6P5EsMhWq1bNcb0QdeHXX391zPPmzSNE69Cuw8u1mjCABCy6iCrTuXNnypo1qy5wrV69mvCyFYrzmjVraNKkSXT06NEMc0zJGFOgC38X5YyGJQAXEkWE+5w6d6ChsUqB7vnz5znOcXR0tG79wzJ77Ngxr2eEgzOaRKNrVDOZWG9X0MWDGE41sF5CE+vqLQwWqs9+fZFaP9yACkZF0sHTK9PB4uylj7NUAQ5nnoAuLLeQDMDauvPYYnpsyMNexa9dum48AzOkFYADwMYDjauyXlJJJWCxheNbbFwxghbXCCJQJmh5EUvX2cnOaB9frRfQDRLpgo5FFwNboC1DuoD24K0G3ldtKbP5BBp0ASSIuiDTnRoQ0P2JnnnmGcqdOzdLE+7UzJ1f7jS6iMvcs2dPh/bWCHhr1KjBX7Xc6V2DcbtVGl18GYbBCYyA0GN6fZAC3ffff58vGl5IMLCHM/AirBvCyFkxCehaUKt2BV00wvOXt7IHJbSuRvIFPMBnLxvOAAqgzZU7B3tkq0asgPn+sqVY6+oJ6CIPAC5uDIT9ArCqfD1ZQhMEDbD6jIw4fghg7TyqFiB21XNTHFEe9I6BNBgoQznO6aWxap2AbnCBLqwXaLf4hAftOhwfFeh6o4G3ql15k2+gQRfWthYtWljQIwdvlgK6P9HNmzd5tDzoTPUmV6B77tw5th5CH+oMqHrA27t37wzpnPcLxv9WgS5ClNZtWIn9XOCboNfvOIOuuoZ6wFu6dGnDFxq1nzdLAV1vas3NPnYGXTREvHnBogpL54oNkxyf6wGsCBeCEEoAYqSFlQoNGWlPvP4Mr4MUAVEXVMPGfnAo+0fL+08sWqyDgxqOAwDQ3gC4OeAoViYp1qHf1W7X/kY+AHIcG7+xDZ9NEHlh7bYn0uWr3c/oNzxDYd19/7M9jn3h1AbHOudyGuXhy/UCusEFulqNLl6QAIfqXvFUA+/LduSLvAINuvCOhx5Tpjs1IKD7T//w+OOPU2xsLGFwCOfJCHQRrg6Dj8CRzRWcOgMvtJ6u0gfjNqtAF19Py1Uqw07dm/boyyGNQFddR2fgbdKkCf31119qs0+WAro+qcb0mdgddPFQhOYQcAqNTVR0AUpKKc0elBjaT+lw1MMT2tf/9E6l+PvvYyDEqGkYRhfSADzsAZzYBgcxOKABSmGphfNO7jw5eaQ1OImp/LAEYONYCl6127S/YbGtWbc8B6WGkxkc0Vq2rcfhm9ztq81H/YamEs54sChDltGpezPq/MhDpoYyVHn4cimgG7ygi3aAMGNKKuOpBt6X7cgXeQUadEuWLEkzZ85M35mG+T9/gi7i1doV4i5evMifuhs3bkyIuqCdAEUY9td5giY1W7ZsrLk1c14KePPmzUsnT560bV2YORfnNJkBXfWlqlK1pHRsAKMRwipiwAg8k40GoHIHuuq6aYF3zJgxarVPlgK6PqnG9JkEA+j64sHorzwgS4DDGvTA0OQCsDNzbFjgkBcsuwiRkpm8MruvgG5wg672+uPFyxMNvJm40dr8rf4dSNCF9S1nzpy0fv369J1pmP+zGnQBt9DA1q1blxo0aECfffaZbQEPzkzQdcLi9/XXXxu2DIDw2LFj2els48aNHp8PgBehuP773/96vK8zYNrlvzegi/4MgzN1TGvKMAujFeSK9R+syo7bkG4hrvjYab0MB2RCn2UWdNUFBfDCwfDUqVNqVaaXArqZrsKMGQjoBseQp1aDg5n87QK68GS+fft2xsbsgzXhEF5MXWtPNfBqPzssAwm6arAIeIXLdKcGPAVdxJD1BK4AugcPHuThdRGZwM6gi/OC5hbQgpBYGAQCkVpu3LjBuk7AHAA3KiqK8uTJwy9NntSFc9off/zRo7p03t9O/70BXV/1SZ6Crmr9ePn11SSg66ua1OQjoCuga7aTsAvoapqvz3+GAugivB5C0JWvXMYhVTC6xp5o4I3yCMT6QIIuPLIRX1N5Zvu8EQZphp6ALkaVmjJlCn3//fceAdqXX37J1txgAF3AI16K1q1bx9pb55isSv6CUFN2As1AlyUYQdeXt6yAri9r8395CegK6JoFFQFde0sX8PkOcZjV5zvEoEZIMQyU4uoae6KBd5WPP7cFEnRhyQW0wCIp050aMAu6gNvx48dT27ZtPQZdWHUx/G2wgK4WGjGKXkpKClt5MbKep5CvzSuUfwvoFqdmzZrdubGcfvXt25f7H187wTkdxuO/d3m8hx93MAO6zz77LFdsnjy5KVxnOK9hDtfzx3nj4Y6Ygu46WejGDhw44MdW7LtDhYJF15/AGahjBRJ0oc1FrFRffq70XQsOXE7OoPvJJ5/QypUradGiRRz4/8UXXySMaohBFeBElZSUxAMDQJuK6AGTJ09mKy8G4/jiiy+4n3nhhRdo2rRp7PiHuKVGoPvDDz+wUxb0ksuWLSPAkrt+KhDba9asSXFxcbYsWyDqQ++YAroCuj7vxcyALiwX27Zto02bNoXtnJCQQIULFw7b88e1f+655wifDvU6J+06q0EXDzW90D2+uDkEdIPjC0cgQXfWrFkcPsoX7S2U8tCCLvqANm3a0M6dO9lRp127dhw+6+rVq7Rjxw5CfwqrLF6IX3/9ddavxsfHswPXmTNnHH0M+hvEKwYs477XA118+h88eDDB+x39FNKjr8YIitp+yQ6/BXTvfBUzuh6uQDcuLpYNLs1S65IVc8UqiZx/IGVJIl2woFc0A7pGDTKc1qNTRoDocDpnb8/VatCVIYCDA0attPYGEnQRJxXxTmVKXwNa0J0/fz5raZVl9t1336Vx48bx5/orV65Q5cqVGUi1n+9hyY2MjGRNq+p78Im/ffv29PHHH3Pfqwe6U6dOpZEjRzIIY7933nmHraYVK1YkWJVVXnZYCuhmDnTxIoNP91bOaEtWOTunv2P0/wno6tdLptYK6Lq/8dBBCuiaqyfUlYCugKiVkIu8Awm6Xbt2pdTU1Ez1u6G4sxZ0IVnAMKkdOnQgPGNgjYU1F/2DEejCQa1ChQqswVWAjBHGALIKUp1BF3liONyHHnqIhg4dyjOsu61bt6aOHTuyw6Da1w5LAV33zxFXFt1QvG+cz0lA17lGfPBfQNf9jYcOUkDXXD2hrsIBdHHfKC/qnDlzULDNOXJkp+zZswVduVU9o+4rVKzgACAjiIF1b+/evT7oKe9kAWeoXr163Vkhv7gGtKCL0F+PPfYYa5mhZ4ZVFtZZXCcj0MU2yEJg1d2yZQtBkoChlhGWS11fZ9CFbheaV2hzVRqjJdKePXs2oHO5lPJUokSJgJYBdYBP80b1FOj1Arqi0fV5lyqgaw7gBHTN1RM6yXAAXcStPHz4MG3evDkoZ1jaAItw3AnWc3jzzTfdPqytAF14zuMzvJ2mrdu2UvMWD1HLls0tm5H/kqVLDE9bC7oKljBqFzSziCWLegNsugJdAFhiYiI1b96cYbd37970zTffOK6zM+gCigC6nTp1SpcOx1cxa/Eb4K1eTGV5F9eFmftHXUd/LgV0BXQNOxlvNwjomgM4AV1z9YQOMRxA158dvxXHmjBhAj/sLly44IAIK44T6DytAF04OsE5yk5Tm7Zt+Hr27NeGrJoRdSa5bKLhaWtBd+vWrYTRwXD9ocOdMWMGW2rxUqUFXedBIyBxQNuEVRc6aKTXtiFn0IWzWtOmTTk9ogOptFiPaA0I6YV1kEUAcBdsPEj7zn8a1vO6Q+e5Ll555RVHfal6s8NSQFdA17CT8XaDgK45gBPQNVdP6CgFdM3XVaAeLAK63vWYiF2ZLVs29uj3Lgdr9mrbri2l9WrlMl5yZnXTE2b0ofIVyhmegBZ058yZQ/3792erKtr4oUOHOJwY4ArWVfSnycnJtGfPHlqzZk064EIUBjj+Vq1alaFYe49Au1uvXj3W5SJUGbZB5gAwhiYY2txhw4ZxmieffNLhoKZAd8MLb9HZz/4M63n/G58L6Bq24sBvEI2uBddAQNcclAjomqsnPHisBt2bN2/Szz//bMHdQGQ2vJj24RuMvwV0vWs+sEDCMnjs2DHvMrBoL7uB7sKFC1lSACiFVhcOfLDyqntlyZIlVKRIEbbavvbaa4712A4LMCAZFlmVHsvr16+zZRjD5t5999086ASiKsAKDNitVKkSa4LViGPoJ9T+Arp34F5A16Kb0EfZCuj6qCK12fgLdPGJdNCgQUE7o/HBahDM54BrrTp+K5dWg662/fr6t1nQhTUpMTGBihcvSiVLlgi6OSqqIA+AEhNTPOjKjvouUqQw9evf12179rV0QQET9I12muwGupnpX2DxTUtLI2cAzkye6rqJRfdPEtC1052bsSwCuhnrJNNr/AW6M2fOZEsIwqsE44wQNpiDsewoM6xQgPTMPCzM7hsOoAtPcNTpyEk9aM7y4TL7uQ5KxcXwi4a7Nulr0AV84brjRceq6Y8//vB41LVQAt1du3bRgAEDMjiXaa81HM20/939DhTonrj8E73y6W1bSSUEdK26c32Tr4Cub+oxXS7+BF3orj766COZA1AHgF0B3XRNX/ePWYuuAt0PvthnqS4ys7rKUN0/UHF0Dx48yKD766+/6rYfX6wE6CKqA8JAmZ08Bd1PvjtC+15aRjf+PGO6/Xqi0XUHns7bMYIaZA6w5NatW5eOHz/uEmRRNxg0AFEcnPPS+58Z0H3h/W9pxfaTpoEVYLt678vUpHUX+ndiOdp59mO3oHvy8i80ddkm6j5oHHXrP4rSBoymAeNn07h5a6jnsEn8f+CEOXTkvRsZ8nr2yBvUf9wsTtNj6ESa+dS2DGm0umQBXbN3VWDSCehaUO8CuuEB3gK65m4eAd3gGOwiUKC7YcMG1oGaa03ep0IMWWhRMYwuIge4mzwF3ae3TKMKVRLoras7bQG6zzzzDOXPn59KlSpleujeVatWsWNg9+7d3QJvZkD3iRWbKSGlCu3+v/+6BEgFky99/CuDcflqdSgmNs4U6Kp9Jy5cR7ly56WkClVZYoD1205/RFXrPEjZsmWndt0HEKBYpVdLlC2pYjWavGRDhm0qjVoK6Lq7mwK7XUDXgvoX0BXQ1bOAZGad1dIFDAF87tw5C+4G885oYtENLBAHCnThZIUHkT8mRCqATCJr1qz06KOPcrQCo+N6Arqf/nycmqXWYY32glWjbAG66G8gR4BjmSd9T79+/biOEAnDFfB6C7qQHtRtkko5cuai0bOfcguRCiZh1W2b1tdj0H1q92nKH3kPNWjRnl6+9ofjeMu2HKeI/JGUM1duGjZtUQbrMsrZtG03WrXnjGMfVRbnpYCu0V1kj/UCuhZch2AFXcTaw2yFFAIWFIzNbkXegcozlCy6AF20WysmsegGFmDNSi0CBbqTJk3igQ+saHt6eY4ZM4ZBDsCLEcZGjhxJ3377bYaknoDu/lPLqVylMpQ/8l9Ut2EluvL9EVOwa6V0wRO41aZFXdSqVctRR0bA6y3ortzxEpUpW5Ehs3KthnT0g+/chzIkTwAAIABJREFUgiTAEqDb/pGBHoMuQDXy7ih6MLVTOtBdvu0ElatSm6KLlqACBQvR/PX705UDVt6HOnSn1XtfSbfeGXLxX0A3w+1jqxUCuhZcDjuALiIyIJYiNKR9+vQhjIaD5cCBA2n69Ol09OjRdNAJax4cwxBOBlotX8Hj6dOneaz02NhYevzxx1knNmrUKC4LLAeI+eh8LFj2EAYHIXRQ5smTJxPycU4X6P8CuuZunmAGXegtn983h0ZM7EGDRnfVnYeM6UbbjyzMADZf/X6aAEAzFw2lcdN705rNU+nSzUN09cdjdPzc2gzpzQKpVekCBbqDBw9mLam51pT5VLdv3+aYswBdNSP6C4bK1eqEzYLu17dPU79hHWnuihGU2qEBw+62wwtMXV87gi6gFyHGAAeqfrB0Bl5vQBcW1U69h9HIJ5dTgxYdGHYXbjpkCJKnP7lFS7ccY4vrnGd2U+tufTKA7t5z1wjyhMGT5tGTq7bT8Yvfp8vPFeimdu1NM1ZuoYjIu+m+0gn03IvvOvYV0M38vWaXHAR0LbgSdgBdQODsTYfpsQlzKW9EfooqXIw69RtFnQeMofiyFSln7jzUMLULPfHMXk43Y90+Sk3rRw916eVYh/0zO09Y9jy17j6Aj9f04Uc4v6mrd1GD1E6ULXsOKloyjkYteCbDcWauP0DVG7WgirUbEcqW2XJkdn89qBbQNXfzBDPoKqiEk1FUoQKUUjGeDpxaQS+9tY5OvrGOthycR41b1KSBI7s4nJAAx+u2z6DylctQavsHaO3W6XTk1VW0+vkp1LZLY6pSM5kHIgAgqfztsAwU6MJZCoMS+HP6/PPPObShFuTwu2jRorR69WoCDJsF3Vc/eJ5lC29f28XXPW9EburSoznhRcfddQXolowtSevXr9edEZsZTnRPPfWU32c4pjnXjxZ4MRQx/nsSXmzzS++zbGHPuasMpXnyRlCLjj3ozH//nwMwlcV03+ufsdygbVo/Agw/3HMwA6lWo7tgwwEqlVCWJRBzn93LjmrQ3modzNyBLmB60MS5LGGoUrsRHXz7Sy6LgK4/70hrjyWga0H92gl0xyx8liG3RNz9NGnlVgbGicu3UMn4RAbNdo8OtRwiB05bzB2UAl1A56QVWwhlQkeZXLkGTVm1I0M5AN7afTILq5nZX0DX+xslFED3zU92EMJvAVJhldUCzPlLW2nGwiEMuoBcWPbuiYqk6fMHkTPMfnbrBPUZ3IFatatvCoS0x7H6d6BANzU1lbWg3rcw93v++eeftG/fPurVqxePJgbJgh7EqXVlypShmrVqmBoZbcrsfjRqUg++/he/PkAVqyZS8RLRdPqd9enaid71A+jmzJnTZVlUmey2jI6O9hh0EfUAEQ8gQzj0zlfsIAbpwMajb6cDXTifwdpa/6G29OKlH3kbljUaNHNYdGEdbtSqI+eBvADI/cY+SfcUiqa1B15z5OcOdJEPoBZADeNLm26P8X8BXff3VbCkENC14ErZCnQXradCRWIYKhXoztpwkBq16cadVNlqdQjW08xAoLt9B89YRhGRBdNBK8qSWLE6xZSKp6zZslG9Fh0yWG5bdx9ITTv2sLRs7squtgvoen+jhAToXtlBpeP1QRcAA2ckLI/+3xoqUqwQNWhSja7+cFQXdGD5GzCiC1376Zjudj0g8se6QIEuQl8NGTLE+wbmYk8A7ooVKygmJob7O3yFGT16NC1atMgQLvFQnDdvHrVs2cIt6F74ch9bc0+8/ozjWk6e1Y9y5MxOY6f1clj5ja4fQDc+Po4wjK/evHLlSlq+fDlLzSA38+c8YsQI3ToqWLAgS8sQTxnwbdaie+DN62zNffbweQeEIoRX9hw5qffIaemcwQCq+Ao5YuYyR1rAMSIkaC26gNh5z+5j7e2Wlz7k8GPQ467cecqxnxnQBSQffu9rBmk4p0EGAWc00ei6uLmCaJOArgUXy+6gC3iDRCFLlixUtkptevJ/oDtq/jPUfdhkBk5YYQGZsKhi2XfiXHp89ipq1vlR/t9n3Ox0ADp28Qbq0Odxlj8MmLKQANMKEo1At1yNeoR8isXG8WcjZ+uyEegCkjsPHEut0vpRz9EzM0gtsD1t6ESC5brP+NmcdtrTu2nyym2O9bAos5Rj4FiClAJlHbd4I7XvNYzlHVNX73SUH9tCHXQ//vhj9tC24HYwPQSwnaMuvGkAupA0fPD5XoYcWHN7DWxH2XNko1lLhjnAxxlykA4aXQXHztsD9T9QoJuSksI6fF+3PbTpypUrs7YUvgqXLl3iQ/z++++sCXa2kCYkJBBCcmE7JjPShac2TaaY+4pQk1a16aHWdXmuWb8Cgy5kLqptGF1Tu2p0MUodQpNp60gB7pdffslRHDzV6E5ZupGKFL+PajdqRfWatua5Qo16DLrxyRUIUgUlW5i06FkOCYZ91DojZzQ4t7Xs1JMQ77Zrv5HsWIZ1aj+zoIv0W09doLjEchylAbFzBXR9fVcGJj8BXQvq3e6gC+hLrlKbLamARUAfNLO58uSj2ISyNPmp7QyqXQaOY33vvUVjaMyi9QyEsMICfpVuFkDboc9wqlK/CXUdPJ7zgSa4TrM2DgB1BbqA6/6TF3DnBKvvYxPmOABTD3S7DZlAcUnlGUYfGT6VYhNSWIYxfM5qPl7bHoOpQFQ0W5AbpHbmZfYcOVjve090Ef7ftudgik+pwtZkxFGEVRuAH1smmdchfYVaDQj1pGA91EHXgtvAkWWoWnQxsEXXni0I0gWAzIWv9lOFKokUEZlP1znNCHbssj5QoFuiRAlCiDFfTi+99BIBzMqXL8/RXlTef//9N/Xo0SMdwFWvXp12795Nf/31l0rGS3egC4s8NNdbD81P91IDbS7aRe48OWnFhknptjlfazuC7hdffEGQbijIdQZcFaHBE9CF7ODB1M60YONBB4ACLKHNBaTCZ2TS4vWObWPnrmYZwbCpCx3rnEEX/2F5TSxfxeFEBgswIih4C7ooEwaygDW5SEwsR2WQqAvpboug/COga8FlsyPoRhe/j3qNfZJgqa3eqDnHMKxYqwFDLWAO1k7odhXoYh0gFtZcxDsE3HbqP5rqt3zYAblIA0hNrFSDJizbzFAIGQTyBTTD2oo07kAXaWChxT5FSpYmwC/WOYPukJkrCNCNtNiOedislVSwUDTdX6Eq63xR5tqNW3OZYbUev2QTQzGsu4BvHCP1P/35HADrles1plx58vL5AWxh3a7RqBUDMY6njiOg6/2NEkqgi/BR1WolU4065anM/bFUIraIA3Rfv7yN7itVlJ3WXji72iXgOAOPHf4HCnRhOVy3bp33Dcxpz1OnTnHYsHbt2tEvv/ySbisiKyiAe+ihhwhpAb96kzvQ3f3iEmrTuZGuRGXX8cVU4O4IerB5DY6yYXR97Qa6P/74I7Vs2ZLryAhwvQFdxKxFeC/niAgAS0RVQNSDmg0fouMf/cBgu2zri7wOmly1jwLdYiVL046XL9Gu165wpIS2/+nvkD34AnRRJkRxyJsvgqFZQFfv7giudQK6Flwve4JuCY5+AGAFAEKKoCQLgLlpa3ZxNAYt6GI9rLuAyNx58zHQAhwV/AEqEbkhungJqte8PetsobVFpARYTGFxRVozoIuyAKphYQU4A7y1oKuOFXH3PTRs1lOOMmC/SnUe5PJBBoF0D7TqSEgHqUW6srbumgFgURf/yh/JwK7SwsoNqzQiVqh1Arre3yihBLpaZzRY7gCH5y//Y9FVDmtwREOUBSO4sev6QIAuNLQAT1hUfTFBNxoREUHt27fnyAnaPDEkbo4cOahbt27prLzaNNrfrkAXspOH05rQvJUjda/z5W8OU/Xa5di6/9ze2bpp0A7sBrqIaewOcD0FXTXwwqgnVziss4BJNb/w3k22nOaLiKS56/bwegAvHM2g30VUBkRrAPwmpFTmkGQITwYd731x9/O8+PkjNGPlVqpUqwHlzpOP+oyaTojIgGMs2XyU94FcAhEW1HGxHfANxze1Ti1haX708clUqHBRiaOrvSmC9LeArgUXzo6gq426oOBNu4Q1Mz6lcjqLrto+YOoifruGbEEbHQGQCestoFaFKVP7aJdmQBfpUQZIIAC7dR5qyxpcwC+2wfoKAI4sGEUj5q5xACi2QTeMfTr2G8mgCxkG0mlBF+kebNstA+i2TOvLoNtv8nxHnrD4/gO6d2QUArre3yihCroAFYQZg0MSfiMaQ7XaKZQnby7auHuWIdwI6N5pS9999x2DLkJVZXYCgMXFxRGc25TOVuWJuOIYKOK///2vWuV2aQS60GsraULdRpX5WkN3ra4rnBCfWDCYnRLvynIXa3gRS1lt1y7tBLqQezzxxBOkNLgKaI2WZqQLsLoqaQJCd81+epfD+gqohLV2yOT5LBW4664srOFVcgWE+UIkBIxqBlkboiEAeitUr8sW12Mffkfj5q2he4vE8Nxr+BQe9AH/Ack4NmLkwiqcJUtWzqdzn8dpzb5Xadry5wjlgcwB2l5t/FwFu4BtpH96/9kMIKzSqKW3A0bg5QtfFjBQk1E9m13/zTffcBuHHv37779Plx/yx7HCdRLQteDKhxLoAmZh9QTk4hM/fsNqCnBU1lTomZTcAOsxQ8KgNK5mQRf7QQLx72Q4c+Ri/a0CXRwrpXpdyhsRwdZodRwsEYYMGq/uj08R0PWyPR88eJDHtvdyd5e7hTLoaqEFsIOBJbJlz0r9h3dy6XEPi+D1307qwo82T3/+DoRF98qVKwy6GOI6sxPi8RYqVIigMXWeYDn2dDICXV9eEzuBLmQLZqEK6cyArgLBUF96A7rvv/8+lUspzwNzoP17Uvd6aTdt2sQOhC1atBDQdbrZBXSdKsQXf0MJdCE/gBQADmtw2sKbtdb6ic/8sKZicAcFtoBP6Gh7jnqCodcT0MW+sMRCDoGoEJBaKKgF0CLOoXYdoBtOZ9Agw2Hun/9i0fW0HcsQwK6H6TWKuuAMPZAxJCTHUrGYew3lC3Bim71suOlhYp2PYdX/QIAuvPshXfDE0qrXto8dO8b57N27V2+zV+vCDXT14MnVOgHdO/ILT0H35s2bPGpp2bJldUEX2/XqHuudrbVIB8lOs2bNeMATAd2Mt7uAbsY6yfQaO4EuLK0FCkWzk9f4pc85oFHBo1oixFZcUjnWOyE8lwJO6F8Rdgv/4ZyFvErdX87hfIawYoiFCyiFPAIaXYQNg/UV+l7sp6QPDVt3dViDUZaEclXYmUyVQbvsNXYWQ7UWamHtRRkRPWHwE0s579EL17ETHfS82B+gC4c5ADkAW+WJ9dATO69v0bUPyxSgWVZpAdRwRIDznloX6tIFAV3XoPvaxc38CRqjnSmpghFw7jm5jJ3SYuOKsde9CiMGi++hMyt5GGGl6zXKIxDrAwG6J06cYEDFw9vbCTKF+Ph4n4+uJqD7ky5sKQAT0PUedBHGDrGjITMAhGktuufPn6eqVavSs88+m67+X3/9dapWrRotW7Ys3fobN27QwIEDeT3C6QnoZuxJBHQz1kmm19gBdKFJ6zlyOmtoYXHNnjMnW1214bsUxCFmLCQJeSMi2amrcfs0jm+L4XkR43bIjOUMfI+OmcmQCaiFnhcRHJDHyHlrGWwR0QAznNEAwGob/mNQCIRrQcgyOI3BAgwpBKC4x4hp6RzjVLkQtgzQqf5jCeiu+kBTHgQDTnIIk4ZhjSFtgI4XOl1EZsiSNStrelVMX8TVxfFRF4i0AFBGqDI1YEW56vUYyJEOwI79kyvXcpy7gK73t0UwSxcApxjmt2NaU46NCv0t9Jl7Tix1KTuABXjAiM7074QSFBVdgJJSSlO9RlVo1OSehNGzAgGy7o4ZCNDdtWsXg6430gLVIjGoAkYXu3r1qlrlk6WAroCuWcmFJxZdAGuXLl1Ylzts2LAMoPvDDz/QggULCGH3Nm7cyFALEAbEIpLItWvX0oEuhqweNWoUx4kW0NW/9QV09eslU2vtALoAMy0gyu9/tMPe1oOArve3RDCDrjs4DKXtgQDdDRs2UL58+bxuXLdu3eLPtbBo+XoC6EJWUf/BapbNyL9sSpJh0V9++WU6ffp0OrBRFtVAL5VFd9i0RbR824mwnqcvf57bCka3c3Vd4Oj32GOPEV7wALR6oIv98YVj7ty5VLJkSZo9ezZbeNu0acMvc9r8wRpdu3ZlyIXeXUBX/1YS0NWvl0ytFdDNHFR6C6NW7ieg6/0tIaDrWhZhF1gOBOhieN7ChQt73bieeuoptubqOaB5nen/djxz5gyDCGDEynnPnj2GRbUz6H7++eeULyKCAQ/ALvNdDJxaEHX+vXTpUkIIN4CsK9BVsDt16lRu340aNWIduza/69evU+/evenAgQMM1wK6hrcRW82hYTaa+vbty+3XedAYo/T+Wn+Xvw7kzXEEdAV0tR2SL37j0xU6NKumN954gz+JWZG/gK6ArlG7mjNnDpUqVcpos8v1GOghMTGRHnnkEZfpgnmjnUEX/RrCw0EjGsgZI9shrFwgy4Bjf/vtty6tuXhxQmQQOF6i7tyBLkKC1alTh88Nlt2tW7emyx+jCU6fPp3zQX4CusZ3ulh0jevG6y12AV09K6Ss+4h8VQc1a9ZkZwJfgKy7PKwGXa8bu4kdBXQFdI2ayeTJkyklJcVos8v1x48fZysM7o1QnewOuu76LX9sRz8M0PXHsbw9Bl4IOnfu7JAWwGEMM8qdN29egsVWC60XL16k+vXrc4zdS5cu0YwZMyg2NpZ27NjB5/n2228TIjZgP5VX06ZNebCPokWLUmpqKiFkpCqvxNEtzlEpjPoJsega1YyL9QK6voNJX0GpFfkI6Lq4CTSbzILu2bNnGVxy5cpJ0YWjgm6OKlSAChSMCLpyq7rGp+dyKSmOh6N6SDovEcrIV2G8hg8fTriPvJng0FOjRg1vdg2afQR0XTvEoW0GC+hCsqCgVC31QBdg27BhQwK4fvzxx3w/Quowbdo0/voBfe+HH37I1mGVD5YCusa3tVh0jevG6y3+BF08nNq2bStzAOoAdY/wMM4gYMX/cLDo4lMewpwtX748KGc8bNAmYH0J1nPA51V37deXoAvHnMaNG3vc16KMefLkIURcCOVJQDc0QFfvnjKSLiCqwpIlS3hADu1+sAqvXbuW0Ca069VvkS4Y9wQCusZ14/UWf4HuuXPnqEOHDkELuRjFCOPSBzOoI1C96misXIYD6FpZf/7Ie8KECQy6CO3nj+MF6hi+BF14jOP+93Rav349O+lAFxnKk4Bu+IGut/e1gK5xTyCga1w3Xm/xF+h6e0PYZT8I7UuXLh3SUOCrurYadPFARbggKyaz0gVf1VWg8hHQ9bz1tG7dmj/Berpny5Yt+TOwp/sFW3oBXQFds/2ZgK7x3S2ga1w3Xm8R0HXfOeHmFdA1V0+oK6tB1w4jo5nt0O2aTkDX8y4TWsR+/fp5tCOuf65cuQijS4X6JKDrvo8MBo1uoPsscUYTZzSf95UCuu47J9z4Arrm6gl1FQ6gi7icderUopSUZCpfoXzQzcVjilOuXDkouWxS0JUd9Y16HzNmtNsvLL6ULiA01MiRIz3qgxFmKWvWrHTz5k2P9gvGxAK67vtIAV33dSSgK6Dr8/5PQNf9jSega66OlCUgHED31VdfZY1rz/5taey0XjL7uQ4KRRekxMQEv4JucnIyISi+J1PPnj29jtTgyXHskFZA130/KaDrvo4EdAV0fd6fCei6v/EEdM3VUTiC7gdf7CO7jBYWTuUIxMhoCIQ/f/58030wBomIiYkhxN8Nh0lA130/KaDrvo4EdAV0fd5fCui6v/EEdM3VkYBucAy2EApAHAjQjYqKIgzja3ZCjFGEcAMAhsOEcG+bN28mDBAgs34dVKxYkfDCJPWjXz+oF4yquW3btnC4ZXTPUZzRdKslcysFdM1BnGh0zdUTYNdq6cKJEycIo/FYMZmNuqCkC2LRDQzcBwJ0c+fOTRs3bjTd7NasWUP58uWjP/74w/Q+wZwQYI/BOQAqMuvXQVJSEgFkpH706wf1gjaEAXnCdRLQteDKC+iaAzgBXXP15A/QteA2cGQpoBsYcPXUyuxv0IUMAdZZDGtqdurevTuPGmU2vaQL/RqoW7cuJSQkhP6Jyhl6XQMCul5XnfGOArrmAC7YQfebb76hMWPG8OhoGKJRyQy8XbrKz2qLrnFrzvyWYAbdG3+eoef3zaERE3vQoNFddechY7rR9iMLM+iKv/r9NO0/tZxmLhpK46b3pjWbp9Klm4fo6o/H6Pi5tRnSewqmvk7vb9C9desWg+7BgwdNNzLE3cZQqjJJDagaENBVNSFLoxoQ0DWqmUysF9AND9DdtGkT5c+fnwPX+wJ0XeUnoBtYq+i+l5ZRVKEClFIxng6cWkEvvbWOTr6xjrYcnEeNW9SkgSO7EKAY8Inluu0zqHzlMpTa/gFau3U6HXl1Fa1+fgq17dKYqtRMprRerejr26dtBbv+Bl2MagaLLmQzZqavvvqK07/wwgtmkkuaMKkBAd0wudCZOE0B3UxUntGuArqhD7qIJdqsWTMqWrRoBtDFGOYYl1zPsouHtd56V/khvYBuYEH3zU92UKm4GIZUWGW11tTzl7bSjIVDGHABuXNXjKB7oiJp+vxBGWD2s1snqM/gDtSqXX2CxVebT6B/+xt0ETcZoGtWOwitIdLj3pJJakDVgICuqglZGtWAgK5RzWRivYBuaIPujRs3aODAgbRs2TKqXLlyBtBdvnw51apVi+FUC7Vr166lChUq0Llz59LBrrv8/AG67777LgE8rJiCWbqg4PPNKzuodLw+6CLNpz8fZ2g9+n9rqEixQtSgSTW6+sNRXZB9+9ouGjCiC1376ZjudnVMfy/9DboYchrgCq9wM9OUKVN4yHAzaSVN+NSAgG74XGtvz1RA19uac7GfgG5og+7q1atp1KhRBI9oPdC9du0adejQgapVq8YPcYDqs88+y/E/582bR84yB3f5+QN07TAEsJ2jLhiBLiQNH3y+l4EV1txeA9tR9hzZaNaSYYYQi3TQ6Co49jfQGh3P36CLlyuA7kcffeSiN72zqUWLFtSxY8c7K+SX1AARCehKM3BXAwK67mrIi+0CuqELuri2Xbt2Zci9cuWKLugCTK9evUpt27Zl2J01axZD7pw5czJArtn8rJYuCOi6lkbogS7CoHXt2YIgXQA8XvhqP1WokkgRkfl0ndOMANMu6/0Nuq+99hqDLl4MzUx4WOFekklqQFsDArra2pDfejUgoKtXK5lcJ6AbmqB7/fp16t27N8drBMy6Al1s/+9//0uNGjWiHDlyED67OltyPclPQNc1iFoNiwp080f+i6rVSqYadcpTmftjqURsEQfovn55G91Xqig7rb1wdrWhRdfqsnqbv79B9+TJkwy6kO64m6DLhfX30KFD7pLK9jCrAQHdMLvgXpyugK4XleZuFwHd0ATdhQsX0vTp0wnOZmZAd/v27TxiT1xcHCGU2vvvv59Om+tJfgK69gBdRExQzmhwJgMcnr/8j0VXOazBEQ1RFrwFzkDt52/QBbQCXn/++Wd3XSphhDCk/fTTT92mlQThVQMCuuF1vb05WwFdb2rNzT4CuqEHunCYKVu2LFtooRXE3LRpUypYsCBHXkhNTSXEAwUAY961axfFxsbStGnTCE43SI8O+cMPP+TtnuYnoGs/0AWQIszYhS/3MdQCgKvVTqE8eXPRxt2zBHTd9JM7d+5keP3zzz/dpCRauXIlRUZGEgaZkElqQFsDArra2pDfejUgoKtXK5lcJ6AbeqALQE1LS2NgdQe6+/fvp1KlStHkyZMdYcYgc2jevDnVr1+fh9r1JD+As9Wgu3v3bj5GJpu+7u7hEHUB0AsnMwwskS17Vuo/vJMjrq6ehRaOaNd/O2krGPa3RRdxoyHrMTMNHjyYatSoYSappAmzGhDQDbML7sXpCuh6UWnudhHQDT3QVZZa7dJIo4voAU8//bQDctU+n3zyCS1ZsoQd1dQ67dIoP6SxGnTdtenMbA8X0AXQQsaQkBxLxWLuNZQvwIlt9rLhdOX7I2ENumvWrKGIiAhTTatx48b0yCOPmEobSol+//13woiJMhvXAV6AIA+TOjKuI9TNb7/9Fkq3hkfnIqDrUXWZSyygG96gq4VXT34L6L7Kn7IBgnpW0ECue+3iZoq5rwiPdqakCkbl2XNyGTulxcYVoxUbJjnCiMHie+jMSh5GWOl6jfIIxHp/W3Tx0hcdHW2qUy1ZsiQ9+eSTptKGUiI8SxARRWbjOkhISGD5mNSRcR2hbvDVLlwnAV0LrryAroCuJ4Cr0gro2g90AacY5rdjWlPKkTM7628RUmzPiaUuYRxRGgaM6Ez/TihBUdEFKCmlNNVrVIVGTe5JF78+4HLfQEAujulv0J09ezY7a7rrgm/dukVZsmRh3bu7tKG2HU54x48fF2ulC6u2WHRdW3JhzcUXwR07doTa7WH6fAR0TVeV+YQCuuEBugpQ/bEU6UJgndECBZ/+PK6/QReOmvHx8W471vfee48t/RhgItyml19+mU6fPu1wcvVHXxNsx6hZsyZLF4Kt3P4s7wcffEBw/gzXSUDXgisvoCug6+tOzGrQRdD+b7/91oK7gSgUNLr+BM5AHcvfoDt+/HiOZOKu0e3bt49B10wYMnd5Bdt2AV33zxIBXfd1JKBbnJo1a2Z4+/ft25f7mL/++sswTSA23BWIg5o9poCu+xsPIIjYsqVLlxZrxf9CkrmCY6tBFxoutFsrJgHd4LBG+xt0R44cSZUqVXLb5BYtWmRay+s2syBLIKB751ly4cIF+vHHHzM8L1yBLvZx1a+GyzYBXQFdn3d9Arp3OidXHYmArrl6Qh0K6AYHLAbKGuuL4/obdBEyDJDibhoyZAhVr15rWFjbAAAgAElEQVTdXbKQ3C6ge6ePBKx16dKFvvrqq3Twqge60KX26tWLzp49my6tq+dRKG8T0BXQ9XkHCdCFAwFG0JLZuA4Auog3K3VkXEeqbt58800eetjnjfV/GdrJolu4SBTdnxwXdPO/E0pSqbgYuj+pdNCVHfWNkceSk5PcgsE777xDe/fuzXRTfOyxx+iBBx5wm0/r1q2pY8eObtOFYgIB3TugCxDt2bMnJScnE/TaCkydQffSpUtUrVo1QrtRacJ9KaAroOvz/vH8+fMSDsZESJzExEQqXLiw1JWJugKIHj582OdtVWVoB9D97rvvaOnSpTyaHByVgm1u2LAhw+KIESOCruyqrtHG3EGBr0C3R48e1KRJE9UEDZeVK1em4cOHG24P5Q0CuulBF8CWPXt2uvvuu/llC21VC7owMOGZgpc2sebeqTsBXQFdn/eTt2/fpi+//FJmN3WAsDAYJlfqylxb+eWXX3zeVlWGdgBdd4Bl9+0TJkzgB2yo6wJ9Bbr4DI2hs91NRYoUoQULFrhLFpLbBXTvwJq6/2HVBcgi5Nz06dN5xDwMGIGXZIy0h21izU1fbwK6Aroh2UEGw0lhOFx0UDIFvgYEdNM/GNRD1ZOlgK5n7bhdu3bUoUMHlzvBaJA1a1baunWry3ShulFAN+N9qay6AFqjWay56etNQFdAN1T7SNufl4CufS7RH3/8QX/++aclBTIbdcETqLRjWgFdz5pPy5YtqWvXri53+uyzzxhmAHzhOAnopgc2dd8rq64e6Io1N2OdCegK6IZj/2mLcxbQtcVlsLwQZkH36tWr9O/4ONbYxcQUp2CbCxaMpJy5clCx4kWCruyo63ujo+ixx/r4TaPbuHFjdi5y1QBhmQPMoG2E4ySgmxHaALuurLpizc1YZwK6Arrh2H/a4pwFdG1xGSwvhFnQffXVf4YAxjC581aOlNnPdRBXpgQlJib4DXTr1atH/fr1c9n+MGwpQPf33393mS5UNwroZoQ2V1Zdsebq15eAroBuqPaRtj8vAV3bXyKfFNBT0P3gi33ki7iwkodnsYf9HUcXzqiIketqWrx4cdgOFoF6EdDVBzcjq65Yc/XrS0BXQNdVP+vVNoRJQoB/mV3XAcIGlShRQurJZFv5/PPPvWqPZnZCvN5bt26ZSepxGgFdz4AzUIDub9CtWLEijRo1ymV7wvYKFSq4TBPKGwV09cFNz6or1lzjuhLQFdD1eT+JASPgxX7kyBGZXdRB2bJlqWjRolJHLupItSG0p3379vm8raoM7RB1QUkXxKIbGDD2N+gi8P/EiRNVE9Rddu/e3eUY9bo7hdBKAV1jeHO26oo117iuBHQFdH3eLcoQwMY3nHoTx1KGADZXT6grGQI4MPAXKOtqII7rb9CNj4/ngTVcdcDNmzentLQ0V0lCepuArvs+EhEYxJrrup4EdAV0fd5RCui6vukU7AromqsnAd3AQe6NP8/Q8/vm0IiJPWjQ6K6685Ax3Wj7kYUZdMVf/X6a9p9aTjMXDaVx03vTms1T6dLNQ3T1x2N0/NzaDOkDAbfaY/obdDFYzKxZs1z2vxjKddiwYS7ThPJGs6C7Zs0aKlOmDCUlJYXdjFjspUuXDrvzxrXGNR8wYIBbB1IBXQFdn/eTArrpAe6ll14iDIusAFctjUD3ww8/pAMHDmRIr/YLx6VYdAMHu4DBfS8to6hCBSilYjwdOLWCXnprHZ18Yx1tOTiPGreoSQNHdiFAMdJiuW77DCpfuQyltn+A1m6dTkdeXUWrn59Cbbs0pio1kymtVyv6+vZpW8Guv0G3ePHiNH/+fJf9LwBmxowZLtOE8kazoAurN6JTYKhkmcOnDmJiYgizu2eigK6Ars/7SQHd9KD7/fffExxPNm/enO6G1APdw4cPU0JCAl2/fj1dWnc3cqhvF9ANLOi++ckOKhUXw5AKq6zWEnr+0laasXAIAy4gd+6KEXRPVCRNnz8oA8x+dusE9RncgVq1q0+w+GrzCfRvf4Nu4cKFacmSJS773/z589Pq1atdpgnljZ6ALuISf/TRRzKHUR1gkBq8DLp7/gnoCuj6vJ8U0E0PurgJ8WkNFofRo0cTPPyxTgu6P/74I82bN4+yZcvGuj13N264bRfQDTDoXtlBpeP1QReA+unPxxlaj/7fGipSrBA1aFKNrv5wVBdk3762iwaM6ELXfjqmuz1QwOtv0C1YsCCtXLnSsP9F7Fz0Gbt27TJME+obBHQF3F29vAjomusB8PWoWbNmhon79u3Lfc1ff/1lmCYQG+4KxEHNHlNANyPowqoLLRUeXGhwGNpTge6NGzeoW7duvA0PP7HmZqw/q0H35s2b9PPPP5tt4h6lC4XwYm8agC4kDR98vpeBFdbcXgPbUfYc2WjWkmGGEIt00OgqOA4U2Dof19+gGxERQU8//bRhW0I/gP7i9OnThmlCfYOAroCugG7m73IB3czXYYYcBHQzgprWqouHF6A3OjqacufOzbIGrMM8bdo0t59hws2ai/O1GnQzNGIfrghV0EUYtK49WxCkC4DGC1/tpwpVEikiMp+uc5ozWNrtv79BF/f+hg0bDFvau+++y30CNPvhOgno2g903377bdvIQ8Sia65nENA1V08epRLQ1QddrVVXga12KdZc/XoT0A2sbAFAqiy6+SP/RdVqJVONOuWpzP2xVCK2iAN0X7+8je4rVZSd1l44u9rQoms3wFXl8TfoQqYE3b7R9OKLLzLo4mtDuE52A93nnnuOHn/8cerTpw/PAwcOZPkJNKCwPL733nu0fPlywnqkwch32MeVVTIYtgFuFyxYQNWrV6datWrR66+/botzEtA11zMI6JqrJ49SCegaA5vS6moBV/0Wa65xvYlFN7Cwq0AXEROUMxqcyQCH5y//Y9FVDmtwREOUBQWQwbL0J+j+/fffDLE7duww7Fu3b9/OaW7fvm2YJtQ32A10AaWHDh0igAOkJ+jP9UB1xYoV/NVu9+7dutv19rHzOoAuvj7A8Qsh7wR0g+vOE9C14HoJ6BoDm5FVV6y5xnUmFt3AQi5AVQ90sR5hxi58uY+hFgBcrXYK5cmbizbuniWg66Jv/eOPPxhi9+7da5gK+l3AVDhPdgTdc+fOUaVKlXhUy2PHjumC7MGDB6lJkyb02muv6W63M9QalQ3GBlhzBXSD744U0LXgmgnouoY2PauuWHNd15nVFl0ZAtg1TBuBrtZaCyczDCyRLXtW6j+8kyOurjaN+g1HtOu/nbQVDPvTovvrr78y6MI6aDQhxi4eUOE82RF0Yc0E7OHaHD9+XBdkESbyoYceIjwLjcAx2NbDqgsHagHd4LsjBXQtuGYCuq6hzdmqK9Zc1/XlD4uugG7mQRcQCxlDQnIsFYu511C+ACe22cuG05Xvj4Qt6CLEICRLsAgaTZMmTeLRroy2h8P6UALdV155hSBpeOONN2jnzp00ceJEeuaZZ1jXq4VeWPmxDS86W7Zs4TaitiMCx+zZszlM5dKlSzkvtQ1LvDitWrWKoBnGoEMwoEAjfOHCBZ4hlUG72rRpE8HJUe1rpmyuQBeDIj355JNc7m3btvGxVN5WLkWja64XENA1V08epRLQdQ9uWquuWHPd15dYdF2DqLKUWrV87eJmirmvCI92pqQKRsfac3IZO6XFxhWjFRsmOcKIweJ76MxKHkZY6XqN8gjEen9adOFgBtAFIBhNcGSqWbOm0eawWB8KoPvmm28ymEZFRVF8fDw7qsG4kSNHDo6b3qFDBwJEAgjh8IX/gN2nnnqKBw+aO3cub8PAIdh/+vTpjm2QEuB5i3rq0aMH5cuXj62uo0aNYstryZIlKVeuXAygcKJLSUkhDD2dN29emjlzJnlSNj3QBUBjGGuUGYOf9OvXj+6++24uC6KGWAm5yFtA11w3IKBrrp48SiWg6x7clFVXrLnu60osuoGDXMAphvntmNaUcuTMzvpbhBTbc2KpS2sspA4DRnSmfyeUoKjoApSUUprqNapCoyb3pItfH3C5byAgF8f0J+iqGLmvvvqqYd/6yCOP8OdvwwRhsCEUQBdABgtro0aNGALHjh3LYAvra9myZSlPnjy0aNEiAhg2aNCARo4c6QBEwOOyZcvY+gopBED17NmzvB1DHQOe4bSIY8Aqm5SUxE5wsARjHaQVpUqVYriF9RhgCqtwYmIi1atXj49ppmzISw90t27dyueFdqzOs3Xr1qwtx/GwzspZQNdcJyCga66ePEplBnTx6Q43Oj6vhOuMjgoPs3A9f5w32sB3333nNnawWHQDB7uBAk9/H9efoPvpp5+yRReOTUZTmzZtqHPnzkabw2J9MINu8+bNCdcXoAeZQMuWLalMmTIMmgr+Fi9ezKCL6wzQBczCIgrrK56jCFcGqQPSIxQdZAnICxpg5Ie0KnyZcpKrW7cu54V99BzIAKxIA4c67GOmbABkZ9DFugEDBjBY9+rVi3r37s0z2i0gGmVV52nVUkDXXDcgoGuunjxKZQZ08capwmrJ8p/BIsK1HqA5g9XW1SygK6BrNfj6E3SvXLnC/R/atdEE6x6G5gznyY6gi8/9NWrUoCJFitDRo0d1YW7//v0MoioMlxFM4kW/cOHC1LRpUwZO7AcAzZo1Kw8oNGzYMJYXKFAE1LZv354BE3CpBd3z589T1apVGWKVbEBBrdaBDNsAojgOntVmy+YMutgP1ltlGVZl9OdSQNdc7yCga66ePEplBnTXrl3LeiK8scocvnWAz2rQnLmCXH9IFz7++GPCUMxWTKEwMprVkGmH/P0JupcuXWLQRd9nNAFExowZY7Q5LNbbEXTVp37IzpRswBnuNm7cyECK64ttRjAJaQEgpFOnTg4HLuwzb948tv4CeLt06cIWWrQFSB3wJQx5Tp482VLQdS6bHui2a9eOoAN2DrOGOkJ653rx9X8BXXPdgICuuXryKJVZ0I2MjLT8RvD1jSX5+VZzhU95dgBdjxq4h4kFdIPDGu1P0AX44AsOlkYThgmHJ3s4T3YEXTwDYGnNmTMn913OzwR80h80aFA6ra0CXVxTaGTVPtC4wqILsIWlFQ5iChDxHH3ggQfYAQ2RDGAU6Nq1qwOIfQ26rsqG8jqDLtYBNOFUh3KpcmP9woULCXGg1XlatRTQNdc7COiaqyePUgno+hYGreok7JCvgO4dyQacTAA/OXPmoHsLRwXdHBVVgArcHUH3Rt8TdGVHfaPuy6WkuP268M4777BXvEedolNiQA2OB8uu0YRP4wghFc6TXUH35MmT7BgGa+a6desc8IkBIgYPHszyAUTUUH2sAl1IDdavX8/rYblFpISGDRsSZAcARWh0cc2xH4C5f//+7OwFiQNAFzOcvKDtxXC8cGQbOnQoISIDnrsVK1bkqAuQxCAPLBH7tnLlyg69MNoeNLrKsc1M2ZAXtMKQbChtL9bhHGFlhuW5fPnyrNFt0aIFnwfOCWmsnAV0zfUOArrm6smjVAK61t7c3nYc2jdub/Pw9X4CundAFw6acDhZuXJlUM5wjgG8wSoVrOcAsHIno/EF6ELnibqCVtdoyp8/P0ON0fZwWG9X0EU/CMjr1q0bf7oH8MIiiv7s0UcfpTNnzqQDPAWT0dHRPGIatK0YOQ2WUJUW/TMc2DDMbrNmzXgbZAuQBQB6Z8yYwdZfWIBhMQbc4jfgGM5pAF60GURiQHixI0eOsFMbJBb4egoARzpEdShUqBBHRhg4cCBHccC966psKgwZQF3lpSItQKeMMmAUP8xwRtNCvq+fGdr8BHTN9QICuubqyaNUdgRdiPjhydqnTx+ecYPjYQwtEW4cvF0vX76cYxwiDWJYKm9W7Y0VbL/ReSI2I97+EXNROUfY5TwEdO+ArjvAsvt2PHQAb3go272smSmfL0AX3u6oq2vXrun2rX///TdbyfDJOpwnO4OuJ32oAl30d1rpgid5WJXWzmVzd84CuuZ6BwFdc/XkUSo7gi5uGHz+wQXHWycGbNC7iTByDd7Md+/erbtdbx87rwPobtiwga0EWs9bu5TZLqCLsenxsmPFZFajmxn4ssO+ArrmWw+sYQDdL774Qnen3377jbejXYbzJKBr/ddBAd3Qv8MEdC24xnYFXRVnsGjRohm8RBX44cGCT0rQWql1wb6ETgvWXAFd48ZuhyGA7QCrmSmDgK5x+3LeAqseQPfrr7923sT/v/nmG96OT8DhPIUS6OLzPowo/vqsb/a5BdC1a9ncnYNYdM31DgK65urJo1R2BV18tgfs4aIjdIreTQQNE256nIPe9mBcB6suHBIEdI2bsR1A9/PPP6eatWpQ2bJJVL58StDNxWOKUa7cOSkpOTHoyo76Tk5OpFGjRrqVXfhCunDixAkG2W+//Va3UULSABCGQ084T6EAuriG0NfiuYMhejHIApzZ7PAssXPZzNSPgK653kFA11w9eZQq1EB3z549tGnTJvaKha4XYV1ULEN1M+KzN5wDxo8fz7IIgJNWDwsLDgZGGD16NHvVqtFu1P6QVWAkGWiGkfe0adNYIwy9I+YdO3bQpEmTuBx4A1f7YdhHyC2Q386dO3lMc3jlojwqjSvQhXUBIYwmTpxI0APiWGo/fyztIl2wA+iqz9m9Braj8U/0kdnPdRBd5B5KTEzwC+jCgQcgCwdEvQn3OLbjfgznySzodu/enesrNjaWh7u10xKOaiVKlKCYmBjHjHW+KiMgBrM3+VldNm/K5Mk+uEdwDu6+ROG5iudjuE4CuhZc+VABXXi7tm3bluMEwktWeZZmyZKFdb5z585lKES4FoSJQUBvAOuIESMoISHBYTUGAMfHx3PMxaeeeoq3QUqAekJHjn3xpg+rK7xlYXnFzZsrVy4GUDjRIRQMOoC8efOyV7vygoWHLfKGcx28axHTMFu2bNShQwdHXEM90MUDdNasWZwO46n369ePg4+jLDgff0AujiGge8cZTYHuB1/sIzsMoBBuZfBnHF30E3hI//LLL7o9MCxt2I6hgsN5Mgu66LPQn4XjjOcCoiiE47njnPEVVkDXdS8hoOu6frzaGiqgCxDDTYR4lklJSRz/EJYWRDFAiBXorV588UXat28fw6saJQfWVERtgDxC6Z9UzELkOXz4cA4Bo9LDKov8kR+GRkYa7IuYiejEYKEFmMIqnJiY6BhyEW+pjRo1YkAdO3Ysgy0eoIhriPiKixYt4rz0QBeByrGvChGDvADzcNTD8VAGf8wCugK6dgFqf4Iu+gyALBwV9SZ82sZ2I2mD3j6huM4s6LoDnVDeXrNmTX52hPI5ZvbcxKJbnEPWGfURGGoc/c1ff/1llCQg6+8KyFFNHjTYQRexDOG4poAT1lXEM1Sf9XHTwGIK6ypCkiFeIT5LAUIhI8B2yBaUfACxUSFLAPQCnBGzUDtGuXKSQxBvZU3VcyADsCKNCtiN/JAXYFEbsgbBxAG6nTt35jI7gy7OAzoxgDXGS+/duzfPiH+IcctRVn9ALo5hF9CF9MMo1JPJZm+YzGzUBbHoBnYENX+C7q5du/jBcvv2bd12A6dYVyCsu1MIrhTQvfMibAR7Arru60hAV0DX592jXUEXn/sxsgsstNDI6cHc/v37GR6VvhaWVWfQxX4YthYyAehuAY5z5szhgNsYISY5OZlj9CowRnrE5G3fvj0DJuBSC7r4TFm1alWGWAW6Cmq1DmTYBhAF6KKOjUAXVl0EEm/atCmncQZd7AfrLfJSx9OrC3+sswvo+vwm0GQooBtYgDVrMfYn6EIPD5BFvFy9CV97IJEy2q63TyiuE9B1D3ECuu7rSEBXQNfn/aNdQReNHZ/roWVVsgFnmNu4cSMDqbLGGoEu9Ln4zA+LrsoDnTK0rpA1YBuGcgTsQrsLOYFyYPP1GOXOFl2UGZqcTp066Vp0Abrt2rVjgIcOWZUfS9QRwFi7zsrfArp3Omk7WnRv/HmGnt83h0ZM7EGDRnfVnYeM6UbbjyzMoCv+6vfTtP/Ucpq5aCiNm96b1myeSpduHqKrPx6j4+fWZkhvFkitSudP0IXzI16KjSb0Q/hiFO6TgO6d/kEsuu7rwqiOBHQFdH3el9oVdAFsw4YNo5w5c7JF1hngAKUYWhFDJKptCnQffvhhhka1Hg5i0NBiOyyoiMagtkH/ili9kA5gO9JhqEdl4fU16EKCoJUu4Piw6M6bN4/L5GzRRTkRlgUWaZRLC7YLFy6kp59+2nEu6pysWgro3um87Qi6Cir3vbSMogoVoJSK8XTg1Ap66a11dPKNdbTl4Dxq3KImDRzZhQDFSI/luu0zqHzlMpTa/gFau3U6HXl1Fa1+fgq17dKYqtRMprRerejr26dtBbv+BF0M4oJ+yGiCAyteyMN9EtC90z8YQZxYdN3XkYCugK7P+1I7gy6cPOAYBjnCunXrHPCJASIwFjg0sNqA3gBVhIaBXEA5bmF7xYoVOVQY4BXhxyADQFoAIfKCFAEhu3A8gC5mOHlBP4vheKGhxdjkeKChvpAfoi5Am4s8sMT/ypUrO/TCkBmgfMqxTUkXIINYv3497wdLNCInNGzYkGNwIi/oTyHZUNperMM5wMoMq1L58uVZo9uiRQuOLAEpBdL4YxbQvdNJ2xl03/xkB5WKi2FIhVVWATCW5y9tpRkLhzDgAnLnrhhB90RF0vT5gzLA7Ge3TlCfwR2oVbv6BIuvNp9A//Yn6KLvQR9gNKGfwFeZcJ8EdO/0DwK67uvCqI4EdAV0fd6X2hl0FeR169aNYRfAC4sogOvRRx+lM2fOpAM8BbqAQoQXQ7ixBg0acExbJW/Yu3cvQyMiJ8BJDTNCjAFWAcIIFg4LK2ZYjAG3+I384JwG4M2fPz9HYkB4MTi3wWIMiw5kEABwpIOlGWFkIItAOLGzZ8+ynjg6OppHc4PuFqO6wUqrzkOFIQMMq7wUsEOnrEKmIU84o2khP5xAF/V1+fJln98LyDAUNLpvXtlBpeP1QReA+unPxxlaj/7fGipSrBA1aFKNrv5wVBdk3762iwaM6ELXfjqmuz1QwOtP0MVXE9xzRhPCJpUuXdpoc9isF9B1D3di0XVfRwK6Aro+7zTtDrqeABxAV88ZzZM8rEqrLLqAdK10warjWZGvXSy6dhowwo5xdI1AF5KGDz7fy8AKay4Gu8ieIxvNWjLMEGKRDhpdBceBAlvn4/oTdBHZBC+eRtOUKVM45KDR9nBZL6DrHuIEdN3XkYCugK7P+0wBXf989hfQ9V3TFdB1HRlBD3QB5F17tmDpAqDxwlf7qUKVRIqIzKfrnOYMlnb770/QhRMrBnsxmjCCImRL4T4J6LqHOAFd93UkoCug6/O+NNRAF1o5Z2c0K6ybnuYJ0IX0ANILf0sOPC2rUXqx6N7ppG2t0f2fdCF/5L+oWq1kqlGnPJW5P5ZKxBZxgO7rl7fRfaWKstPaC2dXG1p07Qa4qjz+BF2MRgjJkdEEuRI0+uE+mQXd69ev81ctfNkKtxk+G4jjHm7nrc736tWrMjKam45CRkZzU0HebA4V0IVWFjFv4TSCEcoQxUA5ixmBm7/Ww2EM2l80YAwfjAEg4Pjmr+P76jgCusEFuoiYoJzR4EwGODx/eStDrXJYgyMaoiwogAyWpT9BF9FNEJnFaMIgLgiFGO6TWdDFiwHiEsscfnWQlJQooOumoxDQdVNB3mw2C7rolNasWWPbedmyZQy3iJmLGUP/QltnhzKjHPPnz+dyoWyAcIzKZoeyeVIGtAEMvmHkLavW4wUDcYitmkS64Ll0AQCLMGMXvtzHUAsArlY7hfLkzUUbd88S0HXRWHG/wgpnNKWlpRGioIT7ZBZ0UV8161agi18flDmM6mDkpB5UsmQJt88PkS6IdMHnfakZ0IW1VN6+w+/tW++aY9Q4BbRGS6tB98SJE3Tx4kWf3wvIMByiLgB64WSGgSWyZc9K/Yd3csTV1bPowhHt+m8nbQXD/rToIqoCnFyNJkRuwUiK4T55Arot2tS3VXvSa/eyzvULtaf18+TioRQXV+r/s3ce0FIU6QJWcniAAR6CghIWkCRJEJEgIiKgwEUBCYsgooAkJSiSJEgSECSICCiKRAkiQUAkiPrMCq4ZATG7Blxd4/7vfMXW0Ldv90xP3wk9d6rO6dMz1dXVPTVdVV//9YeI84cBXQO6MR9LvYCuG9CkUz46eLgQSqff7Pe3xht0Y94JLBWmC+gySaHGUKV6OTm3zP+6qi9gxDZt3h1y+PvtgQKTRIIuakfo1ruldu3aKTeBbsfTJd+AbmzBMFqQDHp5A7reRgKjuuCtnaIqZUD3lN5lOLAzoOutnWhDA7rJnfBeem+llDm/lIp2plUV3CbBjc/NU0Zp5SqeKwuWjw25EUPiu3X/QhVGWOv1utWRjPxEgu6ECROU7263gRV/2L1793Y7nDb5BnST2++T0Q+juaYBXW9DgQFdb+0UVSkDut4AzoCut3YyoJu8yQ44Jcxv5x6tJG++PEr/FpdiG3c/EFYaizuyAcNukL9VKSvFS54h1WpWkKYtLpYR43rLe189HfbcaCa6WJZNJOgSBrxq1aqu42qzZs2kX79+rsfT5UAqgC5GmZv3zpd77x8ioybeLItX3qMMNo/8uFP5i47lM5rdul545wkVfrtug2oqOiH37bdOxobHN06Vq669TEVMvHVIZ3n72Abf9fm5DwO63kYCA7re2imqUgZ0vQGcAV1v7WRAN3mg62fySdVzEgm6d999twrl7TawErKbiInpnoIMuoDesrWT1SpHu+sulyWrJyp1nYeeGC8ZXVsq+OvR59osYbCT1T9YlWnV7jIVgrtrrzaCq0CiGBLN0M898TuvbNNQBt/ZXZpdWV8FiuF7IlWSDOh6GyEM6Hprp6hKGdD1BnAGdL21UyJA9+2335bjx49H9Zx7LZwTdHT9TISpdk4iQffOO++U2rVruz5CdeAczAUAACAASURBVOrUEYJGpHsKKugCuTMWDBNc6U2cOTALzH76y24FlNd2bCZIfJPdF7jfhY+NFWBX38sDS0dJocIF5O5JfUN5HON+Ka/L6T35n/2yW+WzKjP7oZGhMN783uu6tVQ+tLcdeDDLubqOWO8N6HobIQzoemunqEoZ0PUGcAZ0vbVTIkDXuBczUuNEgu7w4cOlfv36ruNqtWrVZOzYsa7H0+VAUEEXKSjS0OZXNZAjP+xwBLs3j66XAcO6hmAw1pCX3fr2vvmIMhoF2HVdeEPp8vdWKpS3NUT30RM7pdetHRTM6rL2PWG/0ePf//byUH32MrH+bkDX20hgQNdbO0VVyoCuN4AzoOutnQzoGgiN9QTpVF8iQXfo0KGCeoJbwiPDpEmT3A6nTX4QQRdpZ5/bOqqleuDO6Vkij3K7Xl4SMsYkD1/TD6+aIADa2u2zBUmo9fz3v94iS9dOVuXQd53z8J2yYtO0kCT1qT3zZOyUW2X05L4yflo/ee61Zer81z5aK5NmDVLHvAZrWb11pjRpUS+LXi33jOeUWwZ3UvcO8N40IEMqVysnO19+ONP96nvntwL1uBVMpATbgK63ocCArrd2iqqUAV1vAGdA11s7pRvo/u85Z0vlC8un3FaxUlm5oEJpFRo4Fe8fH8/Vq1eL6O7vrbfekk2bNkU1JtoLDxw4MGyIX4JJEAgm3VMQQffdLzdL7YurSpFihRWsatiLtEefF4NMjNVWbp4hlzarLZdcdpG8+O4TCmTvWzhcSUSRFGPYRhRCjDnz5c8rI8b2UuCM7+mR429SeUPu6pFJxQDJLKDpxT810uYOna+Q9bvmOIIrEmtCfPfun6EkuZUuPF92vOQe1nvNtlmqvkgeWSK1UbTHDeh6GyEM6Hprp6hKGdD1BnAGdL21U7qA7nfffSdE40OSl4obIWuBxREjRqTk/dPmBLLheQu3xQJ0+/fvL3hWcEslS5aUuXPnuh1Om/wggu6rH65R7vOKlzhDnnnRHf6s0LbvrUcVOCLN1fnPH1wuF1Q4V1pe00gZcCEVBSyLFC0k46b2U9JeDLsaN6+Tya0fkt5qNSsqbweoFFAfkmG8nHAdXb/TnnJIfvFzfdrpp6nrP713geM5W/YtVOoZgLdbmTeOPCl4YUHXN1fuXHJ1u8bCi4DTteORZ0DX21BgQNdbO0VVyoBu+IlST6IGdL21U7qArn4uUnU/evRoBbrvvvtuWFBM1d+n7zsWoNu3b1/hxcAtFStWTIUbdzueLvlBBN3XP14n5SuWUYZoXtQEAFhC1QKMzx98PASBX/2xT/B+cMaZRZS7PsoNvauHglDcgAGG5PXs204qVCojuOzTeUh4AW1UGchDAsu5XtUGgHU8QiAtRrKMSoUVRDE60/dyXtmSgvRYG6JZy/GZ37Hh2blSr2E1FRURiTP3bS8Xj+8GdL2NBAZ0vbVTVKUM6HoDOAO63toJwIh3wIiNGzeqa0T1oHss7NXrggapVN0b0PX4QIioYBAEhXBLhQoVkmXLlrkdTpv8IIIuUNjgsprKp/RjG6ZGBDpUCVq3b6IA1ur1APAbP32Agk08IgCHd9x9YxbQRR8YsAawNSxiSAaA9u7XQakqoF++7pn7Q8d1uXB7pMFtOzSVkqXOlj1vnNT1pTz3C5gD10hy8aKACgX35ga7nMc9YYzWolWDTHrJ4e4hu8cM6HobCgzoemunqEp5Ad0ff/xR9u/fL3v37k3brVatWsIDmM5twDPwww8/RJQAxht0o3rAoyxsQNf7C00qQH4sJLo9e/aUNm3auD5JefPmlRUrVrgeT5cDQQRdgHTYmF5KeolObDjpJYZcn/78rLTv1FzOKl5MUAewwt20B25XqgoYnEUDukhuURk4v3xpeXLnHGU45sd/7QPL7lbArFUeqBeJLJCrpcXcL/ddsXJZBcDW+7d+5tx21zdXvnXtRnbWcrH8bEDX20hgQNdbO0VVygvorl27Vi1zotNntvRug5kzZxrQPXFCjhw5IhUrlpeS55SQ884rnXLbmWcWU9Kpc0qdk3L3TnsXL36W9O17c8RnMRag261bN2nfvr3juPqf//xHjYmMkemeggi6gBohrPFMgK6rm/rCO589JdPm3aH0bwHa/AXyCpJXDXoamC+sUV7QdY0GdKkDwAWeGzSqLgCrrjea/fxHRysdYK26gBoCRnNOvnDRR8YjhFv9gC6BMrThnFu5WOYb0PU2QhjQ9dZOUZXyArpLliyRPHnyCO5UzJa+bXBemXNk4sSJEeEiHSS6L7zwggKcO++5SWYtGmG2BLcBy7NVq1aJ+CzGAnQ7d+4sGRkZjuPqb7/9pp6D7Hp2cKw8xTKDCrrA2sbn5imJarmK58qC5WNDy/UA69b9C2XgyG4KiCmLgVaTK+oKZXe/ulTBIqoIeF3Qfmw5D4Oyk7q8J33RkoeBGpJb9GqtkIj/Xvz44vZL6+9aj1s/Uw9AzrX5zDGCPuB5YcmaSZnqtZ7n9pnwxnhaOPTpxtC5qDlgWGe/T7c6YpFvQNdbhzag662doirlFXTPOLNoqJPE4qE3daSev9ULq1c0oPtfK38NukiCzLOc+Gc5kX50r7vuOunUqZPjuPrTTz8p0N22bZvj8XTKDDLo0kcBTOCUl6TiJc+QajUrKBdiI8b1ViBp7cd4S/j7ze0EV10AIVHTCKOLFBVpKMDJMQzEMEADSpHUokZQoGA+FWkNya+1TgCba2l4tR6zfkZie2mTWpI3Xx5pdHltZYh2TUZTJb2NdK61Hv0ZtQaiwiFRRi2jS8+r5YYbW4s2otPl4r03oOttNDCg662doiplQDfxk3S8B5R41R8U0D169Kj885//jOo591rYq46uAd3k9ptEgi5qC127dnV8hHgOUefatWuX4/F0ygw66MZrXIxHvR9+u00ZrKEPjE4ugJ2d66C+QV1IdvHLm526/J5rQNfbaGBA11s7RVXKgG5yJ2y/g0YyzgsK6JoQwOaZTSTotm3bVnr06OE4rn7xxRcKdPft2+d4PJ0yDeiafhluXjKg6200MKDrrZ2iKpUqoMty0ea981UUmlETb1YRa1jiQf+IMIjhOliij7EkhN/Dug2qqSUv7tvvPbBU9fjGqcrhONF3bh3SOUsYSL91R3ueAd1THgmMRDe5k3oiQffqq6+WXr16OY6rx44dU6D70ksvOR5Pp0wDusntE9GO54kub0DX22hgQNdbO0VVKuigC+hhWVqrXmVpd93lsmT1RKWoj74UVqPAH1CZ3aWdWHV6fC+2aneZ0tHCwXjRYv+jDBZwEu7nGvzOK9s0lMF3dpdmV9ZXMdv57sc9jZ/rW88xoBts0KWvPPHUdOVOCeMap43naO322VmexVR6keSZTCToEiyiT58+juPqRx99pED39ddfdzyeTpkGdA3oWucL+2cDut5GAwO63topqlJBBl0mbqxcUaSfOHNgFpjF/1/fQdcrqSkTtb1jJfo794szcauj8QeWjlIhF++e1DfT/bk58yZfQzuWtrMfGinW0JHXdWupouw4uZSJ9+81oBts0NX/P8YnRGKqWaeSciKPg/nnXlsmq7bcJy3bXiq3De8aMohJtRdJ/RsTCbqXX3659OvXz3Fc/cc//qFA9+DBg47H0ykzGtA9v1xp5RaLccxs6dEGHW5oIWXKnhfRU8o777wjTz75ZDp1nUy/1YBupuaIzZcggy5SUNy34JYF9yx6krPuUawfMKxrCAatx4LwmQg0+G/Ubmm4pwOHVii1BmssdfJffPcJ5Wfx/sV3Ov5WykydO1RFtNn/9kmXNon8jQZ0UwN0ddhTVju0z039nLzywWqZPHuwAt1Ue5HUv4F9IkGXqIgDBw50HHDffPNNBbrvv/++4/F0yvQKunfeeadqM+OTPf18sjdp0tiAboRBwYBuhAbycziooMskTDjFPHlzK7izTnLWz5RDR5eoNjqfyR2IZKmEZVp75Bd8AeNMm3K4kZnz8J3KIlVLWZGIjZ1yq4ye3FfGT+unpGHU/dpHa2XSrEHqmJvjcX0Per9660xp0qJeJr1a7nn6/DsUsGqn3gBInfpVla9ELG71+dY95wH1RPhJhgTbgG6KgO7hdcrNkRPo8jzpvpLKL5KJBN2GDRvK7bff7ji8vvLKKwraPvnkE8fj6ZTpFXSJtPnZZ5+l5dagQQOpUKFCWv52/nO8lESKqGgkuucJdgFu6dZbb1Vjzl9//eVWJCn5pyXlqh4vGlTQxWl37YurSpFihR11Cq0AaP2MPm/TFhcrY7WVm2fIpc1qK0ffSEsB2fsWDleAiaT43vuHKB1f/CriD1FHiSF+OKEVyRtyV4/QMi/XQTILaFLGel2nz0ibcfK9ftecLGVRT0A6W7ZcKXUf9RpWUyEZ7RI4a724hqG+d79Iju/WoIDu77//Ln/++afHJzy6YjnBvRj+QvHnaQddXuDeOb5JPYvZeZG0PpPJ+pxI0K1fv76MGDHC8UE6cOCAmnSOHz/ueDydMr2CbiTQycnHL730UqlYsWJE2MvJbRDptxnQNaAb83EzqKBLxBYizKBrSDhDLxMq/gYrX1hOSXN1+ecPLpcLKpyrnH5jwMUET/SaIkULybip/ZS0l/zGzesogzcNkUh6q9WsqLwdWHVkcTiuY43ra9j3SJCR/KKycNrpp6nrE4nGXg7YRXIMUKOegaTZXobvOB4nVnqhwgUkV+5ccnW7xip6j1PZeOYFBXRj3gksFeZU0CWwBc8QKwc8I35fJOP5fEVTdyJBt3bt2jJq1CjLU3Lq4549exTofv3116cy0/STAd1TKz5uMGdAN3IbhQPdKVOnyJUtr5SWV8Vno+4uN3QWVh2SlYzqQhxaPqigq/UMMUTzoiYAwA4f2+u/IRkfDwEjMIn3gzPOLCIbdz+gQHfoXT0UhOrIMJxLdBukYDo8I3lIeAFtJGFMwiz1cq5XtQFgHY8QgCySZbu0FoAl8g3XBeqxmHeb7PkdG56dK0h+c+fJpSTO3KNb+XjkG9A9NUgH2b2Yluji8aNBo+rSsHEt9QLI6oEGXT8vkvF4pvzWmUjQrVGjhowbN85x9N2xY4cC3e+//97xeDplGtA9NT4Y0I3cFm5tFA50y1e4QK3y3jK4k8RjIwIeuuOHDh1KWtc1oBuHpg8q6AKFDS6rKQUL5ZfHNkyNCHSoErRu30QBrNXrARPp+OkDFGziEQE4vOPuG7OALvrA5SuWEQBbT74Ykp1XtqT07tdBqSowua575v7QcV0u3B5pcNsOTaVkqbMF63ddFokxuru4ImM5ecJ9A5XkF8t4XcZpzz2VOb+UtGjVIKRr6VQuHnkGdE8N3qkAulbVBV7OeH6JkMSzEe2LZDyep+zUmUjQrVKligp97TT8btmyRU2M//rXv5wOp1WeAd1T44MbxBmJbuQ2Cge6lS+spDwwZWfsCHfuW8c2GND1OWoZHd2/ovcvCJAOG9NLSS/RiQ0nvcS45tOfn1VxvInnvWXfwkywOO2B25WqAiEQowFd4IDlXqStT+6co94g/fivJQY6wKxVHgDby1vWV66etKoEElsM38pVPFeFaXTrjNxTu+ubK9+6diM7t3NilR8U0P3hhx/kl19+8dkdw5+WU1UXeAZ40dLPW7QvkrF6hmJVTyJBF53KqVOnOj44GzacnBjRG0/3ZEA3PMQdPnxYatWqJWXLlhVgjuVxNyBO53wDukZHN+ZjaVAlukyISJ+qVC+npK9u6gvoHk6bd4cKoADQ5i+QV0mu9ISqgfnCGuWVrms0oEsdAC7wzBIwwKrrjWY//9HRSgdYqy7gVWHWohHCvVvrAWIXrRgf8vJgPaY/U4ZAGdpwTucnYh8U0DUhgMO/OGrVBatE1/586H6BGoyXF0kvxpf2a8TzeyJB94ILLpD77rvPcexds2aNkgD95z//cTyeTpkGdLOC7nfffScrVqyQJk2aqOfE6lKtUqVK6rnCG0E6g639txvQNaAb83EzyKDLRLnxuXlKooqkc8HysaHleibqrfsXquhPejkWA5smV9RVUtHdry4NLdFectlFIT+2nIdBGV4XMFTjGuRhoIbkFt1F6wSN/14MxSpXKxfS37Uet36mHoCca/OZYwR9wFPCkjWTMtVrPc/tM+GN8bRw6NONoXMxamt5TaMs9+lWRyzzDeiemshSTXXB6TmI9kXSqY5k5SUSdNGZu//++x3H3scff1zy5s3reCzdMg3onhofgLdXX31VeEnKnTu3dOnSRXbv3i2EjP7888+FSHrDhg2TYsWKSZEiRRQM24Evmu9fffVVjoHlVATdf//73zHr7kZHN2ZNeaqioIMuEykSKuAUN2DFS54h1WpWUC7ERozrrUDSOtmi+/r3m9tJpQvPV0CIcjlhdFENQBoKcHIMAzEM0IBSJLUYhBUomE9FWsNIzFongM21NLxaj1k/I7G9tEktyZsvjzIywxDtmoymKoRxpHOt9ejPGMFhjIdEuX2n5tKl59Vyw42tRRvR6XKJ2hvQPTWRBRl00VFHj5uw2VpVwe0ZieZF0q2OZOQnEnTPOeccmT9//qlB0/Jp2bJlUqhQIUtO+n40oHtqfAByeW4IHw3YuqWff/5Zhg8frmAYyW80cEvZzZs3q/DUXCPac4Na3g/oMr/isx63oIQ5J/w5e9yDMnezgupl3oxWR/fTTz+VwYMHy0svveT2F0edb0A36iaLfEIqgG4yJlK/10QtAYM19IHRyQWw/dbFeUjdqAvJLn55s1NXds81oHtqIgsi6DLYY8zYuUcr9bKFISc65ngbCfffR/MiGa6eRB5LJOgWL15cFi1a5DiYko9UziQRA7onxwei5GnItdsSYANgN1xE7WXMmDEKdjdt2uQJWAFcDNt49t544w1P5wQVbO335Qd09djDiieeknAzyks8YxshplmxxQsN46FbQCbq8Aq6AG7//v0lf/78Mnfu3Jh2fwO6MW3Ok5UZ0A2v76g7kNkfEAO6wQbddHpGEwm6wMTSpUsdR18mOaDGJAO6GtiIoleuXDlHg1mel+uuuy7L4wLsot5wySWXhIVWDbjo+p5++umybt26sOX1PaXSPjugy2osK791G1TLtNqLwAn3o6y2sndbYY0EulbA5T/o2bNnlv8yuxkGdLPbgg7nG9A1oOsVkAzoGtD1+qzEu1wiQbdw4cKyfPlyh9FTZMaMGcqK3vFgmmUaie4JIXAIKwCzZ892/PfdQJfCr732mjJY279/fxZ4tQKuNmgbO3ZslnKpBLRu95od0EV1EQN2O+gyHmHTgyogPu0//m674yqXG+jaAZf/oF69ehJL3Vz9wBjQ1S0Rw70BXQO6XqEkKKD7zTffyE8//RTDXnCqqpzgXszr/5nK5RIJuvny5ZOVK1eeekgsnyZPnqxCulqy0vajAd0T8vDDD0vBggXFLYBIONDlwWnQoIHceOONIYB1Alwgq127dqEybsCYqvnxAl3UuoiI2uzK+oKht9P4ZwddJ8Cl/UuWLCkci0cyoBuHVvUKuvy56L+YLX3bIFeuXMpxfqQBFJ2xp59+Og5Pa/yrNKCbGi9+iQJdlpQZ+1gidkpI1apVq+Z0KO3yDOiekBEjRihY1X/+b7/9pl7KeTFnYwWgffv2mfKseryc37hxY2Vkhg4uz57TNmXKFHnggQdy5HbPPfdIv379ZPHixVm2UueVChswwk2ii31L0xYXS+EiBQV3n06QS54G3V27doV0cO3tzzyIxwyn+4tFHte7+uqr9SOUZX/rrbeqZ+Kvv/7KciyZGSkfMAJosf/Z5rvzAJTT2wUrcwO6J+TFF19UfSJPnjxSvMRZKbedeVYxZZyB4UYq3j/97KKaNSM+i2+99ZZg4OM3/fHHH+p/dqtj5MiRUqdOHb/V56jzDOieUHCEpwWdZs6cGXHuRDqr06RJk5QqDEZOOX0u8fP7cOU3ceZAV1DVoAvQEvocV5xEWMUQjbHugaWjXPVzraCLjrWf+4vVOQZ0dY+I0d6LRBewwU/fF198kbZbw4YNlYFBOrfBl19+GREseFbSQaJLVKNVq1bJgw8+mJIbkyuDMpKhVP0NBw4ciPg8Zhd0cf9EO23bts1xxB0yZIgyIHI8mGaZBnRPCC8+qB/oxAoRY4Xepk2bpiS6+jt7njGdtET3gw8+ECR3bsCLK7I9e/bkyG316tUyffp0eeWVV7JsF5S/wBPo1qlfNWSMhi97ABcjNYD3nhm3KVejTlJdLdFlDkM6ix9kJ3hlJcfp/mKVx//vloxE161lwuR7Bd1IUrycfpzlpAoVKkScWHN6O3j5fekAul7aIchlRo8erQbwd999N0c/09kFXXQtmehYynRKLLE2bdrU6VDa5RnQPSFLliyRAgUKCBHRnFIkHd369etL7969Q33SDXgJJYzhW5DHGL/3Fi8dXYI5lSx1tvJLj+uxcKB76NAh9fcR2tsJeHkBefnll53+4rjnGdD10cQGdE9Z0ofrmAZ0vbUTbRhv0A1CCOBwz0oqHDOg622wBCYA3b179zqecNNNN0nLli0dj6VbpgHdE4KhLF4X3EJGhwNdwIlnzWmlwgl4b7jhBgO6f2W2KdCqC05eF4hySuTUXLlzhSKl2mFXS3Q16Oo+rIHXqtKA0RirnIlOBnR9tLgBXW8AZ0DXWzsZ0PXeTskEYgO63gbL48ePK/ggQIhT6t69u7Rt29bpUNrlGdA92fcxVGLJ2x4YggfCDXQxesS/LgZo4cYFO/CiChGufCoei5dElyiRF9WtLIUKF5DHN071JNG1d2I78MIF5CUyGdD10doGdL2BiQFdb+3EwJoOEl1cy1zSsIFUq15VatasnnLbeeeVkvwF8knVqlVS7t5p76rVqsrw4cMiTvLZVV04fPiwAl1075zS9ddfLx07dnQ6lHZ5iQRdr/YCyQA9YLR06dLSrFmzLLCLcSOeGKwJyCUMMIZWGH57uWcNvEWKFJGtW7d6OsdLvUEokx3QffXDNXJ++dJZ/OjiTuy24V1VwIhrMpoK0l27NJfvbhJd6//FZyvwDhgwwH44rt8N6PpoXgO63gDOgK63dmKgTAfQ1SGA+w66XnB1ZbbEtsE5pYsrSI80MWcXdAnnynIy9Tila665RpDqmhT/yGjALRHqmjRpIs2bN1d+TCP9/8k6zhgI7KK/ffToUdfHg/sbOHCgglyMsKK9X4CX8MG8kEV7blDL+wFdIp2t3jozFP68QMF8cmGN8spnbotWDVRI4Jp1KsldE/rEJASw/kMBXnwnP/fcczor7nsDuj6a2ICuN4AzoOutnRg80wl03/nsKUfJgJO0wORl1qfLTnskyo/uwYMHFej+4x//cBxdcSXVp08fx2PplhmtRBeDrWhgC9DdsmWLVK5cWfmaZVUlmvMTXfbNN99UwUQI1duhQwfluQMwBUp5UUYSiESWENN+IDfRvydR1/MDutkZS6znepXoJrNvG9D10foGdL0BnAFdb+3EYGhAN3ZAZx2EzedT7Zoo0NVhWT/88EPH0ZVx4bbbbnM8lm6Z0YAu7Tl+/HgVQSwagMK9I9Jc2j3ooMvv+uGHH1SwEQwWWRmwbtWrV5d58+Ypg6Zo2iCnlzWgG37kMKAbvn0cjxrQ9QZwBnS9tRODcLxB96OPPlKudRwf6Gxmmshop2AyyGCdKNB96aWXFJwcOXLE8cnCHRT6lSZ5V13AZdvdd98tGRkZUYMuUl2k6KkCulYoBcwJLoKh2scff6x861qPm88n5xgDuuFHEwO64dvH8agBXW8AZ0DXWzslAnQdH+QYZRrQNaBrfZT27dunQPezzz6zZoc+16xZU+lIhjLS+INdogvMLVy4UO6//37ZsWOHPPvss0pflaAKhQoVUqGTcbz/2GOPyfz582XcuHFKyktoW9qbseSZZ56RCRMmyL333iuokbiBLpJT9CRx64WUFFgKIjjiVaFixYqBvLegtJcB3fCDiAHd8O3jeNSArjeAM6DrrZ0M6CYPFDHIeOKp6TJsTC8ZOLKb4zb4zu6ydvvsLHrFX/62TzbvnS/33j9ERk28WRavvEc++GarYK286+UlWconW9qbKInuzp07FejiH9UpVapUSSZPnux0KO3yrKDLqg56qU8++aTyQYxnik6dOgmS8XXr1kmVKlWUVBYvA6+++qrSWaUtS5YsKfv37w+BIKoKuG8DloFZJ9A9duyYDBo0SO688055/PHHVflzzjlH8LcdFHjT92FAN/I8Eg50K1Y8GZq3UbPaEo/tb1XOV/2dewhqMqDr459JFOgyQK1cuTJlt6pVqwqDZyr/Bi0l0YNuvPbxVl3w8Zh7PiUnSHSf2jNPxXXHyvjpvQtkzxvL5LnXlsmqLfdJy7aXKjc7QDGwyn7Z2slSq15laXfd5bJk9UQhgtBDT4yXjK4t5eJLq0uPPtfKV3/sCxTsJgp0ATH0Kn/66SfHZ6hs2bIya9Ysx2PplmkF3ZkzZypdWj3mvP322zJq1CilqoAxVr169RSQosagxyEkuRhmLVu2LJSHjjT+ZVFXopwT6N5zzz1KfQQQpgweMpCaoiaAVFnXH4S9Ad3sge7GjRtVmGVWBeK1TZo0Sf7666/Adl8Duj7+mkSB7uzZs9WEkS9fPknFLU+ePMKWivfOPTNZDx48OCGDvgHd5El1gdfXP14n5SuWUZCKVNYqfX3lg9UyefZgBbhA7owFw+Ts4sVU/Hg7zH76y27Bfdq1HZu5xoa31p3Iz4kCXSSS9B38nzolJJALFixwOpR2eVbQRWWhcOHCgp9h5hggFGkusOkGuhio1a5dW+ngakDmJQKQ1ZBqB13qbNiwobRu3VqGDBmiNqS77du3l86dOwsRrvS5Qdgb0M0e6KZdp3L4wQZ0HRolUlaiQBcdqwoVKgh+Kc2W+DZggMVfYyIG+3iDLlI2JETxSDlBovv64XVSoZIz6AKjx37apeB3JQq0awAAIABJREFUx/8tllLnlpDmVzVwdaD+5tH1MmBYVzl6YmcmYE4k1DpdK1Ggy/J3rly5XB+1okWLKt+urgXS6IAVdDG8uuWWW6RAgQJqQyqLdJbxxw10OTZ16lQl1V21apWgkkCYW1xx6XHLDrro7SK9RTdXl3HbY1iIzm8yNzwtEDo2mffAtWkLt3ZKdn441YU06k6uP9WArmvTuB8woJt46EwG6Ock0AU+eG7jkXIy6KLS8M7xTQpYkeb2ua2j5MmbW6bOHeoKsZRDR1fDsRN0JiMvUaBLgIKCBQu6PmpEs+J5THZiuf/SRpdI48aN4rZR/+R7J7n+VCvoaljCQAwdW9oJwz3ANBzoIoFFTaxNmzYC7N58883y7bffhqDMDrpAEaDbpUuXTOW4/tdffy3aVy9BG6yuvczn05RutP6fgrQ3oOvaxdQBA7rh28fxqAFdA7qxHuTiLdE1oBteNcJJoktgi2692wqqC4Dpu19ultoXV5UixQo7GqclA16juWaiQJcl+DPPPNNx7ESdAWDatGmT4/FEZnbI6KDuZeionhKv7Ywzi0j1GlVdf5YVdAmAQNhkxhb0cDHYQ/8WGwcr6GoQ1WMQKg6jR49WZS+55BJVXh9jbwddjNVatWqlyj/yyCMhICYfbw0E+uA81CL4rx7adEB2f3girbd1z3+g2uLAgQOh9rK2cbI/G9B17WLqgAHd8O3jeNSArgHdWA9sBnTDg2g0QOenrAbdosX+Rxo0qi4NG9dSITDLlisVAl0dE754iTPkmRcfcpXo+rl+Is5JFOhi7Y8RqlMCyoAnPDMkO2V0zFBGg/Fs+9GT+0qt2he5/lQr6E6fPl369++vpKqML1u3blXuxIAr1BrwYsMyPsZFixcvzgRceGFAzQ0fxUCxdXxCd5ewuujlIqXlGJJfIBqdYHRzhw4dqspMmTJF6QZTRoPu8mfekBc//TOtt82vHTeg6/oUB/+AAV0f/1Gqgi5vfWzxUANACoAOaDzqTladRnXBW+fIqaoLuA8DDl/58KREVxusYYiGl4V4AlI86k4U6KIzWq5cOceH5/PPPw8Bg2OBBGYGDXQxPkalAChFV7dbt26ZwtzOnTtXSpUqJUht7fqiSICBZCSyVsilvZEMFy9eXEnZCTqBVwVeOIDdunXrKn1gAjJgE4JLOH2+Ad1TcG9AN4EdMw6XMqDro1GDALrvvvuueqvHWKpv375KL4s9oTUnTpyonI1bAfHll19Wb/QMbC+++GLMgBTn8FjuMrHdfvvtsmvXLhkxYoS6p379+inpg/U++IyhBAMygzn3jNNz6rGXS/Z3A7reOkdOBV1gEzdj737xlIJavDE0uKymFCyUXx7bMNWArsvjQZhadEadkoYnVjCSnYIGuhow/eyR+Pbo0SMLAPupS5+j/ysj0f1TDOgmu7dm7/oGdH20XxBAV0PgihUr1Js6b+RY0eJahiUulqQGDBgQkrJi0DBmzBjlRy+WkleW1QBVrgfocl+vv/66ALm46KpWrZqCX32/eo9kGYkFDtK5N50fpH1OAl2st1m2jEfKyaBrlaxiZEZgidx5ckn/O7ood2PW49bPGKJ9/u/nAgXDiZLoEoQAf6xOCX+tqC588MEHTod95+Ft4D//+U9U5+ck0F2/fr0a761GaBpY9V67H9PfI+2TBbroAx849kegVCUM6EbVtQJX2ICuj78kSKC7e/duFQccX4rcF6CIxBbJLaDJslW84RG/mSVKlAiBLtdjaa1WrVpqUiPOOjpk9vsAvDUc248F4XtOAl0fj7nnU9IFdAFZ1BiqVC8n55b5X1f1BYzYps27Qw5/vz0tQZcVnkaNGjk+P6zmALrHjx93PO43E4jDL+zmzZs9A2+0oPvxd9sFLxy88FhfasJ9jkZHNxJ42o8z7qLmgCS3SZMmSqBgL2P9jqFbNFLf7IDuM4f+KQvWPucZWAHbhzY9L1e17yp/q3qRPPniRxFB97kP/yX3zHtceg4cJd37j5AeA0bKgLunyaj7FkvvoWPV99tGT5ftB7/OUtcj21+T/qOmqjK9hoyRex9ck6WMVS/ZgK7fnhmM8wzo+vgfggS6uKIpX768chquQRe1BlQaTj/9dLn66qvjpperYRTjCJzAW6GVe7niiiukRo0aKmgELm/skluWOO+4444sAKzrTfbegK63zpETQPel91ZKmfNLqWhnWlXBDWA2PjdPzi9fWspVPFcWLB8bciMGAG3dv1CFEdZ6vW51JCM/URJdJhVebp0Sqk2ALp4DYp327t0ruXPnlgYNGiifq5EkvNGC7sOrJkjti6vIG0eeDATo4sYNn8SM/3hVsUKt22fC/TIvYIBm1/O1n5Md0J20YKVUqXmxbPi/T8ICpIbJPR/9rMC4VoPGUqZcRU+gq88dM3uZ5C9QSKrVrq9UDMhfs+99qd/4SsmdO4907DlAgGJdXu+5t2p1Gsi4ucuzHNNl9N6Abqx7a2LrM6Dro72DDroAIqH+cNqOGxkMxcjD0pmIRAAn0oBhw4YpOAU2GSix8kW/lu/Lly/PBKB79uwRLHKRwq5Zs0aAaQ2ibqCLL0jqwVK4UKFCWaTLbqBL+2KYgcscBnO7qgXH582bpyTXjz32mCr75ptvCnrIOp9BHFUO6kGVgntFDxiDC9Q7WMrX9++2N6DrrXOkMugCp4T57dyjleTNl0fp3+JSbOPuB8LCDF4aBgy7Qf5WpawUL3mGVKtZQZq2uFhGjOst7331dNhzkwG5XDNRoHvjjTcqP7BOTw9uxQBdnpl4JPo29bOhwsW45ZaiAV1UUa5u11jy5c8rsxaN8Pz/xlOiC5ji9xbDMjukhvvOuK/bCNUxN+D1C7qoHjS5qp3kzZdfRk57MCJEaphEqpvR49aoQffBDfukaLGzpXnb6+T5o7+Hrjdv1S4pUrSY5MtfQIZOuD+LdJn7bJXRXRZt3B86R9+LfW9A160XpUa+AV0f/1PQQRfou+qqq5QkFVhkIENntkiRIsr9DEtYgCpugPB3iVsaJMMAIVJYJLNa+ko5rKgJS4nVL/VwTq9evUIAGg50gWv8Q2ItjNQXiYIGSyfQJXY7gMmEtWjRInW/qGFs27ZNXQ8jNqLkUBdWxuzz58+v9H3Lli2rvmOMx5Ie0mScriPVBvCJFU8e5du1aye0k74Xp70BXW+dI5VBN1nQmYzrJgp0CSPbqVMnx4cHn7C8gEeStjqe7CGTerm+Bjn2jGnYEthTNKC7ee98uahuZcH9XJMr6npWS4k36IYDWrdjeGhA4m5tIyfg9Qu6C9ftkco16ijIrNfoCtnxzncRQRKwBHSvu/G2qEEXUC12ZnG5sl2XTKA7f81uuejiy6Rk6bJyxlklZOajmzPdB1Le1tf3VH6C7WBr/25A1957Uuu7AV0f/1cQQRe3NDj/XrdunXTt2lVFJmJ5CqgF4pB2Aoz4WdR5QCxv90QxAm5nzpypvCBoyOU8IJVBEd06vmNERr1AM9JW8iKBLmWQrHIO1tjAL3l20H3qqacUdFOW42yEri1TpoxcfvnlSs+Xe+7Zs6e6Z6TW+/fvV1CMXjLwzTXGjh2rQJ3fQRhN8vh9gC3S7e7duysg5nr6Ok77nAS6tBMTVzySAd3k+gD2Cs2JAl1WcpDqOqWHH35Y9UenY7HK++mnn5QRrBXk+MzqFuOgTl5B96s/9km/oZ1lxoJh0u765gp212yb5UmqG0TQBYAx3kPlwd5GVuD1A7pIVLvcPFSGT5kvzdter2B39uNbMwGmFSL3ffyLPLBqp5K4Tl+6Qdp375sFdDe9fFRQTxg09j6Zsmit7Hrv+0z1hQPddt1ulskLV0mRYmfK+RWqyIpn3w6da0BX94Scvzeg6+M/Diro4v0AoAMAUUXQKgtAHO58WMqzgi75QC8Qia4XQAsQaegDKvHcAET36dNHuTBD15bBEIkpElfKegFd7gWVCCSsXIcJxwq6+lo4mt+yZUvoHjivY8eO6v5Qg6AcDy3lULWw3iuu1ZDwWgGWtsCHJMCuyyLlRiqNxwqd57TPSaBrIqOlBox6hVY/5RIFus2bN1erLU5DKys1pUuXdjoUszxcbaG2ZIc4/V2v5ngF3RfeeUKpLbx5dL0sWztZChUpIF17tRH8LEf6HwDdMmXPU6tnrKDZt0GDBil7ClbNEr0hMNBtYt8zxjMOkx+Ne7GVew4ptYWNLx9RUFqwUBFp27mX7P/k1xBgatB96tVPlbpBRo9+Agx36j1IAalVR3fW8qelfJUaSgVixiOblKEaurdWA7NIoAtMDxwzQ6kwXHxZC9ny5hfqXgzoxqzLBb4iA7o+/qIggq7V64ITtCHNdAJdyq5du1Z5TWCJz+odAchEegvU2vVkrdfwArqU5x5QgQB2e/furXRwtTEa0lcAGIDdvn17JgBFb5hzZsyYoUAX9Qk76FI/k4YddHGQDujiHF3fMxJfQNeqRqGPWfcGdL11DiPRTQ2IThToEtCAfu2UeLmtUqWK06Fs5bEcT2Qx7AHs0Ob0ndWtVq2u8hQZbfy0fjJibC/lbQH96zr1q8p5ZUvKvrce9QS6eL9xuoeg56Eixj1GA7p4PcDjAWoIW9/6UhmIoTrw2I43M4EuxmdIW5u1zpBnP/hRHWPfsPnVIYku0uEW13ZWdVAXgNzvrilydomSsuTpl0L1RQJd6gFqAercefJKh+63qO8GdLPV5VLqZAO6Pv6unAS6wCxSTyCXJX4+IzUF+LQ0FR+9Wt1AgyAqDFrH1Svoci4qELgeQl0C6bIGXa6FeyDCUiJ91NdhjwEcfnoXLlxoQNfH88opQZLoFi9+hvyt8gUpt11QoYyUPb+UVKx0fsrdO+0NtFSvXi2i4RK+bjEa85tq1qyp+qzT+YSapd/HKv3111+CXj/jBht6+4xVeJ1xAkk8MqAOhS6vF4kuHjgwQtv96tIQ1I6b2k8ZLt41oU9EV2NIdC+sWlkOHTrkuGFM++ijjyrXkMwridzwd+zURqiKYY/BGB8N6D79+udKmvvItldCEIoLrzx588nNwydkMgYDVIufc64Mu3deqCxwjIcEq0QXiL3vkaeU7u2qPf9Q7sfQx1345N7QeV5AF0jedvArBdIYp6EGgTGa0dGNVU8Mdj0GdH38PzkJdFE/4CHAYA2jLSSiVukny/xIUwnuoMEW+ESPFn07PkcDupRH5QB1CIxSULUgjw2gRfphzQO6mbwqVaqkDOb4biS60T+0QQBdXErxsoL3jlTcWHFg4r/rrrtS8v5p8x07dsQddOnbXMsp3XTTTWrlxulYtHkER+A/waUYqz4//vijqoLxyw5wrGbx261GcF5A98HHxym3c1dde5m0bt9EbZc2q61At2adSvLO8U0hAHZSYwiqji42DQgbrO2kAVcHnYhWR3f8A49JqfPOl8taXCtNW7VXW+2GTRXoVqpeW1BV0GoLY+9/RLkE4xyd52aMhnHbNV16C/5uu/UbrgzLyNPneQVdyq/e+65UrHqR8tKA71wDutH2utQsb0DXx/8WJNBFesESE0Zezz//fAgaNTzqPR4VGjZsqCIWcf/kA5wZGRmh8LvotlIXUg9tfIZ7HjwVAKUEgEBHF2MTpK/aqA3VB9QD0JHV0mDupVmzZkp6ou/BukeKAVRboZZrco94T9iwYYO6x2effVYZ0bHkyfnUT9hgzgWwdZ3ko09szwdKUFOwSokBaqQ/GO/p8532RnXBW+fwqrrgZgWeKvmowQAG7733XkRYTJXf5HSf2ZXo4mFlzpw5jg8Pqkvo3Gc3oYdbuXJlNV4xnumELYIV4FipcnMxFgl0j57YKRldW8rqrTMzwSy6ubigK1Awn/Kj7AS4Oi+IoHvkyBEVZEhDrh1w9TMRDeiidnBluxtk1mNbQgAKWKKbC6TmK1BQxs55NHTsrhkPKTWCoffMDuXZQZfvSF6r1ro4ZESGBBgPCn5Bl3sikAXS5FJlyimvDA9tOhC6Bw3P9r3xuqB7WGruDej6+N+CALqA3eLFi5UOLRLXAgUKKKmrk94pPmNRSTjrrLOUUReRizDsIjwvOm0sUwJ6y5YtU5AJ1CIBwYMD+UhCAFtUG9gwVGDy0Mf4nidPHjXxYGxB3UiAKQsUP/TQQ5kM4zRUYnwBdOrv7PF1i2siLIIxksNNGgYsqDagx4ueLu7QkOIgzdE+ffGfy8RHW+BpAVBmSVMHrGjTpo3SRaYcwM75LVu2DP126z3ozzkJdHEfB6DFIxnQPZGjwDe7oEu/X7JkieOjRn/GO0p20ldffaVWhHi5JyKaTuTzkgzA4WHByaWYLss+EuhueHaudLihhRz5YUcm0AVi1++aI2ecWUSubNNQjvy4M8vxoIIuuszAP23kBrh+QBeftbj3sntEABjxqoDXg0uvaC273v9BQeW81c+qPHRy9TkadM+9oIKse/4DWf/SYeUpIePv/UNqD7EAXe4JLw6FChdR0GxA19orcuZnA7o+/tcggK6GMbM/qfYQj3bISaDr4zH3fIoBXQO6+mFBNYAXZbycOCUM1QYPHux0yFPev//9b7XixIvwF198ETrnt99+U0azeFSwuhALFXD4EA50CRDRqcdVct/C4Y4Q++G32+SSyy6SIsUKy4pN0xzLALtBk+iiIx0JcKMFXR14YcSUBY6S0WcOfqMkp4WLFJMZyzaqMgAvhmbo7+KVAW8NwG+VmvWUSzLck6HHe37FC9U254ntMnnhaqnbqLkUKFhY+o6YKHhkAFrnrtyhzkFdAg8LWhrLceAbwzedp/dImm+6fZyUOKe08aPr0DdyWpYBXR//qAHd+MFlPIDVb50GdL11DgO6BnT1k/LLL78oaSEGX04JKSyrOH6TDnzDipY1EVoYG4JokhvoEvVOqyY0aVFPHtswNZPRGRLeSbMGSalzS8hpp5+mdHjvvX+II+wGCXRZ1cHITOvgaqB123tRXUDqqlUTcN017eH1IekrUIm0dvC4mUpV4LTTTlc6vFpdATdfeEIgqlmRYmcpbwhAb+1LmiiJ685/fCej7lss/1uqjNr63DFeBX3gO5DMtfGRi1T49NNzqXpu6Hu7LH7qBZkwf4VwP6g5oNtr9Z+rYRfYpvzDm1/MAsK6jN4b1YVoelbwyhrQ9fGfGNA1oOs2OfjNR7fQDQ58PKIJPcWArgFd/cARkpZlcTe9WGwA8HHrJ9E/qBt1pVgkN9DVagex2AcJdDHWi2Z88gK6GgRz+t6Abix6XPLqMKDro+0N6BrQjWbC8FLWgG7wYdEYo0UeLA8fPqxgFENVp4SbQGwLok1AGoEmiGoYq5RuoOtlHLKWMaD7Z0jSa0A3Vr0uOfUY0PXR7okEXSQY9957r9mS0Aa0Pf44rYN/vD7HG3QJ+HH8+HEfT3vkU4xEN/iQHs1zmx1jNM6l39hVC3iKeE44tn79+sgPla3E8OHDlTHtN998Yzvi/6sB3fDPrQFdA7r+e1ewzjSg6+P/SBTo4j4LTwlEAUvFrVChQsobRCreO/eMCzKkT9FAgt+y8QbdIPjR9ds2QTnPSHQjD5a4FQRmrd4Q9FnkcWzv3r06y9P+o48+Ut5U8KISy2RA14CuV5ULI9GNZc9LfF0GdH20eaJANygTvN/7wEUZrsD8np9O5xnQDT/pBuFZMKAbebDENzcwy/9lT6wqcIwoYdGkLl26qLDBv//+ezSnRSwL6HI/dS6uFreN+mvWrOF6L7wY4FIxCM+3/R60RLfPsHuUkRmGZum64VGC/xKXdfZ2CsJ3otg9+eSTrs9Zuh8woOvjCTCg6w1KDOh6aycGSgO63tsqWROLAd3IgyVuxQACQvPaE1b/HPvyyy/th1y/owJx+umnu7orcz3RwwH8i0+YMCHuGx4h3FKQQRcJfKnSpdV/RsTKZG25cudWLuuSdX2uy3NbqHBh+fjjjw3ouj3MAc43oOvjzzGg6w1KDOh6a6ecArqoRxCoI6duSBaZ8Ah9nVN/I7+L/5EgMn4SbUPACKdEABraLxrJbI8ePVTURydwdrpGquUFGXST9UJpvy5uHgkrbc8330/NL0aiG77nG9AN3z6ORw3onupg4QYbA7re2ok2TGWJLkECMHRjqTMnbwQ6ANT279+fo38n/6Ffoy+iGBIC2CktWrRIRWZ0OuaUd+zYMRVxkWiPOTUZ0I08RhrQjdxGBnTDjxAGdMO3j+NRA7qROx7wZkDXWzslAnQxbASmTfLfAixzA7rx8l7h/86Cc+bYsWOVBNbpjvAeU65cOadDjnkjRoxQLsWIepZTkwHdyGOkAd3IbWRAN/wIYUA3fPs4HjWgG7njGdD11ka0UyJA1/FBNplRtYAB3cjNNWjQIAFMnNIdd9wh9erVczqUJe/nn39WXk8mT56c5VhOyjCgG3mcNKAbuY0M6IYfFQzohm8fx6MGdCN3PAO63trIgK5jFwtkpgHdyH8LOrWtW7d2LMixVq1aOR6zZy5dulS5FCPSWk5OBnQjj5MGdCO3kQHd8KOEAd3w7eN41IBu5I5nQNdbGxnQdexigcw0oBv5b2nbtq1069bNsWCLFi2kV69ejsfsmZdccol06tTJnp3jvhvQjTxOGtCN3EYGdMMPDQZ0w7eP41EDupE7ngFdb21kQNexiyU1888//3S8fjjQdTvHsaIcnNmoUSMZMGCA4y+sXr26jBo1yvGYNfPgwYNKF3rnzp3W7Bz52YBu5HHSgG7kNjKgG354MKAbvn0cjxrQjdzxDOh6a6NEge7Ro0fln//8p+PzbDIzt8D3338vROHCm4Q1uYEufmHxKGCSKEM0/A07JaI8eoluRrjfCy64wNEXr1O9qZxnQDfyOGlAN3IbGdANPwoY0A3fPo5HDehG7ngGdL21UaJAN54hgB07SYpnjh49WjIyMpShoP4pTqDLWFC2bFl57733dLG03hM6Gxdj9vTrr78qKW2k6E1IxnFPNmbMGHsVOfK7Ad3I46QB3chtZEA3/PBgQDd8+zge9QK63333naxZs0ZWrVqVtlvVqlWFiS+d24BnAJ+kGmjd9qnsR9exk6R4JtJvAh/wDH/wwQfq19hBd8mSJSpaVPfu3VP818bm9pGA58mTRx599NEsFR45ckSB7gsvvJDlmDVjx44dqhy+fNMheQXdw4cPp+04WqVKFfXyk67zyFtvvRVx/jCgG360MKAbvn0cj3oBXSRo+Nxk4E/XLXfuXMKWrr+f380zMGXKlIgDlQFdx66W1Eykuvx/xYoVky1btqhQsXwHOvr376+O5cqVy0hz//sv/fjjj6pNaCt7AnBpu08++cR+KNP3G2+8UerXr58pLyd/8Qq6t9xyi2q/dBxL03keoc+UK18u4vxhQDf8KGFAN3z7OB71ArpIe844s6h889cBs6VxG1xYvaJMnDgx4kBlQNexqyU1U0t1mWxOP/10yZ8/v4INgh6Qx2akuaf+Il4AaJOXXnrpVOZ/P6GywLF///vfWY7pDI4VLVpUZs+erbNy/N4r6OKarW2HZmYuSbO5ZMqcIVKxYvmI84cB3fBDhQHd8O3jeNSAroF3ry8wBnQdu1DKZGqprgZb695IczP/ja+88oqCWSe1A4zQMEYLl9avX69eKNIp8pwBXTOXhJtLDOiGGzG8HzOg672tQiUN6JrBKdzgZD1mQDfUbVLyg1Wqa4VcPhtpbua/dOvWrQp0f/jhh8wHRGTkyJFSo0aNLPnWjC5dukjTpk2tWTn+swFdM5dY5wv7ZwO6sRkCDOj6aEcDumZwsg9Ibt+DArq///67GF+vPjq7iOAuyw65RpqbtS0feeQRpd5hd8tGSSD2mmuuyXrSf3MI+Vu4cGGZP3++a5mceMCArplL3OYO8g3oxqbXG9D10Y6pArpf/rZPNu+dL/feP0RGTbxZFq+8Rz74Zqsc+XGn7Hp5SaD0vV545wnp0edaqdugmlzbsZm673ADQLhjX/+5Xx7fOFWuuvYyufjS6nLrkM7y9rENSfm9QQFdH4+5OeW/LfDtt98qDwxW2DXS3KyPx/Tp06VMmTJZD4hIw4YNZeDAgY7HyFy3bp3w8vDFF1+4lsmJB1IBdM08krx5xIBubHq9AV0f7Rh00AX0lq2dLLXqVZZ2110uS1ZPlO0vLJKHnhgvGV1bKvgDKr/6Y19S4M8OqS+9t1JatbtM+g66Xrr2aiNFi/2PlDq3hOz4v8W+7o/feWWbhjL4zu7S7Mr6kidvbvX98PfbfdVnv99ovhvQ9dHBAniKVaprpLnOf9CwYcOkXr16jgfxjTtz5kzHY2Smo9oCvzvIoGvmkeTPIwZ0XYeMqA4Y0I2quU4WDjLoMjjNWDBMzi5eTCbOHJgFZj/9ZbcCSqSmvKlHA23xKMv9LnxsrAC7uv4Hlo6SQoULyN2T+obyOPbZL7szfdflydfQ/t5XT8vsh0bK0RM7VVl+73XdWkrxEmfItgMPOp6v64nH3oCujw4WwFOsUl0jzXX+g/AM0Lp16ywHf/nlF6X64RYsAm8L+Cz2EjUtS+UpnhFU0M3J8wjzHr/PPt6Tr+eYoMwjBnRj08EN6PpoxyCDLlJQpKHNr2ogR37YkaUz07nfPLpeBgzrGoJBe4dP9ve9bz4i55b5XwXs+l4OHFqh1BoeXjUh02968d0npEGj6nL/4jsz5evz2E+dO1TKnF9K9r+93LWMtXwsPwcFdDEQAjhM8t8CSHWzK81FV/qvv/7yfxMBPrNFixZy0003ZbnDgwcPKtB9++23sxwjY9OmTep4Onlb0A0RVNDNqfPIsZ92SZe/t5I+t3UUPuuxHsFIr1s7KKGIzrPvkzGPGNDVPSV7ewO6PtovqKDLWyodmKV6OqW9o+rvlENH19rR0d0FIulYa7fPFiShujz797/eIkvXTlY6vui7znn4TlmxaVroDfipPfNk7JRbZfTkvjJ+Wj957rVl6vzXPlork2YNUsdQn7DW6fZ59dZ3Hk3XAAAgAElEQVSZ0qRFvUx6tdzz9Pl3KGDlPjj3lQ9WS536VaVD5yvkw2+3OdbNeUB9/zu6JEWCHRTQNSGAvXV0otht3rxZ8IP94IMPyoIFC2Tnzp2CRJeNQBFeEwZWS5cula5du8p5552noqih54vRFUv81IVLLifjLa/XCFI5IliNHTs2yy3hNozf/a9//SvLMTKQBKPDm44piKCbk+cR5g3mvirVy8ktgzupOZB58KYBGVK5WjnZ+fLDgZpHDOjGZlQwoOujHYMKuu9+uVlqX1xVihQrrGDVDSTt+ejzNm1xsTJWW7l5hlzarLZcctlFgrSUpZz7Fg5XgImkGMM2DLz+VqWs5MufV0aM7aWWgT7/93MycvxNKm/IXT0yLQ2hSgFoUsZ+bft3pM2A6/pdc7KURT0BgC9brpS6j3oNq0m765sr+LbXo7+v2TZL1ffuF09lqU+XiefegK6PDpbgU7788kvBX26lSpUUkOXNm1dKly4tF1xwgZQtW1b5dgXUKlSoIPfee68C3nC3+Ouvv8rUqVOlRIkSKgBCRkaGzJ07VzZu3KigefXq1QoIGzRooK4H9B44cCBclZmOEUb6vffek/fff19FaQuKNw3UDxYtWpTpXvmCkRrt6ZRoKyLPhdPfdTovp+QFEXRz+jzCeI/EuvKF5aR3/wwlya104fmy46WHXOeIZM0jBnRj09MN6Ppox6CC7qsfrpHzy5dW+qjPvOjeaa1gt++tR1WHt6oEPH9wuVxQ4VxpeU0jwYCLN3wGhCJFC8m4qf2UtJf8xs3rKIM3DZFIeqvVrKi8HVh1ZAcMu0G4jvW69s9IkJH8orJw2umnqes/vXdBlnOAXSTHQDbqGUia7XXx/Y0jT0q33m2Vrm+u3Lnk6naNhQHcqWw88wzo+uhgCToFdQ4GQCKeAbREsNu3b18WFY+ffvpJgSjSynPOOUcKFCggQ4cOdZRQHjlyRIWwPfPMM1XoZ8Lihkss519//fUKpkeNGuWo1oDEFxDu1auXVK5cOQTe2gsEEuJmzZqp6+H3NxkJ+OZ+nn766SyXR53BzT8u4YI5L1Jo4CyV5pCMIIJuOswjjPlb9i1Uan4IcJzmmiDMIwZ0Y9PRDej6aMeggu7rH6+T8hXLKEM0L2oCAOzwsb1UZ3/+4OMhCAQm8X5wxplFZOPuBxToDr2rh4JQ3IAxAHBuz77tpEKlMvL64XWhPCS8GH6hykA53pw516vhG4MsHiEAWSTLqFRQj94A2EaX11bXBeqfeGp66Jguo/f8jg3PzhUkv7nz5FISZ+5bH0/E3oCujw7m8RQAEEMmlsSjXf5/4YUXlMQWqS1qHejOekm//fabLF++XAFvxYoVxap3ii4q0b9Yhj927JiX6kJl1qxZo1QaBgwYkOm3PPfcc1KnTh0Fg5dffrlMmzZNdu3aJR9//LHaCP3J/Q8aNEjdU6FChZQbr0iAHbpwjD68++676h5ff/31LDVeeumlriofN954o6unhiwV5cCMIIJuOswjrFTqOe28siWFVUhtiGafF5I5jxjQjU2nN6Drox2DCrpAYYPLakrBQvnlsQ1TIwIdqgSt2zdRAGv1ekBHHz99gIJNPCIAh3fcfWMW0EUfGLBmYNSDA4ZkDBy9+3VQqgpj7r1F1j1zf+i4LhdujzS4bYemUrLU2bLnjZO6vpRHYozuLq7I3jm+SSbcN1BJfldtuS9s/dwTxmgtWjXIpJcc7h5idcyAro8O5nIK0tLFixcrCSgSWCSxWqrJsnn16tWlffv2MmfOnLCg+dhjj0nu3LnlhhtuEKcoXi6Xz5T93XffSZs2bQSwRKcXQyr0cNu2bSvAsJ+ELjBqE+PGjVMAf/vttyvpbbdu3eTQoUMRq0QNgKANtA1qFi+//HLEc2JVYPv27eq/sEuUeQFBNWHevHlZLkU7cWzGjBlZjqVLRhBBN6fPI8x7CHgQ0iDJxRsPqnjMcW6wy3yQjHnEgG5sRgIDuj7aMaigC5AOG9NLSS/RiQ0nvUQB/9Ofn5X2nZrLWcWLqWUcK9xNe+B2paqAwVk0oIvkFpUBpK1P7pyjFP79+K99YNndCpi1ygNge3nL+tKy7aWiVSV408bwrVzFcwUdKuv9Wz9zT+jy4lvXbmRnLRePzwZ0fXQwyymAEsZMtWrVUiCFxLRTp04KnDZs2CBIPPfu3SurVq1SS/dICFEvAIDr168vuLSySnufeuopBbno2lrzLZf0/BHvCagwANwAKtdzM7jyWin6uxreixcvLvzGaBMQ3rFjR8mTJ4+v86O9HuXRzeVlw96mBIDg9+zevTtLtbwgcOzo0aNZjqVLRhBBNyfPI8wF2JIAuXrVkXEfNYaKlcsqAHabB5IxjxjQjc1IYEDXRzsGFXTpoK98uFpZlKLr6qa+8M5nT8m0eXco/VuANn+BvILkVXdwPdBdWKO80nWNBnSpA8AFnnH7BbDqeqPZz390tNIB1qoLeFWYtWiEcO/Wehh8Fq0YH/LyYD2mP1OGQBnacE7nJ2IfFNDFmwC6pqmUtm3bppbtkb726dNHSSi9GF5RBoBAN5RzAVCAmH6Lfu2IESNi1gzAbt26dRWwffTRR9muFyknElkknYcPH/ZdH8B51113KQDnt8c7oV+MRN2eduzYodrm66+/th9S3hZQa0jnFETQZVzMqfMIwhGMr518qmPXoj36OM0NyZhHDOjGZnQwoOujHYMMunTQjc/NUxJVJJ0Llo8NLdcDrFv3L5SBI7upgYyyGGg1uaKukorufnWpgkhUEfC6gLcEynAeBmUo7WOopvMwUENyi14teXrDfy+GYrhr0fq7+ph9T90AOdfmM8dx1o3nhSVrJoXqtJ/n9p3wxkh3D326MXQuy1MY1tnv062OWOYHBXR9POZJOwV9WXROTz/9dAVDH374oe97+eCDD6Rz584KtpAedujQIYvU0XflIoK6AB4FbrvttuxUEzoXoEdqjVeF7CZgl/qQDPOiE8+ECzXUNuwJnWJUOuxJB4lAzSSdU1BBlzHQzCPJn0cM6MZmdDCg66Mdgw66DFIAJnCK7lHxkmdItZoVlAuxEeN6K5C0why6r3+/uZ3gYgUgJGoaYXR5++UtFuDkGAZiGKABpUhqWf4pUDCfirSGkZi1TgCba2l4tR6zfkZie2mTWpI3Xx5lZIYh2jUZTdVbd6RzrfXozyxHERUOiTJqGV16Xi033NhatBGdLpeovQHd6DrYV199JU2aNFESza1bt0Z3cpjSqAAAfFj/+9XLdaqeYAeoLcQCJFHBAMYxNotVIkgI+rqodMQzYYDnBPvoQTsBMK7WeJH5/PPP43lbga87yKDLGGnmkeTOIwZ0Y9OFDej6aMdUAN1EgVwsroNaAgZr6AOjkwtgZ6delt2oC8kufnmzU1d2zzWg672DAbnly5dXS+DZkeK6XRHPANRfu3ZtwR1WLNJbb72ljN9iURd6rj179oxFVZnqAJwB6DfeeCNTfiy/8BLhJJ0liMSYMWOyXAopOy7R0j0FHXSzO/4l8vycOI8Y0I3NCGFA10c7GtA9paaQyIEsFa9lQNdbB0PySACFGjVqxFTiar86xlG4FMNjghd9X/v58f5uN+aK1fVoW9QY4pEwfgOk7RJ4nY8BoDUhUUdXGg8a6Z4M6Jq5JNy8ZkA3NiOEAV0f7WhA1wxO4QYn67GggG6QQwBj0EXQhFKlSoV1C+ajqzqegr9bdEfjBZWOF01yJr5/CxYsKIQljnViPAR07VJ4jAnJtxuiAbh4qvj+++9jfSspV58BXTOXWOcL+2cDurHp0gZ0fbSjAV0zONkHJLfvBnQjdzDABwnfq6++GrmwKeGrBfBvC3Q6ufnyVaHlJCAaV2b2oBtEkkM/2J4aN24s1113nT07Lb8b0DVzidvcQb4B3dgMCwZ0fbSjV9BlYlmyeqLZ0rgNeAYILYtOaLgN/Umn8Kk+Hk/HU4Iq0WUZu0SJEgIUmRTfFsD91z333BPzi4wcOVKqVauWpV4iuXXv3j1TPt4k6BOE/jVJlBs8wk6HGxs41qNHDylSpJCZS9JsLmnYuJaUKXtexOeDCIn4DDfJuQUM6Dq3S9hcL6CLAQhSKpyop+uWL19eyZs3T9r+fv73XLlyCeFdI01k6Qq6RP/C/VR2Ay2E7bDmoGoBPCAgTbVLXrPbPOg7d+nSJVM1uA9DPWHJkiWZ8vFhzP8dRP3oTDeaoC9eJbpTp05VXirScS5J53kEzyQdOrSPOH8Y0A3fYQ3ohm8fx6NeQDcS2KTDcSZVli7T4bdm9zemI+h+9tlnasl7xYoVjv3MZMa2BQBdXrwwxiNkb6wSAS4mTZqUqTqCVCC5/eSTT0L5BMMgat3o0aNDeen+wSvoZnd8SeXzCSpSsWJFM4+EWRU0oBt+JDGgG759HI8a0A2/DK8HVQO63tqJ9kpH0J05c6YCHyPdcxxmYp6JNBVo6Nu3r4JQ9tmNlofqCUCLP2FrAmYBamtauXKlAu10DvlrbQ8+G9CNPEYa0I3cRgZ07T0r83cDupnbw9M3A7qROx7wZkDXWzslAnQJT2u3fvf0sMexUJ06dWTIkCFxvIKp2toCEyZMCLkYQ6JLRLdGjRplC3a15Pb48ePWSylfxf3798+UB7AQmc6kUy1gQDfyGGlAN3IbhQPdobcPkcpVKkm1GlXjsl1YtbI0btJIvv3221MPdsA+GdD18YcY0I3c8Qzoemsj2ikRoOvjMY/rKQRvQBL4yiuvxPU6pnL3FkCtALUDAjf4dTs2Y8YMJZW3umoDevlvrX51+Z/Ji4fXB/dfGPwjBnQjj5MGdCO3UTjQLV/hAjm/fGkZP31AXLa+g65XffvQoUOB7XAGdH38NQZ0I3c8A7re2ihdQXfBggVKomgFJB9d0ZySzRZA0o//4ptuuslXTRih2UP8Pvjgg1KoUCHBIE0n3IkhwTf/t26Rk3sDupHHSQO6kdsoHOhWvrCSTJw5MG4RQt86tsGAbuZu7fnbaZ5LJqGgAd3IHc+Arrc2SlfQHTRokLRo0SIJvddc0t4CzzzzjJqo8BQTbUIP1+6yDAkxIX51wqUY1uNr167VWWb/3xYwoOs+TrIygNcOnjFCTM+bN0+QGuox0+xPtZ0B3fBDipHohm8fx6MGdE91sHCDjdHR9dZOtGG8jdEcH+QkZgK5AwcOTOIdmEtbW6BXr15Svnz5qFyPofqAOgJ6ujoBJ0Dtxo0bdZbyAVu5cmXjUizUIqc+GNDNOkai5nLzzTdL4cKF1coAoIv3nrPOOks9W7izI6z0jz/+aKD3v6pvBnRP9SmnTwZ0nVolQp4B3ayDkxPwGtD11k6JAF2CUbz99tsRnuzEHS5TpoygvmBSMFoAQ8V8+fJFJXVdtmyZ8pVrVVFAZ7dYsWLy66+/qh+GBA7wXbVqVTB+aMDuwoBu5jHy0UcfVZ45LqpZS0lzrbrjhAonrHTr1q3VC9aAAQN8wy7hpz/99NMcA8p+QPfrP/fL6q0zZeT4m2Twnd1l4Mhuaj/krh4yYlxvmbVohLzwzhMRVR78qi4QrTFRyYCuj5Y2oJt5cHKCXPIM6Hprp0SAbtAioyGtMUvZPgafOJ7SrVs3IZqZ10S0riZNmoSKAyJI3qyS+vbt20utWrWEYyZlbQEDuqfGSA2548ePj6jLjaEjL2bRwi6A+9BDD6mIfXgJcJu7Ui3fD+jq0MNP710gxUucIZUvLCcbn5snrx9eJ9sOPCi9+2dI0WL/I916t5UPv93mCrzRgi6rl4w1b731VtYOEaccA7o+GtaA7qnBKdyAYEDXWzulC+hiiPTBBx8owGXJ20j5fAw+cTxl//79SlLmxc8tvo/Rm5wyZUrojnBZxv/KpEvauXOn+h7L4BShi+WQDwZ0T46Re/fuVZJcINeePvzwQ3nxxRft2Uq6C+xOnz49IrBqwCXwBEFLqDPc3JVqx7IDum8ceVL+VqWs1G1QTd776ukQ0H71xz4ZPraX5M2XR+2RAGs4tu69gi6Ay4svKzz41E5kMqDro7UN6HoDOAO63topp4PukSNHlOSlXLlyCnwKFiyoJjUCRpgUnBb4448/lE6klxeQAwcOZIJafgV6182bN1c/CNWFSpUqSUZGRnB+YADvxIDuyTES7x3MF05p7ty5gtcOp6QDkwCyTnBqBVxewvLmzSsYXTqVTeW87IDu28c2SJXq5bKALjC7df9CObt4Mbm0WW35+LvtvkDXCrj8B8OGDXP6K+OaZ0DXR/MmCnS/+eYbQbcyVbfq1asrF1Kpev/cN7qLiRgA422MlgzVBaJujRo1SgoUKCA1atSQadOmyZtvvqmWJTF8mjNnjo/eZ06JZwsAG7fffnvESxBljf9Quwt76aWXFPhqzw1jx45VxkTHjh2LWFc6FzCge0I+/vhjBaBuqkzhQBfjx9y5c6vVIes4bQdcAIuNuqzlcsrneIHuqi33SZGihaTZlfXlyI87owJdO+DS/rwMJyMSpgFdH6NsokCXTqk7qNmfHKgS3Q5M+okYDHMa6H711VcqOhbLhLgIsg9uV111lYmK5mPsifcpXty+8V+ed955ctddd6nbAXZbtmwpl1xyiQLfF154QUnsjbFh5H/LgO4JpXpQsmRJYUXBKYUDXcoTbY8lccZpN8Bl3sCzSCLG8mRcIx6g++bR9dK0xcVSuEhBmf/oaEfIReprV11wAlzanxW9RBqgWZ8lA7rW1vD4OVGge++99yofggcPHhSzJb4N6tevrwxrEjFwxRt0X3vtNfGie+mxC4QthhSPZWukuJ9//rljWdpUSwMdC5jMpLQAEni3JWR9Q0htmbiIbkfasOGkw/h9+/Yp0EDSi2W8+X91i7nvDeiekKFDh2Z65tCfxT2d3vr06SMNGzYMfSefFQSdUF9grMbIDB1cN2HIHXfcoV7OeEHLaRvhtjt16iToONu3c84pGTZghFZdAGgbNq4lLa9pJA0uq6kM0TBSe2DpKHHTz7WC7rp160I6uPb/AJURYNN+b4n6ru8naEaxJmDEiRMC6GLF/P7775stCW1ARB4syHMC6OpJId57dDOxsmfiSdbbe7x/o5/6f//9dzVRY3TjNfFyi36zW0Kyij/RX375xa1I1PkTJkyQevXqhT0PfckGDRqoMvQN/Jx27dpVSeSuvvpqFWntiy++CFuHOXiyBQzonlD6+1dccUXokVixYoUaPxhD2AhTjcs6/Z090KrTxIkTQ0ElNNCY/akVUCAzXGQ0Dbp16lcNGaNhlAbgYqSG54V7ZtwmX/62z1GqqyW6NWvWdH3JCMr/YUBX9xoP+0RKdA3oJg/yDeh66Ay2Infeeaeyxv/ss89sR9L7a9++fSVPnjxqIkBPLdJLAB4LKH/LLbe4NtyTTz6p6mPZNlbSUyQsdevWdb0mXjOwml69erUqw3Iw3heQ3OPkH31sq7TNtSJzQLWAAd0TcvfddwuQ5JYiqS6gbkM0Pl6ueFHjeXQCq02bNuVYgRFBWx5++GFh3LVvFStW8AS6dq8LSGu3v7BISpY6W84qXky5HiPPvmnQxWc2bt94CXZqf/5n+70l+nusxkm3ZzXafCPRNRLdpA9KBnSj67aHDx9WcPb4449Hd2KalEaPjhdXJgHAN1yaPHmyKsekbddv1ucRejdXrlyqXKyMvrp3754pfK++lt737NlTLQ9zT4888oi6NlJl/JkC5sCESd5bwIDuCQVH9AleopxSONBFrxd9cVRu9MqbG/Ci1pCTgkTo38s+Hjq6AO2RH3ZIkyvqSq7cuWTGgmFZIJcyVtDV/58T8DJWEW7cpFMtYEA3DqBLZ2CLhyrEP/7xDxV5Kx51J6tOA7qnOqSXT7iNqVKlSsyki16umWpleBlgwMf/p5tU97vvvlMSLsLmAgD4t3VLTBxIWOkjsUioLYwbN86xKozMuB/cj3FdwHbkyJFKN5Dfg46eSdG1gAHdEyq6WdWqVQXJrFMKB7qsavAcOvnFdQJejGB/+OGHEBRbYTGVP8cLdN/94im5qG5lKVS4gDy+capn0NX/ox14CeOMlw2TTraAAd0IoIshyOLFi5UOKdIhlg3Z33bbbYLO0o4dOzIB7csvv6wU+lmWxPl2rOARA5QhQ4Yoi0o8FGCogush7qVfv35KL9F+LSZMlphYlqUcEyv12Msl+3tOAl1gickgXokwsAxiDzzwQLwukZR6iZ503333SZ06dZSjeXQFrdukSZOivi/0EQHGNWvWOJ6L/iHhdVEDoRzXD5fwbPHjjz+GK+LpGLq++Dh2ui8gABhB7QK1hfz588s111wjuBDkf2fp1KToW8CA7kk/uvfff78UKVJE3nvvvSyNiNsxlr3tCfeF2ANcf/31YcHVDrzDhw8PWz4VgTc7oPvqh2vk/PKls/jRxZ3YbcO7qoAR12Q0VdJdu9qCm0TX/l9ZgRc1FWtoZ3vZdPpuQDcC6GoIRHH/zDPPVMr4TIizZs1SFqyEWGU58e2331YAiWHLmDFjlARG5+k6srPHcTygyvUAXep6/fXXFeQi5alWrZqCX/s16JiEAcQ1DPdmPx6E7zkJdOPtR1cHEMDvcE5JRFxiWZSXR14OkcD+61//yrT50fniJQ+AdQqYQVjMi2qeDJmrI4sxkbul3377TcGn2/Fo8lE7wHAFF03WxDWAWtQoeKHm3gF//JfSRz755BNrcfM5ihZIJOh++eWXgQU8xg3CT/PS5gS79iYFcvEOUqZMGUE31AucWoGXedPLOalSxg/o4klh9daZ0rlHKwWzBQrmkwtrlFc+c1u0aqBCAtesU0numtAnZiGANfB27tzZ/pem5XcDuh5Bd/fu3Qpya9euLRjJAYhMykhuAU10/eINjSwflShRIgS6XA+DFN62mRSRAr366qtZ7gPw1nAc73v0U78BXe9jD9CG/mmsE/WypIkUhpUCXBHxTJNQleD5YfmcfFzsaOhCZ5UXPaSjnOe2LOp2v+j8YVQBHMQ60WfpF9y7NQHNuFHasmWLykZKi5oDVuduCZdKXiKZuZ1vze/YsaO0bdvWmqWMRwAKABjJLWMKG9A7b948V/3hTJWYL64tEG/Q5fldunSpNGnSREWtC7KOKr63New++uijwiqRPdFHWDXE8wKQi5AkWhgFeGfPni2oEUV7blDL+wFdJ+msnzwnHV37/2b/DvCaVSARA7oeQZeHBb+VVtBFrQG3WOju4e6HTuAH9Lyeg19DHH5boRXoZokWX6roUCEJsktusfAGRLxeJ9HlDOjahyf37717945LuFdArkePHgoMgUMmOHT2SBhjEaiAfOAL35hM5CS8AAC/LIfywgUMe00slaKrGku3XdZrI4Hinm+88UZrtixatEjatWuXKY8VEco6ATeSVtoD12XZTag2cR184gLYqCkULVpU5ZGvN8YaVo2Y8E3KfgtEC7rob0cDWzw3vDih780LS5BBl98F7N50001KhYaXKeaHhQsXKjU9VPK03nqrVq3UamU0bZGTy6Ya6Ga/5+SMGgzoZgN0AUImdqRBDAgYipHHUijRigBOpLBaIsZgwtI2b1lIv/i+fPnyTAC6Z88emTJlilJ/QIcPmNbg6Qa6SIeoBz2+QoUKZZEuu4EukMwbN47AkUbYVS04jjQJyfVjjz2myhJalsla5yNRRpWDelCl4F7RA8Y3MRM1ART0/bvtDeh6H0xYisIiPx4JkGNJE9jCctqqLoDesYYwJKXWhKoBOqcfffSRNTviZyS59roinhRFAazLuWde/nRigi9dunRIIq3zmfQp6+TNAH1oVkVikdq0aaPGC14iWEbWbWrfc4/0a/oRfcz6X8TiPtKtjmhAl2edMRPVkmigDQlm8+bNUwJ09e8iuA0rN6jI8LJKP+blCzUixnpdzuxP6jgb0E3NkcOAbjZAl4EA61IkqcAiExKGYQwYSIBeeeUVBaoYAKDfy5IzkmGAECksklktfQVop06dqhT+mQSph3Pwn6kBNBzoAtcYr5QqVUpJfXE9pcHSCXSZvAFMYBQJF/eLGsa2bdvU9dBvRG8SCTJL1ewxjEHflyVevvPm37RpUyVNZskVqTaAj5QOCTPlkZzRTvpenPYGdL0PHvhyxbAwXglprYYunimddJQujtl1WXnRQeIbTeIFKJwf2WjqcitL3+J+Bw8eHCqCWy8nwzYMTimLKoU1AS88z+gMZzehr8jqD1J5XiisoVhxsI4UkXEAySB6y7zU0Ae5L/o1vwPdYpOibwGvoAvcYpCVkZERNegi1UV9LBUkuk7gyjjMC67TMZNnQDf6XhecMwzoRgm6DAT4tcTFD1GKeAMGPoBaIA5pJxO4Bl3ymLyQ6lIWuEUfEljRkEsZIJVBEk8JfOfNkXqBZqSt5EUCXcogWeUc3soBFfLsoIs/TqCbshxne/rpp5UuFrpb6Plyz0gOuWek1ngTAIqR7gLfXGPs2LHqN/A7iOJEHr8PsEW6DVQAxFxPX8dpn5NAlxcZL0YefocApJP2ZXe/dTmdh+4tKxTAFbqkOmHMqB2U81IDAJKQNNInWIqPJqHvCkDyUudlo19Fm1iR4HfgVYEEQKKb6+QvFxCiLBJXayLE7vbt261Zvj7Tb3jxQ3oGENHGXn1dMhbw4kk7c4/00XhKwn39wICfZAddXC+xVI8QAs85zz77rArdzVjHqhiqLIxvrGTNnz9fGQIzjiIgwPk+4Mf/x/+C1J0x0A10cbPFuMALISth/J9BBEcDuidhNtx/YyS6Ae/oLrdnQNcH6OL9AKBjUEQVQassAHFvvPGGeqO3gi75gDATFPp4AC3gqKEPqMSgh4mMeOPADBtwgcQUiStlvYAu94JKBDDCdQAEK+jqayFRYuLX98B5gA33hxoE5YiZTTlULXQ58lnWsgMsbYGuF8CuyyLlRiqNJEvnOe1zEui69LOYZSPp4yUmngnJPEDFSgU6uBicoZuLUQlhaH2oD+kAACAASURBVDmGNJ/EZI/U0Qkew90joIuqDRJULxsS5WgT8MK9AjP8Bu7dzbckkEJZq5SZ1Qn0lrObWAqnH7EaolUQWNHhhTHaxG9CTYp7pX8zrpgUuQWsoMsYzdiKWhmhohn3OnXqpMJAI8DARzVSWV7+eelH+FCpUiU15jFuaxDiZQ/1Ep4vYNYJdHnuMNDkZYtVNsrzLDBv6HqCsjegmz3QJTIa/bJCxbJx2YoWK6LqZw42KboWMKAbJehajdGcoA1pJoOkHXQpi/ENXhOY5KzeEYBMpLdArVZTcKrbC+hyHvfA8jKwyzIpwAn8cgzJAxMkgy2SKut10BvmnBkzZijQRX3CDrqUZ+C2gy7LfYAuAKPrRCIC6FrVKPQx696ArvdOi5QeaSC6pvFKSOAZsNmQWAGiTNAklv3JxxIbuOW55UUq2oSaD/97PBMGdtzr+vXrlSQXn7nhEisS2vMCzydgjH/f7CT6Nl4UeMm1Wrdzb/gJ/vXXX31Vjx58o0aNlCoEL6SAlknuLWAFXVbU0KXVklnGXJ5x1BZ4mWOlgefdqqOLJJf/i2dIgynqN6xkoZtOnhPoYsiJJxMdPAHVEwQa6MTy0qXrCsLegG72QJcXIi+rU9kpw/OnX5bdn3ZzxN4CBnQTBLpMeEg9gVwmVD7zZsaEqqWpTKxa3UCDIEslWsfVK+hyLp2OiRDVA6Bbgy7XYjmWQRupgr4Oewxu8NPLkh73ZkDX3l2S/x2DMcCJ/yheCX1RgE8DLS81SPVJSLF4GeIYS7osxwMMfhJeGvyoJHi9FupC3CcSartesVMdSO3oL7QxfSYW7sTQw0Xih+cGa+JFhXvDL3J20sqVK9XLKDq8jA8mObeAFXTpO4xzPBOotwChR44cUdDpBrpI5RFyICTQgIwqFyCrIdUOutSJqgzjLcF+2BAS8HKI/rVXv7S6/njvDehmD3SdnzyTG4QWMKCbINBF/QDJC5IsJl7gwSr9ROoKQLC8qcEW+ESP9uGHH1ZAGg3oci5wgvQACSCqFhpqAVqWoq15gC1GZ0z26JMZ0A1C93S+B/S7iXoTrbqAc23OuUhyATE2XF0BvzohxSKf55UlYL8JH55IOuP1Owi+wH2iWoGhV6SED1TK8/uAkXgnVkBog+wmJI/aawTqEACRSZlbwAq6uP4iWmSBAgXUxv+NdJZ2cwNdjmEsjICAcRuVhBtuuEEJFDSA2kGX1TPGX3RzdRm3PasoSOuSuTH2s4KXzHvg2tr1nltbJTM/nI5u5ifOfAtSCxjQ9Qi6SFqZMNGPZNDU0Gjf41GBt3iWppAWaODEileH32VQoy6Me7TxGW7F8FQAlCLpQkeX5TOkAdrQDdUHJkd0ZLU0mHtp1qyZ0iez3wvfmUiBaivUck3uEakdgwrl0P1DP5FlaL5TP0DFuQC2rpt89Int+Vjro6ZglRID1EwMGO/p8532OUl1gWXQ48ePx7WPYzCGJJV2jVdCNxcdXcBv2rRpmS5j9cDg1aAqUwX//QI884zx4sfkFeuEL1Be6NCr9JIwROP30scToQpA/+cFN1aJcYV+yYsJL9RBSTNnzZTzzisl5StcELeN+ocMPeVdw/7braCrQYkXesZYXth4cQRMw4EuElieDZ4TYJcxGtUWXZ8ddIEiQLdLly6ZylEe13LaVy/9meeOrUiRoknbChQsJGzJvAfdDhhv6nYN0t6Arr1npcZ3A7oRQBeww/UQEh4GRKQASF2d9E6RCqCSwNIyRl0sVWHYhQUvhjf46AT0eGsFMoFa9HkxgCAf61/AFtUGNqRlALA+xnfggwmc5VDq5l4oy4CN3h+qCXaYRBIBdFrzgW4MMJgUkarhJo2lOM5nwEdPF88MhB9luU779MVqmOvTFkhCAGX013TACiYBgJxyADvn43pK/3brPejPOQl0AX1ecOKdtPEfE3O8EhIrLNC/+eabTJdAR4wJn+cgFvpiqBjwHCJFdjMWy3QDHr4QhIK+wmqI18TzzItkrO4h0nXxShLrEJ0AFGMIvx1/3LH4fyL9jkjHO2R0kMJFCsq0eXfEbStX8VypXsPdSNMKuhjMIjwAoJCG4wmDF3LUQKygq0FUgxYvP7yYUPaSSy5R5fUx9nbQRc0Hw0H9sq/Lks+zzlhLnvZRvfyZN+TFT/9M623za8cV8KPSo9srSHsDupF6ezCPG9CNALoaxsz+pBuyeLSDAd3oBweMmHhJAjiZrOORMJ5iUnZKXNOLOoDTuU55TPYYQ7LSgbRav+zpvfby4HSuUx4gE204YjyeeJX+Ol0z2jxWZuzuzKKtw6k8cIvBFdJsjK50FDunsonIy+iYIT36XCt+wp56PWf05L5Sq/ZFrj/HCrp4LkFNi5cCIAoVL4QRwBVtRb9CMMFKFkIOK2hhRIwAAB1uoNh6DN1dDIpZLSMQA8eQ/AK66AQjLCGKIGV4CdEGagZ0T8G9AV3XR9gcyEYLGNA1oJtJ0hsPkI1UpwFdfz0YSSuTLnDIBJxTEqAGZFu3aCWTGJRFq/sbr1DEbv8LHlG8GMm5nR8pnxUmpO6oFCHFTFYKGuhi94BKAcCJri6rYrSPhlas4jHuQ2qLCojOZ88LHpCMRNaaj6oPkmFWBGhvvNCwMgDMAruohbEaiMExfnfpu/p8A7oGdJPVN9PlugZ0Dega0I1hb0+U6oK+ZZa+0WtDCooubTzdjulrmn1sWgDdzXiFc9Z3+PPPPys9aJ4RVDOS8XwEDXQ1YPrZI/HFt7IdgP3Upc8xoGtAV/dXs49PCxjQNaBrQDeGfSuRoItuNyFl8YeMZTfSJHSi0bdesmSJYDT2z3/+M4a/zlQVyxZArx4XfolI6P8jTeQZIdJitBJyfY+osvCMW8MX62Nu+5wEuvhkxhjXaoSmgVXv8av7448/hiS2Ot9tnyzQ3f3hCTlw7I9A6QQb1QW3XmTys9MCBnT/C7pIPLLjyNmc6y2Uq1M7Ydg2cOBAzxOD24ThJZ+oSEQ8ildCr49rxDshmQNaMOTSieV69A0xckIvkGcawDEpmC0AeGJUmqhE/0BvmZchPD6gt+onPfjgg0plBmD2ArzRgu7H322Xp/bMk6//3O9ZrzcaHV0v44S1DBHUUHNAkosLOl4grcftnzFY4iUGA1wvwJsd0H3m0D9lwdrnPAMrYPvQpuflqvZd5W9VL5InX/woIug+9+G/5J55j0vPgaOke/8R0mPASBlw9zQZdd9i6T10rPp+2+jpsv3g11nqemT7a9J/1FRVpteQMXLvg2uylLEa4BnQ9dMjzTmRWsCA7okTyqMAUICFeSpuGJ0Ai6l479wzbY+XBvuEEY/v8QbdSB0uVseJtoR+rjXalr1ughR4ARH7eeZ7/FsAySjPfTLcgOECD08qXB+PKHh2iTbhFo7z8ZbB6kG45yxa0H141QSpfXEVeePIk4EAXYAeLzr8VqTZXsYlwqvjVYcXikjAmx3QnbRgpVSpebFs+L9PwgKkhsk9H/2swLhWg8ZSplxFT6Crzx0ze5nkL1BIqtWuLwAp+Wv2vS/1G18puXPnkY49BwhQrMvrPfdWrU4DGTd3eZZjuozeG9CNtiea8l5awIDuicjRULwMbMksg5Uw0JPMe0iVa+cE0MVoChd2c+bM8dLHTZkAtgBu+XhB9RsCOBY/Cd/ZSCoBVvx+I6lFAukl8RKFESnnauDFlZsT8EYDusd+2iVXt2ss+fLnlVmLRgQCdBnb8NCgvSR4HevQmdftEw54/YIuqgdNrmonefPll5HTHowIkRomkepm9Lg1atB9cMM+KVrsbGne9jp5/ujvoevNW7VLihQtJvnyF5ChE+7PIl3mPltldJdFG/eHztH3Yt8b0PXS+0yZaFvAgK4B3bQC5JwAukiVkIQz8ZqUmi1AlERCdAch4feZZXnCH2PUSEQ5oDeSj2ak0qVLlw7BHFBXrlw55ZILNRqdogHdzXvny0V1K0vRYv8jTa6oK4e/3+4JduOpuuAVbO3leGnAF7WGXfZOwOsXdBeu2yOVa9RRkFmv0RWy453vIoIkYAnoXnfjbVGDLqBa7MzicmW7LplAd/6a3XLRxZdJydJl5YyzSsjMRzdnug+kvK2v7ykPbTqQKd8OuXw3oKt7jdnHsgUM6BrQNaAbyx6VgLowhmHJ2aTUbAGACP/A0QSzSMQvBcwIQoO/V+4PMMPNFt9xl7VixQql10v4W7w5kFC9AI6tMMdn9I8JYAPwegXdr/7YJ/2GdpYZC4ZJu+ubK9hds21WyoIu/zO69ATOsbePFXj9gC4S1S43D5XhU+ZL87bXK9id/fhWV5Dc9/Ev8sCqnUriOn3pBmnfvW8W0N308lFBPWHQ2PtkyqK1suu97zPVFw5023W7WSYvXCVFip0p51eoIiuefTt0rgHdRPRec41wLWBA14CuAd1wPSTKYziKj7enA5aMiYxmUmq2wPz585WxoIbFIP4KVBMInkFwBSIoElABOwArsKF6oY0erfnWzwBvw0sv8RQw4oV3nlBqC28eXS/L1k6WQkUKSNdebeTL3/ZFhF0kuueUOkcFHSHwiH3r2rWrkq4OHjxYEr117NgxU7tZ2wfgJZQ3edFERlu555BSW9j48hEFpQULFZG2nXvJ/k9+DQGmlpg+9eqnSt0go0c/AYY79R6kgNSqoztr+dNSvkoNpQIx45FNylAN3VurgVkk0AWmB46ZoVQYLr6sxf+3dybQVhTnvhcckYU+fXIFAsSBhV5UIuIzilEQuXFMAIdEg7nOGtQ4gyMoKqDiAIKCoqhBIsQBRARF1DiCqAQUkeAcFVScpzhhvfWrd7/9+vTpvXf3OXvqPv9aa58+u7u6uvrXu6v+/fVXX7kHFq/ydZHQrcU7vGnVSUJXQldCt4T3fCXCixGQHsubUvoI4MPKbHbMkJW2tGbNGj9z2Pz5833kksmTJ7sbbrghr4jr0KGDGz9+vLcIx5kZ7eIrBrrBQ4/20RaWfzDL7bRLF9e+4+buiSW3xxK6CO+giEzL/0yfnlToEvWAiAe4Icxe8r4fIIbrwOS5i+sIXQafYW3ttf9B7pEVn/ttLHfrvV/Ooot1uM9vf+/LoCwE8sDzRrr/3Xpzd8usBbnyigldykHUIqjXXmdd1/+IE/13Cd203enZq6+EroSuhG4J7+tKCF38cwl5pFR5Alg6GxOyjQFKuAXw+j8L6fTTT68nLhG4CGBYkeK4Lryyaqa35j76/KScqL3o8oFu3fXWceddclzRUGNYdLfboYv3W8d3Pfx56KGHfOg9Jnyo9Ofiiy+uxwhhywDAu+66y61YsSKR0J21aKW35t4257mcCCWE1zrrrueOH3RJncFgCNXN2vzMnT1iXC4v4pgICUGLLiL2qttmet/bqX9f5sOP4Y87/p7Hc/vFEbqI5DkvfeCFNIPTcINgMJp8dLNwt6f3HCR0JXQldEt4/1ZC6PK6+M477yxhrVVUXAILFy70omTp0qVxd8nlYypspoHFdSEL6Y477qgj4JiKOihw7RzjCN0Jd1zkOvy8rdvnt79y+/fb03969OrmhW7XnTq7l9+9LyeAV695ut7/tTgYDR9dBDZxi4PWZRO4FmM3qY/uxWMnu7btf+5+1ee3rue+/fyn2249vdDtvH03h6uCuS0MHX2bDwnGPrYu32A0Brf95rBjHPFuBwwc5AeWsc72iyt0yT/t8Vdcpy6/8FEaiJ0roWt3g5bVICChK6EroVvCO68SQpdX3yNGjChhrVVUXALMKMbgIvw8kySsm0RZYMIBXADSnhYtWuSjNCDgELiId7Pghs+tmNB9+4uH3UF/+LWbNvvqOgIW39wBxxzoNmixnrvhL0PrbAuL3VoUuq+88opr3bp1TuSGBa5FaUgidHE7+K++h7trJj+QE6AIS3xzEanrbdDCDR1ze27beaNu8m4EZwy7NrcuLHT5juW1y47/JzeIDAswERQaKnSpExNZYE1u22FLH5VBURfCd4a+V4qAhK6EroRuCe+2SghdQkEddNBBJay1ikpCYMiQIW6XXXaJvQuRB4hcwEx2iJq0J6a/ZZAZApeJXorFAi4mdKc/cp3rf3gf99Znc+uJ2XvnjXH/a5NW7r8O2M299fnD9bab4K01obt69WrXvXt3L3LzCdyGCF1i1hLeKxwRAWFJVAWiHvTYe38375+feWE7btojfh0+ubaPCd2fbbG1u/upFe7eBW/4SAkH/fdJObeHUghd6kQUhw1btvKiWUI37Xd+eusvoSuhK6Fbwvu3EkIXcbH55pv70E0lrLqKiklg6tSprmXLlg7rbrHE4DOiFjCAcPHixcWy1/z2H3/80cfcHTt2bFGBaydTSOgyQcTv/riPu2r8oEgR++pHc9yuv/qFa7VxSzflvisi8yB2a0no4pLAw2gxgZtU6NrEC4NH3pCzziIm7fPQS6u95bRlq43dqFtn+PUIXgaa4b9LVAaiNSB+t+26sw9JRngy/Hh/3uk//WfMXx90w8dPc9137+02aNHSnTD4UkdEBo5x3Z1z/T64SxBhwY7LdsQ3A99snS2xNB975kWudZt2iqNrN4SWFScgoSuhK6FbwtsO6x1ioJyJ2JyMMGcgi1LlCTCFLq/sCSVXKH3yySfeksv0sc8991yhrKnZRui8Yhbc8MnkE7qL3rg755qwZ5+d3eTpl9cZdIaF97JrTnVtf9bardVsLe/DO2L06ZFit5aELlMqc2+aD64J2nzLOK4LWF3NNYHQXVfcfG/O+oqoxFp72kVXe1eBtdZq5n14zV2BMF9EQmBWs1Ybb+qjISB6u+26p7e4PrzsE3f+VRPdf7Tt4D/HnXWxn/SB74hkjk2MXKzCzZo19+UcfsKZbuLMZ9wl109x1Ac3B3x7g/FzTewitsl/8/3z6wlhy2NLTRgRvnv0vRQEJHQldKsidHm1x+xLRx55pBs4cKBjpqjHHnuswXWJW14WZkbjxh8wYIDbbbfdMuHvWYqGrJJlIPSaN2/u5syZk/ews2fPdh07dvRTc+PP2pRTPqFrbgelWNaS0M0naPOtjyN0TQhmfZlE6M6bN88df/zx7sQTT3THHnusn5EPt5p8nAutj9t/vPzyy4p4k8LGTEJXQrdBDUOhRqPYtk8//dRPeMD0mFjFyP/www97nzZGKRfbP7w9SXlZEbrLly/3M1Ixyl2p8gTwUcWFJJgYZPbUU085myCAThirXlNPErpfFGzTJHT/v/tFXKE7a9Ys/6DPpCb0B2+99ZY78MAD3dChQ31ouXAfUeh7kv5DQjedrZmEroRuwUa4UAPR0G1LlizxQfOZEcjK4Il6//33dyeccEJuHbEwef1reYLL999/P7c+bnnsnxWhS3MzcuRIH5P1hRdeSGfrk+JaMzXuLbfc4v10cUs466yzHPFjcWkgusLTTz+d4rMrbdUldCV041qi4whd+oTDDjvMv9VCpFq/MHr0aNe1a1dHGD9bR79i/weXrLd9k/QfErqlbRsqVZqEroRuZEMQbBRK/f+zzz7rEArMDoWYpfz33nvP9ezZ04dtsuMRsgjRgDi1dSwRGN26dXPENOV73PLIW26hS+NZqaldGeiE9ZDR/DTWSpUjQCxjog4w+QPilt8jk0G8+eablatESo4koSuhW0qhi0jdb7/9fOST119/Pdc3DBs2zL8VtHU8gBIdJWhQoQ94/vnnHVMv80Ymaf8hoZuSRidUTQldCd1cQ8FNX4kPs0L16tXLj0SfOHGiF7tMgMAo5WeeeSZXB9waDj30UN8oMWKdutFoYTm76qqrck/kcctj/3IL3UpEXQjew8Qu7du3r2O2NNwY4kQCCO6v/5MTwKKEuD3iiCP8xB1YkJTyEzj4kIM9r7btN3fl+viHjZ12zFsJXEqeeOKJXNtSiXYu7jHMdYEpcwnr1ZQ/DGjjWvJGpBA/ZptjQC6+uStXrnTLli3zRhGsurYfRpRrrrnG+8ozXTXraf933nlnbyAwt7kk/YeEbt5brKY3SOhWSNzZzVeO5R577OEHvZSj7HKViU8ufo6EaUIwEGfU/K2Cx8T3ipixPIFffvnlXuReeeWVOZFreeOWlzWhS+tClAeEPw0/Dwu33nqr++qrr+o1PPiQRq2vl1ErChLgYYzOmOgXSsUJvPHGG+7mm28u+6eQC08tC91Vq1a5XXb5pWvTtq37+RZbVO3D24kNN2xZteNz7j9r3979Z5cu3ufW2vaoJW9ODjjgAD/rXO/evX0fwYO+uSPYPnwfNWqU72t444KFt3///vXKj9t/SOgWv99rMYeEroRu7gnYGodKLRm1jgvDOuus44455hg/B33UsWnU+vTp49Zdd13Hk3y4MbN94pSXRaFrDQsD1IhegXWXqADMoMZDAuyYkQsXh0GDBll2LRtIgAEvsFVKD4FaFrrWflV72aNHD9epU6eq9QdJzx8Xhb333ts/dPKAv2DBgsi601/g1oAhgLaQ/iTqWHH6Dwnd9NzzwZpK6EroRt70UQ1BKddh5SG02GWXXeZFGPPB86Rtr5OCxyImJdZfGmGs10uXLq1X57jlZVno2o3NKzsabaYJPvroo31HgP/zjTfeWDT2q5WhZX4CdKrnnHNO/gzaUnMEJHSLu6WlSegiXnmzx4P9ySef7CPQ0D9EhahEnNJvsJ1+ZNq0aQ3uPyR0a+7WjlUhCV0J3Xo3fVBkluP/Dz/80M8cRPxD/B15Mic0DJbd8847r0597r33Xrflllu6Sy65xE+fSj6sk/hkWd2SlNcUhG74zsea0a5du8SB/sPl6LtzPFDhtoBwUkoPAQndbAldXGF23XVX3w/Qh2AwadGihRe0uLtZ38BbLsaDENFnxYoVbvjw4b4/ufvuu3N5kvQfErrpueeDNZXQldDN3fDWOJR7+eijj/oBAlOmTMkdmwE9+E/xsePff//9bquttnIXXXRRLswYQgPfLBovGjHyxi2PvE1R6DKbFf53PCwoNY4Ag1922GEHTdTROIwV31tCNztClwg9e+21l38jaFF7ELunnXaa23TTTR0xdmnrEba4Nuy7777utdde8+uwBNMO0q9gREnaf0joVvzWLckBJXQldP3Nzg1fqc/MmTO9b274FRINUPfu3XP1YNAPT+40YsG6YQG+7rrrcgMK4pZHGeUWuoS++fLLL0tyc5aykEmTJnmLeVamoi0lm7hl0XHiYjNjxoy4uyhfjRCQ0C3evqfFdYH2n8gJvBE0oUvbjsEjKGBxg6OfIKpFsP+gPyFEJb8J1ifpPyR0a+SGTlgNCd0KCrzgzVbK/9MWdQHBgKBlYJQ1VDxpn3rqqe6UU06p0yjF4ZSkvHIL3YT3X8WyE3YMH+htttmmYnF+K3ZyEQeaOnWq7+AiNjVoFREriN1JB6sQbg1CWNWdJHSzI3TpK+gncF3gDZ/1Ebgj0BfSH9i6OMsk/YeEblVv4wYfXEJXQjdRoxCn4YiTh6l+CRmG2KWBOvfcc31MRJ7W4+wfzhO3vKYqdGkh8EVr06aN55xlsYYoxVUD15hSpUsvvdT7AL744oulKlLlVJCAhG52hC5tP64IxFjn4Z0Y7Ez+QISZuXPnlrX/kNCt4E1bwkNJ6EroNqhhCAvNhnxHeBG/EBcGYmCadbchZbFPnPKastCl3XjkkUfcBhts4KdaRhCWMjEt8zvvvFPKIhtU1ksvveQHjJVqIgd8xZs1a+buuOOOBtVHO1WfgIRutoQu7T39BbOc0X/MmzfP5ZvuN25/Eqf/kNCt/r3ckBpI6EroVk3oxm2ASpmvqQtdGglC8NhEHUwjXKrEAMGTTjqpVMU1uJwhQ4b4UEKlsFoz+QbRQBR/uMGXoyZ2lNDNntAtZb8QtywJ3Zq4nRNXQkJXQldCN/Ftk3+HSk8BnL8mhbfMnz/fbbzxxn5EMlNgliIR15LpmZmprVoJKzV12G677fzEIg2tx7fffusuvPBCb8ll1rlSiOaG1kX7NZ6AhK6EblwxWyifhG7j78VqlCChK6EroVvCOy8tQpdTxt90xx139P6sY8aMabRAxW0B6+f06dNLSDRZUbNnz/ZuC8yCRHD4m266KdG0xwhaXBUILs+DAK9FldJPQEJXQreQgI27TUI3nW1BzQtdhAN+OPrkZ0AEA6xYYpSfkbG55557fDiZct2uaRK6MMB1gbngmTaY3xH1/+abbxqEBysx4pJyqmEBxZrLSOyDDz7Y++8RV5NBaQjWM8880+Gzm69eDIIcOXKkF/744x5//PHe57tBILRTzREgVCG/bQYu6RPNYNttt/UTy4hPNB+48BuiD1FKF4GaFrrMcIKF5sEHH9SnAIOuXbv6Bkqciv9O+D0tXry4bHdp2oSugWD+9wEDBviBahtttJEfrMYADwaY5ROHX3/9tb8/Tz/9dNelSxdvScUSysxh9913nxVdseX48eN9/RmRbQlLzfXXX5+rH6KXSUmYdIRZ9n7RdUcfZJ46d+zY0Z199tne0m37a5kNArii8MZBn/wMuC+23nprMSryOyG8mVK6CNS00E0XyurVlkFACAyl6hNIq9A1coxk5nX/7rvv7gUrAhBxSCi4vn37+hnpdtppJ98hrr/++n4CBfIy2Yc9QBDIvX379u6jjz6yYsu+XLlypa/niBEjIo+FWF+0aJGPnMBMeyeffLIbOHCgnxJ08uTJjok08gn6yAK1UgQyRoCp1bHqKolA1ghI6Gbgikro1s5FTLvQDZL8/PPP3cKFCx1CkIFZCNjBgwd7cTh27Fjvixtl3WBmuM6dO7t+/fpVRDx+//33bp999vED0L777rvgKeh/ERCBmAQkdGOCUrbUEZDQTd0lq19hCd36TKq1htfmxGNs6gnrKQPChg8fXlYURHg4/PDDvfvB0qVLy3osFS4CWSYgoZvlq9u0z01CNwPXX0I3Axcxg6fABAvNmzd3w4YNK4tlF1cD3A8YcPbss89mkKBOSQQqNexMsAAAHYxJREFUR0BCt3KsdaTKEpDQrSzvshxNQrcsWFVoCQgQnmvttdd2Z5xxhmNAUKnSBx984Pbbbz8/+IzZ3pREQAQaR0BCt3H8tHftEpDQrd1rE7tmErqxUSljFQjMnDnTbbLJJm6HHXZwzEzX2ER0kTZt2nifXGIBK4mACDSegIRu4xmqhNokIKFbm9clUa0kdBPhUuYqECAqAuG8mFACdwPi1iZJuCnMmTPH9e7d20eDoIyGxvtNclzlFYGmQkBCt6lc6aZ3nhK6KbrmK1ascFGjyvMJXQLoL1u2LEVnmP6qzpo1S3FY81xGxCquDNtvv72fWrdPnz5u3LhxjokmiMkbToQ6w3pLxAeswfj7HnLIIfLHDYPSdxFIQIABs0wUE075hC79CJOtKIlAWglI6Kboyn388cfeLxHrWDBFCV3CPhHeKRg8P7iP/i8PgSyFFysPIecHpj366KPuiCOO8DP6EasXEUssaD7MrkYcXmYoY323bt38zGavvvpquaqkckWgyRDAv52Y2KtXr65zzlFClwlXDj30UKd7rw4qfUkZAQndlF0wrFvt2rXzVjCreljoMh83guHoo4+2LFpWiICEbnLQhGPDcjt69Gh33XXXOWY4mzhxops7d66jo1USAREoLYFBgwb5B8qgz3xY6GLFZcbDo446qrQHV2kiUGECEroVBt7Yw2HVJZwSMUoRA6Sg0J0+fbrfzkh3WXMbSzv5/hK6yZlpDxEQgcoSwKq74YYbuhYtWrgpU6b4gweF7v333++YCpx+RNbcyl4bHa30BCR0S8+07CVi1eV1Lx9mq+rRo4efknXIkCG59bLmlv0yRB5AQjcSi1aKgAjUGAGsutaPEP6PfoQZDZnOG7chtsmaW2MXTdVpEAEJ3QZhq+5OZtW1Riq8lDW3etdHQrd67HVkERCB+ATMqhvuP+y7rLnxWSpnbROQ0K3t65O3dkGrrjVMtpQ1Ny+2sm9g6tu333677MfRAURABESgsQSCVl3rP2wpa25j6Wr/WiEgoVsrVyJhPfJZdWXNTQhS2UVABESgiRLIZ9WVNbeJ/iAyetoSuim+sFFWXVlzU3xBVXUREAERqDCBKKuurLkVvgg6XFkJSOiWFW95Cw9bdWXNLS9vlS4CIiACWSMQturKmpu1K6zzkdBN+W8gaNWVNTflF1PVFwEREIEqEAhadWXNrcIF0CHLSkBCt6x4y1+4WXVlzS0/6zhHePLJJxV3Mg4o5REBEagZAmbVlTW3Zi6JKlJCAhK6JYRZraKw6sqaWy36dY+r8GJ1eeibCIhAOghg1ZU1Nx3XSrVMRkBCNxmvmsyNVff111+vybo1tUpJ6Da1K67zFYFsEMCqq9k0s3EtdRZ1CUjo1uWhbyLQKAISuo3Cp51FQAREQAREoKQEJHRLilOFNXUCErpN/Reg8xcBERABEaglAhK6tXQ1VJfUE5DQTf0l1AmIgAiIgAhkiICEboYupk6l+gQee+wxt3z58upXRDUQAREQAREQARFwErr6EYiACIiACIiACIiACGSSgIRuJi+rTkoEREAEREAEREAEREBCV78BERABERABERABERCBTBKQ0M3kZdVJiYAIiIAIiIAIiIAISOjqNyACJSTw4osvunfffbeEJaooERABERABERCBhhKQ0G0oOe0nAhEEFF4sAopWiYAIiIAIiECVCEjoVgm8DptNAhK62byuOisREAEREIF0EpDQTed1U61rlICEbo1eGFVLBERABESgSRKQ0K3hy/7555+777//vmgNv/nmG/fVV18Vzffjjz+6Tz/91P30009F8ypDwwhI6DaMm/YSAREoD4HPPvssdj/y9ddfF62E+pGiiJShxghI6NbYBaE6iNv+/fu7tdZay7Vq1co9+OCDeWs5ZswY17x5c5/3wgsvzJtvwYIFrnXr1j5fz5493Zdffpk3rzY0nICEbsPZaU8REIHSEfjuu+9cv379cv3I3Llz8xZ+7bXX5vqRoUOH5s03f/58t9lmm/kye/XqFcvAkrcwbRCBChGQ0K0Q6CSHuf32231DgtDl07Zt28jdV61a5Zo1a1Yn7+LFiyPzdu/evU6+kSNHRubTysYRmDFjhst3DRpXsvYWAREQgfgEJk2aVKfNb9++feTO7733Xp189DlEj4lK3bp1q5P3iiuuiMqmdSJQUwQkdGvqcvy/yowbN65OY9KyZcvIWr722mt18tFAPfnkk5F5O3fuXCfv+eefH5lPK0VABERABNJPgLd9ZixhudFGG0We1IoVK+rkI+/TTz8dmbdTp0518l5wwQWR+bRSBGqJgIRuLV2N/6nL+++/7zp27JhrUIYNGxZZyzVr1uRcHGic9txzT8frqqg0YcKEXHm8eqJxUxIBERABEcgmgZUrV7oOHTrk2v3LLrss8kTpR8zFgX4El4R8/cgNN9yQK49+BGOLkgjUOgEJ3Rq9QqtXr3Z33XWXe+KJJwrWkIEBs2bNctOnT3fffvttwbwLFy5006ZN04QGBSlpowiIgAhkg4D1I/ne9NlZ/vDDD4n7EVwelEQgDQQkdNNwlVRHERABERABERABERCBxAQkdBMj0w4iIAIiIAIiIAIiIAJpICChm4arpDqKgAiIgAiIgAiIgAgkJiChmxiZdhABERABERABERABEUgDAQndNFwl1VEEREAEREAEREAERCAxAQndxMi0gwiIgAiIgAiIgAiIQBoISOim4SqpjiIgAiIgAiIgAiIgAokJSOgmRqYdREAEREAEREAEREAE0kBAQjcNV0l1FAEREAEREAEREAERSExAQjcxMu0gAiIgAiIgAiIgAiKQBgISumm4SqqjCIiACIiACIiACIhAYgISuomRaQcREAEREAEREAEREIE0EJDQTcNVUh1FQAREQAREQAREQAQSE5DQTYxMO4iACIiACIiACIiACKSBgIRuGq6S6igCIiACIiACIiACIpCYgIRuYmTaQQREQAREQAREQAREIA0EJHTTcJVURxEQAREQAREQAREQgcQEJHQTI9MOIiACIiACIiACIiACaSAgoZuGq6Q6ioAIiIAIiIAIiIAIJCYgoZsYmXYQAREQAREQAREQARFIA4EmJXSXLFni7r333tjX5bLLLnNfffVVrPzko+wkn3//+9+xyk6a6aeffnLPP/+8GzJkiBs5cmRu93feecf179/fTZw4Mbeu0D9J8xcqqxTbvvnmGzd37lx32mmnudtvv70URaoMEchL4Mcff3SjRo1y3377rf/w2xs4cKCbM2dO3n3YkKTdCBe0YMECN3ToUP8b/8tf/uKWL1/u5s+f7yZMmBDO2qjvr732mrv++utdv379GlVOeOc333zTjR071h199NHhTTX3PV87WXMVVYVEQAQaRaDJCN3x48e7bbbZxq1YsSI2sBtvvNF16dLFvfXWW0X3WbZsmVtrrbX8Z+ONN3adO3d2W2+9dW5dp06d/Dq2WT46hXKkE044wW244Yb+OH/84x9zh7jpppv8ug4dOuTWFfonaf5CZTV229tvv+169erl1llnHX8Ol1xySWOL1P4ikJfAe++953r06OHOP/98xwPWHnvs4Zo3b+5/e7feemve/diQpN0IFjR48GDXrFkz165dO3fMMcf437u1Fb179w5mbdT/PPx27NjRnwvnVKo0depUt/nmm/tyt9hii1IVW7Zy8rWTZTugChYBEagKgSYhdMeMGeMbdiyUSdNtt93mttpqK/fhhx8W3PWFF17wDTzWjDVr1vi8zzzzjF9HZ/WPf/zDr2Mb9WEd4rhcacSIEf4YQaH7xRdfuD/96U9u+vTp9Q777rvvOs4hmArlD+ar5P9HHHGEPy8J3UpSb1rH+uCDD/xD8bBhw+qc+N577+1/e8WELjvFbTfsAI888ogve8stt3RYki3dd999rmXLlm7bbbe1Vbkl2xqasOjSBpVS6FKXJ5980pebBqFLfaPayYYyzcJ+Uf1AFs5L59C0CWRe6OKuQGM+c+bMBl/pvfbay+2zzz6OV1350lNPPeV22mmnOpujhK5l2H777esJS9tWiqVZY4NCN1+5P/zwg7dYsU+tp0GDBvmOVEK31q9Ueut3yCGHuF122SX3wGpn8vvf/97/9uIIXfaJ025Y2WeffbYv+89//rOtyi1vueUWt9FGG+W+888DDzzg2rdvX2ddki9ff/21P16phe4rr7ziy02L0E3STibhm8a8aeoH0shXda4egcwLXawwu+22W0HCZoHNl8msFDfffHO+LA5r8YwZM+psLyR077rrrjouESaiWdr/wcKK1dHyWr5CDXiwfP7Hyot1J5/QDea34yRZWp3Yh7KKlRfMHz6OhG6YiL6XkoDd6w899FC9YqOEbqHfqpVVqN2wg5xzzjn+HsSl4NNPP7XVfokAadOmTW68wMsvv+w22WQT7+JQJ2OCL3GELvdpofOLOlyU0I1TRpw8UccLr4tbZzteoXYyXHbwu+0fXBf1f7H6BMshL59CqVh5wf2DZQfLjFrPfsX6gWAZhf6PU4dC+2ubCJSaQKaF7v333+87j0svvbQeNwaYXHvtte43v/mN22GHHfzrQTqycCfDjty4m222mcNKEXytWK/Q0IpCQpesHGvSpEnemoovIH7E+Odhqfnoo4/8AJi4dbzmmmvcjjvu6DbddFPvC7zvvvv6czeLLvV+8MEHHd+D1hZ8ARG5fPDdpQyOmS+/nSKDZA466CD/ipdjYgG76KKLcnwYaMer1aOOOsrhl8zr4BNPPNFz5DuCNZjiXg8J3SA1/V9KAtznO++8s/dv5/cYTiZ0GczJ7xC/+/XWW8/tueeekW9nkrQbTzzxRO4+5G1PeCwBPsOkF1980d9P3K/4q3O/8mH/bt265b5z/5OXtHDhQl9H8jFAlVRI6FJWz549fZuIr/+BBx7o3njjDb9fsT9BoYvQpx4tWrRwbdu29e3D999/nysi7j2PBZ3xFYyXYIm/ctjNKm6di7WTucpF/MP1xDWN8Re0YYzBwJWKdvuee+6pU6dC9UnaNlKVQuWx/bnnnvMDGGmL//Wvf7lf//rX/veBawbp2WefdSeffLL/HVB3WOJTbSlfP2Dbi7X35CtWBytLSxGoNIFMC11EHR0CgjOcGBXMNrPcIDj5PmDAgHBW/53RyWxfunRp5PaolcWELo0kryQpFx88fIER1Hx/6aWX/Mhl/i9WR8Qk5Tz++ONelJN//fXX9+WY0KWBpqOjPBpDS++//74XrKy//PLLfSP55Zdf+gY9Kj/7zZs3z3deRx55pKPjouE+9dRTfdlEdaADwwfw2GOP9esomw6KejIAZIMNNvDrgz7Kca+HhK5dOS1LTeD111/3v0tEQlQyoYtQ4KGQBz27X1kXFqeUEbfd4MGSN0/cK3y4f3lwDAtu7jWzFGPlRdTgV0myB3v2R9gEExZjHujtQT2f0CVqDG0JPsavvvqqF/SUxyCzKCNA8Bj8b0KXQXWw6dOnT53zOumkk3K7xLnnOVfK4g0YyYQ+ETAsxa1znHbSyoxaDh8+3F+bO++807ezRH+x68WDwdVXX+13K1afpG1jsfK47r/85S9zdenevbt3o6NuBx98sI/cwcMGgysR6wyupD3GbQUBS8rXD7AtTntfrA7+IPojAlUikGmhi3WGm50R++GEVZNtNOYkGnG+54tIYAJr2rRp4aLyfi8mdNnxlFNO8cfllSUNECLz6aef9mXGqSOilnqHB85gPWW9CV0KRKSzLih0WW8PBGHXhaj8dLQWTSIYjYIG1BpbwiOReEVmojbIzY5nHQN545wr+ew6yEfXI9afEhKYNWuWvz/yhcYyoYuo4fdOInIK1kruq3PPPbdebez3Gvz918v0Pys+++wz97vf/c6XRXl8sBrj/x9MJsh5+xNOWDvZ74wzzqizCSsk0SAsRQldjk/bQNthifPkOJSJNbRYMqFL/kcffTSX/bzzzvNlrLvuur6NY0Oce/7iiy/2+wUZUJaNuYhb5yTtZK7SgX9oy1q1auU/9rCwcuVKXzfOlTdwpLj1ids2xi2P41MPPuPGjfN1WbRokR9EjUWc9UEjjol0/L8tWbsc7AeStPeF6mDH0FIEqkEgs0KXBprRytzgiMdwevjhh13Qdw4LAXmxzEQle5q3V39RecLr4ghdyuO4DEYJpzh1xPrE/vaa0sqI8j3j9Sd54wrdqPw2OpxXX+FEo0n5QZ9os3iZ1Yl9sC6Tj4bVUpxzJa8JBwldI6dlqQhceeWV/nd51llnRRZpQpe3P8HEmxB+z7jvhFND2g1EnIlAysV94O9//3uu6EJC1wQdogyRRCKmNhY9+866KKGLqxHHw1L8i6475j6IU9YfdthhuTrk+8eELg/uwcRDPH7FlDN79my/Kc49j/XU6mRjIBCYuEKR4tY5STsZrLf9z0M99cC6/PHHH9tq78bAeizPpLj1IW+ctjFueQhn6sEnHPud6DlXXHFFzqizevVq17dvX58XNzVLUUI3SXtfqA52DC1FoBoEMit0uZmtYcoHlsaep19823gNT/7w6Gbb18RZnMbe9kkidLFSRKVidaRTot7BxpdyyiV0LTQaUSjCiRBq1AXfQXu4iGrMo+pGWcXOlTwSumHq+l4qAvgw8vvFihiVTOiGoy7Y737ttdf2b2WC+zak3WB/xIq97aFOPLSbuCskdNnXXI4Q4KQzzzzT/eEPf/D/258ooWsD4vDdZHBt+GMhFnkQ2H///et87FgmdBHq4WRuHIxHsFTsnodD0KUDn9+gv3DcOidpJ61uwSUiztoyE9xs33333b34XbVqlc8etz5ktvKCRoBw2xi3vKDI/O6774JVz/2PhRerLg9k9rYzaKWPErpJ2vs4dchVRv+IQAUJZFboYtHFqkEnEX7ChS/uAbgp4EOG5ZLGgbz5hK5Ze04//fTYl6exQrdYHfHfo8588PsKpnCDybYoCy3roxq4fPmt495uu+2Ch/P/4+dFXfD9woJDitOYk6/YufrCJHQNg5ZlIGD3eNTbFQ6XT+gicvjd096YS4NVz8os1G4gdPBxjEqIQrvHbTbAYkL3r3/9q98HlwNePTO4FetpMEUJXUKbcazg6+zgPvY/A3gRssGPuTsUErrmTnXVVVf5ouLe87Ql1kZRP9oUs6DGqXPSdtLOM7yk3lh0EYpcM6znPNQzW56lOPWxvHHaxrjlFRKZRO1gbARWfWbbI5krSTGhm6S9L1QHO2ctRaAaBDIrdIFJg0TDGHxiZj03JH6muCmYCC4mdPG/oywEZNzUGKEbt46cA/WywRpWt3IJXfPbZbT5J598YofzSwY2UBf8Ci3FaczjnitlyqJrZLUsNQFeqfP7Pe644yKLzid0Tdwx2Cec4rQb+PlyH0cN9qJdMj/3Cy64wBdfTOjiQ2quD7ypwo2AeyyYooQuQo7z5+E/nBDwWIZ5DV4oGYsoi67xw00s7j2Py4ZxQdziMkUdsUiS4tY5STtZ6PwQ3BhIunbt6iMbYN0PPtzErQ/HiNM2xi0PnnDhE7boMrCQ9UxNbSmu0E3S3heqgx1XSxGoBoFMC10LmRIcyABk82Nr3bp1rgMwayT+cFGJEbs0FmZJiMoTXkcUBGt88JOLSuajGx7IEreOuBBwDF6h2SAJjsNAL9YzMtwSryJZh69cMNGxsz48oC1ffnsNGBzcQnnWoAbLwR+YsoMPG4TjYR2dBinuuZJXQtcj058yECCCAb/LKKHH4UyohV0XJkyY4PebMmVKvVrFaTe4b3lwJEpJOHHf4BJBve6++26/mXV8Zx+sdVHJ7jHyXXjhhfWyRAndYHs1atSoOvtw32HJLZbyCV3qiUBEqBKpJe49j7jHQm0JP2MEIueOwIxb5yTtpB0rvBw9erQ3nmAlz5fi1of947SNccsLisxwpA5z/cA6a8li5vLGwVK+fiBue1+oDnYMLUWgGgQyLXR51UdDz9zuwWQ+dWzj5sa/jMEXfOfDUzSDAIKJqTm54c0CHNyW73/rAClz8uTJkdnslRy+Z8EUt45YPKwjZIABHQjnY24biFrCFNHREOeQuvC6zVwLOKbVEwZz5szx4rhQfsLNUD6jzS3yAj7RhEjDpcEaWiwxvOrjmPiHWbJQZIxeJ8U9V/IecMABvjwTyVamliJQCgKE+MMfNkpAHn744f63FxSk//znP72Aw/80KsVtNwj3xH2CiwMilITfvYXow4IZtNRZpAeECqI0PECOvFhyKTPs1kTZ1hawPejzuscee/h97BU9xgLe0ND2YUkuluBBmRgMLHQVghRfU9aZ0SHuPY/QpV2y9oq2BaHLRECW4tQ5STtp5QaXHB9xjWsb7SzuCoh/HuqJoRu0dMepT9y2kTrEKc+s/LBfsGBBsOq5EHdY2RG7PHzZWwI4YmxBpObrB+K294XqUKdC+iICFSaQaaFLZ0VHY4LK2NLw4pRPo8CH+JI0/ARG5zuNelCY2Sv5uG4L3PBM/4mgtGPQSNKoWKdDHYg5a3nwa8ViYsdNUse//e1v3g/PjkWDhm8XPllYoRDtiH17nUk+Yi1aiB5enSJSWU8nghUBsZwvPxxpTLHOIHg5L/LSgFqDT+eJ6LU6cR0YxMErM1iwnnMmzmOcc8XHkMD8JuppqBEehawrdr21FIG4BIjEwm/zscceq7cLkU2w9vIb5G0Qg1jxf+WVMEIhnJK0GzzA4frAQDLuQaYTt2gHhBwj0kAwEXWE+whBygDZKGGOSEUkhRNve0woc64c08Kf4Y6EkLP7jO2ELMNSGyfBgbaGuLu0bbzip22gHsG42XHuedpCQhXidoDYxseXyTRwSbMHbOoUt85x2knqlS/BGR5RH9pCi2pRrD5J2sY454fQtpCP1I22NhgdiLbaIl7Qbg4ePNhPQGHX2Pyro/oBY1GsvS9WBytHSxGoBoFMC12AIpAQVMwsE07c2MEYuzTS+CSZRdLyI4ppsKM6M8tTrmXcOvI6kKlBzTqDhdUiH8SpG+dGR5T0HLE6wSyqo41z3GCeuOca3Ef/i0ApCeBG0KtXLy/u8pWLtRThx++1UErSbnAP2f1K+8ODNw+cFp816jiIX+7zqIRgQxzaALaoPIXWIdqYfSwczaXQPuFtRGlYvHhxzhob3s73Yvc8rDkXrNwwCgrccHlx6tzQdpJz2XXXXf2skbSzxAhmACHhz3hwQEjaw4LVK059LG+cZWPKwyLNg1qwb8NdD3edYCrWD5SyvQ8eV/+LQDkJZF7oAo9wQbz6s9dfSYDSmPG6KjzlZJIylFcERCA9BBCQRCwID/BMcgbVbjd4e4JVNShsktRfeesSwJKP1TZfOv744+sJ3Xx5tV4ERKCyBJqE0AUpMwXRWPFUHDcx9SKv3QiDoyQCItB0CGCx5RWwDQBLcubVajcIRbbffvv5V9O4VjBJgFLjCWDlxA2M1/4MOAxaubH04uaFq0lDDCmNr51KEAERKEagyQhdQDB6NzxooxAgYg9akPZC+bRNBEQgewS49/FzTWoVrVa7QVQD8x/lNXsp3Imyd1Ubdkb4YeMCZ3yx+GMxX3/99f3AtHwuJA07mvYSAREoJYEmJXRLCU5liYAIiEAtEWDAELOpMRjMIjfUUv3SXpclS5Y4olzwIEMUCfyfi/lpp/2cVX8RyAIBCd0sXEWdgwiIgAiIgAiIgAiIQD0CErr1kGiFCIiACIiACIiACIhAFghI6GbhKuocREAEREAEREAEREAE6hGQ0K2HRCtEQAREQAREQAREQASyQEBCNwtXUecgAiIgAiIgAiIgAiJQj4CEbj0kWiECIiACIiACIiACIpAFAhK6WbiKOgcREAEREAEREAEREIF6BCR06yHRChEQAREQAREQAREQgSwQkNDNwlXUOYiACIiACIiACIiACNQjIKFbD4lWiIAIiIAIiIAIiIAIZIGAhG4WrqLOQQREQAREQAREQAREoB4BCd16SLRCBERABERABERABEQgCwQkdLNwFXUOIiACIiACIiACIiAC9QhI6NZDohUiIAIiIAIiIAIiIAJZICChm4WrqHMQAREQAREQAREQARGoR0BCtx4SrRABERABERABERABEcgCgf8LcnaWOhz3iuMAAAAASUVORK5CYII=)"
      ]
    },
    {
      "cell_type": "markdown",
      "metadata": {
        "id": "hQN5Pt39O03H",
        "colab_type": "text"
      },
      "source": [
        "## Isolation des objets mathematiques utilisées:\n",
        "- Latent space $z \\in Z$ (disons $Z$ contient les vecteurs de dimesion 128)\n",
        "- Latent space $w \\in W$ (disons $W$ contient les vecteurs de dimesion 128, de meme dimension que $Z$)\n",
        "\n",
        "- Noise: random vecteur $n \\in N$ pour \"gener\" l'entrainement (disons que $N$ de meme dismension que les autres\n",
        "\n",
        "- Operation matricielle A permet d'ajouter un vecteur a un endroit du reseaux \n",
        "- Operation matricielle B permet d'ajouter un vecteur (de type bruit) a un endroit du reseaux \n",
        "- AdaIN est un module du reseaux (toujours inconnu pour l'instant)\n",
        "\n",
        "\n",
        "## Plus d'information sur AdaIN:\n",
        "\n",
        "Le terme AdaIn derive de `adaptive instance normalization` a pour objectif d'aligner la moyenne et la variance du des parameteres avec ceux des parametres du style. \n",
        "\n",
        "![image.png](data:image/png;base64,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)"
      ]
    },
    {
      "cell_type": "markdown",
      "metadata": {
        "id": "6NgxcGTWJ3BU",
        "colab_type": "text"
      },
      "source": [
        "## Debut du code (installation des librairies requises)"
      ]
    },
    {
      "cell_type": "code",
      "metadata": {
        "id": "piBx8XhoRbEC",
        "colab_type": "code",
        "colab": {
          "base_uri": "https://localhost:8080/",
          "height": 188
        },
        "outputId": "183a6762-9190-4da1-9dd3-70def603514d"
      },
      "source": [
        "!pip3 install http://download.pytorch.org/whl/cu80/torch-0.4.1-cp36-cp36m-linux_x86_64.whl "
      ],
      "execution_count": 1,
      "outputs": [
        {
          "output_type": "stream",
          "text": [
            "Collecting torch==0.4.1\n",
            "\u001b[?25l  Downloading http://download.pytorch.org/whl/cu80/torch-0.4.1-cp36-cp36m-linux_x86_64.whl (483.0MB)\n",
            "\u001b[K     |████████████████████████████████| 483.0MB 1.1MB/s \n",
            "\u001b[31mERROR: torchvision 0.5.0 has requirement torch==1.4.0, but you'll have torch 0.4.1 which is incompatible.\u001b[0m\n",
            "\u001b[31mERROR: fastai 1.0.60 has requirement torch>=1.0.0, but you'll have torch 0.4.1 which is incompatible.\u001b[0m\n",
            "\u001b[?25hInstalling collected packages: torch\n",
            "  Found existing installation: torch 1.4.0\n",
            "    Uninstalling torch-1.4.0:\n",
            "      Successfully uninstalled torch-1.4.0\n",
            "Successfully installed torch-0.4.1\n"
          ],
          "name": "stdout"
        }
      ]
    },
    {
      "cell_type": "code",
      "metadata": {
        "id": "EpWIDOgJRcbI",
        "colab_type": "code",
        "colab": {
          "base_uri": "https://localhost:8080/",
          "height": 397
        },
        "outputId": "9a8a41af-5ed7-441f-a687-bbd0dd412673"
      },
      "source": [
        "!pip install torchvision\n",
        "!pip install tensorboardX"
      ],
      "execution_count": 2,
      "outputs": [
        {
          "output_type": "stream",
          "text": [
            "Requirement already satisfied: torchvision in /usr/local/lib/python3.6/dist-packages (0.5.0)\n",
            "Requirement already satisfied: numpy in /usr/local/lib/python3.6/dist-packages (from torchvision) (1.18.2)\n",
            "Requirement already satisfied: six in /usr/local/lib/python3.6/dist-packages (from torchvision) (1.12.0)\n",
            "Requirement already satisfied: pillow>=4.1.1 in /usr/local/lib/python3.6/dist-packages (from torchvision) (7.0.0)\n",
            "Collecting torch==1.4.0\n",
            "\u001b[?25l  Downloading https://files.pythonhosted.org/packages/24/19/4804aea17cd136f1705a5e98a00618cb8f6ccc375ad8bfa437408e09d058/torch-1.4.0-cp36-cp36m-manylinux1_x86_64.whl (753.4MB)\n",
            "\u001b[K     |████████████████████████████████| 753.4MB 19kB/s \n",
            "\u001b[?25hInstalling collected packages: torch\n",
            "  Found existing installation: torch 0.4.1\n",
            "    Uninstalling torch-0.4.1:\n",
            "      Successfully uninstalled torch-0.4.1\n",
            "Successfully installed torch-1.4.0\n",
            "Collecting tensorboardX\n",
            "\u001b[?25l  Downloading https://files.pythonhosted.org/packages/35/f1/5843425495765c8c2dd0784a851a93ef204d314fc87bcc2bbb9f662a3ad1/tensorboardX-2.0-py2.py3-none-any.whl (195kB)\n",
            "\u001b[K     |████████████████████████████████| 204kB 4.8MB/s \n",
            "\u001b[?25hRequirement already satisfied: numpy in /usr/local/lib/python3.6/dist-packages (from tensorboardX) (1.18.2)\n",
            "Requirement already satisfied: six in /usr/local/lib/python3.6/dist-packages (from tensorboardX) (1.12.0)\n",
            "Requirement already satisfied: protobuf>=3.8.0 in /usr/local/lib/python3.6/dist-packages (from tensorboardX) (3.10.0)\n",
            "Requirement already satisfied: setuptools in /usr/local/lib/python3.6/dist-packages (from protobuf>=3.8.0->tensorboardX) (46.1.3)\n",
            "Installing collected packages: tensorboardX\n",
            "Successfully installed tensorboardX-2.0\n"
          ],
          "name": "stdout"
        }
      ]
    },
    {
      "cell_type": "code",
      "metadata": {
        "id": "G06wS1ZJRzIc",
        "colab_type": "code",
        "colab": {}
      },
      "source": [
        "#Imports libraries\n",
        "\n",
        "import torch\n",
        "from torch import nn, optim\n",
        "from torch.autograd.variable import Variable\n",
        "from torchvision import transforms, datasets"
      ],
      "execution_count": 0,
      "outputs": []
    },
    {
      "cell_type": "code",
      "metadata": {
        "id": "9Qap7RFBSDLi",
        "colab_type": "code",
        "colab": {}
      },
      "source": [
        "# Logger class\n",
        "import os\n",
        "import numpy as np #maths\n",
        "import errno\n",
        "import torchvision.utils as vutils \n",
        "from tensorboardX import SummaryWriter\n",
        "from IPython import display\n",
        "from matplotlib import pyplot as plt\n",
        "import torch\n",
        "\n",
        "'''\n",
        "    TensorBoard Data will be stored in './runs' path\n",
        "'''\n",
        "\n",
        "class Logger:\n",
        "\n",
        "    def __init__(self, model_name, data_name):\n",
        "        self.model_name = model_name\n",
        "        self.data_name = data_name\n",
        "\n",
        "        self.comment = '{}_{}'.format(model_name, data_name)\n",
        "        self.data_subdir = '{}/{}'.format(model_name, data_name)\n",
        "\n",
        "        # TensorBoard\n",
        "        self.writer = SummaryWriter(comment=self.comment)\n",
        "\n",
        "    def log(self, d_error, g_error, epoch, n_batch, num_batches):\n",
        "\n",
        "        # var_class = torch.autograd.variable.Variable\n",
        "        if isinstance(d_error, torch.autograd.Variable):\n",
        "            d_error = d_error.data.cpu().numpy()\n",
        "        if isinstance(g_error, torch.autograd.Variable):\n",
        "            g_error = g_error.data.cpu().numpy()\n",
        "\n",
        "        step = Logger._step(epoch, n_batch, num_batches)\n",
        "        self.writer.add_scalar(\n",
        "            '{}/D_error'.format(self.comment), d_error, step)\n",
        "        self.writer.add_scalar(\n",
        "            '{}/G_error'.format(self.comment), g_error, step)\n",
        "\n",
        "    def log_images(self, images, num_images, epoch, n_batch, num_batches, format='NCHW', normalize=True):\n",
        "        '''\n",
        "        input images are expected in format (NCHW)\n",
        "        '''\n",
        "        if type(images) == np.ndarray:\n",
        "            images = torch.from_numpy(images)\n",
        "        \n",
        "        if format=='NHWC':\n",
        "            images = images.transpose(1,3)\n",
        "        \n",
        "\n",
        "        step = Logger._step(epoch, n_batch, num_batches)\n",
        "        img_name = '{}/images{}'.format(self.comment, '')\n",
        "\n",
        "        # Make horizontal grid from image tensor\n",
        "        horizontal_grid = vutils.make_grid(\n",
        "            images, normalize=normalize, scale_each=True)\n",
        "        # Make vertical grid from image tensor\n",
        "        nrows = int(np.sqrt(num_images))\n",
        "        grid = vutils.make_grid(\n",
        "            images, nrow=nrows, normalize=True, scale_each=True)\n",
        "\n",
        "        # Add horizontal images to tensorboard\n",
        "        self.writer.add_image(img_name, horizontal_grid, step)\n",
        "\n",
        "        # Save plots\n",
        "        self.save_torch_images(horizontal_grid, grid, epoch, n_batch)\n",
        "\n",
        "    def save_torch_images(self, horizontal_grid, grid, epoch, n_batch, plot_horizontal=True):\n",
        "        out_dir = './data/images/{}'.format(self.data_subdir)\n",
        "        Logger._make_dir(out_dir)\n",
        "\n",
        "        # Plot and save horizontal\n",
        "        fig = plt.figure(figsize=(16, 16))\n",
        "        plt.imshow(np.moveaxis(horizontal_grid.numpy(), 0, -1))\n",
        "        plt.axis('off')\n",
        "        if plot_horizontal:\n",
        "            display.display(plt.gcf())\n",
        "        self._save_images(fig, epoch, n_batch, 'hori')\n",
        "        plt.close()\n",
        "\n",
        "        # Save squared\n",
        "        fig = plt.figure()\n",
        "        plt.imshow(np.moveaxis(grid.numpy(), 0, -1))\n",
        "        plt.axis('off')\n",
        "        self._save_images(fig, epoch, n_batch)\n",
        "        plt.close()\n",
        "\n",
        "    def _save_images(self, fig, epoch, n_batch, comment=''):\n",
        "        out_dir = './data/images/{}'.format(self.data_subdir)\n",
        "        Logger._make_dir(out_dir)\n",
        "        fig.savefig('{}/{}_epoch_{}_batch_{}.png'.format(out_dir,\n",
        "                                                         comment, epoch, n_batch))\n",
        "\n",
        "    def display_status(self, epoch, num_epochs, n_batch, num_batches, d_error, g_error, d_pred_real, d_pred_fake):\n",
        "        \n",
        "        # var_class = torch.autograd.variable.Variable\n",
        "        if isinstance(d_error, torch.autograd.Variable):\n",
        "            d_error = d_error.data.cpu().numpy()\n",
        "        if isinstance(g_error, torch.autograd.Variable):\n",
        "            g_error = g_error.data.cpu().numpy()\n",
        "        if isinstance(d_pred_real, torch.autograd.Variable):\n",
        "            d_pred_real = d_pred_real.data\n",
        "        if isinstance(d_pred_fake, torch.autograd.Variable):\n",
        "            d_pred_fake = d_pred_fake.data\n",
        "        \n",
        "        \n",
        "        print('Epoch: [{}/{}], Batch Num: [{}/{}]'.format(\n",
        "            epoch,num_epochs, n_batch, num_batches)\n",
        "             )\n",
        "        print('Discriminator Loss: {:.4f}, Generator Loss: {:.4f}'.format(d_error, g_error))\n",
        "        print('D(x): {:.4f}, D(G(z)): {:.4f}'.format(d_pred_real.mean(), d_pred_fake.mean()))\n",
        "\n",
        "    def save_models(self, generator, discriminator, epoch):\n",
        "        out_dir = './data/models/{}'.format(self.data_subdir)\n",
        "        Logger._make_dir(out_dir)\n",
        "        torch.save(generator.state_dict(),\n",
        "                   '{}/G_epoch_{}'.format(out_dir, epoch))\n",
        "        torch.save(discriminator.state_dict(),\n",
        "                   '{}/D_epoch_{}'.format(out_dir, epoch))\n",
        "\n",
        "    def close(self):\n",
        "        self.writer.close()\n",
        "\n",
        "    # Private Functionality\n",
        "\n",
        "    @staticmethod\n",
        "    def _step(epoch, n_batch, num_batches):\n",
        "        return epoch * num_batches + n_batch\n",
        "\n",
        "    @staticmethod\n",
        "    def _make_dir(directory):\n",
        "        try:\n",
        "            os.makedirs(directory)\n",
        "        except OSError as e:\n",
        "            if e.errno != errno.EEXIST:\n",
        "                raise\n"
      ],
      "execution_count": 0,
      "outputs": []
    },
    {
      "cell_type": "code",
      "metadata": {
        "id": "3PfxmsLLShdS",
        "colab_type": "code",
        "colab": {
          "base_uri": "https://localhost:8080/",
          "height": 368,
          "referenced_widgets": [
            "3463ecbb66ed4676a56a3470b670eae8",
            "41f30b9e7c6f44c6a40b067a6eb9e112",
            "eb94d04ce2e147b0abb90f4975d8ae3e",
            "ee6738d850a64b3d8817fd437cdd4dd3",
            "6289c67589ea4da1a1a8665effe9707f",
            "1cfd6e9523a24f7396175249691d46b8",
            "72a632618f01487886f2b6a97db6fbb6",
            "757a89804cf14bfa978d8f889286cf4f",
            "663cc16a79df408ba84ec73cfd887ac1",
            "9e8b3053a7b14d659acabc0ec4be7d0a",
            "a3eef4e72463472fa10bc4e995bf5614",
            "fd1fe54f0062461eaed40a606b977e73",
            "760e4349050b432783e65a044d57d4b7",
            "3c9899c659ec442b8db38c3ef26af949",
            "ca2490682df64fe88c8576a68cecb3f1",
            "7a31f1de6ccf4c6180181edf5dc264b7",
            "2e81962e03844a83aeac86aebf462a55",
            "c519508872f84a088db4f095ea4e89e1",
            "99d5c3b6486b4db092561b1e2ce24598",
            "029feb26566e4b00b82bd486606e136f",
            "f256a7dcb3af4a61a4428f7d366fd189",
            "af166224749543bab3847ead454357b0",
            "8950248073104d90af59bee9fd036856",
            "6f01d1a628ac49b0a459e364f0b28dcb",
            "46b26932a488481eb68b318bfb260dc8",
            "701d9ea0006343d48bff7e11f0128680",
            "64a5b8eaaef74accb040964004ca2a15",
            "da7fec17d691426aaba253712ba11bbd",
            "2b77774e4cce4d1aa66671db80b66496",
            "c4c0e92017ce4d4aa056e882f5c2f0d6",
            "f007b88153e44fc9a1ea6624ff2e0935",
            "c152ba935ec44afeb39dcf4740f2839a"
          ]
        },
        "outputId": "c5c24ebe-496f-4c03-e2be-ee9415b6c8b2"
      },
      "source": [
        "def mnist_data():\n",
        "    compose = transforms.Compose(\n",
        "        [transforms.ToTensor(),\n",
        "         transforms.Normalize((.5, .5, .5), (.5, .5, .5))\n",
        "        ])\n",
        "    out_dir = './dataset'\n",
        "    return datasets.MNIST(root=out_dir, train=True, transform=compose, download=True)\n",
        "#load data\n",
        "data = mnist_data()"
      ],
      "execution_count": 9,
      "outputs": [
        {
          "output_type": "stream",
          "text": [
            "Downloading http://yann.lecun.com/exdb/mnist/train-images-idx3-ubyte.gz to ./dataset/MNIST/raw/train-images-idx3-ubyte.gz\n"
          ],
          "name": "stdout"
        },
        {
          "output_type": "display_data",
          "data": {
            "application/vnd.jupyter.widget-view+json": {
              "model_id": "3463ecbb66ed4676a56a3470b670eae8",
              "version_minor": 0,
              "version_major": 2
            },
            "text/plain": [
              "HBox(children=(IntProgress(value=1, bar_style='info', max=1), HTML(value='')))"
            ]
          },
          "metadata": {
            "tags": []
          }
        },
        {
          "output_type": "stream",
          "text": [
            "Extracting ./dataset/MNIST/raw/train-images-idx3-ubyte.gz to ./dataset/MNIST/raw\n",
            "Downloading http://yann.lecun.com/exdb/mnist/train-labels-idx1-ubyte.gz to ./dataset/MNIST/raw/train-labels-idx1-ubyte.gz\n"
          ],
          "name": "stdout"
        },
        {
          "output_type": "display_data",
          "data": {
            "application/vnd.jupyter.widget-view+json": {
              "model_id": "663cc16a79df408ba84ec73cfd887ac1",
              "version_minor": 0,
              "version_major": 2
            },
            "text/plain": [
              "HBox(children=(IntProgress(value=1, bar_style='info', max=1), HTML(value='')))"
            ]
          },
          "metadata": {
            "tags": []
          }
        },
        {
          "output_type": "stream",
          "text": [
            "Extracting ./dataset/MNIST/raw/train-labels-idx1-ubyte.gz to ./dataset/MNIST/raw\n",
            "Downloading http://yann.lecun.com/exdb/mnist/t10k-images-idx3-ubyte.gz to ./dataset/MNIST/raw/t10k-images-idx3-ubyte.gz\n"
          ],
          "name": "stdout"
        },
        {
          "output_type": "display_data",
          "data": {
            "application/vnd.jupyter.widget-view+json": {
              "model_id": "2e81962e03844a83aeac86aebf462a55",
              "version_minor": 0,
              "version_major": 2
            },
            "text/plain": [
              "HBox(children=(IntProgress(value=1, bar_style='info', max=1), HTML(value='')))"
            ]
          },
          "metadata": {
            "tags": []
          }
        },
        {
          "output_type": "stream",
          "text": [
            "Extracting ./dataset/MNIST/raw/t10k-images-idx3-ubyte.gz to ./dataset/MNIST/raw\n",
            "Downloading http://yann.lecun.com/exdb/mnist/t10k-labels-idx1-ubyte.gz to ./dataset/MNIST/raw/t10k-labels-idx1-ubyte.gz\n",
            "\n",
            "\n",
            "\n"
          ],
          "name": "stdout"
        },
        {
          "output_type": "display_data",
          "data": {
            "application/vnd.jupyter.widget-view+json": {
              "model_id": "46b26932a488481eb68b318bfb260dc8",
              "version_minor": 0,
              "version_major": 2
            },
            "text/plain": [
              "HBox(children=(IntProgress(value=1, bar_style='info', max=1), HTML(value='')))"
            ]
          },
          "metadata": {
            "tags": []
          }
        },
        {
          "output_type": "stream",
          "text": [
            "Extracting ./dataset/MNIST/raw/t10k-labels-idx1-ubyte.gz to ./dataset/MNIST/raw\n",
            "Processing...\n",
            "Done!\n"
          ],
          "name": "stdout"
        }
      ]
    },
    {
      "cell_type": "code",
      "metadata": {
        "id": "PKWSvECVTHUT",
        "colab_type": "code",
        "colab": {
          "base_uri": "https://localhost:8080/",
          "height": 34
        },
        "outputId": "886c5e6d-c173-4cba-e1db-3851e49f9142"
      },
      "source": [
        "data.data.shape\n",
        "\n",
        "data_loader = torch.utils.data.DataLoader(data, batch_size=100, shuffle=True)\n",
        "\n",
        "num_batches = len(data_loader)\n",
        "num_batches #il y a 600 morceaux de 100 images dans un dataset de 60 000 images "
      ],
      "execution_count": 15,
      "outputs": [
        {
          "output_type": "execute_result",
          "data": {
            "text/plain": [
              "600"
            ]
          },
          "metadata": {
            "tags": []
          },
          "execution_count": 15
        }
      ]
    },
    {
      "cell_type": "code",
      "metadata": {
        "id": "SJrgK8fOT2NK",
        "colab_type": "code",
        "colab": {}
      },
      "source": [
        "## Creation d'un discrimiator\n",
        "\n",
        "class DiscriminatorNet(torch.nn.Module):\n",
        "\n",
        "  def __init__(self):\n",
        "      super(DiscriminatorNet, self).__init__()\n",
        "      n_features = 784\n",
        "      n_out = 1\n",
        "      \n",
        "      self.hidden0 = nn.Sequential( \n",
        "          nn.Linear(n_features, 1024),\n",
        "          nn.LeakyReLU(0.2),\n",
        "          nn.Dropout(0.3)\n",
        "      )\n",
        "      self.hidden1 = nn.Sequential(\n",
        "          nn.Linear(1024, 512),\n",
        "          nn.LeakyReLU(0.2),\n",
        "          nn.Dropout(0.3)\n",
        "      )\n",
        "      self.hidden2 = nn.Sequential(\n",
        "          nn.Linear(512, 256),\n",
        "          nn.LeakyReLU(0.2),\n",
        "          nn.Dropout(0.3)\n",
        "      )\n",
        "      self.out = nn.Sequential(\n",
        "          torch.nn.Linear(256, n_out),\n",
        "          torch.nn.Sigmoid()\n",
        "      )\n",
        "  \n",
        "\n",
        "  def forward(self, x): #forward input \"-->\" output. --> = forward input = x and output = y\n",
        "    features = self.hidden0(x)\n",
        "    features = self.hidden1(features)\n",
        "    features = self.hidden2(features)\n",
        "    y = self.out(features)\n",
        "\n",
        "discriminator = DiscriminatorNet()\n"
      ],
      "execution_count": 0,
      "outputs": []
    },
    {
      "cell_type": "code",
      "metadata": {
        "id": "UqP24B_cVP9J",
        "colab_type": "code",
        "colab": {}
      },
      "source": [
        "if torch.cuda.is_available():\n",
        "  discriminator = discriminator.cuda()"
      ],
      "execution_count": 0,
      "outputs": []
    },
    {
      "cell_type": "code",
      "metadata": {
        "id": "7gXWpOzAWk_D",
        "colab_type": "code",
        "colab": {
          "base_uri": "https://localhost:8080/",
          "height": 34
        },
        "outputId": "29db225d-5b6f-4153-e4a4-47c8c4caf251"
      },
      "source": [
        "data.data.shape, 28*28"
      ],
      "execution_count": 28,
      "outputs": [
        {
          "output_type": "execute_result",
          "data": {
            "text/plain": [
              "(torch.Size([60000, 28, 28]), 784)"
            ]
          },
          "metadata": {
            "tags": []
          },
          "execution_count": 28
        }
      ]
    },
    {
      "cell_type": "code",
      "metadata": {
        "id": "YPiNINPtWKFB",
        "colab_type": "code",
        "colab": {}
      },
      "source": [
        "# Dimensionality changing\n",
        "\n",
        "def images_to_vectors(images):\n",
        "  # raise NotImplementedError\n",
        "  return images.view(images.size(0), 784)\n",
        "\n",
        "def vectors_to_images(vectors):\n",
        "  return vectors.view(images.size(0), 1, 28,28)\n"
      ],
      "execution_count": 0,
      "outputs": []
    },
    {
      "cell_type": "code",
      "metadata": {
        "id": "lx67gnYZW7EP",
        "colab_type": "code",
        "colab": {}
      },
      "source": [
        "# Generator\n",
        "\n",
        "class GeneratorNet(torch.nn.Module):\n",
        "  def __init__(self):\n",
        "        super(GeneratorNet, self).__init__()\n",
        "        n_features = 100\n",
        "        n_out = 784\n",
        "        \n",
        "        self.hidden0 = nn.Sequential(\n",
        "            nn.Linear(n_features, 3),\n",
        "            nn.LeakyReLU(0.2)\n",
        "        )\n",
        "        self.hidden1 = nn.Sequential(            \n",
        "            nn.Linear(256, 512),\n",
        "            nn.LeakyReLU(0.2)\n",
        "        )\n",
        "        self.hidden2 = nn.Sequential(\n",
        "            nn.Linear(512, 1024),\n",
        "            nn.LeakyReLU(0.2)\n",
        "        )\n",
        "        \n",
        "        self.out = nn.Sequential(\n",
        "            nn.Linear(1024, n_out),\n",
        "            nn.Tanh()\n",
        "        )\n",
        "\n",
        "  def forward(self, x):\n",
        "    #forward input \"-->\" output. --> = forward input = x and output = y\n",
        "    features = self.hidden0(x)\n",
        "    features = self.hidden1(features)\n",
        "    features = self.hidden2(features)\n",
        "    y = self.out(features)\n",
        "\n",
        "\n",
        "generator = GeneratorNet()\n"
      ],
      "execution_count": 0,
      "outputs": []
    },
    {
      "cell_type": "code",
      "metadata": {
        "id": "hfQHclkIXkvT",
        "colab_type": "code",
        "colab": {
          "base_uri": "https://localhost:8080/",
          "height": 34
        },
        "outputId": "9efb799b-3c25-48a6-ba2b-09c6107ac0db"
      },
      "source": [
        "if torch.cuda.is_available():\n",
        "  print(\"Model is now living in the GPU for faster training\")\n",
        "  generator = generator.cuda()"
      ],
      "execution_count": 34,
      "outputs": [
        {
          "output_type": "stream",
          "text": [
            "Model is now living in the GPU for faster training\n"
          ],
          "name": "stdout"
        }
      ]
    },
    {
      "cell_type": "code",
      "metadata": {
        "id": "AiY5iUnqX4Jo",
        "colab_type": "code",
        "colab": {}
      },
      "source": [
        "def noise(size):\n",
        "  n = Variable(torch.randn(size, 100))\n",
        "  return n"
      ],
      "execution_count": 0,
      "outputs": []
    },
    {
      "cell_type": "code",
      "metadata": {
        "id": "O_qkOH6EYEEF",
        "colab_type": "code",
        "colab": {
          "base_uri": "https://localhost:8080/",
          "height": 351
        },
        "outputId": "06df4742-155a-4203-e57c-2246489833bb"
      },
      "source": [
        "import matplotlib.pyplot as plt\n",
        "\n",
        "plt.hist(noise(1)[0]) #notre random noise est un bruit gaussien"
      ],
      "execution_count": 48,
      "outputs": [
        {
          "output_type": "execute_result",
          "data": {
            "text/plain": [
              "(array([ 1.,  4.,  6., 11., 20., 22., 16., 12.,  4.,  4.]),\n",
              " array([-2.556543  , -2.099373  , -1.6422031 , -1.1850331 , -0.7278631 ,\n",
              "        -0.27069306,  0.18647695,  0.64364696,  1.100817  ,  1.557987  ,\n",
              "         2.015157  ], dtype=float32),\n",
              " <a list of 10 Patch objects>)"
            ]
          },
          "metadata": {
            "tags": []
          },
          "execution_count": 48
        },
        {
          "output_type": "display_data",
          "data": {
            "image/png": "[encoded data removed]",
            "text/plain": [
              "<Figure size 432x288 with 1 Axes>"
            ]
          },
          "metadata": {
            "tags": [],
            "needs_background": "light"
          }
        }
      ]
    },
    {
      "cell_type": "markdown",
      "metadata": {
        "id": "L1eht05WY-HJ",
        "colab_type": "text"
      },
      "source": [
        "## Optimisation des modeles generatifs et discriminatifs"
      ]
    },
    {
      "cell_type": "code",
      "metadata": {
        "id": "et1o4l2JZCyO",
        "colab_type": "code",
        "colab": {
          "base_uri": "https://localhost:8080/",
          "height": 668
        },
        "outputId": "8aa80cba-0526-40c5-a4fb-6ee665bb3605"
      },
      "source": [
        "generator, discriminator"
      ],
      "execution_count": 50,
      "outputs": [
        {
          "output_type": "execute_result",
          "data": {
            "text/plain": [
              "(GeneratorNet(\n",
              "   (hidden0): Sequential(\n",
              "     (0): Linear(in_features=100, out_features=3, bias=True)\n",
              "     (1): LeakyReLU(negative_slope=0.2)\n",
              "   )\n",
              "   (hidden1): Sequential(\n",
              "     (0): Linear(in_features=256, out_features=512, bias=True)\n",
              "     (1): LeakyReLU(negative_slope=0.2)\n",
              "   )\n",
              "   (hidden2): Sequential(\n",
              "     (0): Linear(in_features=512, out_features=1024, bias=True)\n",
              "     (1): LeakyReLU(negative_slope=0.2)\n",
              "   )\n",
              "   (out): Sequential(\n",
              "     (0): Linear(in_features=1024, out_features=784, bias=True)\n",
              "     (1): Tanh()\n",
              "   )\n",
              " ), DiscriminatorNet(\n",
              "   (hidden0): Sequential(\n",
              "     (0): Linear(in_features=784, out_features=1024, bias=True)\n",
              "     (1): LeakyReLU(negative_slope=0.2)\n",
              "     (2): Dropout(p=0.3, inplace=False)\n",
              "   )\n",
              "   (hidden1): Sequential(\n",
              "     (0): Linear(in_features=1024, out_features=512, bias=True)\n",
              "     (1): LeakyReLU(negative_slope=0.2)\n",
              "     (2): Dropout(p=0.3, inplace=False)\n",
              "   )\n",
              "   (hidden2): Sequential(\n",
              "     (0): Linear(in_features=512, out_features=256, bias=True)\n",
              "     (1): LeakyReLU(negative_slope=0.2)\n",
              "     (2): Dropout(p=0.3, inplace=False)\n",
              "   )\n",
              "   (out): Sequential(\n",
              "     (0): Linear(in_features=256, out_features=1, bias=True)\n",
              "     (1): Sigmoid()\n",
              "   )\n",
              " ))"
            ]
          },
          "metadata": {
            "tags": []
          },
          "execution_count": 50
        }
      ]
    },
    {
      "cell_type": "code",
      "metadata": {
        "id": "Kk89KfaZYPNM",
        "colab_type": "code",
        "colab": {}
      },
      "source": [
        "# optimizers (qui permet d'ameli)\n",
        "d_optimizer = optim.Adam(discriminator.parameters())\n",
        "g_optimizer = optim.Adam(generator.parameters())"
      ],
      "execution_count": 0,
      "outputs": []
    },
    {
      "cell_type": "code",
      "metadata": {
        "id": "z6uwAt9UamdA",
        "colab_type": "code",
        "colab": {}
      },
      "source": [
        "# Loss function\n",
        "loss = nn.BCELoss()"
      ],
      "execution_count": 0,
      "outputs": []
    },
    {
      "cell_type": "code",
      "metadata": {
        "id": "nDDajg2fa-JY",
        "colab_type": "code",
        "colab": {}
      },
      "source": [
        "# Target vectors\n",
        "\n",
        "def ones_taget(size):\n",
        "  data = Variable(torch.ones(size, 1))\n",
        "  return data\n",
        "\n",
        "def zeros_target(size):\n",
        "  data = Variable(torch.zeros(size, 1))\n",
        "  return data"
      ],
      "execution_count": 0,
      "outputs": []
    },
    {
      "cell_type": "markdown",
      "metadata": {
        "id": "uCZqMvfPbF0c",
        "colab_type": "text"
      },
      "source": [
        "## Training\n",
        "\n",
        "- [X] Model definition \n",
        "- [X] Optimizer definition\n",
        "- [X] Dataset sous la forme X, y ou autre\n"
      ]
    },
    {
      "cell_type": "code",
      "metadata": {
        "id": "IKZ2_uNZba3E",
        "colab_type": "code",
        "colab": {}
      },
      "source": [
        "def train_discriminator(optimizer, real_data, fake_data):\n",
        "  N = real_data.size(0)\n",
        "  #1 train on real data\n",
        "  #reset gradients\n",
        "  #optimizer on parameters of discriminator\n",
        "  optimizer.zero_grad()\n",
        "\n",
        "  prediction_real = discriminator(real_data.cuda()).cuda()\n",
        "  labels_real = ones_taget(N).cuda()\n",
        "  error_real = loss(prediction_real, labels_real).cuda()\n",
        "  error_real.backward()\n",
        "  \n",
        "\n",
        "  #2 train on fake data:\n",
        "\n",
        "  # 1.2 Train on Fake Data\n",
        "  prediction_fake = discriminator(fake_data.cuda())\n",
        "  prediction_fake = prediction_fake.cuda()\n",
        "  # Calculate error and backpropagate\n",
        "  error_fake = loss(prediction_fake.cuda(), zeros_target(N).cuda())\n",
        "  error_fake = error_fake.cuda()\n",
        "  error_fake.backward()\n",
        "\n",
        "\n",
        "  optimizer.step()\n",
        "\n",
        "  return error_real + error_fake, prediction_real, prediction_fake\n",
        "\n",
        "def train_generator(optimizer, fake_data):\n",
        "    N = fake_data.size(0)\n",
        "\n",
        "    # Reset gradients\n",
        "    optimizer.zero_grad()\n",
        "\n",
        "    # Sample noise and generate fake data\n",
        "    prediction = discriminator(fake_data.cuda())\n",
        "    prediction = prediction.cuda()\n",
        "\n",
        "    # Calculate error and backpropagate\n",
        "    error = loss(prediction.cuda(), ones_target(N).cuda())\n",
        "    error = error.cuda()\n",
        "    error.backward()\n",
        "\n",
        "    # Update weights with gradients\n",
        "    optimizer.step()\n",
        "\n",
        "    # Return error\n",
        "    return error"
      ],
      "execution_count": 0,
      "outputs": []
    },
    {
      "cell_type": "code",
      "metadata": {
        "id": "v-x4_T_Gcar0",
        "colab_type": "code",
        "colab": {}
      },
      "source": [
        "num_test_samples = 16\n",
        "test_noise = noise(num_test_samples)"
      ],
      "execution_count": 0,
      "outputs": []
    },
    {
      "cell_type": "code",
      "metadata": {
        "id": "slf7wAkNcsIL",
        "colab_type": "code",
        "colab": {}
      },
      "source": [
        "# Create logger instance\n",
        "logger = Logger(model_name='VGAN', data_name='MNIST')\n",
        "\n",
        "# Total number of epochs to train\n",
        "num_epochs = 200"
      ],
      "execution_count": 0,
      "outputs": []
    },
    {
      "cell_type": "code",
      "metadata": {
        "id": "2okYwrTGcyDJ",
        "colab_type": "code",
        "colab": {
          "base_uri": "https://localhost:8080/",
          "height": 377
        },
        "outputId": "c1b522ef-efeb-4632-f352-844960b7f1d8"
      },
      "source": [
        "for epoch in range(num_epochs):\n",
        "  for n_batch, (real_batch,_) in enumerate(data_loader):\n",
        "    N = real_batch.size(0)\n",
        "\n",
        "    # 1. Train Discriminator\n",
        "    real_data = Variable(images_to_vectors(real_batch).cuda())\n",
        "\n",
        "    # Generate fake data and detach \n",
        "    # (so gradients are not calculated for generator)\n",
        "    fake_data = generator((noise(N).cuda().detach()))\n",
        "\n",
        "    # Train D\n",
        "    d_error, d_pred_real, d_pred_fake = \\\n",
        "          train_discriminator(d_optimizer, real_data.cuda(), fake_data.cuda())\n",
        "\n",
        "    # 2. Train Generator\n",
        "\n",
        "    # Generate fake data\n",
        "    fake_data = generator(noise(N).cuda())\n",
        "\n",
        "    # Train G\n",
        "    g_error = train_generator(g_optimizer, fake_data)\n",
        "\n",
        "    # Log batch error\n",
        "    logger.log(d_error, g_error, epoch, n_batch, num_batches)\n",
        "\n",
        "    # Display Progress every few batches\n",
        "    if (n_batch) % 100 == 0: \n",
        "      test_images = vectors_to_images(generator(test_noise.cuda()))\n",
        "      test_images = test_images.data\n",
        "\n",
        "      logger.log_images(\n",
        "          test_images.cpu(), num_test_samples, \n",
        "          epoch, n_batch, num_batches\n",
        "      );\n",
        "      # Display status Logs\n",
        "      logger.display_status(\n",
        "          epoch, num_epochs, n_batch, num_batches,\n",
        "          d_error, g_error, d_pred_real, d_pred_fake\n",
        "      )"
      ],
      "execution_count": 63,
      "outputs": [
        {
          "output_type": "error",
          "ename": "RuntimeError",
          "evalue": "ignored",
          "traceback": [
            "\u001b[0;31m---------------------------------------------------------------------------\u001b[0m",
            "\u001b[0;31mRuntimeError\u001b[0m                              Traceback (most recent call last)",
            "\u001b[0;32m<ipython-input-63-9a383997dbb2>\u001b[0m in \u001b[0;36m<module>\u001b[0;34m()\u001b[0m\n\u001b[1;32m      1\u001b[0m \u001b[0;32mfor\u001b[0m \u001b[0mepoch\u001b[0m \u001b[0;32min\u001b[0m \u001b[0mrange\u001b[0m\u001b[0;34m(\u001b[0m\u001b[0mnum_epochs\u001b[0m\u001b[0;34m)\u001b[0m\u001b[0;34m:\u001b[0m\u001b[0;34m\u001b[0m\u001b[0;34m\u001b[0m\u001b[0m\n\u001b[0;32m----> 2\u001b[0;31m   \u001b[0;32mfor\u001b[0m \u001b[0mn_batch\u001b[0m\u001b[0;34m,\u001b[0m \u001b[0;34m(\u001b[0m\u001b[0mreal_batch\u001b[0m\u001b[0;34m,\u001b[0m\u001b[0m_\u001b[0m\u001b[0;34m)\u001b[0m \u001b[0;32min\u001b[0m \u001b[0menumerate\u001b[0m\u001b[0;34m(\u001b[0m\u001b[0mdata_loader\u001b[0m\u001b[0;34m)\u001b[0m\u001b[0;34m:\u001b[0m\u001b[0;34m\u001b[0m\u001b[0;34m\u001b[0m\u001b[0m\n\u001b[0m\u001b[1;32m      3\u001b[0m     \u001b[0mN\u001b[0m \u001b[0;34m=\u001b[0m \u001b[0mreal_batch\u001b[0m\u001b[0;34m.\u001b[0m\u001b[0msize\u001b[0m\u001b[0;34m(\u001b[0m\u001b[0;36m0\u001b[0m\u001b[0;34m)\u001b[0m\u001b[0;34m\u001b[0m\u001b[0;34m\u001b[0m\u001b[0m\n\u001b[1;32m      4\u001b[0m \u001b[0;34m\u001b[0m\u001b[0m\n\u001b[1;32m      5\u001b[0m     \u001b[0;31m# 1. Train Discriminator\u001b[0m\u001b[0;34m\u001b[0m\u001b[0;34m\u001b[0m\u001b[0;34m\u001b[0m\u001b[0m\n",
            "\u001b[0;32m/usr/local/lib/python3.6/dist-packages/torch/utils/data/dataloader.py\u001b[0m in \u001b[0;36m__next__\u001b[0;34m(self)\u001b[0m\n\u001b[1;32m    343\u001b[0m \u001b[0;34m\u001b[0m\u001b[0m\n\u001b[1;32m    344\u001b[0m     \u001b[0;32mdef\u001b[0m \u001b[0m__next__\u001b[0m\u001b[0;34m(\u001b[0m\u001b[0mself\u001b[0m\u001b[0;34m)\u001b[0m\u001b[0;34m:\u001b[0m\u001b[0;34m\u001b[0m\u001b[0;34m\u001b[0m\u001b[0m\n\u001b[0;32m--> 345\u001b[0;31m         \u001b[0mdata\u001b[0m \u001b[0;34m=\u001b[0m \u001b[0mself\u001b[0m\u001b[0;34m.\u001b[0m\u001b[0m_next_data\u001b[0m\u001b[0;34m(\u001b[0m\u001b[0;34m)\u001b[0m\u001b[0;34m\u001b[0m\u001b[0;34m\u001b[0m\u001b[0m\n\u001b[0m\u001b[1;32m    346\u001b[0m         \u001b[0mself\u001b[0m\u001b[0;34m.\u001b[0m\u001b[0m_num_yielded\u001b[0m \u001b[0;34m+=\u001b[0m \u001b[0;36m1\u001b[0m\u001b[0;34m\u001b[0m\u001b[0;34m\u001b[0m\u001b[0m\n\u001b[1;32m    347\u001b[0m         \u001b[0;32mif\u001b[0m \u001b[0mself\u001b[0m\u001b[0;34m.\u001b[0m\u001b[0m_dataset_kind\u001b[0m \u001b[0;34m==\u001b[0m \u001b[0m_DatasetKind\u001b[0m\u001b[0;34m.\u001b[0m\u001b[0mIterable\u001b[0m \u001b[0;32mand\u001b[0m\u001b[0;31m \u001b[0m\u001b[0;31m\\\u001b[0m\u001b[0;34m\u001b[0m\u001b[0;34m\u001b[0m\u001b[0m\n",
            "\u001b[0;32m/usr/local/lib/python3.6/dist-packages/torch/utils/data/dataloader.py\u001b[0m in \u001b[0;36m_next_data\u001b[0;34m(self)\u001b[0m\n\u001b[1;32m    383\u001b[0m     \u001b[0;32mdef\u001b[0m \u001b[0m_next_data\u001b[0m\u001b[0;34m(\u001b[0m\u001b[0mself\u001b[0m\u001b[0;34m)\u001b[0m\u001b[0;34m:\u001b[0m\u001b[0;34m\u001b[0m\u001b[0;34m\u001b[0m\u001b[0m\n\u001b[1;32m    384\u001b[0m         \u001b[0mindex\u001b[0m \u001b[0;34m=\u001b[0m \u001b[0mself\u001b[0m\u001b[0;34m.\u001b[0m\u001b[0m_next_index\u001b[0m\u001b[0;34m(\u001b[0m\u001b[0;34m)\u001b[0m  \u001b[0;31m# may raise StopIteration\u001b[0m\u001b[0;34m\u001b[0m\u001b[0;34m\u001b[0m\u001b[0m\n\u001b[0;32m--> 385\u001b[0;31m         \u001b[0mdata\u001b[0m \u001b[0;34m=\u001b[0m \u001b[0mself\u001b[0m\u001b[0;34m.\u001b[0m\u001b[0m_dataset_fetcher\u001b[0m\u001b[0;34m.\u001b[0m\u001b[0mfetch\u001b[0m\u001b[0;34m(\u001b[0m\u001b[0mindex\u001b[0m\u001b[0;34m)\u001b[0m  \u001b[0;31m# may raise StopIteration\u001b[0m\u001b[0;34m\u001b[0m\u001b[0;34m\u001b[0m\u001b[0m\n\u001b[0m\u001b[1;32m    386\u001b[0m         \u001b[0;32mif\u001b[0m \u001b[0mself\u001b[0m\u001b[0;34m.\u001b[0m\u001b[0m_pin_memory\u001b[0m\u001b[0;34m:\u001b[0m\u001b[0;34m\u001b[0m\u001b[0;34m\u001b[0m\u001b[0m\n\u001b[1;32m    387\u001b[0m             \u001b[0mdata\u001b[0m \u001b[0;34m=\u001b[0m \u001b[0m_utils\u001b[0m\u001b[0;34m.\u001b[0m\u001b[0mpin_memory\u001b[0m\u001b[0;34m.\u001b[0m\u001b[0mpin_memory\u001b[0m\u001b[0;34m(\u001b[0m\u001b[0mdata\u001b[0m\u001b[0;34m)\u001b[0m\u001b[0;34m\u001b[0m\u001b[0;34m\u001b[0m\u001b[0m\n",
            "\u001b[0;32m/usr/local/lib/python3.6/dist-packages/torch/utils/data/_utils/fetch.py\u001b[0m in \u001b[0;36mfetch\u001b[0;34m(self, possibly_batched_index)\u001b[0m\n\u001b[1;32m     42\u001b[0m     \u001b[0;32mdef\u001b[0m \u001b[0mfetch\u001b[0m\u001b[0;34m(\u001b[0m\u001b[0mself\u001b[0m\u001b[0;34m,\u001b[0m \u001b[0mpossibly_batched_index\u001b[0m\u001b[0;34m)\u001b[0m\u001b[0;34m:\u001b[0m\u001b[0;34m\u001b[0m\u001b[0;34m\u001b[0m\u001b[0m\n\u001b[1;32m     43\u001b[0m         \u001b[0;32mif\u001b[0m \u001b[0mself\u001b[0m\u001b[0;34m.\u001b[0m\u001b[0mauto_collation\u001b[0m\u001b[0;34m:\u001b[0m\u001b[0;34m\u001b[0m\u001b[0;34m\u001b[0m\u001b[0m\n\u001b[0;32m---> 44\u001b[0;31m             \u001b[0mdata\u001b[0m \u001b[0;34m=\u001b[0m \u001b[0;34m[\u001b[0m\u001b[0mself\u001b[0m\u001b[0;34m.\u001b[0m\u001b[0mdataset\u001b[0m\u001b[0;34m[\u001b[0m\u001b[0midx\u001b[0m\u001b[0;34m]\u001b[0m \u001b[0;32mfor\u001b[0m \u001b[0midx\u001b[0m \u001b[0;32min\u001b[0m \u001b[0mpossibly_batched_index\u001b[0m\u001b[0;34m]\u001b[0m\u001b[0;34m\u001b[0m\u001b[0;34m\u001b[0m\u001b[0m\n\u001b[0m\u001b[1;32m     45\u001b[0m         \u001b[0;32melse\u001b[0m\u001b[0;34m:\u001b[0m\u001b[0;34m\u001b[0m\u001b[0;34m\u001b[0m\u001b[0m\n\u001b[1;32m     46\u001b[0m             \u001b[0mdata\u001b[0m \u001b[0;34m=\u001b[0m \u001b[0mself\u001b[0m\u001b[0;34m.\u001b[0m\u001b[0mdataset\u001b[0m\u001b[0;34m[\u001b[0m\u001b[0mpossibly_batched_index\u001b[0m\u001b[0;34m]\u001b[0m\u001b[0;34m\u001b[0m\u001b[0;34m\u001b[0m\u001b[0m\n",
            "\u001b[0;32m/usr/local/lib/python3.6/dist-packages/torch/utils/data/_utils/fetch.py\u001b[0m in \u001b[0;36m<listcomp>\u001b[0;34m(.0)\u001b[0m\n\u001b[1;32m     42\u001b[0m     \u001b[0;32mdef\u001b[0m \u001b[0mfetch\u001b[0m\u001b[0;34m(\u001b[0m\u001b[0mself\u001b[0m\u001b[0;34m,\u001b[0m \u001b[0mpossibly_batched_index\u001b[0m\u001b[0;34m)\u001b[0m\u001b[0;34m:\u001b[0m\u001b[0;34m\u001b[0m\u001b[0;34m\u001b[0m\u001b[0m\n\u001b[1;32m     43\u001b[0m         \u001b[0;32mif\u001b[0m \u001b[0mself\u001b[0m\u001b[0;34m.\u001b[0m\u001b[0mauto_collation\u001b[0m\u001b[0;34m:\u001b[0m\u001b[0;34m\u001b[0m\u001b[0;34m\u001b[0m\u001b[0m\n\u001b[0;32m---> 44\u001b[0;31m             \u001b[0mdata\u001b[0m \u001b[0;34m=\u001b[0m \u001b[0;34m[\u001b[0m\u001b[0mself\u001b[0m\u001b[0;34m.\u001b[0m\u001b[0mdataset\u001b[0m\u001b[0;34m[\u001b[0m\u001b[0midx\u001b[0m\u001b[0;34m]\u001b[0m \u001b[0;32mfor\u001b[0m \u001b[0midx\u001b[0m \u001b[0;32min\u001b[0m \u001b[0mpossibly_batched_index\u001b[0m\u001b[0;34m]\u001b[0m\u001b[0;34m\u001b[0m\u001b[0;34m\u001b[0m\u001b[0m\n\u001b[0m\u001b[1;32m     45\u001b[0m         \u001b[0;32melse\u001b[0m\u001b[0;34m:\u001b[0m\u001b[0;34m\u001b[0m\u001b[0;34m\u001b[0m\u001b[0m\n\u001b[1;32m     46\u001b[0m             \u001b[0mdata\u001b[0m \u001b[0;34m=\u001b[0m \u001b[0mself\u001b[0m\u001b[0;34m.\u001b[0m\u001b[0mdataset\u001b[0m\u001b[0;34m[\u001b[0m\u001b[0mpossibly_batched_index\u001b[0m\u001b[0;34m]\u001b[0m\u001b[0;34m\u001b[0m\u001b[0;34m\u001b[0m\u001b[0m\n",
            "\u001b[0;32m/usr/local/lib/python3.6/dist-packages/torchvision/datasets/mnist.py\u001b[0m in \u001b[0;36m__getitem__\u001b[0;34m(self, index)\u001b[0m\n\u001b[1;32m     95\u001b[0m \u001b[0;34m\u001b[0m\u001b[0m\n\u001b[1;32m     96\u001b[0m         \u001b[0;32mif\u001b[0m \u001b[0mself\u001b[0m\u001b[0;34m.\u001b[0m\u001b[0mtransform\u001b[0m \u001b[0;32mis\u001b[0m \u001b[0;32mnot\u001b[0m \u001b[0;32mNone\u001b[0m\u001b[0;34m:\u001b[0m\u001b[0;34m\u001b[0m\u001b[0;34m\u001b[0m\u001b[0m\n\u001b[0;32m---> 97\u001b[0;31m             \u001b[0mimg\u001b[0m \u001b[0;34m=\u001b[0m \u001b[0mself\u001b[0m\u001b[0;34m.\u001b[0m\u001b[0mtransform\u001b[0m\u001b[0;34m(\u001b[0m\u001b[0mimg\u001b[0m\u001b[0;34m)\u001b[0m\u001b[0;34m\u001b[0m\u001b[0;34m\u001b[0m\u001b[0m\n\u001b[0m\u001b[1;32m     98\u001b[0m \u001b[0;34m\u001b[0m\u001b[0m\n\u001b[1;32m     99\u001b[0m         \u001b[0;32mif\u001b[0m \u001b[0mself\u001b[0m\u001b[0;34m.\u001b[0m\u001b[0mtarget_transform\u001b[0m \u001b[0;32mis\u001b[0m \u001b[0;32mnot\u001b[0m \u001b[0;32mNone\u001b[0m\u001b[0;34m:\u001b[0m\u001b[0;34m\u001b[0m\u001b[0;34m\u001b[0m\u001b[0m\n",
            "\u001b[0;32m/usr/local/lib/python3.6/dist-packages/torchvision/transforms/transforms.py\u001b[0m in \u001b[0;36m__call__\u001b[0;34m(self, img)\u001b[0m\n\u001b[1;32m     68\u001b[0m     \u001b[0;32mdef\u001b[0m \u001b[0m__call__\u001b[0m\u001b[0;34m(\u001b[0m\u001b[0mself\u001b[0m\u001b[0;34m,\u001b[0m \u001b[0mimg\u001b[0m\u001b[0;34m)\u001b[0m\u001b[0;34m:\u001b[0m\u001b[0;34m\u001b[0m\u001b[0;34m\u001b[0m\u001b[0m\n\u001b[1;32m     69\u001b[0m         \u001b[0;32mfor\u001b[0m \u001b[0mt\u001b[0m \u001b[0;32min\u001b[0m \u001b[0mself\u001b[0m\u001b[0;34m.\u001b[0m\u001b[0mtransforms\u001b[0m\u001b[0;34m:\u001b[0m\u001b[0;34m\u001b[0m\u001b[0;34m\u001b[0m\u001b[0m\n\u001b[0;32m---> 70\u001b[0;31m             \u001b[0mimg\u001b[0m \u001b[0;34m=\u001b[0m \u001b[0mt\u001b[0m\u001b[0;34m(\u001b[0m\u001b[0mimg\u001b[0m\u001b[0;34m)\u001b[0m\u001b[0;34m\u001b[0m\u001b[0;34m\u001b[0m\u001b[0m\n\u001b[0m\u001b[1;32m     71\u001b[0m         \u001b[0;32mreturn\u001b[0m \u001b[0mimg\u001b[0m\u001b[0;34m\u001b[0m\u001b[0;34m\u001b[0m\u001b[0m\n\u001b[1;32m     72\u001b[0m \u001b[0;34m\u001b[0m\u001b[0m\n",
            "\u001b[0;32m/usr/local/lib/python3.6/dist-packages/torchvision/transforms/transforms.py\u001b[0m in \u001b[0;36m__call__\u001b[0;34m(self, tensor)\u001b[0m\n\u001b[1;32m    173\u001b[0m             \u001b[0mTensor\u001b[0m\u001b[0;34m:\u001b[0m \u001b[0mNormalized\u001b[0m \u001b[0mTensor\u001b[0m \u001b[0mimage\u001b[0m\u001b[0;34m.\u001b[0m\u001b[0;34m\u001b[0m\u001b[0;34m\u001b[0m\u001b[0m\n\u001b[1;32m    174\u001b[0m         \"\"\"\n\u001b[0;32m--> 175\u001b[0;31m         \u001b[0;32mreturn\u001b[0m \u001b[0mF\u001b[0m\u001b[0;34m.\u001b[0m\u001b[0mnormalize\u001b[0m\u001b[0;34m(\u001b[0m\u001b[0mtensor\u001b[0m\u001b[0;34m,\u001b[0m \u001b[0mself\u001b[0m\u001b[0;34m.\u001b[0m\u001b[0mmean\u001b[0m\u001b[0;34m,\u001b[0m \u001b[0mself\u001b[0m\u001b[0;34m.\u001b[0m\u001b[0mstd\u001b[0m\u001b[0;34m,\u001b[0m \u001b[0mself\u001b[0m\u001b[0;34m.\u001b[0m\u001b[0minplace\u001b[0m\u001b[0;34m)\u001b[0m\u001b[0;34m\u001b[0m\u001b[0;34m\u001b[0m\u001b[0m\n\u001b[0m\u001b[1;32m    176\u001b[0m \u001b[0;34m\u001b[0m\u001b[0m\n\u001b[1;32m    177\u001b[0m     \u001b[0;32mdef\u001b[0m \u001b[0m__repr__\u001b[0m\u001b[0;34m(\u001b[0m\u001b[0mself\u001b[0m\u001b[0;34m)\u001b[0m\u001b[0;34m:\u001b[0m\u001b[0;34m\u001b[0m\u001b[0;34m\u001b[0m\u001b[0m\n",
            "\u001b[0;32m/usr/local/lib/python3.6/dist-packages/torchvision/transforms/functional.py\u001b[0m in \u001b[0;36mnormalize\u001b[0;34m(tensor, mean, std, inplace)\u001b[0m\n\u001b[1;32m    216\u001b[0m     \u001b[0mmean\u001b[0m \u001b[0;34m=\u001b[0m \u001b[0mtorch\u001b[0m\u001b[0;34m.\u001b[0m\u001b[0mas_tensor\u001b[0m\u001b[0;34m(\u001b[0m\u001b[0mmean\u001b[0m\u001b[0;34m,\u001b[0m \u001b[0mdtype\u001b[0m\u001b[0;34m=\u001b[0m\u001b[0mdtype\u001b[0m\u001b[0;34m,\u001b[0m \u001b[0mdevice\u001b[0m\u001b[0;34m=\u001b[0m\u001b[0mtensor\u001b[0m\u001b[0;34m.\u001b[0m\u001b[0mdevice\u001b[0m\u001b[0;34m)\u001b[0m\u001b[0;34m\u001b[0m\u001b[0;34m\u001b[0m\u001b[0m\n\u001b[1;32m    217\u001b[0m     \u001b[0mstd\u001b[0m \u001b[0;34m=\u001b[0m \u001b[0mtorch\u001b[0m\u001b[0;34m.\u001b[0m\u001b[0mas_tensor\u001b[0m\u001b[0;34m(\u001b[0m\u001b[0mstd\u001b[0m\u001b[0;34m,\u001b[0m \u001b[0mdtype\u001b[0m\u001b[0;34m=\u001b[0m\u001b[0mdtype\u001b[0m\u001b[0;34m,\u001b[0m \u001b[0mdevice\u001b[0m\u001b[0;34m=\u001b[0m\u001b[0mtensor\u001b[0m\u001b[0;34m.\u001b[0m\u001b[0mdevice\u001b[0m\u001b[0;34m)\u001b[0m\u001b[0;34m\u001b[0m\u001b[0;34m\u001b[0m\u001b[0m\n\u001b[0;32m--> 218\u001b[0;31m     \u001b[0mtensor\u001b[0m\u001b[0;34m.\u001b[0m\u001b[0msub_\u001b[0m\u001b[0;34m(\u001b[0m\u001b[0mmean\u001b[0m\u001b[0;34m[\u001b[0m\u001b[0;34m:\u001b[0m\u001b[0;34m,\u001b[0m \u001b[0;32mNone\u001b[0m\u001b[0;34m,\u001b[0m \u001b[0;32mNone\u001b[0m\u001b[0;34m]\u001b[0m\u001b[0;34m)\u001b[0m\u001b[0;34m.\u001b[0m\u001b[0mdiv_\u001b[0m\u001b[0;34m(\u001b[0m\u001b[0mstd\u001b[0m\u001b[0;34m[\u001b[0m\u001b[0;34m:\u001b[0m\u001b[0;34m,\u001b[0m \u001b[0;32mNone\u001b[0m\u001b[0;34m,\u001b[0m \u001b[0;32mNone\u001b[0m\u001b[0;34m]\u001b[0m\u001b[0;34m)\u001b[0m\u001b[0;34m\u001b[0m\u001b[0;34m\u001b[0m\u001b[0m\n\u001b[0m\u001b[1;32m    219\u001b[0m     \u001b[0;32mreturn\u001b[0m \u001b[0mtensor\u001b[0m\u001b[0;34m\u001b[0m\u001b[0;34m\u001b[0m\u001b[0m\n\u001b[1;32m    220\u001b[0m \u001b[0;34m\u001b[0m\u001b[0m\n",
            "\u001b[0;31mRuntimeError\u001b[0m: output with shape [1, 28, 28] doesn't match the broadcast shape [3, 28, 28]"
          ]
        }
      ]
    },
    {
      "cell_type": "code",
      "metadata": {
        "id": "6_FL3u_Hc4RY",
        "colab_type": "code",
        "colab": {}
      },
      "source": [
        ""
      ],
      "execution_count": 0,
      "outputs": []
    }
  ]
}