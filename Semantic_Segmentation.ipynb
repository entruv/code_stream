{
  "nbformat": 4,
  "nbformat_minor": 0,
  "metadata": {
    "colab": {
      "name": "Semantic Segmentation.ipynb",
      "provenance": [],
      "collapsed_sections": [],
      "authorship_tag": "ABX9TyNcFgw8c0+LTdNfjbMPVdPV",
      "include_colab_link": true
    },
    "kernelspec": {
      "name": "python3",
      "display_name": "Python 3"
    },
    "accelerator": "GPU"
  },
  "cells": [
    {
      "cell_type": "markdown",
      "metadata": {
        "id": "view-in-github",
        "colab_type": "text"
      },
      "source": [
        "<a href=\"https://colab.research.google.com/github/entruv/code_stream/blob/master/Semantic_Segmentation.ipynb\" target=\"_parent\"><img src=\"https://colab.research.google.com/assets/colab-badge.svg\" alt=\"Open In Colab\"/></a>"
      ]
    },
    {
      "cell_type": "code",
      "metadata": {
        "id": "iRkYw-_kioHM",
        "colab_type": "code",
        "colab": {
          "base_uri": "https://localhost:8080/",
          "height": 223
        },
        "outputId": "7eca72e9-ea24-4fee-ebcd-a8c5417a09b2"
      },
      "source": [
        "%pip install -qq wandb\n"
      ],
      "execution_count": 3,
      "outputs": [
        {
          "output_type": "stream",
          "text": [
            "\u001b[K     |████████████████████████████████| 1.4MB 4.8MB/s \n",
            "\u001b[K     |████████████████████████████████| 460kB 54.5MB/s \n",
            "\u001b[K     |████████████████████████████████| 102kB 15.5MB/s \n",
            "\u001b[K     |████████████████████████████████| 112kB 56.5MB/s \n",
            "\u001b[K     |████████████████████████████████| 102kB 10.7MB/s \n",
            "\u001b[K     |████████████████████████████████| 71kB 11.2MB/s \n",
            "\u001b[K     |████████████████████████████████| 71kB 11.6MB/s \n",
            "\u001b[?25h  Building wheel for gql (setup.py) ... \u001b[?25l\u001b[?25hdone\n",
            "  Building wheel for watchdog (setup.py) ... \u001b[?25l\u001b[?25hdone\n",
            "  Building wheel for subprocess32 (setup.py) ... \u001b[?25l\u001b[?25hdone\n",
            "  Building wheel for graphql-core (setup.py) ... \u001b[?25l\u001b[?25hdone\n",
            "  Building wheel for pathtools (setup.py) ... \u001b[?25l\u001b[?25hdone\n"
          ],
          "name": "stdout"
        }
      ]
    },
    {
      "cell_type": "markdown",
      "metadata": {
        "id": "FWBb-3WpkeSW",
        "colab_type": "text"
      },
      "source": [
        "## Objectif\n",
        "We want to log machine ML predictions of a segmentation problem on the cloud, during training. For that we will need Callbacks and the wanndb library"
      ]
    },
    {
      "cell_type": "markdown",
      "metadata": {
        "id": "0fiyxzioj937",
        "colab_type": "text"
      },
      "source": [
        "## Resources\n",
        "- https://github.com/ucbdrive/bdd-data/blob/master/bdd_data/label.py\n",
        "- https://docs.fast.ai/\n",
        "- https://github.com/borisdayma/semantic-segmentation\n",
        "\n",
        "\n",
        "* [Semantic segmentation API →](https://docs.wandb.com/library/log#logging-image-masks-semantic-segmentation)\n",
        "* [Read more about the problem and modeling approaches →](https://app.wandb.ai/stacey/deep-drive/reports/The-View-from-the-Driver's-Seat--Vmlldzo1MTg5NQ)\n",
        "* [Repo: Semantic Segmentation for Self-Driving Cars→](https://github.com/borisdayma/semantic-segmentation)\n",
        "\n",
        "\n",
        "\n",
        "- download data: https://storage.googleapis.com/wandb_datasets/BDD100K_seg_demo.zip\n"
      ]
    },
    {
      "cell_type": "code",
      "metadata": {
        "id": "YTden41AmLCL",
        "colab_type": "code",
        "outputId": "795317ef-5dda-48d5-dd54-3ec597a80d2a",
        "colab": {
          "base_uri": "https://localhost:8080/",
          "height": 68
        }
      },
      "source": [
        "#login to the platform\n",
        "import wandb\n",
        "wandb.login()"
      ],
      "execution_count": 4,
      "outputs": [
        {
          "output_type": "display_data",
          "data": {
            "application/javascript": [
              "\n",
              "        window._wandbApiKey = new Promise((resolve, reject) => {\n",
              "            function loadScript(url) {\n",
              "            return new Promise(function(resolve, reject) {\n",
              "                let newScript = document.createElement(\"script\");\n",
              "                newScript.onerror = reject;\n",
              "                newScript.onload = resolve;\n",
              "                document.body.appendChild(newScript);\n",
              "                newScript.src = url;\n",
              "            });\n",
              "            }\n",
              "            loadScript(\"https://cdn.jsdelivr.net/npm/postmate/build/postmate.min.js\").then(() => {\n",
              "            const iframe = document.createElement('iframe')\n",
              "            iframe.style.cssText = \"width:0;height:0;border:none\"\n",
              "            document.body.appendChild(iframe)\n",
              "            const handshake = new Postmate({\n",
              "                container: iframe,\n",
              "                url: 'https://app.wandb.ai/authorize'\n",
              "            });\n",
              "            const timeout = setTimeout(() => reject(\"Couldn't auto authenticate\"), 5000)\n",
              "            handshake.then(function(child) {\n",
              "                child.on('authorize', data => {\n",
              "                    clearTimeout(timeout)\n",
              "                    resolve(data)\n",
              "                });\n",
              "            });\n",
              "            })\n",
              "        });\n",
              "    "
            ],
            "text/plain": [
              "<IPython.core.display.Javascript object>"
            ]
          },
          "metadata": {
            "tags": []
          }
        },
        {
          "output_type": "stream",
          "text": [
            "\u001b[34m\u001b[1mwandb\u001b[0m: Appending key for api.wandb.ai to your netrc file: /root/.netrc\n"
          ],
          "name": "stderr"
        },
        {
          "output_type": "execute_result",
          "data": {
            "text/plain": [
              "True"
            ]
          },
          "metadata": {
            "tags": []
          },
          "execution_count": 4
        }
      ]
    },
    {
      "cell_type": "markdown",
      "metadata": {
        "id": "FkqNGqz7nUoE",
        "colab_type": "text"
      },
      "source": [
        "## Downlaoding Berkeley Deep drive dataset\n",
        "https://bdd-data.berkeley.edu/"
      ]
    },
    {
      "cell_type": "code",
      "metadata": {
        "id": "hFJfSZa0nCaK",
        "colab_type": "code",
        "outputId": "cdf5f638-3633-4c30-945c-85eecbc96609",
        "colab": {
          "base_uri": "https://localhost:8080/",
          "height": 68
        }
      },
      "source": [
        "!curl -SL -qq https://storage.googleapis.com/wandb_datasets/BDD100K_seg_demo.zip > BDD100K_seg_demo.zip"
      ],
      "execution_count": 5,
      "outputs": [
        {
          "output_type": "stream",
          "text": [
            "  % Total    % Received % Xferd  Average Speed   Time    Time     Time  Current\n",
            "                                 Dload  Upload   Total   Spent    Left  Speed\n",
            "100  958M  100  958M    0     0   132M      0  0:00:07  0:00:07 --:--:--  136M\n"
          ],
          "name": "stdout"
        }
      ]
    },
    {
      "cell_type": "code",
      "metadata": {
        "id": "JFQp2DKmnrb5",
        "colab_type": "code",
        "colab": {}
      },
      "source": [
        "#unzip this data\n",
        "!unzip -qq BDD100K_seg_demo.zip"
      ],
      "execution_count": 0,
      "outputs": []
    },
    {
      "cell_type": "code",
      "metadata": {
        "id": "vK_9VhHIn20_",
        "colab_type": "code",
        "outputId": "91b8975b-1d54-4ee4-f08d-c5b6a5d4ef64",
        "colab": {
          "base_uri": "https://localhost:8080/",
          "height": 360
        }
      },
      "source": [
        "segmentation_classes = [\n",
        "    'road', 'sidewalk', 'building', 'wall', 'fence', 'pole', 'traffic light',\n",
        "    'traffic sign', 'vegetation', 'terrain', 'sky', 'person', 'rider', 'car',\n",
        "    'truck', 'bus', 'train', 'motorcycle', 'bicycle', 'void'\n",
        "]\n",
        "\n",
        "def get_index_label_dictionary(labels):\n",
        "  index_label_dictionary = {}\n",
        "  for i, label in enumerate(labels):\n",
        "    index_label_dictionary[i] = label\n",
        "  return index_label_dictionary\n",
        "get_index_label_dictionary(segmentation_classes)"
      ],
      "execution_count": 7,
      "outputs": [
        {
          "output_type": "execute_result",
          "data": {
            "text/plain": [
              "{0: 'road',\n",
              " 1: 'sidewalk',\n",
              " 2: 'building',\n",
              " 3: 'wall',\n",
              " 4: 'fence',\n",
              " 5: 'pole',\n",
              " 6: 'traffic light',\n",
              " 7: 'traffic sign',\n",
              " 8: 'vegetation',\n",
              " 9: 'terrain',\n",
              " 10: 'sky',\n",
              " 11: 'person',\n",
              " 12: 'rider',\n",
              " 13: 'car',\n",
              " 14: 'truck',\n",
              " 15: 'bus',\n",
              " 16: 'train',\n",
              " 17: 'motorcycle',\n",
              " 18: 'bicycle',\n",
              " 19: 'void'}"
            ]
          },
          "metadata": {
            "tags": []
          },
          "execution_count": 7
        }
      ]
    },
    {
      "cell_type": "code",
      "metadata": {
        "id": "mLyUtxQPoi4s",
        "colab_type": "code",
        "colab": {}
      },
      "source": [
        "from pathlib import Path\n",
        "path_data = Path(\"segment_demo\")\n",
        "path_labels = path_data / 'labels'\n",
        "path_images = path_data / 'images'"
      ],
      "execution_count": 0,
      "outputs": []
    },
    {
      "cell_type": "code",
      "metadata": {
        "id": "e5V2kOfRraWg",
        "colab_type": "code",
        "colab": {
          "base_uri": "https://localhost:8080/",
          "height": 34
        },
        "outputId": "f756bcf9-9d13-4ab4-ceac-3fecd32ab772"
      },
      "source": [
        "filename_img = \"2c2e25a9-cacc9ee2.jpg\"\n",
        "filename_label = \"4804b6f7-00000000_train_id.png\"\n",
        "\n",
        "def get_labels_from_image(filename_img):\n",
        "  filename_label = filename_img.split(\".\")[0] + \"_train_id.png\"\n",
        "  return filename_label\n",
        "print(get_labels_from_image(filename_img))\n",
        "\n",
        "\n",
        "#x.parts[-2] is equal to val or train\n",
        "get_y_fn = lambda x: path_labels / x.parts[-2] / f'{x.stem}_train_id.png'"
      ],
      "execution_count": 9,
      "outputs": [
        {
          "output_type": "stream",
          "text": [
            "2c2e25a9-cacc9ee2_train_id.png\n"
          ],
          "name": "stdout"
        }
      ]
    },
    {
      "cell_type": "code",
      "metadata": {
        "id": "qbsjcw9RphOn",
        "colab_type": "code",
        "colab": {}
      },
      "source": [
        "sample_data_ratio = 0.01 #small ratio of our dataset for fast iteration\n",
        "from fastai.vision import *"
      ],
      "execution_count": 0,
      "outputs": []
    },
    {
      "cell_type": "code",
      "metadata": {
        "id": "jQkkq44hp7op",
        "colab_type": "code",
        "colab": {}
      },
      "source": [
        "generator_images = SegmentationItemList.from_folder(path_images).use_partial_data(sample_data_ratio)\n",
        "generator_images = generator_images.split_by_folder(train=\"train\", valid=\"val\").label_from_func(get_y_fn, classes=segmentation_classes)"
      ],
      "execution_count": 0,
      "outputs": []
    },
    {
      "cell_type": "markdown",
      "metadata": {
        "id": "byLfVJ5jtYUJ",
        "colab_type": "text"
      },
      "source": [
        "## Creating a callback to log predictions during training time!\n"
      ]
    },
    {
      "cell_type": "code",
      "metadata": {
        "id": "OUiFW-1-t_cF",
        "colab_type": "code",
        "colab": {
          "base_uri": "https://localhost:8080/",
          "height": 360
        },
        "outputId": "528a7c63-dcb6-43ee-e176-b67b07f8c5cb"
      },
      "source": [
        "import wandb\n",
        "labels = get_index_label_dictionary(segmentation_classes)\n",
        "labels"
      ],
      "execution_count": 12,
      "outputs": [
        {
          "output_type": "execute_result",
          "data": {
            "text/plain": [
              "{0: 'road',\n",
              " 1: 'sidewalk',\n",
              " 2: 'building',\n",
              " 3: 'wall',\n",
              " 4: 'fence',\n",
              " 5: 'pole',\n",
              " 6: 'traffic light',\n",
              " 7: 'traffic sign',\n",
              " 8: 'vegetation',\n",
              " 9: 'terrain',\n",
              " 10: 'sky',\n",
              " 11: 'person',\n",
              " 12: 'rider',\n",
              " 13: 'car',\n",
              " 14: 'truck',\n",
              " 15: 'bus',\n",
              " 16: 'train',\n",
              " 17: 'motorcycle',\n",
              " 18: 'bicycle',\n",
              " 19: 'void'}"
            ]
          },
          "metadata": {
            "tags": []
          },
          "execution_count": 12
        }
      ]
    },
    {
      "cell_type": "code",
      "metadata": {
        "id": "vKlYmhYxq42T",
        "colab_type": "code",
        "colab": {}
      },
      "source": [
        "def mask_wb_format(true_img, pred_mask, true_mask):\n",
        "  return wandb.Image(true_img, masks={\n",
        "      \"prediction\": {\"mask_data\": pred_mask, \"class_labels\": labels},\n",
        "      \"ground_truth\": {\"mask_data\": true_mask, \"class_labels\": labels}\n",
        "  })"
      ],
      "execution_count": 0,
      "outputs": []
    },
    {
      "cell_type": "code",
      "metadata": {
        "id": "O9t_EU-0qJAW",
        "colab_type": "code",
        "colab": {}
      },
      "source": [
        "def torch_to_human(torch_image):\n",
        "  return image2np(torch_image.data * 255).astype(np.uint8)"
      ],
      "execution_count": 0,
      "outputs": []
    },
    {
      "cell_type": "code",
      "metadata": {
        "id": "yseEGfgJqobO",
        "colab_type": "code",
        "colab": {}
      },
      "source": [
        "def unbatch(prediction):\n",
        "  return prediction[0]"
      ],
      "execution_count": 0,
      "outputs": []
    },
    {
      "cell_type": "code",
      "metadata": {
        "id": "nMvbcrPJtDpF",
        "colab_type": "code",
        "colab": {}
      },
      "source": [
        "import numpy as np\n",
        "class LogImagesCallback(Callback):\n",
        "  def __init__(self, learn):\n",
        "    self.learn = learn\n",
        "    self.number_preds_to_log = 5\n",
        "  \n",
        "  def on_epoch_end(self, **kwargs):\n",
        "    #get some examples from the validation set\n",
        "    #make model prediction to this specific examples\n",
        "    # logs this predictions for vizualizing them\n",
        "    input_batch = self.learn.data.valid_ds[:self.number_preds_to_log]\n",
        "    mask_list = [] #store the mask prediction 8\n",
        "    for i, img_pair in enumerate(input_batch):\n",
        "      image_torch_format = img_pair[0]\n",
        "      image_human_format = torch_to_human(image_torch_format.data)\n",
        "\n",
        "      mask_torch_format = img_pair[1]\n",
        "      mask_human_format = torch_to_human(mask_torch_format)\n",
        "\n",
        "      prediction_torch_format = unbatch(learn.predict(image_torch_format))\n",
        "      prediction_human_format = torch_to_human(prediction_torch_format)\n",
        "\n",
        "      mask_wb = mask_wb_format(image_human_format, prediction_human_format, mask_human_format)\n",
        "      mask_list.append(mask_wb)\n",
        "    wandb.log({\"prediction\": mask_list})\n",
        "\n",
        "#calculons l'accuracy d'une prediction d'un mask entier\n",
        "#pour faire simple. on va utiliser 1 accuracy pour chaque probleme specifique:\n",
        "#1. overall accuracy\n",
        "# 2. accuracy to specific classes: traffic light and traffic signs\n",
        "\n",
        "\n",
        "def accuracy_mask(input, target):\n",
        "  target = target.squeeze(1)\n",
        "  mask = target != void_code\n",
        "  try:\n",
        "    i = (input.argmax(dim=1)[mask] == target[mask]).float()\n",
        "    m_i = i.mean()\n",
        "    return m_i\n",
        "  except:\n",
        "    return torch.tensor([0.0])\n",
        "\n",
        "void_code = 19\n",
        "def accuracy_traffic(input, target):\n",
        "  #renvoie accuracy que en regardant les classes de pixels qui qui nous interessent\n",
        "  target = target.squeeze(1)\n",
        "  mask_pole = target == 5\n",
        "  mask_light = target == 6\n",
        "  mask_sign = taget = 7\n",
        "  mask_traffic = mask_pole | mask_light | mask_sign\n",
        "  try:\n",
        "    i = (input.argmax(dim=1)[mask_traffic] == target[mask_traffic]).float()\n",
        "    m_i = i.mean()\n",
        "    return m_i\n",
        "  except:\n",
        "    return torch.tensor([0.0])\n",
        "\n",
        "\n"
      ],
      "execution_count": 0,
      "outputs": []
    },
    {
      "cell_type": "code",
      "metadata": {
        "id": "utxilbHeufqb",
        "colab_type": "code",
        "colab": {
          "base_uri": "https://localhost:8080/",
          "height": 328
        },
        "outputId": "ddd14852-c987-4e19-c6d9-13bf2b8e4ba1"
      },
      "source": [
        "generator_images"
      ],
      "execution_count": 40,
      "outputs": [
        {
          "output_type": "execute_result",
          "data": {
            "text/plain": [
              "LabelLists;\n",
              "\n",
              "Train: LabelList (68 items)\n",
              "x: SegmentationItemList\n",
              "Image (3, 360, 640),Image (3, 360, 640),Image (3, 360, 640),Image (3, 360, 640),Image (3, 360, 640)\n",
              "y: SegmentationLabelList\n",
              "ImageSegment (1, 360, 640),ImageSegment (1, 360, 640),ImageSegment (1, 360, 640),ImageSegment (1, 360, 640),ImageSegment (1, 360, 640)\n",
              "Path: segment_demo/images;\n",
              "\n",
              "Valid: LabelList (12 items)\n",
              "x: SegmentationItemList\n",
              "Image (3, 360, 640),Image (3, 360, 640),Image (3, 360, 640),Image (3, 360, 640),Image (3, 360, 640)\n",
              "y: SegmentationLabelList\n",
              "ImageSegment (1, 360, 640),ImageSegment (1, 360, 640),ImageSegment (1, 360, 640),ImageSegment (1, 360, 640),ImageSegment (1, 360, 640)\n",
              "Path: segment_demo/images;\n",
              "\n",
              "Test: None"
            ]
          },
          "metadata": {
            "tags": []
          },
          "execution_count": 40
        }
      ]
    },
    {
      "cell_type": "code",
      "metadata": {
        "id": "6KC8cTXvu54I",
        "colab_type": "code",
        "colab": {
          "base_uri": "https://localhost:8080/",
          "height": 34
        },
        "outputId": "bb8a97af-f579-4690-d221-cd6e2007b85d"
      },
      "source": [
        "np.array((720, 1280)) / 2 #image resized for better performance"
      ],
      "execution_count": 27,
      "outputs": [
        {
          "output_type": "execute_result",
          "data": {
            "text/plain": [
              "array([360., 640.])"
            ]
          },
          "metadata": {
            "tags": []
          },
          "execution_count": 27
        }
      ]
    },
    {
      "cell_type": "code",
      "metadata": {
        "id": "Li7e0DiluLWF",
        "colab_type": "code",
        "colab": {
          "base_uri": "https://localhost:8080/",
          "height": 86
        },
        "outputId": "6529a65b-5e26-4321-ce62-c05f872b87db"
      },
      "source": [
        "project_name = \"ai_education_cars\"\n",
        "wandb.init(project=project_name)\n",
        "\n"
      ],
      "execution_count": 28,
      "outputs": [
        {
          "output_type": "display_data",
          "data": {
            "text/html": [
              "\n",
              "                Logging results to <a href=\"https://wandb.com\" target=\"_blank\">Weights & Biases</a> <a href=\"https://docs.wandb.com/integrations/jupyter.html\" target=\"_blank\">(Documentation)</a>.<br/>\n",
              "                Project page: <a href=\"https://app.wandb.ai/aieducation/ai_education_cars\" target=\"_blank\">https://app.wandb.ai/aieducation/ai_education_cars</a><br/>\n",
              "                Run page: <a href=\"https://app.wandb.ai/aieducation/ai_education_cars/runs/6afcrj7g\" target=\"_blank\">https://app.wandb.ai/aieducation/ai_education_cars/runs/6afcrj7g</a><br/>\n",
              "            "
            ],
            "text/plain": [
              "<IPython.core.display.HTML object>"
            ]
          },
          "metadata": {
            "tags": []
          }
        },
        {
          "output_type": "execute_result",
          "data": {
            "text/plain": [
              "W&B Run: https://app.wandb.ai/aieducation/ai_education_cars/runs/6afcrj7g"
            ]
          },
          "metadata": {
            "tags": []
          },
          "execution_count": 28
        }
      ]
    },
    {
      "cell_type": "code",
      "metadata": {
        "id": "AhWM-MXCv-IG",
        "colab_type": "code",
        "colab": {}
      },
      "source": [
        "config = wandb.config\n",
        "config.framework = \"fast.ai\"\n",
        "config.img_size = (360, 640)\n",
        "\n",
        "#training config:\n",
        "\n",
        "config.batch_size = 2\n",
        "config.epochs = 10\n",
        "\n",
        "config.encoder = \"resnet18\"\n",
        "encoder = models.resnet18\n",
        "\n",
        "\n",
        "#hyperparameter config\n",
        "config.pretrained = True\n",
        "config.one_cycle = True ##technique de fastaiAi pour entrainer un modele rapidement\n",
        "config.learning_rate = 10e-3 #learning rate for training\n",
        "\n",
        "#change our generator to be as the same format than the pretrained model configuration\n",
        "#par example, en ayant la meme variance et moyenne des pixels des images original\n",
        "\n",
        "data = (generator_images.transform(get_transforms(), size=config.img_size, tfm_y=True)\n",
        "          .databunch(bs=config.batch_size).normalize(imagenet_stats))\n"
      ],
      "execution_count": 0,
      "outputs": []
    },
    {
      "cell_type": "markdown",
      "metadata": {
        "id": "YVGqeyE6xP4V",
        "colab_type": "text"
      },
      "source": [
        "## Quel sont les tailles de notre jeu de donnee?\n"
      ]
    },
    {
      "cell_type": "code",
      "metadata": {
        "id": "pDHu_tnKxTme",
        "colab_type": "code",
        "colab": {}
      },
      "source": [
        "assert len(data.train_ds), len(data.valid_ds) == (72, 8)\n",
        "config.num_train =len(data.train_ds)\n",
        "config.num_valid = len(data.valid_ds)"
      ],
      "execution_count": 0,
      "outputs": []
    },
    {
      "cell_type": "markdown",
      "metadata": {
        "id": "ypWVW_9dxiCL",
        "colab_type": "text"
      },
      "source": [
        "## Define the learner object containing our model and our data generator, and our metrtics, and all of our configurations\n",
        "\n",
        "We want to use a UNET, since it's really simple to understand to train, and give us excellent results most of the time (this is a standard in the DL community"
      ]
    },
    {
      "cell_type": "code",
      "metadata": {
        "id": "M6THUyJDy-4-",
        "colab_type": "code",
        "colab": {}
      },
      "source": [
        "from wandb.fastai import WandbCallback"
      ],
      "execution_count": 0,
      "outputs": []
    },
    {
      "cell_type": "code",
      "metadata": {
        "id": "EF_D8wbTx-8a",
        "colab_type": "code",
        "colab": {}
      },
      "source": [
        "learn = unet_learner(data, \n",
        "                     encoder,\n",
        "                     pretrained=config.pretrained,\n",
        "                     metrics=[accuracy_mask, accuracy_traffic],\n",
        "                     callback_fns=partial(WandbCallback, monitor=\"accuracy_mask\"))\n"
      ],
      "execution_count": 0,
      "outputs": []
    },
    {
      "cell_type": "code",
      "metadata": {
        "id": "wWKDt06wxBbC",
        "colab_type": "code",
        "colab": {
          "base_uri": "https://localhost:8080/",
          "height": 391
        },
        "outputId": "b456d05f-0176-475b-a20b-ae4122fdc578"
      },
      "source": [
        "#lancer un entrainement pour tester\n",
        "learn.fit_one_cycle(config.epochs, max_lr=config.learning_rate, callbacks=[LogImagesCallback(learn)])"
      ],
      "execution_count": 41,
      "outputs": [
        {
          "output_type": "display_data",
          "data": {
            "text/html": [
              "<table border=\"1\" class=\"dataframe\">\n",
              "  <thead>\n",
              "    <tr style=\"text-align: left;\">\n",
              "      <th>epoch</th>\n",
              "      <th>train_loss</th>\n",
              "      <th>valid_loss</th>\n",
              "      <th>accuracy_mask</th>\n",
              "      <th>accuracy_traffic</th>\n",
              "      <th>time</th>\n",
              "    </tr>\n",
              "  </thead>\n",
              "  <tbody>\n",
              "    <tr>\n",
              "      <td>0</td>\n",
              "      <td>1.628824</td>\n",
              "      <td>1.461188</td>\n",
              "      <td>0.605997</td>\n",
              "      <td>0.512994</td>\n",
              "      <td>00:08</td>\n",
              "    </tr>\n",
              "    <tr>\n",
              "      <td>1</td>\n",
              "      <td>2.365018</td>\n",
              "      <td>2.122516</td>\n",
              "      <td>0.395676</td>\n",
              "      <td>0.334718</td>\n",
              "      <td>00:08</td>\n",
              "    </tr>\n",
              "    <tr>\n",
              "      <td>2</td>\n",
              "      <td>66.685364</td>\n",
              "      <td>453.848389</td>\n",
              "      <td>0.156762</td>\n",
              "      <td>0.131877</td>\n",
              "      <td>00:08</td>\n",
              "    </tr>\n",
              "    <tr>\n",
              "      <td>3</td>\n",
              "      <td>60.129894</td>\n",
              "      <td>1.893581</td>\n",
              "      <td>0.512345</td>\n",
              "      <td>0.433534</td>\n",
              "      <td>00:08</td>\n",
              "    </tr>\n",
              "    <tr>\n",
              "      <td>4</td>\n",
              "      <td>30.234325</td>\n",
              "      <td>1.594792</td>\n",
              "      <td>0.566142</td>\n",
              "      <td>0.471654</td>\n",
              "      <td>00:08</td>\n",
              "    </tr>\n",
              "    <tr>\n",
              "      <td>5</td>\n",
              "      <td>15.879984</td>\n",
              "      <td>1.574470</td>\n",
              "      <td>0.603945</td>\n",
              "      <td>0.512098</td>\n",
              "      <td>00:08</td>\n",
              "    </tr>\n",
              "    <tr>\n",
              "      <td>6</td>\n",
              "      <td>8.800311</td>\n",
              "      <td>1.544633</td>\n",
              "      <td>0.575216</td>\n",
              "      <td>0.499188</td>\n",
              "      <td>00:08</td>\n",
              "    </tr>\n",
              "    <tr>\n",
              "      <td>7</td>\n",
              "      <td>5.243555</td>\n",
              "      <td>1.492679</td>\n",
              "      <td>0.523918</td>\n",
              "      <td>0.528167</td>\n",
              "      <td>00:08</td>\n",
              "    </tr>\n",
              "    <tr>\n",
              "      <td>8</td>\n",
              "      <td>3.462804</td>\n",
              "      <td>1.470247</td>\n",
              "      <td>0.558684</td>\n",
              "      <td>0.544435</td>\n",
              "      <td>00:08</td>\n",
              "    </tr>\n",
              "    <tr>\n",
              "      <td>9</td>\n",
              "      <td>2.565111</td>\n",
              "      <td>1.473715</td>\n",
              "      <td>0.553366</td>\n",
              "      <td>0.540015</td>\n",
              "      <td>00:08</td>\n",
              "    </tr>\n",
              "  </tbody>\n",
              "</table>"
            ],
            "text/plain": [
              "<IPython.core.display.HTML object>"
            ]
          },
          "metadata": {
            "tags": []
          }
        },
        {
          "output_type": "stream",
          "text": [
            "Better model found at epoch 0 with accuracy_mask value: 0.6059972643852234.\n",
            "Loaded best saved model from /content/wandb/run-20200418_150945-6afcrj7g/bestmodel.pth\n"
          ],
          "name": "stdout"
        }
      ]
    },
    {
      "cell_type": "code",
      "metadata": {
        "id": "g9sm8c3w0NKr",
        "colab_type": "code",
        "colab": {
          "base_uri": "https://localhost:8080/",
          "height": 1000
        },
        "outputId": "1e5e2db2-8882-48f0-fbe2-26156791fb94"
      },
      "source": [
        "\n",
        "learn.fit(50, callbacks=[LogImagesCallback(learn)])"
      ],
      "execution_count": 50,
      "outputs": [
        {
          "output_type": "display_data",
          "data": {
            "text/html": [
              "\n",
              "    <div>\n",
              "        <style>\n",
              "            /* Turns off some styling */\n",
              "            progress {\n",
              "                /* gets rid of default border in Firefox and Opera. */\n",
              "                border: none;\n",
              "                /* Needs to be in here for Safari polyfill so background images work as expected. */\n",
              "                background-size: auto;\n",
              "            }\n",
              "            .progress-bar-interrupted, .progress-bar-interrupted::-webkit-progress-bar {\n",
              "                background: #F44336;\n",
              "            }\n",
              "        </style>\n",
              "      <progress value='24' class='' max='50' style='width:300px; height:20px; vertical-align: middle;'></progress>\n",
              "      48.00% [24/50 04:23<04:45]\n",
              "    </div>\n",
              "    \n",
              "<table border=\"1\" class=\"dataframe\">\n",
              "  <thead>\n",
              "    <tr style=\"text-align: left;\">\n",
              "      <th>epoch</th>\n",
              "      <th>train_loss</th>\n",
              "      <th>valid_loss</th>\n",
              "      <th>accuracy_mask</th>\n",
              "      <th>accuracy_traffic</th>\n",
              "      <th>time</th>\n",
              "    </tr>\n",
              "  </thead>\n",
              "  <tbody>\n",
              "    <tr>\n",
              "      <td>0</td>\n",
              "      <td>1.007755</td>\n",
              "      <td>1.074074</td>\n",
              "      <td>0.679444</td>\n",
              "      <td>0.674291</td>\n",
              "      <td>00:08</td>\n",
              "    </tr>\n",
              "    <tr>\n",
              "      <td>1</td>\n",
              "      <td>1.048495</td>\n",
              "      <td>0.992763</td>\n",
              "      <td>0.715279</td>\n",
              "      <td>0.687247</td>\n",
              "      <td>00:08</td>\n",
              "    </tr>\n",
              "    <tr>\n",
              "      <td>2</td>\n",
              "      <td>1.027543</td>\n",
              "      <td>0.901577</td>\n",
              "      <td>0.795731</td>\n",
              "      <td>0.726512</td>\n",
              "      <td>00:08</td>\n",
              "    </tr>\n",
              "    <tr>\n",
              "      <td>3</td>\n",
              "      <td>1.020683</td>\n",
              "      <td>0.920360</td>\n",
              "      <td>0.789755</td>\n",
              "      <td>0.710803</td>\n",
              "      <td>00:08</td>\n",
              "    </tr>\n",
              "    <tr>\n",
              "      <td>4</td>\n",
              "      <td>1.020837</td>\n",
              "      <td>0.862899</td>\n",
              "      <td>0.781422</td>\n",
              "      <td>0.729225</td>\n",
              "      <td>00:08</td>\n",
              "    </tr>\n",
              "    <tr>\n",
              "      <td>5</td>\n",
              "      <td>1.037398</td>\n",
              "      <td>0.940768</td>\n",
              "      <td>0.786016</td>\n",
              "      <td>0.696242</td>\n",
              "      <td>00:08</td>\n",
              "    </tr>\n",
              "    <tr>\n",
              "      <td>6</td>\n",
              "      <td>1.031438</td>\n",
              "      <td>0.939218</td>\n",
              "      <td>0.790135</td>\n",
              "      <td>0.705595</td>\n",
              "      <td>00:08</td>\n",
              "    </tr>\n",
              "    <tr>\n",
              "      <td>7</td>\n",
              "      <td>1.034922</td>\n",
              "      <td>0.993306</td>\n",
              "      <td>0.759501</td>\n",
              "      <td>0.722480</td>\n",
              "      <td>00:08</td>\n",
              "    </tr>\n",
              "    <tr>\n",
              "      <td>8</td>\n",
              "      <td>1.003618</td>\n",
              "      <td>0.897275</td>\n",
              "      <td>0.777679</td>\n",
              "      <td>0.720437</td>\n",
              "      <td>00:08</td>\n",
              "    </tr>\n",
              "    <tr>\n",
              "      <td>9</td>\n",
              "      <td>0.994724</td>\n",
              "      <td>0.866949</td>\n",
              "      <td>0.776660</td>\n",
              "      <td>0.724916</td>\n",
              "      <td>00:08</td>\n",
              "    </tr>\n",
              "    <tr>\n",
              "      <td>10</td>\n",
              "      <td>0.965147</td>\n",
              "      <td>0.805803</td>\n",
              "      <td>0.783321</td>\n",
              "      <td>0.731010</td>\n",
              "      <td>00:08</td>\n",
              "    </tr>\n",
              "    <tr>\n",
              "      <td>11</td>\n",
              "      <td>0.990588</td>\n",
              "      <td>0.993993</td>\n",
              "      <td>0.720540</td>\n",
              "      <td>0.695379</td>\n",
              "      <td>00:08</td>\n",
              "    </tr>\n",
              "    <tr>\n",
              "      <td>12</td>\n",
              "      <td>1.660593</td>\n",
              "      <td>1.311336</td>\n",
              "      <td>0.659167</td>\n",
              "      <td>0.609845</td>\n",
              "      <td>00:08</td>\n",
              "    </tr>\n",
              "    <tr>\n",
              "      <td>13</td>\n",
              "      <td>1.541631</td>\n",
              "      <td>1.332109</td>\n",
              "      <td>0.649665</td>\n",
              "      <td>0.610780</td>\n",
              "      <td>00:08</td>\n",
              "    </tr>\n",
              "    <tr>\n",
              "      <td>14</td>\n",
              "      <td>1.425541</td>\n",
              "      <td>1.163713</td>\n",
              "      <td>0.688893</td>\n",
              "      <td>0.637742</td>\n",
              "      <td>00:08</td>\n",
              "    </tr>\n",
              "    <tr>\n",
              "      <td>15</td>\n",
              "      <td>1.362814</td>\n",
              "      <td>1.101258</td>\n",
              "      <td>0.706071</td>\n",
              "      <td>0.656529</td>\n",
              "      <td>00:08</td>\n",
              "    </tr>\n",
              "    <tr>\n",
              "      <td>16</td>\n",
              "      <td>1.301728</td>\n",
              "      <td>1.128853</td>\n",
              "      <td>0.708952</td>\n",
              "      <td>0.654628</td>\n",
              "      <td>00:08</td>\n",
              "    </tr>\n",
              "    <tr>\n",
              "      <td>17</td>\n",
              "      <td>1.272286</td>\n",
              "      <td>1.127670</td>\n",
              "      <td>0.692834</td>\n",
              "      <td>0.653094</td>\n",
              "      <td>00:08</td>\n",
              "    </tr>\n",
              "    <tr>\n",
              "      <td>18</td>\n",
              "      <td>1.275319</td>\n",
              "      <td>1.158789</td>\n",
              "      <td>0.712067</td>\n",
              "      <td>0.642360</td>\n",
              "      <td>00:08</td>\n",
              "    </tr>\n",
              "    <tr>\n",
              "      <td>19</td>\n",
              "      <td>1.246221</td>\n",
              "      <td>1.067009</td>\n",
              "      <td>0.727425</td>\n",
              "      <td>0.666543</td>\n",
              "      <td>00:08</td>\n",
              "    </tr>\n",
              "    <tr>\n",
              "      <td>20</td>\n",
              "      <td>1.224524</td>\n",
              "      <td>1.065421</td>\n",
              "      <td>0.725474</td>\n",
              "      <td>0.669946</td>\n",
              "      <td>00:08</td>\n",
              "    </tr>\n",
              "    <tr>\n",
              "      <td>21</td>\n",
              "      <td>1.202792</td>\n",
              "      <td>1.031647</td>\n",
              "      <td>0.719368</td>\n",
              "      <td>0.682265</td>\n",
              "      <td>00:08</td>\n",
              "    </tr>\n",
              "    <tr>\n",
              "      <td>22</td>\n",
              "      <td>1.205013</td>\n",
              "      <td>1.055142</td>\n",
              "      <td>0.728154</td>\n",
              "      <td>0.676157</td>\n",
              "      <td>00:08</td>\n",
              "    </tr>\n",
              "    <tr>\n",
              "      <td>23</td>\n",
              "      <td>1.172101</td>\n",
              "      <td>1.042852</td>\n",
              "      <td>0.728798</td>\n",
              "      <td>0.675703</td>\n",
              "      <td>00:08</td>\n",
              "    </tr>\n",
              "  </tbody>\n",
              "</table><p>\n",
              "\n",
              "    <div>\n",
              "        <style>\n",
              "            /* Turns off some styling */\n",
              "            progress {\n",
              "                /* gets rid of default border in Firefox and Opera. */\n",
              "                border: none;\n",
              "                /* Needs to be in here for Safari polyfill so background images work as expected. */\n",
              "                background-size: auto;\n",
              "            }\n",
              "            .progress-bar-interrupted, .progress-bar-interrupted::-webkit-progress-bar {\n",
              "                background: #F44336;\n",
              "            }\n",
              "        </style>\n",
              "      <progress value='6' class='' max='6' style='width:300px; height:20px; vertical-align: middle;'></progress>\n",
              "      100.00% [6/6 00:00<00:00]\n",
              "    </div>\n",
              "    "
            ],
            "text/plain": [
              "<IPython.core.display.HTML object>"
            ]
          },
          "metadata": {
            "tags": []
          }
        },
        {
          "output_type": "stream",
          "text": [
            "Better model found at epoch 0 with accuracy_mask value: 0.6794437766075134.\n",
            "Better model found at epoch 1 with accuracy_mask value: 0.7152793407440186.\n",
            "Better model found at epoch 2 with accuracy_mask value: 0.7957313656806946.\n",
            "Loaded best saved model from /content/wandb/run-20200418_150945-6afcrj7g/bestmodel.pth\n"
          ],
          "name": "stdout"
        },
        {
          "output_type": "error",
          "ename": "KeyboardInterrupt",
          "evalue": "ignored",
          "traceback": [
            "\u001b[0;31m---------------------------------------------------------------------------\u001b[0m",
            "\u001b[0;31mKeyboardInterrupt\u001b[0m                         Traceback (most recent call last)",
            "\u001b[0;32m<ipython-input-50-4806e33c108c>\u001b[0m in \u001b[0;36m<module>\u001b[0;34m()\u001b[0m\n\u001b[1;32m      1\u001b[0m \u001b[0;34m\u001b[0m\u001b[0m\n\u001b[0;32m----> 2\u001b[0;31m \u001b[0mlearn\u001b[0m\u001b[0;34m.\u001b[0m\u001b[0mfit\u001b[0m\u001b[0;34m(\u001b[0m\u001b[0;36m50\u001b[0m\u001b[0;34m,\u001b[0m \u001b[0mcallbacks\u001b[0m\u001b[0;34m=\u001b[0m\u001b[0;34m[\u001b[0m\u001b[0mLogImagesCallback\u001b[0m\u001b[0;34m(\u001b[0m\u001b[0mlearn\u001b[0m\u001b[0;34m)\u001b[0m\u001b[0;34m]\u001b[0m\u001b[0;34m)\u001b[0m\u001b[0;34m\u001b[0m\u001b[0;34m\u001b[0m\u001b[0m\n\u001b[0m",
            "\u001b[0;32m/usr/local/lib/python3.6/dist-packages/fastai/basic_train.py\u001b[0m in \u001b[0;36mfit\u001b[0;34m(self, epochs, lr, wd, callbacks)\u001b[0m\n\u001b[1;32m    198\u001b[0m         \u001b[0;32melse\u001b[0m\u001b[0;34m:\u001b[0m \u001b[0mself\u001b[0m\u001b[0;34m.\u001b[0m\u001b[0mopt\u001b[0m\u001b[0;34m.\u001b[0m\u001b[0mlr\u001b[0m\u001b[0;34m,\u001b[0m\u001b[0mself\u001b[0m\u001b[0;34m.\u001b[0m\u001b[0mopt\u001b[0m\u001b[0;34m.\u001b[0m\u001b[0mwd\u001b[0m \u001b[0;34m=\u001b[0m \u001b[0mlr\u001b[0m\u001b[0;34m,\u001b[0m\u001b[0mwd\u001b[0m\u001b[0;34m\u001b[0m\u001b[0;34m\u001b[0m\u001b[0m\n\u001b[1;32m    199\u001b[0m         \u001b[0mcallbacks\u001b[0m \u001b[0;34m=\u001b[0m \u001b[0;34m[\u001b[0m\u001b[0mcb\u001b[0m\u001b[0;34m(\u001b[0m\u001b[0mself\u001b[0m\u001b[0;34m)\u001b[0m \u001b[0;32mfor\u001b[0m \u001b[0mcb\u001b[0m \u001b[0;32min\u001b[0m \u001b[0mself\u001b[0m\u001b[0;34m.\u001b[0m\u001b[0mcallback_fns\u001b[0m \u001b[0;34m+\u001b[0m \u001b[0mlistify\u001b[0m\u001b[0;34m(\u001b[0m\u001b[0mdefaults\u001b[0m\u001b[0;34m.\u001b[0m\u001b[0mextra_callback_fns\u001b[0m\u001b[0;34m)\u001b[0m\u001b[0;34m]\u001b[0m \u001b[0;34m+\u001b[0m \u001b[0mlistify\u001b[0m\u001b[0;34m(\u001b[0m\u001b[0mcallbacks\u001b[0m\u001b[0;34m)\u001b[0m\u001b[0;34m\u001b[0m\u001b[0;34m\u001b[0m\u001b[0m\n\u001b[0;32m--> 200\u001b[0;31m         \u001b[0mfit\u001b[0m\u001b[0;34m(\u001b[0m\u001b[0mepochs\u001b[0m\u001b[0;34m,\u001b[0m \u001b[0mself\u001b[0m\u001b[0;34m,\u001b[0m \u001b[0mmetrics\u001b[0m\u001b[0;34m=\u001b[0m\u001b[0mself\u001b[0m\u001b[0;34m.\u001b[0m\u001b[0mmetrics\u001b[0m\u001b[0;34m,\u001b[0m \u001b[0mcallbacks\u001b[0m\u001b[0;34m=\u001b[0m\u001b[0mself\u001b[0m\u001b[0;34m.\u001b[0m\u001b[0mcallbacks\u001b[0m\u001b[0;34m+\u001b[0m\u001b[0mcallbacks\u001b[0m\u001b[0;34m)\u001b[0m\u001b[0;34m\u001b[0m\u001b[0;34m\u001b[0m\u001b[0m\n\u001b[0m\u001b[1;32m    201\u001b[0m \u001b[0;34m\u001b[0m\u001b[0m\n\u001b[1;32m    202\u001b[0m     \u001b[0;32mdef\u001b[0m \u001b[0mcreate_opt\u001b[0m\u001b[0;34m(\u001b[0m\u001b[0mself\u001b[0m\u001b[0;34m,\u001b[0m \u001b[0mlr\u001b[0m\u001b[0;34m:\u001b[0m\u001b[0mFloats\u001b[0m\u001b[0;34m,\u001b[0m \u001b[0mwd\u001b[0m\u001b[0;34m:\u001b[0m\u001b[0mFloats\u001b[0m\u001b[0;34m=\u001b[0m\u001b[0;36m0.\u001b[0m\u001b[0;34m)\u001b[0m\u001b[0;34m->\u001b[0m\u001b[0;32mNone\u001b[0m\u001b[0;34m:\u001b[0m\u001b[0;34m\u001b[0m\u001b[0;34m\u001b[0m\u001b[0m\n",
            "\u001b[0;32m/usr/local/lib/python3.6/dist-packages/fastai/basic_train.py\u001b[0m in \u001b[0;36mfit\u001b[0;34m(epochs, learn, callbacks, metrics)\u001b[0m\n\u001b[1;32m    106\u001b[0m                                        cb_handler=cb_handler, pbar=pbar)\n\u001b[1;32m    107\u001b[0m             \u001b[0;32melse\u001b[0m\u001b[0;34m:\u001b[0m \u001b[0mval_loss\u001b[0m\u001b[0;34m=\u001b[0m\u001b[0;32mNone\u001b[0m\u001b[0;34m\u001b[0m\u001b[0;34m\u001b[0m\u001b[0m\n\u001b[0;32m--> 108\u001b[0;31m             \u001b[0;32mif\u001b[0m \u001b[0mcb_handler\u001b[0m\u001b[0;34m.\u001b[0m\u001b[0mon_epoch_end\u001b[0m\u001b[0;34m(\u001b[0m\u001b[0mval_loss\u001b[0m\u001b[0;34m)\u001b[0m\u001b[0;34m:\u001b[0m \u001b[0;32mbreak\u001b[0m\u001b[0;34m\u001b[0m\u001b[0;34m\u001b[0m\u001b[0m\n\u001b[0m\u001b[1;32m    109\u001b[0m     \u001b[0;32mexcept\u001b[0m \u001b[0mException\u001b[0m \u001b[0;32mas\u001b[0m \u001b[0me\u001b[0m\u001b[0;34m:\u001b[0m\u001b[0;34m\u001b[0m\u001b[0;34m\u001b[0m\u001b[0m\n\u001b[1;32m    110\u001b[0m         \u001b[0mexception\u001b[0m \u001b[0;34m=\u001b[0m \u001b[0me\u001b[0m\u001b[0;34m\u001b[0m\u001b[0;34m\u001b[0m\u001b[0m\n",
            "\u001b[0;32m/usr/local/lib/python3.6/dist-packages/fastai/callback.py\u001b[0m in \u001b[0;36mon_epoch_end\u001b[0;34m(self, val_loss)\u001b[0m\n\u001b[1;32m    315\u001b[0m         \u001b[0;34m\"Epoch is done, process `val_loss`.\"\u001b[0m\u001b[0;34m\u001b[0m\u001b[0;34m\u001b[0m\u001b[0m\n\u001b[1;32m    316\u001b[0m         \u001b[0mself\u001b[0m\u001b[0;34m.\u001b[0m\u001b[0mstate_dict\u001b[0m\u001b[0;34m[\u001b[0m\u001b[0;34m'last_metrics'\u001b[0m\u001b[0;34m]\u001b[0m \u001b[0;34m=\u001b[0m \u001b[0;34m[\u001b[0m\u001b[0mval_loss\u001b[0m\u001b[0;34m]\u001b[0m \u001b[0;32mif\u001b[0m \u001b[0mval_loss\u001b[0m \u001b[0;32mis\u001b[0m \u001b[0;32mnot\u001b[0m \u001b[0;32mNone\u001b[0m \u001b[0;32melse\u001b[0m \u001b[0;34m[\u001b[0m\u001b[0;32mNone\u001b[0m\u001b[0;34m]\u001b[0m\u001b[0;34m\u001b[0m\u001b[0;34m\u001b[0m\u001b[0m\n\u001b[0;32m--> 317\u001b[0;31m         \u001b[0mself\u001b[0m\u001b[0;34m(\u001b[0m\u001b[0;34m'epoch_end'\u001b[0m\u001b[0;34m,\u001b[0m \u001b[0mcall_mets\u001b[0m \u001b[0;34m=\u001b[0m \u001b[0mval_loss\u001b[0m \u001b[0;32mis\u001b[0m \u001b[0;32mnot\u001b[0m \u001b[0;32mNone\u001b[0m\u001b[0;34m)\u001b[0m\u001b[0;34m\u001b[0m\u001b[0;34m\u001b[0m\u001b[0m\n\u001b[0m\u001b[1;32m    318\u001b[0m         \u001b[0mself\u001b[0m\u001b[0;34m.\u001b[0m\u001b[0mstate_dict\u001b[0m\u001b[0;34m[\u001b[0m\u001b[0;34m'epoch'\u001b[0m\u001b[0;34m]\u001b[0m \u001b[0;34m+=\u001b[0m \u001b[0;36m1\u001b[0m\u001b[0;34m\u001b[0m\u001b[0;34m\u001b[0m\u001b[0m\n\u001b[1;32m    319\u001b[0m         \u001b[0;32mreturn\u001b[0m \u001b[0mself\u001b[0m\u001b[0;34m.\u001b[0m\u001b[0mstate_dict\u001b[0m\u001b[0;34m[\u001b[0m\u001b[0;34m'stop_training'\u001b[0m\u001b[0;34m]\u001b[0m\u001b[0;34m\u001b[0m\u001b[0;34m\u001b[0m\u001b[0m\n",
            "\u001b[0;32m/usr/local/lib/python3.6/dist-packages/fastai/callback.py\u001b[0m in \u001b[0;36m__call__\u001b[0;34m(self, cb_name, call_mets, **kwargs)\u001b[0m\n\u001b[1;32m    249\u001b[0m         \u001b[0;32mif\u001b[0m \u001b[0mcall_mets\u001b[0m\u001b[0;34m:\u001b[0m\u001b[0;34m\u001b[0m\u001b[0;34m\u001b[0m\u001b[0m\n\u001b[1;32m    250\u001b[0m             \u001b[0;32mfor\u001b[0m \u001b[0mmet\u001b[0m \u001b[0;32min\u001b[0m \u001b[0mself\u001b[0m\u001b[0;34m.\u001b[0m\u001b[0mmetrics\u001b[0m\u001b[0;34m:\u001b[0m \u001b[0mself\u001b[0m\u001b[0;34m.\u001b[0m\u001b[0m_call_and_update\u001b[0m\u001b[0;34m(\u001b[0m\u001b[0mmet\u001b[0m\u001b[0;34m,\u001b[0m \u001b[0mcb_name\u001b[0m\u001b[0;34m,\u001b[0m \u001b[0;34m**\u001b[0m\u001b[0mkwargs\u001b[0m\u001b[0;34m)\u001b[0m\u001b[0;34m\u001b[0m\u001b[0;34m\u001b[0m\u001b[0m\n\u001b[0;32m--> 251\u001b[0;31m         \u001b[0;32mfor\u001b[0m \u001b[0mcb\u001b[0m \u001b[0;32min\u001b[0m \u001b[0mself\u001b[0m\u001b[0;34m.\u001b[0m\u001b[0mcallbacks\u001b[0m\u001b[0;34m:\u001b[0m \u001b[0mself\u001b[0m\u001b[0;34m.\u001b[0m\u001b[0m_call_and_update\u001b[0m\u001b[0;34m(\u001b[0m\u001b[0mcb\u001b[0m\u001b[0;34m,\u001b[0m \u001b[0mcb_name\u001b[0m\u001b[0;34m,\u001b[0m \u001b[0;34m**\u001b[0m\u001b[0mkwargs\u001b[0m\u001b[0;34m)\u001b[0m\u001b[0;34m\u001b[0m\u001b[0;34m\u001b[0m\u001b[0m\n\u001b[0m\u001b[1;32m    252\u001b[0m \u001b[0;34m\u001b[0m\u001b[0m\n\u001b[1;32m    253\u001b[0m     \u001b[0;32mdef\u001b[0m \u001b[0mset_dl\u001b[0m\u001b[0;34m(\u001b[0m\u001b[0mself\u001b[0m\u001b[0;34m,\u001b[0m \u001b[0mdl\u001b[0m\u001b[0;34m:\u001b[0m\u001b[0mDataLoader\u001b[0m\u001b[0;34m)\u001b[0m\u001b[0;34m:\u001b[0m\u001b[0;34m\u001b[0m\u001b[0;34m\u001b[0m\u001b[0m\n",
            "\u001b[0;32m/usr/local/lib/python3.6/dist-packages/fastai/callback.py\u001b[0m in \u001b[0;36m_call_and_update\u001b[0;34m(self, cb, cb_name, **kwargs)\u001b[0m\n\u001b[1;32m    239\u001b[0m     \u001b[0;32mdef\u001b[0m \u001b[0m_call_and_update\u001b[0m\u001b[0;34m(\u001b[0m\u001b[0mself\u001b[0m\u001b[0;34m,\u001b[0m \u001b[0mcb\u001b[0m\u001b[0;34m,\u001b[0m \u001b[0mcb_name\u001b[0m\u001b[0;34m,\u001b[0m \u001b[0;34m**\u001b[0m\u001b[0mkwargs\u001b[0m\u001b[0;34m)\u001b[0m\u001b[0;34m->\u001b[0m\u001b[0;32mNone\u001b[0m\u001b[0;34m:\u001b[0m\u001b[0;34m\u001b[0m\u001b[0;34m\u001b[0m\u001b[0m\n\u001b[1;32m    240\u001b[0m         \u001b[0;34m\"Call `cb_name` on `cb` and update the inner state.\"\u001b[0m\u001b[0;34m\u001b[0m\u001b[0;34m\u001b[0m\u001b[0m\n\u001b[0;32m--> 241\u001b[0;31m         \u001b[0mnew\u001b[0m \u001b[0;34m=\u001b[0m \u001b[0mifnone\u001b[0m\u001b[0;34m(\u001b[0m\u001b[0mgetattr\u001b[0m\u001b[0;34m(\u001b[0m\u001b[0mcb\u001b[0m\u001b[0;34m,\u001b[0m \u001b[0;34mf'on_{cb_name}'\u001b[0m\u001b[0;34m)\u001b[0m\u001b[0;34m(\u001b[0m\u001b[0;34m**\u001b[0m\u001b[0mself\u001b[0m\u001b[0;34m.\u001b[0m\u001b[0mstate_dict\u001b[0m\u001b[0;34m,\u001b[0m \u001b[0;34m**\u001b[0m\u001b[0mkwargs\u001b[0m\u001b[0;34m)\u001b[0m\u001b[0;34m,\u001b[0m \u001b[0mdict\u001b[0m\u001b[0;34m(\u001b[0m\u001b[0;34m)\u001b[0m\u001b[0;34m)\u001b[0m\u001b[0;34m\u001b[0m\u001b[0;34m\u001b[0m\u001b[0m\n\u001b[0m\u001b[1;32m    242\u001b[0m         \u001b[0;32mfor\u001b[0m \u001b[0mk\u001b[0m\u001b[0;34m,\u001b[0m\u001b[0mv\u001b[0m \u001b[0;32min\u001b[0m \u001b[0mnew\u001b[0m\u001b[0;34m.\u001b[0m\u001b[0mitems\u001b[0m\u001b[0;34m(\u001b[0m\u001b[0;34m)\u001b[0m\u001b[0;34m:\u001b[0m\u001b[0;34m\u001b[0m\u001b[0;34m\u001b[0m\u001b[0m\n\u001b[1;32m    243\u001b[0m             \u001b[0;32mif\u001b[0m \u001b[0mk\u001b[0m \u001b[0;32mnot\u001b[0m \u001b[0;32min\u001b[0m \u001b[0mself\u001b[0m\u001b[0;34m.\u001b[0m\u001b[0mstate_dict\u001b[0m\u001b[0;34m:\u001b[0m\u001b[0;34m\u001b[0m\u001b[0;34m\u001b[0m\u001b[0m\n",
            "\u001b[0;32m<ipython-input-39-b625ef994f7b>\u001b[0m in \u001b[0;36mon_epoch_end\u001b[0;34m(self, **kwargs)\u001b[0m\n\u001b[1;32m     18\u001b[0m       \u001b[0mmask_human_format\u001b[0m \u001b[0;34m=\u001b[0m \u001b[0mtorch_to_human\u001b[0m\u001b[0;34m(\u001b[0m\u001b[0mmask_torch_format\u001b[0m\u001b[0;34m)\u001b[0m\u001b[0;34m\u001b[0m\u001b[0;34m\u001b[0m\u001b[0m\n\u001b[1;32m     19\u001b[0m \u001b[0;34m\u001b[0m\u001b[0m\n\u001b[0;32m---> 20\u001b[0;31m       \u001b[0mprediction_torch_format\u001b[0m \u001b[0;34m=\u001b[0m \u001b[0munbatch\u001b[0m\u001b[0;34m(\u001b[0m\u001b[0mlearn\u001b[0m\u001b[0;34m.\u001b[0m\u001b[0mpredict\u001b[0m\u001b[0;34m(\u001b[0m\u001b[0mimage_torch_format\u001b[0m\u001b[0;34m)\u001b[0m\u001b[0;34m)\u001b[0m\u001b[0;34m\u001b[0m\u001b[0;34m\u001b[0m\u001b[0m\n\u001b[0m\u001b[1;32m     21\u001b[0m       \u001b[0mprediction_human_format\u001b[0m \u001b[0;34m=\u001b[0m \u001b[0mtorch_to_human\u001b[0m\u001b[0;34m(\u001b[0m\u001b[0mprediction_torch_format\u001b[0m\u001b[0;34m)\u001b[0m\u001b[0;34m\u001b[0m\u001b[0;34m\u001b[0m\u001b[0m\n\u001b[1;32m     22\u001b[0m \u001b[0;34m\u001b[0m\u001b[0m\n",
            "\u001b[0;32m/usr/local/lib/python3.6/dist-packages/fastai/basic_train.py\u001b[0m in \u001b[0;36mpredict\u001b[0;34m(self, item, return_x, batch_first, with_dropout, **kwargs)\u001b[0m\n\u001b[1;32m    371\u001b[0m         \u001b[0;34m\"Return predicted class, label and probabilities for `item`.\"\u001b[0m\u001b[0;34m\u001b[0m\u001b[0;34m\u001b[0m\u001b[0m\n\u001b[1;32m    372\u001b[0m         \u001b[0mbatch\u001b[0m \u001b[0;34m=\u001b[0m \u001b[0mself\u001b[0m\u001b[0;34m.\u001b[0m\u001b[0mdata\u001b[0m\u001b[0;34m.\u001b[0m\u001b[0mone_item\u001b[0m\u001b[0;34m(\u001b[0m\u001b[0mitem\u001b[0m\u001b[0;34m)\u001b[0m\u001b[0;34m\u001b[0m\u001b[0;34m\u001b[0m\u001b[0m\n\u001b[0;32m--> 373\u001b[0;31m         \u001b[0mres\u001b[0m \u001b[0;34m=\u001b[0m \u001b[0mself\u001b[0m\u001b[0;34m.\u001b[0m\u001b[0mpred_batch\u001b[0m\u001b[0;34m(\u001b[0m\u001b[0mbatch\u001b[0m\u001b[0;34m=\u001b[0m\u001b[0mbatch\u001b[0m\u001b[0;34m,\u001b[0m \u001b[0mwith_dropout\u001b[0m\u001b[0;34m=\u001b[0m\u001b[0mwith_dropout\u001b[0m\u001b[0;34m)\u001b[0m\u001b[0;34m\u001b[0m\u001b[0;34m\u001b[0m\u001b[0m\n\u001b[0m\u001b[1;32m    374\u001b[0m         \u001b[0mraw_pred\u001b[0m\u001b[0;34m,\u001b[0m\u001b[0mx\u001b[0m \u001b[0;34m=\u001b[0m \u001b[0mgrab_idx\u001b[0m\u001b[0;34m(\u001b[0m\u001b[0mres\u001b[0m\u001b[0;34m,\u001b[0m\u001b[0;36m0\u001b[0m\u001b[0;34m,\u001b[0m\u001b[0mbatch_first\u001b[0m\u001b[0;34m=\u001b[0m\u001b[0mbatch_first\u001b[0m\u001b[0;34m)\u001b[0m\u001b[0;34m,\u001b[0m\u001b[0mbatch\u001b[0m\u001b[0;34m[\u001b[0m\u001b[0;36m0\u001b[0m\u001b[0;34m]\u001b[0m\u001b[0;34m\u001b[0m\u001b[0;34m\u001b[0m\u001b[0m\n\u001b[1;32m    375\u001b[0m         \u001b[0mnorm\u001b[0m \u001b[0;34m=\u001b[0m \u001b[0mgetattr\u001b[0m\u001b[0;34m(\u001b[0m\u001b[0mself\u001b[0m\u001b[0;34m.\u001b[0m\u001b[0mdata\u001b[0m\u001b[0;34m,\u001b[0m\u001b[0;34m'norm'\u001b[0m\u001b[0;34m,\u001b[0m\u001b[0;32mFalse\u001b[0m\u001b[0;34m)\u001b[0m\u001b[0;34m\u001b[0m\u001b[0;34m\u001b[0m\u001b[0m\n",
            "\u001b[0;32m/usr/local/lib/python3.6/dist-packages/fastai/basic_train.py\u001b[0m in \u001b[0;36mpred_batch\u001b[0;34m(self, ds_type, batch, reconstruct, with_dropout, activ)\u001b[0m\n\u001b[1;32m    352\u001b[0m             \u001b[0;32mif\u001b[0m \u001b[0;32mnot\u001b[0m \u001b[0mwith_dropout\u001b[0m\u001b[0;34m:\u001b[0m \u001b[0mpreds\u001b[0m \u001b[0;34m=\u001b[0m \u001b[0mloss_batch\u001b[0m\u001b[0;34m(\u001b[0m\u001b[0mself\u001b[0m\u001b[0;34m.\u001b[0m\u001b[0mmodel\u001b[0m\u001b[0;34m.\u001b[0m\u001b[0meval\u001b[0m\u001b[0;34m(\u001b[0m\u001b[0;34m)\u001b[0m\u001b[0;34m,\u001b[0m \u001b[0mxb\u001b[0m\u001b[0;34m,\u001b[0m \u001b[0myb\u001b[0m\u001b[0;34m,\u001b[0m \u001b[0mcb_handler\u001b[0m\u001b[0;34m=\u001b[0m\u001b[0mcb_handler\u001b[0m\u001b[0;34m)\u001b[0m\u001b[0;34m\u001b[0m\u001b[0;34m\u001b[0m\u001b[0m\n\u001b[1;32m    353\u001b[0m             \u001b[0;32melse\u001b[0m\u001b[0;34m:\u001b[0m \u001b[0mpreds\u001b[0m \u001b[0;34m=\u001b[0m \u001b[0mloss_batch\u001b[0m\u001b[0;34m(\u001b[0m\u001b[0mself\u001b[0m\u001b[0;34m.\u001b[0m\u001b[0mmodel\u001b[0m\u001b[0;34m.\u001b[0m\u001b[0meval\u001b[0m\u001b[0;34m(\u001b[0m\u001b[0;34m)\u001b[0m\u001b[0;34m.\u001b[0m\u001b[0mapply\u001b[0m\u001b[0;34m(\u001b[0m\u001b[0mself\u001b[0m\u001b[0;34m.\u001b[0m\u001b[0mapply_dropout\u001b[0m\u001b[0;34m)\u001b[0m\u001b[0;34m,\u001b[0m \u001b[0mxb\u001b[0m\u001b[0;34m,\u001b[0m \u001b[0myb\u001b[0m\u001b[0;34m,\u001b[0m \u001b[0mcb_handler\u001b[0m\u001b[0;34m=\u001b[0m\u001b[0mcb_handler\u001b[0m\u001b[0;34m)\u001b[0m\u001b[0;34m\u001b[0m\u001b[0;34m\u001b[0m\u001b[0m\n\u001b[0;32m--> 354\u001b[0;31m             \u001b[0mres\u001b[0m \u001b[0;34m=\u001b[0m \u001b[0mactiv\u001b[0m\u001b[0;34m(\u001b[0m\u001b[0mpreds\u001b[0m\u001b[0;34m[\u001b[0m\u001b[0;36m0\u001b[0m\u001b[0;34m]\u001b[0m\u001b[0;34m)\u001b[0m\u001b[0;34m\u001b[0m\u001b[0;34m\u001b[0m\u001b[0m\n\u001b[0m\u001b[1;32m    355\u001b[0m         \u001b[0;32mif\u001b[0m \u001b[0;32mnot\u001b[0m \u001b[0mreconstruct\u001b[0m\u001b[0;34m:\u001b[0m \u001b[0;32mreturn\u001b[0m \u001b[0mres\u001b[0m\u001b[0;34m\u001b[0m\u001b[0;34m\u001b[0m\u001b[0m\n\u001b[1;32m    356\u001b[0m         \u001b[0mres\u001b[0m \u001b[0;34m=\u001b[0m \u001b[0mres\u001b[0m\u001b[0;34m.\u001b[0m\u001b[0mdetach\u001b[0m\u001b[0;34m(\u001b[0m\u001b[0;34m)\u001b[0m\u001b[0;34m.\u001b[0m\u001b[0mcpu\u001b[0m\u001b[0;34m(\u001b[0m\u001b[0;34m)\u001b[0m\u001b[0;34m\u001b[0m\u001b[0;34m\u001b[0m\u001b[0m\n",
            "\u001b[0;32m/usr/local/lib/python3.6/dist-packages/torch/nn/functional.py\u001b[0m in \u001b[0;36msoftmax\u001b[0;34m(input, dim, _stacklevel, dtype)\u001b[0m\n\u001b[1;32m   1229\u001b[0m         \u001b[0mdim\u001b[0m \u001b[0;34m=\u001b[0m \u001b[0m_get_softmax_dim\u001b[0m\u001b[0;34m(\u001b[0m\u001b[0;34m'softmax'\u001b[0m\u001b[0;34m,\u001b[0m \u001b[0minput\u001b[0m\u001b[0;34m.\u001b[0m\u001b[0mdim\u001b[0m\u001b[0;34m(\u001b[0m\u001b[0;34m)\u001b[0m\u001b[0;34m,\u001b[0m \u001b[0m_stacklevel\u001b[0m\u001b[0;34m)\u001b[0m\u001b[0;34m\u001b[0m\u001b[0;34m\u001b[0m\u001b[0m\n\u001b[1;32m   1230\u001b[0m     \u001b[0;32mif\u001b[0m \u001b[0mdtype\u001b[0m \u001b[0;32mis\u001b[0m \u001b[0;32mNone\u001b[0m\u001b[0;34m:\u001b[0m\u001b[0;34m\u001b[0m\u001b[0;34m\u001b[0m\u001b[0m\n\u001b[0;32m-> 1231\u001b[0;31m         \u001b[0mret\u001b[0m \u001b[0;34m=\u001b[0m \u001b[0minput\u001b[0m\u001b[0;34m.\u001b[0m\u001b[0msoftmax\u001b[0m\u001b[0;34m(\u001b[0m\u001b[0mdim\u001b[0m\u001b[0;34m)\u001b[0m\u001b[0;34m\u001b[0m\u001b[0;34m\u001b[0m\u001b[0m\n\u001b[0m\u001b[1;32m   1232\u001b[0m     \u001b[0;32melse\u001b[0m\u001b[0;34m:\u001b[0m\u001b[0;34m\u001b[0m\u001b[0;34m\u001b[0m\u001b[0m\n\u001b[1;32m   1233\u001b[0m         \u001b[0mret\u001b[0m \u001b[0;34m=\u001b[0m \u001b[0minput\u001b[0m\u001b[0;34m.\u001b[0m\u001b[0msoftmax\u001b[0m\u001b[0;34m(\u001b[0m\u001b[0mdim\u001b[0m\u001b[0;34m,\u001b[0m \u001b[0mdtype\u001b[0m\u001b[0;34m=\u001b[0m\u001b[0mdtype\u001b[0m\u001b[0;34m)\u001b[0m\u001b[0;34m\u001b[0m\u001b[0;34m\u001b[0m\u001b[0m\n",
            "\u001b[0;31mKeyboardInterrupt\u001b[0m: "
          ]
        }
      ]
    },
    {
      "cell_type": "code",
      "metadata": {
        "id": "GMkuJwGT5rU7",
        "colab_type": "code",
        "colab": {
          "base_uri": "https://localhost:8080/",
          "height": 1000
        },
        "outputId": "3f0637df-138c-4c2d-b1a6-3a599943dee7"
      },
      "source": [
        "#entrainement devrai etre plus long car on doit entrainer tout les layers\n",
        "learn.unfreeze()\n",
        "learn.fit(50, callbacks=[LogImagesCallback(learn)])"
      ],
      "execution_count": 51,
      "outputs": [
        {
          "output_type": "display_data",
          "data": {
            "text/html": [
              "<table border=\"1\" class=\"dataframe\">\n",
              "  <thead>\n",
              "    <tr style=\"text-align: left;\">\n",
              "      <th>epoch</th>\n",
              "      <th>train_loss</th>\n",
              "      <th>valid_loss</th>\n",
              "      <th>accuracy_mask</th>\n",
              "      <th>accuracy_traffic</th>\n",
              "      <th>time</th>\n",
              "    </tr>\n",
              "  </thead>\n",
              "  <tbody>\n",
              "    <tr>\n",
              "      <td>0</td>\n",
              "      <td>1.976862</td>\n",
              "      <td>1.579448</td>\n",
              "      <td>0.625310</td>\n",
              "      <td>0.552142</td>\n",
              "      <td>00:09</td>\n",
              "    </tr>\n",
              "    <tr>\n",
              "      <td>1</td>\n",
              "      <td>1.626050</td>\n",
              "      <td>1.190209</td>\n",
              "      <td>0.720588</td>\n",
              "      <td>0.619038</td>\n",
              "      <td>00:08</td>\n",
              "    </tr>\n",
              "    <tr>\n",
              "      <td>2</td>\n",
              "      <td>1.392650</td>\n",
              "      <td>1.029826</td>\n",
              "      <td>0.761854</td>\n",
              "      <td>0.697900</td>\n",
              "      <td>00:08</td>\n",
              "    </tr>\n",
              "    <tr>\n",
              "      <td>3</td>\n",
              "      <td>1.270590</td>\n",
              "      <td>0.955022</td>\n",
              "      <td>0.791322</td>\n",
              "      <td>0.695514</td>\n",
              "      <td>00:08</td>\n",
              "    </tr>\n",
              "    <tr>\n",
              "      <td>4</td>\n",
              "      <td>1.173099</td>\n",
              "      <td>0.909525</td>\n",
              "      <td>0.789759</td>\n",
              "      <td>0.690378</td>\n",
              "      <td>00:08</td>\n",
              "    </tr>\n",
              "    <tr>\n",
              "      <td>5</td>\n",
              "      <td>1.096749</td>\n",
              "      <td>0.901028</td>\n",
              "      <td>0.790715</td>\n",
              "      <td>0.717274</td>\n",
              "      <td>00:08</td>\n",
              "    </tr>\n",
              "    <tr>\n",
              "      <td>6</td>\n",
              "      <td>1.020317</td>\n",
              "      <td>0.857296</td>\n",
              "      <td>0.790685</td>\n",
              "      <td>0.744716</td>\n",
              "      <td>00:08</td>\n",
              "    </tr>\n",
              "    <tr>\n",
              "      <td>7</td>\n",
              "      <td>0.970772</td>\n",
              "      <td>0.951918</td>\n",
              "      <td>0.788090</td>\n",
              "      <td>0.731178</td>\n",
              "      <td>00:08</td>\n",
              "    </tr>\n",
              "    <tr>\n",
              "      <td>8</td>\n",
              "      <td>0.947925</td>\n",
              "      <td>0.915233</td>\n",
              "      <td>0.790052</td>\n",
              "      <td>0.729793</td>\n",
              "      <td>00:08</td>\n",
              "    </tr>\n",
              "    <tr>\n",
              "      <td>9</td>\n",
              "      <td>0.951604</td>\n",
              "      <td>0.812246</td>\n",
              "      <td>0.796640</td>\n",
              "      <td>0.741618</td>\n",
              "      <td>00:08</td>\n",
              "    </tr>\n",
              "    <tr>\n",
              "      <td>10</td>\n",
              "      <td>0.943301</td>\n",
              "      <td>0.844615</td>\n",
              "      <td>0.793668</td>\n",
              "      <td>0.750208</td>\n",
              "      <td>00:08</td>\n",
              "    </tr>\n",
              "    <tr>\n",
              "      <td>11</td>\n",
              "      <td>0.901783</td>\n",
              "      <td>0.821372</td>\n",
              "      <td>0.800983</td>\n",
              "      <td>0.764870</td>\n",
              "      <td>00:08</td>\n",
              "    </tr>\n",
              "    <tr>\n",
              "      <td>12</td>\n",
              "      <td>0.867990</td>\n",
              "      <td>0.856057</td>\n",
              "      <td>0.780615</td>\n",
              "      <td>0.745417</td>\n",
              "      <td>00:08</td>\n",
              "    </tr>\n",
              "    <tr>\n",
              "      <td>13</td>\n",
              "      <td>0.851866</td>\n",
              "      <td>0.817198</td>\n",
              "      <td>0.820433</td>\n",
              "      <td>0.764574</td>\n",
              "      <td>00:08</td>\n",
              "    </tr>\n",
              "    <tr>\n",
              "      <td>14</td>\n",
              "      <td>0.848919</td>\n",
              "      <td>0.799910</td>\n",
              "      <td>0.821656</td>\n",
              "      <td>0.760899</td>\n",
              "      <td>00:08</td>\n",
              "    </tr>\n",
              "    <tr>\n",
              "      <td>15</td>\n",
              "      <td>0.822571</td>\n",
              "      <td>0.796363</td>\n",
              "      <td>0.809630</td>\n",
              "      <td>0.763412</td>\n",
              "      <td>00:08</td>\n",
              "    </tr>\n",
              "    <tr>\n",
              "      <td>16</td>\n",
              "      <td>0.822275</td>\n",
              "      <td>0.893063</td>\n",
              "      <td>0.777119</td>\n",
              "      <td>0.758076</td>\n",
              "      <td>00:08</td>\n",
              "    </tr>\n",
              "    <tr>\n",
              "      <td>17</td>\n",
              "      <td>0.812436</td>\n",
              "      <td>0.826077</td>\n",
              "      <td>0.825330</td>\n",
              "      <td>0.754327</td>\n",
              "      <td>00:08</td>\n",
              "    </tr>\n",
              "    <tr>\n",
              "      <td>18</td>\n",
              "      <td>0.822674</td>\n",
              "      <td>0.771140</td>\n",
              "      <td>0.821019</td>\n",
              "      <td>0.765789</td>\n",
              "      <td>00:08</td>\n",
              "    </tr>\n",
              "    <tr>\n",
              "      <td>19</td>\n",
              "      <td>0.825136</td>\n",
              "      <td>0.793579</td>\n",
              "      <td>0.780491</td>\n",
              "      <td>0.745928</td>\n",
              "      <td>00:08</td>\n",
              "    </tr>\n",
              "    <tr>\n",
              "      <td>20</td>\n",
              "      <td>0.814283</td>\n",
              "      <td>0.767334</td>\n",
              "      <td>0.795938</td>\n",
              "      <td>0.762806</td>\n",
              "      <td>00:08</td>\n",
              "    </tr>\n",
              "    <tr>\n",
              "      <td>21</td>\n",
              "      <td>0.770906</td>\n",
              "      <td>0.709190</td>\n",
              "      <td>0.799966</td>\n",
              "      <td>0.767976</td>\n",
              "      <td>00:08</td>\n",
              "    </tr>\n",
              "    <tr>\n",
              "      <td>22</td>\n",
              "      <td>0.766788</td>\n",
              "      <td>0.782570</td>\n",
              "      <td>0.808997</td>\n",
              "      <td>0.765463</td>\n",
              "      <td>00:08</td>\n",
              "    </tr>\n",
              "    <tr>\n",
              "      <td>23</td>\n",
              "      <td>0.778107</td>\n",
              "      <td>0.793108</td>\n",
              "      <td>0.805991</td>\n",
              "      <td>0.755590</td>\n",
              "      <td>00:08</td>\n",
              "    </tr>\n",
              "    <tr>\n",
              "      <td>24</td>\n",
              "      <td>0.765668</td>\n",
              "      <td>0.738623</td>\n",
              "      <td>0.833400</td>\n",
              "      <td>0.786360</td>\n",
              "      <td>00:08</td>\n",
              "    </tr>\n",
              "    <tr>\n",
              "      <td>25</td>\n",
              "      <td>0.769580</td>\n",
              "      <td>0.729661</td>\n",
              "      <td>0.843803</td>\n",
              "      <td>0.788746</td>\n",
              "      <td>00:08</td>\n",
              "    </tr>\n",
              "    <tr>\n",
              "      <td>26</td>\n",
              "      <td>0.762195</td>\n",
              "      <td>0.739488</td>\n",
              "      <td>0.819437</td>\n",
              "      <td>0.779570</td>\n",
              "      <td>00:08</td>\n",
              "    </tr>\n",
              "    <tr>\n",
              "      <td>27</td>\n",
              "      <td>0.745804</td>\n",
              "      <td>0.714916</td>\n",
              "      <td>0.830459</td>\n",
              "      <td>0.793420</td>\n",
              "      <td>00:08</td>\n",
              "    </tr>\n",
              "    <tr>\n",
              "      <td>28</td>\n",
              "      <td>0.738656</td>\n",
              "      <td>0.737685</td>\n",
              "      <td>0.804307</td>\n",
              "      <td>0.789626</td>\n",
              "      <td>00:08</td>\n",
              "    </tr>\n",
              "    <tr>\n",
              "      <td>29</td>\n",
              "      <td>0.728936</td>\n",
              "      <td>0.708242</td>\n",
              "      <td>0.829754</td>\n",
              "      <td>0.787517</td>\n",
              "      <td>00:08</td>\n",
              "    </tr>\n",
              "    <tr>\n",
              "      <td>30</td>\n",
              "      <td>0.705950</td>\n",
              "      <td>0.715073</td>\n",
              "      <td>0.795789</td>\n",
              "      <td>0.778729</td>\n",
              "      <td>00:08</td>\n",
              "    </tr>\n",
              "    <tr>\n",
              "      <td>31</td>\n",
              "      <td>0.691400</td>\n",
              "      <td>0.851423</td>\n",
              "      <td>0.792063</td>\n",
              "      <td>0.766984</td>\n",
              "      <td>00:08</td>\n",
              "    </tr>\n",
              "    <tr>\n",
              "      <td>32</td>\n",
              "      <td>0.681100</td>\n",
              "      <td>0.780281</td>\n",
              "      <td>0.850380</td>\n",
              "      <td>0.792779</td>\n",
              "      <td>00:08</td>\n",
              "    </tr>\n",
              "    <tr>\n",
              "      <td>33</td>\n",
              "      <td>0.664895</td>\n",
              "      <td>0.693480</td>\n",
              "      <td>0.839961</td>\n",
              "      <td>0.802087</td>\n",
              "      <td>00:08</td>\n",
              "    </tr>\n",
              "    <tr>\n",
              "      <td>34</td>\n",
              "      <td>0.638378</td>\n",
              "      <td>0.689843</td>\n",
              "      <td>0.833756</td>\n",
              "      <td>0.797376</td>\n",
              "      <td>00:08</td>\n",
              "    </tr>\n",
              "    <tr>\n",
              "      <td>35</td>\n",
              "      <td>0.619864</td>\n",
              "      <td>0.712047</td>\n",
              "      <td>0.844964</td>\n",
              "      <td>0.797529</td>\n",
              "      <td>00:08</td>\n",
              "    </tr>\n",
              "    <tr>\n",
              "      <td>36</td>\n",
              "      <td>0.624727</td>\n",
              "      <td>0.838720</td>\n",
              "      <td>0.823974</td>\n",
              "      <td>0.795161</td>\n",
              "      <td>00:08</td>\n",
              "    </tr>\n",
              "    <tr>\n",
              "      <td>37</td>\n",
              "      <td>0.651618</td>\n",
              "      <td>0.987215</td>\n",
              "      <td>0.803652</td>\n",
              "      <td>0.768424</td>\n",
              "      <td>00:08</td>\n",
              "    </tr>\n",
              "    <tr>\n",
              "      <td>38</td>\n",
              "      <td>0.659548</td>\n",
              "      <td>0.697420</td>\n",
              "      <td>0.830881</td>\n",
              "      <td>0.802229</td>\n",
              "      <td>00:08</td>\n",
              "    </tr>\n",
              "    <tr>\n",
              "      <td>39</td>\n",
              "      <td>0.695407</td>\n",
              "      <td>0.837030</td>\n",
              "      <td>0.780676</td>\n",
              "      <td>0.767585</td>\n",
              "      <td>00:08</td>\n",
              "    </tr>\n",
              "    <tr>\n",
              "      <td>40</td>\n",
              "      <td>0.668659</td>\n",
              "      <td>0.731935</td>\n",
              "      <td>0.823224</td>\n",
              "      <td>0.788493</td>\n",
              "      <td>00:08</td>\n",
              "    </tr>\n",
              "    <tr>\n",
              "      <td>41</td>\n",
              "      <td>0.613400</td>\n",
              "      <td>0.690268</td>\n",
              "      <td>0.812798</td>\n",
              "      <td>0.793445</td>\n",
              "      <td>00:08</td>\n",
              "    </tr>\n",
              "    <tr>\n",
              "      <td>42</td>\n",
              "      <td>0.604893</td>\n",
              "      <td>0.758312</td>\n",
              "      <td>0.831643</td>\n",
              "      <td>0.793778</td>\n",
              "      <td>00:08</td>\n",
              "    </tr>\n",
              "    <tr>\n",
              "      <td>43</td>\n",
              "      <td>0.604052</td>\n",
              "      <td>0.738450</td>\n",
              "      <td>0.815116</td>\n",
              "      <td>0.798322</td>\n",
              "      <td>00:08</td>\n",
              "    </tr>\n",
              "    <tr>\n",
              "      <td>44</td>\n",
              "      <td>0.606971</td>\n",
              "      <td>0.745805</td>\n",
              "      <td>0.829897</td>\n",
              "      <td>0.783577</td>\n",
              "      <td>00:09</td>\n",
              "    </tr>\n",
              "    <tr>\n",
              "      <td>45</td>\n",
              "      <td>0.604912</td>\n",
              "      <td>0.685190</td>\n",
              "      <td>0.821930</td>\n",
              "      <td>0.801170</td>\n",
              "      <td>00:08</td>\n",
              "    </tr>\n",
              "    <tr>\n",
              "      <td>46</td>\n",
              "      <td>0.580836</td>\n",
              "      <td>0.757831</td>\n",
              "      <td>0.826740</td>\n",
              "      <td>0.792741</td>\n",
              "      <td>00:08</td>\n",
              "    </tr>\n",
              "    <tr>\n",
              "      <td>47</td>\n",
              "      <td>0.583337</td>\n",
              "      <td>0.812521</td>\n",
              "      <td>0.788769</td>\n",
              "      <td>0.778181</td>\n",
              "      <td>00:08</td>\n",
              "    </tr>\n",
              "    <tr>\n",
              "      <td>48</td>\n",
              "      <td>0.651063</td>\n",
              "      <td>0.838619</td>\n",
              "      <td>0.804240</td>\n",
              "      <td>0.762914</td>\n",
              "      <td>00:08</td>\n",
              "    </tr>\n",
              "    <tr>\n",
              "      <td>49</td>\n",
              "      <td>0.715829</td>\n",
              "      <td>0.838335</td>\n",
              "      <td>0.775951</td>\n",
              "      <td>0.749804</td>\n",
              "      <td>00:08</td>\n",
              "    </tr>\n",
              "  </tbody>\n",
              "</table>"
            ],
            "text/plain": [
              "<IPython.core.display.HTML object>"
            ]
          },
          "metadata": {
            "tags": []
          }
        },
        {
          "output_type": "stream",
          "text": [
            "Better model found at epoch 0 with accuracy_mask value: 0.6253097057342529.\n",
            "Better model found at epoch 1 with accuracy_mask value: 0.7205879092216492.\n",
            "Better model found at epoch 2 with accuracy_mask value: 0.7618544101715088.\n",
            "Better model found at epoch 3 with accuracy_mask value: 0.7913224697113037.\n",
            "Better model found at epoch 9 with accuracy_mask value: 0.7966402173042297.\n",
            "Better model found at epoch 11 with accuracy_mask value: 0.800983190536499.\n",
            "Better model found at epoch 13 with accuracy_mask value: 0.8204328417778015.\n",
            "Better model found at epoch 14 with accuracy_mask value: 0.8216564655303955.\n",
            "Better model found at epoch 17 with accuracy_mask value: 0.8253299593925476.\n",
            "Better model found at epoch 24 with accuracy_mask value: 0.8334000706672668.\n",
            "Better model found at epoch 25 with accuracy_mask value: 0.8438034653663635.\n",
            "Better model found at epoch 32 with accuracy_mask value: 0.8503802418708801.\n",
            "Loaded best saved model from /content/wandb/run-20200418_150945-6afcrj7g/bestmodel.pth\n"
          ],
          "name": "stdout"
        }
      ]
    },
    {
      "cell_type": "code",
      "metadata": {
        "id": "u8ncuzETv5Xh",
        "colab_type": "code",
        "colab": {}
      },
      "source": [
        ""
      ],
      "execution_count": 0,
      "outputs": []
    }
  ]
}